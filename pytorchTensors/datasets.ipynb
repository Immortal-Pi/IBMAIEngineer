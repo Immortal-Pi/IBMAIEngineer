{
 "cells": [
  {
   "cell_type": "code",
   "execution_count": 3,
   "id": "44cfae55-3609-4eb2-a09b-d6423d758feb",
   "metadata": {},
   "outputs": [
    {
     "data": {
      "text/plain": [
       "<torch._C.Generator at 0x1adc583d170>"
      ]
     },
     "execution_count": 3,
     "metadata": {},
     "output_type": "execute_result"
    }
   ],
   "source": [
    "import torch\n",
    "from torch.utils.data import Dataset\n",
    "torch.manual_seed(1)"
   ]
  },
  {
   "cell_type": "code",
   "execution_count": 41,
   "id": "eaf105e2-cc9e-47dd-84c5-ba93425319c1",
   "metadata": {},
   "outputs": [],
   "source": [
    "class toy_set(Dataset):\n",
    "\n",
    "    def __init__(self,length=100,transform=None):\n",
    "        self.len=length\n",
    "        self.x=2* torch.ones(length,2)\n",
    "        self.y=torch.ones(length,1)\n",
    "        self.transform=transform\n",
    "\n",
    "    def __getitem__(self,index):\n",
    "        sample=self.x[index], self.y[index]\n",
    "        if self.transform:\n",
    "            sample=self.transform(sample)\n",
    "        return sample\n",
    "    def __len__(self):\n",
    "        return self.len"
   ]
  },
  {
   "cell_type": "code",
   "execution_count": 51,
   "id": "76b4abfc-7e1c-4dba-a64f-f4107ad79b66",
   "metadata": {},
   "outputs": [
    {
     "data": {
      "text/plain": [
       "((tensor([[2., 2.],\n",
       "          [2., 2.],\n",
       "          [2., 2.],\n",
       "          [2., 2.]]),\n",
       "  tensor([[1.],\n",
       "          [1.],\n",
       "          [1.],\n",
       "          [1.]])),\n",
       " 100)"
      ]
     },
     "execution_count": 51,
     "metadata": {},
     "output_type": "execute_result"
    }
   ],
   "source": [
    "our_dataset=toy_set()\n",
    "our_dataset[1:5], len(our_dataset)"
   ]
  },
  {
   "cell_type": "code",
   "execution_count": 53,
   "id": "1eb33bfd-beba-48e8-a375-2c18c4bb58d4",
   "metadata": {},
   "outputs": [
    {
     "name": "stdout",
     "output_type": "stream",
     "text": [
      "index:  0 ; x: tensor([2., 2.]) ; y: tensor([1.])\n",
      "index:  1 ; x: tensor([2., 2.]) ; y: tensor([1.])\n",
      "index:  2 ; x: tensor([2., 2.]) ; y: tensor([1.])\n"
     ]
    }
   ],
   "source": [
    "for i in range(3):\n",
    "    x, y=our_dataset[i]\n",
    "    print(\"index: \", i, '; x:', x, '; y:', y)"
   ]
  },
  {
   "cell_type": "code",
   "execution_count": 55,
   "id": "96752c10-873e-4d37-aab9-545d25cdc72a",
   "metadata": {},
   "outputs": [
    {
     "name": "stdout",
     "output_type": "stream",
     "text": [
      "tensor([2., 2.]) tensor([1.])\n",
      "tensor([2., 2.]) tensor([1.])\n",
      "tensor([2., 2.]) tensor([1.])\n",
      "tensor([2., 2.]) tensor([1.])\n",
      "tensor([2., 2.]) tensor([1.])\n",
      "tensor([2., 2.]) tensor([1.])\n",
      "tensor([2., 2.]) tensor([1.])\n",
      "tensor([2., 2.]) tensor([1.])\n",
      "tensor([2., 2.]) tensor([1.])\n",
      "tensor([2., 2.]) tensor([1.])\n",
      "tensor([2., 2.]) tensor([1.])\n",
      "tensor([2., 2.]) tensor([1.])\n",
      "tensor([2., 2.]) tensor([1.])\n",
      "tensor([2., 2.]) tensor([1.])\n",
      "tensor([2., 2.]) tensor([1.])\n",
      "tensor([2., 2.]) tensor([1.])\n",
      "tensor([2., 2.]) tensor([1.])\n",
      "tensor([2., 2.]) tensor([1.])\n",
      "tensor([2., 2.]) tensor([1.])\n",
      "tensor([2., 2.]) tensor([1.])\n",
      "tensor([2., 2.]) tensor([1.])\n",
      "tensor([2., 2.]) tensor([1.])\n",
      "tensor([2., 2.]) tensor([1.])\n",
      "tensor([2., 2.]) tensor([1.])\n",
      "tensor([2., 2.]) tensor([1.])\n",
      "tensor([2., 2.]) tensor([1.])\n",
      "tensor([2., 2.]) tensor([1.])\n",
      "tensor([2., 2.]) tensor([1.])\n",
      "tensor([2., 2.]) tensor([1.])\n",
      "tensor([2., 2.]) tensor([1.])\n",
      "tensor([2., 2.]) tensor([1.])\n",
      "tensor([2., 2.]) tensor([1.])\n",
      "tensor([2., 2.]) tensor([1.])\n",
      "tensor([2., 2.]) tensor([1.])\n",
      "tensor([2., 2.]) tensor([1.])\n",
      "tensor([2., 2.]) tensor([1.])\n",
      "tensor([2., 2.]) tensor([1.])\n",
      "tensor([2., 2.]) tensor([1.])\n",
      "tensor([2., 2.]) tensor([1.])\n",
      "tensor([2., 2.]) tensor([1.])\n",
      "tensor([2., 2.]) tensor([1.])\n",
      "tensor([2., 2.]) tensor([1.])\n",
      "tensor([2., 2.]) tensor([1.])\n",
      "tensor([2., 2.]) tensor([1.])\n",
      "tensor([2., 2.]) tensor([1.])\n",
      "tensor([2., 2.]) tensor([1.])\n",
      "tensor([2., 2.]) tensor([1.])\n",
      "tensor([2., 2.]) tensor([1.])\n",
      "tensor([2., 2.]) tensor([1.])\n",
      "tensor([2., 2.]) tensor([1.])\n",
      "tensor([2., 2.]) tensor([1.])\n",
      "tensor([2., 2.]) tensor([1.])\n",
      "tensor([2., 2.]) tensor([1.])\n",
      "tensor([2., 2.]) tensor([1.])\n",
      "tensor([2., 2.]) tensor([1.])\n",
      "tensor([2., 2.]) tensor([1.])\n",
      "tensor([2., 2.]) tensor([1.])\n",
      "tensor([2., 2.]) tensor([1.])\n",
      "tensor([2., 2.]) tensor([1.])\n",
      "tensor([2., 2.]) tensor([1.])\n",
      "tensor([2., 2.]) tensor([1.])\n",
      "tensor([2., 2.]) tensor([1.])\n",
      "tensor([2., 2.]) tensor([1.])\n",
      "tensor([2., 2.]) tensor([1.])\n",
      "tensor([2., 2.]) tensor([1.])\n",
      "tensor([2., 2.]) tensor([1.])\n",
      "tensor([2., 2.]) tensor([1.])\n",
      "tensor([2., 2.]) tensor([1.])\n",
      "tensor([2., 2.]) tensor([1.])\n",
      "tensor([2., 2.]) tensor([1.])\n",
      "tensor([2., 2.]) tensor([1.])\n",
      "tensor([2., 2.]) tensor([1.])\n",
      "tensor([2., 2.]) tensor([1.])\n",
      "tensor([2., 2.]) tensor([1.])\n",
      "tensor([2., 2.]) tensor([1.])\n",
      "tensor([2., 2.]) tensor([1.])\n",
      "tensor([2., 2.]) tensor([1.])\n",
      "tensor([2., 2.]) tensor([1.])\n",
      "tensor([2., 2.]) tensor([1.])\n",
      "tensor([2., 2.]) tensor([1.])\n",
      "tensor([2., 2.]) tensor([1.])\n",
      "tensor([2., 2.]) tensor([1.])\n",
      "tensor([2., 2.]) tensor([1.])\n",
      "tensor([2., 2.]) tensor([1.])\n",
      "tensor([2., 2.]) tensor([1.])\n",
      "tensor([2., 2.]) tensor([1.])\n",
      "tensor([2., 2.]) tensor([1.])\n",
      "tensor([2., 2.]) tensor([1.])\n",
      "tensor([2., 2.]) tensor([1.])\n",
      "tensor([2., 2.]) tensor([1.])\n",
      "tensor([2., 2.]) tensor([1.])\n",
      "tensor([2., 2.]) tensor([1.])\n",
      "tensor([2., 2.]) tensor([1.])\n",
      "tensor([2., 2.]) tensor([1.])\n",
      "tensor([2., 2.]) tensor([1.])\n",
      "tensor([2., 2.]) tensor([1.])\n",
      "tensor([2., 2.]) tensor([1.])\n",
      "tensor([2., 2.]) tensor([1.])\n",
      "tensor([2., 2.]) tensor([1.])\n",
      "tensor([2., 2.]) tensor([1.])\n"
     ]
    }
   ],
   "source": [
    "for i,j in our_dataset:\n",
    "    print(i,j)"
   ]
  },
  {
   "cell_type": "code",
   "execution_count": 65,
   "id": "1ada203c-a82b-40c6-ae5c-e1502fb7cd1a",
   "metadata": {},
   "outputs": [
    {
     "name": "stdout",
     "output_type": "stream",
     "text": [
      "tensor([2., 2.]) tensor([1.])\n",
      "tensor([2., 2.]) tensor([1.])\n",
      "tensor([2., 2.]) tensor([1.])\n",
      "tensor([2., 2.]) tensor([1.])\n",
      "tensor([2., 2.]) tensor([1.])\n",
      "tensor([2., 2.]) tensor([1.])\n",
      "tensor([2., 2.]) tensor([1.])\n",
      "tensor([2., 2.]) tensor([1.])\n",
      "tensor([2., 2.]) tensor([1.])\n",
      "tensor([2., 2.]) tensor([1.])\n",
      "tensor([2., 2.]) tensor([1.])\n",
      "tensor([2., 2.]) tensor([1.])\n",
      "tensor([2., 2.]) tensor([1.])\n",
      "tensor([2., 2.]) tensor([1.])\n",
      "tensor([2., 2.]) tensor([1.])\n",
      "tensor([2., 2.]) tensor([1.])\n",
      "tensor([2., 2.]) tensor([1.])\n",
      "tensor([2., 2.]) tensor([1.])\n",
      "tensor([2., 2.]) tensor([1.])\n",
      "tensor([2., 2.]) tensor([1.])\n",
      "tensor([2., 2.]) tensor([1.])\n",
      "tensor([2., 2.]) tensor([1.])\n",
      "tensor([2., 2.]) tensor([1.])\n",
      "tensor([2., 2.]) tensor([1.])\n",
      "tensor([2., 2.]) tensor([1.])\n",
      "tensor([2., 2.]) tensor([1.])\n",
      "tensor([2., 2.]) tensor([1.])\n",
      "tensor([2., 2.]) tensor([1.])\n",
      "tensor([2., 2.]) tensor([1.])\n",
      "tensor([2., 2.]) tensor([1.])\n",
      "tensor([2., 2.]) tensor([1.])\n",
      "tensor([2., 2.]) tensor([1.])\n",
      "tensor([2., 2.]) tensor([1.])\n",
      "tensor([2., 2.]) tensor([1.])\n",
      "tensor([2., 2.]) tensor([1.])\n",
      "tensor([2., 2.]) tensor([1.])\n",
      "tensor([2., 2.]) tensor([1.])\n",
      "tensor([2., 2.]) tensor([1.])\n",
      "tensor([2., 2.]) tensor([1.])\n",
      "tensor([2., 2.]) tensor([1.])\n",
      "tensor([2., 2.]) tensor([1.])\n",
      "tensor([2., 2.]) tensor([1.])\n",
      "tensor([2., 2.]) tensor([1.])\n",
      "tensor([2., 2.]) tensor([1.])\n",
      "tensor([2., 2.]) tensor([1.])\n",
      "tensor([2., 2.]) tensor([1.])\n",
      "tensor([2., 2.]) tensor([1.])\n",
      "tensor([2., 2.]) tensor([1.])\n",
      "tensor([2., 2.]) tensor([1.])\n",
      "tensor([2., 2.]) tensor([1.])\n"
     ]
    }
   ],
   "source": [
    "toy_dataset=toy_set(50)\n",
    "for i,j in toy_dataset:\n",
    "    print(i,j)"
   ]
  },
  {
   "cell_type": "markdown",
   "id": "7bc76746-8f57-42e0-95cf-178118d57c84",
   "metadata": {},
   "source": [
    "# transforms"
   ]
  },
  {
   "cell_type": "code",
   "execution_count": 74,
   "id": "6a17dd3b-0302-464f-9666-e49c7b0ba126",
   "metadata": {},
   "outputs": [],
   "source": [
    "class add_mult(object):\n",
    "    def __init__(self,addx=1,muly=2):\n",
    "        self.addx=addx\n",
    "        self.muly=muly\n",
    "\n",
    "    def __call__(self, sample):\n",
    "        x=sample[0]\n",
    "        y=sample[1]\n",
    "        x=x+self.addx\n",
    "        y=y*self.muly\n",
    "        sample=x,y\n",
    "        return sample"
   ]
  },
  {
   "cell_type": "code",
   "execution_count": 76,
   "id": "d0999aba-fb53-40c4-9bd4-fc1a9c4660b5",
   "metadata": {},
   "outputs": [],
   "source": [
    "a_m=add_mult()\n",
    "data_set=toy_set()"
   ]
  },
  {
   "cell_type": "code",
   "execution_count": 78,
   "id": "d92095bc-4e98-4e5f-aaac-8f7438a003db",
   "metadata": {},
   "outputs": [
    {
     "name": "stdout",
     "output_type": "stream",
     "text": [
      "Index:  0 Original x:  tensor([2., 2.]) Original y:  tensor([1.])\n",
      "Index:  0 Transformed x_: tensor([2., 2.]) Transformed y_: tensor([6., 6.])\n",
      "Index:  1 Original x:  tensor([2., 2.]) Original y:  tensor([1.])\n",
      "Index:  1 Transformed x_: tensor([2., 2.]) Transformed y_: tensor([6., 6.])\n",
      "Index:  2 Original x:  tensor([2., 2.]) Original y:  tensor([1.])\n",
      "Index:  2 Transformed x_: tensor([2., 2.]) Transformed y_: tensor([6., 6.])\n",
      "Index:  3 Original x:  tensor([2., 2.]) Original y:  tensor([1.])\n",
      "Index:  3 Transformed x_: tensor([2., 2.]) Transformed y_: tensor([6., 6.])\n",
      "Index:  4 Original x:  tensor([2., 2.]) Original y:  tensor([1.])\n",
      "Index:  4 Transformed x_: tensor([2., 2.]) Transformed y_: tensor([6., 6.])\n",
      "Index:  5 Original x:  tensor([2., 2.]) Original y:  tensor([1.])\n",
      "Index:  5 Transformed x_: tensor([2., 2.]) Transformed y_: tensor([6., 6.])\n",
      "Index:  6 Original x:  tensor([2., 2.]) Original y:  tensor([1.])\n",
      "Index:  6 Transformed x_: tensor([2., 2.]) Transformed y_: tensor([6., 6.])\n",
      "Index:  7 Original x:  tensor([2., 2.]) Original y:  tensor([1.])\n",
      "Index:  7 Transformed x_: tensor([2., 2.]) Transformed y_: tensor([6., 6.])\n",
      "Index:  8 Original x:  tensor([2., 2.]) Original y:  tensor([1.])\n",
      "Index:  8 Transformed x_: tensor([2., 2.]) Transformed y_: tensor([6., 6.])\n",
      "Index:  9 Original x:  tensor([2., 2.]) Original y:  tensor([1.])\n",
      "Index:  9 Transformed x_: tensor([2., 2.]) Transformed y_: tensor([6., 6.])\n"
     ]
    }
   ],
   "source": [
    "for i in range(10):\n",
    "    x, y = data_set[i]\n",
    "    print('Index: ', i, 'Original x: ', x, 'Original y: ', y)\n",
    "    x_, y_ = a_m(data_set[i])\n",
    "    print('Index: ', i, 'Transformed x_:', x_, 'Transformed y_:', y_)"
   ]
  },
  {
   "cell_type": "code",
   "execution_count": 94,
   "id": "0e5631a9-6a65-4ad8-9609-992c503be7f0",
   "metadata": {},
   "outputs": [],
   "source": [
    "class my_add_mult(object):\n",
    "    def __init__(self,addx=2,multx=2):\n",
    "        self.addx=addx\n",
    "        self.multx=multx\n",
    "\n",
    "    def __call__(self, sample):\n",
    "        x=sample[0]\n",
    "        y=sample[1]\n",
    "        x=x+self.addx\n",
    "        y=y*self.multx\n",
    "        sample=x,y\n",
    "        return sample"
   ]
  },
  {
   "cell_type": "code",
   "execution_count": 96,
   "id": "7afac1ed-bddd-4819-ade1-6beb4bb131ec",
   "metadata": {},
   "outputs": [
    {
     "name": "stdout",
     "output_type": "stream",
     "text": [
      "Index:  0 Transformed x_: tensor([4., 4.]) Transformed y_: tensor([2.])\n",
      "Index:  1 Transformed x_: tensor([4., 4.]) Transformed y_: tensor([2.])\n",
      "Index:  2 Transformed x_: tensor([4., 4.]) Transformed y_: tensor([2.])\n"
     ]
    }
   ],
   "source": [
    "my_data=toy_set(transform=my_add_mult())\n",
    "for i in range(3):\n",
    "    x_, y_ = my_data[i]\n",
    "    print('Index: ', i, 'Transformed x_:', x_, 'Transformed y_:', y_)\n",
    "    "
   ]
  },
  {
   "cell_type": "markdown",
   "id": "d66da288-b4df-4729-a0d5-b3aa20b1e50b",
   "metadata": {},
   "source": [
    "# compose "
   ]
  },
  {
   "cell_type": "code",
   "execution_count": 105,
   "id": "caf9f0b0-926b-4957-85d4-d51ac6568b39",
   "metadata": {},
   "outputs": [],
   "source": [
    "from torchvision import transforms"
   ]
  },
  {
   "cell_type": "code",
   "execution_count": 107,
   "id": "1b15a7e1-c3c7-4672-a9d9-fa6e4c54e130",
   "metadata": {},
   "outputs": [],
   "source": [
    "class mult(object):\n",
    "    def __init__(self,mult=100):\n",
    "        self.mult=mult\n",
    "    def __call__(self,sample):\n",
    "        x=sample[0]\n",
    "        y=sample[1]\n",
    "        x=x*self.mult\n",
    "        y=y*self.mult\n",
    "        sample=x,y\n",
    "        return sample"
   ]
  },
  {
   "cell_type": "code",
   "execution_count": 109,
   "id": "ba0f32ed-dbe1-4a04-b101-18971c411789",
   "metadata": {},
   "outputs": [
    {
     "data": {
      "text/plain": [
       "Compose(\n",
       "    <__main__.add_mult object at 0x000001ADD9DB1C40>\n",
       "    <__main__.mult object at 0x000001ADD9DB1DC0>\n",
       ")"
      ]
     },
     "execution_count": 109,
     "metadata": {},
     "output_type": "execute_result"
    }
   ],
   "source": [
    "# combine the trnasofrm\n",
    "data_transform=transforms.Compose([add_mult(),mult()])\n",
    "data_transform"
   ]
  },
  {
   "cell_type": "code",
   "execution_count": 121,
   "id": "8df76829-703c-41cb-855a-e1f043da3403",
   "metadata": {},
   "outputs": [
    {
     "data": {
      "text/plain": [
       "((tensor([2., 2.]), tensor([1.])),\n",
       " (tensor([200., 200.]), tensor([600., 600.])))"
      ]
     },
     "execution_count": 121,
     "metadata": {},
     "output_type": "execute_result"
    }
   ],
   "source": [
    "data_set[0], data_transform(data_set[0])"
   ]
  },
  {
   "cell_type": "code",
   "execution_count": null,
   "id": "b331063e-2cba-4679-b11d-dc9b76850d4e",
   "metadata": {},
   "outputs": [],
   "source": []
  }
 ],
 "metadata": {
  "kernelspec": {
   "display_name": "pytorch",
   "language": "python",
   "name": "pytorch"
  },
  "language_info": {
   "codemirror_mode": {
    "name": "ipython",
    "version": 3
   },
   "file_extension": ".py",
   "mimetype": "text/x-python",
   "name": "python",
   "nbconvert_exporter": "python",
   "pygments_lexer": "ipython3",
   "version": "3.9.19"
  }
 },
 "nbformat": 4,
 "nbformat_minor": 5
}
