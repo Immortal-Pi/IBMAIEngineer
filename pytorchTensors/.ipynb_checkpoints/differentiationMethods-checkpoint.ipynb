{
 "cells": [
  {
   "cell_type": "markdown",
   "id": "4aa182d6-ec9c-460d-9017-e4ed49317409",
   "metadata": {},
   "source": [
    "# differentiation in pytorch"
   ]
  },
  {
   "cell_type": "code",
   "execution_count": 8,
   "id": "a99502f9-c96d-49df-92bf-bbde07b5af7b",
   "metadata": {},
   "outputs": [],
   "source": [
    "import torch\n",
    "import matplotlib.pyplot as plt"
   ]
  },
  {
   "cell_type": "code",
   "execution_count": 92,
   "id": "8852d5bf-d7b8-4448-8c75-923d616556ae",
   "metadata": {},
   "outputs": [
    {
     "name": "stdout",
     "output_type": "stream",
     "text": [
      "tensor(2., requires_grad=True)\n"
     ]
    }
   ],
   "source": [
    "x=torch.tensor(2.0,requires_grad=True)\n",
    "print(x)"
   ]
  },
  {
   "cell_type": "code",
   "execution_count": 94,
   "id": "8e6deb89-69e7-4159-b6bc-e0004b9afe48",
   "metadata": {},
   "outputs": [
    {
     "data": {
      "text/plain": [
       "tensor(4., grad_fn=<PowBackward0>)"
      ]
     },
     "execution_count": 94,
     "metadata": {},
     "output_type": "execute_result"
    }
   ],
   "source": [
    "y=x**2\n",
    "y"
   ]
  },
  {
   "cell_type": "code",
   "execution_count": 100,
   "id": "5f8517e0-3456-4405-8eea-4a177d506dd2",
   "metadata": {},
   "outputs": [],
   "source": [
    "y.backward()"
   ]
  },
  {
   "cell_type": "code",
   "execution_count": 88,
   "id": "01330fc3-ac60-40d4-b2b1-8366085bbcb3",
   "metadata": {},
   "outputs": [
    {
     "data": {
      "text/plain": [
       "tensor(8.)"
      ]
     },
     "execution_count": 88,
     "metadata": {},
     "output_type": "execute_result"
    }
   ],
   "source": [
    "x.grad"
   ]
  },
  {
   "cell_type": "code",
   "execution_count": 96,
   "id": "76a81d50-ff82-4c55-9d00-e02513544f1b",
   "metadata": {},
   "outputs": [
    {
     "name": "stdout",
     "output_type": "stream",
     "text": [
      "data: tensor(2.)\n",
      "grad_fn: None\n",
      "grad: None\n",
      "is_leaf: True\n",
      "requires_grad: True\n"
     ]
    }
   ],
   "source": [
    "print('data:',x.data)\n",
    "print('grad_fn:',x.grad_fn)\n",
    "print('grad:',x.grad)\n",
    "print(\"is_leaf:\",x.is_leaf)\n",
    "print(\"requires_grad:\",x.requires_grad)"
   ]
  },
  {
   "cell_type": "code",
   "execution_count": 102,
   "id": "a8e93aeb-abc8-42b5-bc68-190f4afefb88",
   "metadata": {},
   "outputs": [
    {
     "name": "stdout",
     "output_type": "stream",
     "text": [
      "data: tensor(4.)\n",
      "grad_fn: <PowBackward0 object at 0x000001637C6B5F10>\n",
      "grad: None\n",
      "is_leaf: False\n",
      "requires_grad: True\n"
     ]
    },
    {
     "name": "stderr",
     "output_type": "stream",
     "text": [
      "C:\\Users\\26amr\\AppData\\Local\\Temp\\ipykernel_20868\\1355624623.py:3: UserWarning: The .grad attribute of a Tensor that is not a leaf Tensor is being accessed. Its .grad attribute won't be populated during autograd.backward(). If you indeed want the .grad field to be populated for a non-leaf Tensor, use .retain_grad() on the non-leaf Tensor. If you access the non-leaf Tensor by mistake, make sure you access the leaf Tensor instead. See github.com/pytorch/pytorch/pull/30531 for more informations. (Triggered internally at C:\\cb\\pytorch_1000000000000\\work\\build\\aten\\src\\ATen/core/TensorBody.h:494.)\n",
      "  print('grad:',y.grad)\n"
     ]
    }
   ],
   "source": [
    "print('data:',y.data)\n",
    "print('grad_fn:',y.grad_fn)\n",
    "print('grad:',y.grad)\n",
    "print(\"is_leaf:\",y.is_leaf)\n",
    "print(\"requires_grad:\",y.requires_grad)"
   ]
  },
  {
   "cell_type": "code",
   "execution_count": 104,
   "id": "098ebe4b-5ed9-4006-9747-ada9ce0f5e00",
   "metadata": {},
   "outputs": [
    {
     "name": "stdout",
     "output_type": "stream",
     "text": [
      "The result of y = x^2 + 2x + 1:  tensor(9., grad_fn=<AddBackward0>)\n",
      "The dervative at x = 2:  tensor(6.)\n"
     ]
    }
   ],
   "source": [
    "# Calculate the y = x^2 + 2x + 1, then find the derivative \n",
    "\n",
    "x = torch.tensor(2.0, requires_grad = True)\n",
    "y = x ** 2 + 2 * x + 1\n",
    "print(\"The result of y = x^2 + 2x + 1: \", y)\n",
    "y.backward()\n",
    "print(\"The dervative at x = 2: \", x.grad)"
   ]
  },
  {
   "cell_type": "code",
   "execution_count": 116,
   "id": "7549d715-c89e-477d-bedd-4118639544fe",
   "metadata": {},
   "outputs": [],
   "source": [
    "x=torch.tensor(1.0,requires_grad=True)\n",
    "y=2*x**3+x"
   ]
  },
  {
   "cell_type": "code",
   "execution_count": 120,
   "id": "81cbfc87-0f03-4ab3-89a2-0cf4342f0c63",
   "metadata": {},
   "outputs": [
    {
     "data": {
      "text/plain": [
       "tensor(7.)"
      ]
     },
     "execution_count": 120,
     "metadata": {},
     "output_type": "execute_result"
    }
   ],
   "source": [
    "y.backward()\n",
    "x.grad"
   ]
  },
  {
   "cell_type": "code",
   "execution_count": 122,
   "id": "eeb621a6-ce3a-42d0-b8a6-769a17f981dc",
   "metadata": {},
   "outputs": [],
   "source": [
    "class SQ(torch.autograd.Function):\n",
    "\n",
    "\n",
    "    @staticmethod\n",
    "    def forward(ctx,i):\n",
    "        \"\"\"\n",
    "        In the forward pass we receive a Tensor containing the input and return\n",
    "        a Tensor containing the output. ctx is a context object that can be used\n",
    "        to stash information for backward computation. You can cache arbitrary\n",
    "        objects for use in the backward pass using the ctx.save_for_backward method.\n",
    "        \"\"\"\n",
    "        result=i**2\n",
    "        ctx.save_for_backward(i)\n",
    "        return result\n",
    "\n",
    "    @staticmethod\n",
    "    def backward(ctx, grad_output):\n",
    "        \"\"\"\n",
    "        In the backward pass we receive a Tensor containing the gradient of the loss\n",
    "        with respect to the output, and we need to compute the gradient of the loss\n",
    "        with respect to the input.\n",
    "        \"\"\"\n",
    "        i, = ctx.saved_tensors\n",
    "        grad_output = 2*i\n",
    "        return grad_output"
   ]
  },
  {
   "cell_type": "code",
   "execution_count": 124,
   "id": "81033e4d-2abf-43b1-8405-741b15fd262f",
   "metadata": {},
   "outputs": [
    {
     "name": "stdout",
     "output_type": "stream",
     "text": [
      "<torch.autograd.function.SQBackward object at 0x000001637CF45240>\n"
     ]
    },
    {
     "data": {
      "text/plain": [
       "tensor(4.)"
      ]
     },
     "execution_count": 124,
     "metadata": {},
     "output_type": "execute_result"
    }
   ],
   "source": [
    "x=torch.tensor(2.0,requires_grad=True )\n",
    "sq=SQ.apply\n",
    "\n",
    "y=sq(x)\n",
    "\n",
    "print(y.grad_fn)\n",
    "y.backward()\n",
    "x.grad"
   ]
  },
  {
   "cell_type": "code",
   "execution_count": 128,
   "id": "b288033e-f729-4c37-a237-2725faf8e603",
   "metadata": {},
   "outputs": [
    {
     "data": {
      "text/plain": [
       "tensor(4., grad_fn=<SQBackward>)"
      ]
     },
     "execution_count": 128,
     "metadata": {},
     "output_type": "execute_result"
    }
   ],
   "source": [
    "y"
   ]
  },
  {
   "cell_type": "markdown",
   "id": "b3496f43-6fb9-4250-9234-aab70d197293",
   "metadata": {},
   "source": [
    "# partial derivatives"
   ]
  },
  {
   "cell_type": "code",
   "execution_count": 149,
   "id": "09c1ef4f-c227-4cd7-bc5a-b988bcdf57a6",
   "metadata": {},
   "outputs": [
    {
     "name": "stdout",
     "output_type": "stream",
     "text": [
      "The result of v * u + u^2:  tensor(3., grad_fn=<AddBackward0>)\n"
     ]
    }
   ],
   "source": [
    "u = torch.tensor(1.0,requires_grad=True)\n",
    "v = torch.tensor(2.0,requires_grad=True)\n",
    "f = u * v + u ** 2\n",
    "print(\"The result of v * u + u^2: \", f)"
   ]
  },
  {
   "cell_type": "code",
   "execution_count": 153,
   "id": "aa904bfc-41d7-4470-b759-dafe29aef634",
   "metadata": {},
   "outputs": [],
   "source": [
    "f.backward()\n",
    "# u.grad"
   ]
  },
  {
   "cell_type": "code",
   "execution_count": 155,
   "id": "d23f577c-2d1d-4984-8038-fd0637cb6c41",
   "metadata": {},
   "outputs": [
    {
     "data": {
      "text/plain": [
       "(tensor(4.), tensor(1.))"
      ]
     },
     "execution_count": 155,
     "metadata": {},
     "output_type": "execute_result"
    }
   ],
   "source": [
    "u.grad,v.grad"
   ]
  },
  {
   "cell_type": "code",
   "execution_count": 157,
   "id": "44a5212c-a044-4ee4-aa15-3ae6741d49c6",
   "metadata": {},
   "outputs": [
    {
     "data": {
      "text/plain": [
       "tensor(407.4074, grad_fn=<SumBackward0>)"
      ]
     },
     "execution_count": 157,
     "metadata": {},
     "output_type": "execute_result"
    }
   ],
   "source": [
    "x=torch.linspace(-10,10,10,requires_grad=True)\n",
    "y=x**2\n",
    "y=torch.sum(x**2)\n",
    "y"
   ]
  },
  {
   "cell_type": "code",
   "execution_count": 159,
   "id": "8f3310c3-2d70-4fd2-a4ef-2fd7c1cb3752",
   "metadata": {},
   "outputs": [],
   "source": [
    "y.backward()"
   ]
  },
  {
   "cell_type": "code",
   "execution_count": 161,
   "id": "82fe0726-4538-4612-8cde-2eaaa08ec0ab",
   "metadata": {},
   "outputs": [
    {
     "data": {
      "text/plain": [
       "tensor([-20.0000, -15.5556, -11.1111,  -6.6667,  -2.2222,   2.2222,   6.6667,\n",
       "         11.1111,  15.5556,  20.0000])"
      ]
     },
     "execution_count": 161,
     "metadata": {},
     "output_type": "execute_result"
    }
   ],
   "source": [
    "x.grad"
   ]
  },
  {
   "cell_type": "code",
   "execution_count": 175,
   "id": "48339caf-8f3d-407e-b658-736e8aa11643",
   "metadata": {},
   "outputs": [],
   "source": [
    "x=torch.linspace(-10,10,1000,requires_grad=True)\n",
    "Y=torch.relu(x)\n",
    "y=Y.sum()"
   ]
  },
  {
   "cell_type": "code",
   "execution_count": 177,
   "id": "5b918f24-f856-4055-a526-4dce5b263089",
   "metadata": {},
   "outputs": [
    {
     "data": {
      "image/png": "[encoded data removed]",
      "text/plain": [
       "<Figure size 640x480 with 1 Axes>"
      ]
     },
     "metadata": {},
     "output_type": "display_data"
    }
   ],
   "source": [
    "y.backward()\n",
    "plt.plot(x.detach().numpy(), Y.detach().numpy(), label='function')\n",
    "plt.plot(x.detach().numpy(), x.grad.detach().numpy(),label='derivative')\n",
    "plt.xlabel('x')\n",
    "plt.legend()\n",
    "plt.show()"
   ]
  },
  {
   "cell_type": "code",
   "execution_count": 181,
   "id": "63cbc11f-5b77-4537-a480-ac84f4a3fb30",
   "metadata": {},
   "outputs": [
    {
     "data": {
      "text/plain": [
       "tensor([-10.0000,  -9.9800,  -9.9600,  -9.9399,  -9.9199,  -9.8999,  -9.8799,\n",
       "         -9.8599,  -9.8398,  -9.8198,  -9.7998,  -9.7798,  -9.7598,  -9.7397,\n",
       "         -9.7197,  -9.6997,  -9.6797,  -9.6597,  -9.6396,  -9.6196,  -9.5996,\n",
       "         -9.5796,  -9.5596,  -9.5395,  -9.5195,  -9.4995,  -9.4795,  -9.4595,\n",
       "         -9.4394,  -9.4194,  -9.3994,  -9.3794,  -9.3594,  -9.3393,  -9.3193,\n",
       "         -9.2993,  -9.2793,  -9.2593,  -9.2392,  -9.2192,  -9.1992,  -9.1792,\n",
       "         -9.1592,  -9.1391,  -9.1191,  -9.0991,  -9.0791,  -9.0591,  -9.0390,\n",
       "         -9.0190,  -8.9990,  -8.9790,  -8.9590,  -8.9389,  -8.9189,  -8.8989,\n",
       "         -8.8789,  -8.8589,  -8.8388,  -8.8188,  -8.7988,  -8.7788,  -8.7588,\n",
       "         -8.7387,  -8.7187,  -8.6987,  -8.6787,  -8.6587,  -8.6386,  -8.6186,\n",
       "         -8.5986,  -8.5786,  -8.5586,  -8.5385,  -8.5185,  -8.4985,  -8.4785,\n",
       "         -8.4585,  -8.4384,  -8.4184,  -8.3984,  -8.3784,  -8.3584,  -8.3383,\n",
       "         -8.3183,  -8.2983,  -8.2783,  -8.2583,  -8.2382,  -8.2182,  -8.1982,\n",
       "         -8.1782,  -8.1582,  -8.1381,  -8.1181,  -8.0981,  -8.0781,  -8.0581,\n",
       "         -8.0380,  -8.0180,  -7.9980,  -7.9780,  -7.9580,  -7.9379,  -7.9179,\n",
       "         -7.8979,  -7.8779,  -7.8579,  -7.8378,  -7.8178,  -7.7978,  -7.7778,\n",
       "         -7.7578,  -7.7377,  -7.7177,  -7.6977,  -7.6777,  -7.6577,  -7.6376,\n",
       "         -7.6176,  -7.5976,  -7.5776,  -7.5576,  -7.5375,  -7.5175,  -7.4975,\n",
       "         -7.4775,  -7.4575,  -7.4374,  -7.4174,  -7.3974,  -7.3774,  -7.3574,\n",
       "         -7.3373,  -7.3173,  -7.2973,  -7.2773,  -7.2573,  -7.2372,  -7.2172,\n",
       "         -7.1972,  -7.1772,  -7.1572,  -7.1371,  -7.1171,  -7.0971,  -7.0771,\n",
       "         -7.0571,  -7.0370,  -7.0170,  -6.9970,  -6.9770,  -6.9570,  -6.9369,\n",
       "         -6.9169,  -6.8969,  -6.8769,  -6.8569,  -6.8368,  -6.8168,  -6.7968,\n",
       "         -6.7768,  -6.7568,  -6.7367,  -6.7167,  -6.6967,  -6.6767,  -6.6567,\n",
       "         -6.6366,  -6.6166,  -6.5966,  -6.5766,  -6.5566,  -6.5365,  -6.5165,\n",
       "         -6.4965,  -6.4765,  -6.4565,  -6.4364,  -6.4164,  -6.3964,  -6.3764,\n",
       "         -6.3564,  -6.3363,  -6.3163,  -6.2963,  -6.2763,  -6.2563,  -6.2362,\n",
       "         -6.2162,  -6.1962,  -6.1762,  -6.1562,  -6.1361,  -6.1161,  -6.0961,\n",
       "         -6.0761,  -6.0561,  -6.0360,  -6.0160,  -5.9960,  -5.9760,  -5.9560,\n",
       "         -5.9359,  -5.9159,  -5.8959,  -5.8759,  -5.8559,  -5.8358,  -5.8158,\n",
       "         -5.7958,  -5.7758,  -5.7558,  -5.7357,  -5.7157,  -5.6957,  -5.6757,\n",
       "         -5.6557,  -5.6356,  -5.6156,  -5.5956,  -5.5756,  -5.5556,  -5.5355,\n",
       "         -5.5155,  -5.4955,  -5.4755,  -5.4555,  -5.4354,  -5.4154,  -5.3954,\n",
       "         -5.3754,  -5.3554,  -5.3353,  -5.3153,  -5.2953,  -5.2753,  -5.2553,\n",
       "         -5.2352,  -5.2152,  -5.1952,  -5.1752,  -5.1552,  -5.1351,  -5.1151,\n",
       "         -5.0951,  -5.0751,  -5.0551,  -5.0350,  -5.0150,  -4.9950,  -4.9750,\n",
       "         -4.9550,  -4.9349,  -4.9149,  -4.8949,  -4.8749,  -4.8549,  -4.8348,\n",
       "         -4.8148,  -4.7948,  -4.7748,  -4.7548,  -4.7347,  -4.7147,  -4.6947,\n",
       "         -4.6747,  -4.6547,  -4.6346,  -4.6146,  -4.5946,  -4.5746,  -4.5546,\n",
       "         -4.5345,  -4.5145,  -4.4945,  -4.4745,  -4.4545,  -4.4344,  -4.4144,\n",
       "         -4.3944,  -4.3744,  -4.3544,  -4.3343,  -4.3143,  -4.2943,  -4.2743,\n",
       "         -4.2543,  -4.2342,  -4.2142,  -4.1942,  -4.1742,  -4.1542,  -4.1341,\n",
       "         -4.1141,  -4.0941,  -4.0741,  -4.0541,  -4.0340,  -4.0140,  -3.9940,\n",
       "         -3.9740,  -3.9540,  -3.9339,  -3.9139,  -3.8939,  -3.8739,  -3.8539,\n",
       "         -3.8338,  -3.8138,  -3.7938,  -3.7738,  -3.7538,  -3.7337,  -3.7137,\n",
       "         -3.6937,  -3.6737,  -3.6537,  -3.6336,  -3.6136,  -3.5936,  -3.5736,\n",
       "         -3.5536,  -3.5335,  -3.5135,  -3.4935,  -3.4735,  -3.4535,  -3.4334,\n",
       "         -3.4134,  -3.3934,  -3.3734,  -3.3534,  -3.3333,  -3.3133,  -3.2933,\n",
       "         -3.2733,  -3.2533,  -3.2332,  -3.2132,  -3.1932,  -3.1732,  -3.1532,\n",
       "         -3.1331,  -3.1131,  -3.0931,  -3.0731,  -3.0531,  -3.0330,  -3.0130,\n",
       "         -2.9930,  -2.9730,  -2.9530,  -2.9329,  -2.9129,  -2.8929,  -2.8729,\n",
       "         -2.8529,  -2.8328,  -2.8128,  -2.7928,  -2.7728,  -2.7528,  -2.7327,\n",
       "         -2.7127,  -2.6927,  -2.6727,  -2.6527,  -2.6326,  -2.6126,  -2.5926,\n",
       "         -2.5726,  -2.5526,  -2.5325,  -2.5125,  -2.4925,  -2.4725,  -2.4525,\n",
       "         -2.4324,  -2.4124,  -2.3924,  -2.3724,  -2.3524,  -2.3323,  -2.3123,\n",
       "         -2.2923,  -2.2723,  -2.2523,  -2.2322,  -2.2122,  -2.1922,  -2.1722,\n",
       "         -2.1522,  -2.1321,  -2.1121,  -2.0921,  -2.0721,  -2.0521,  -2.0320,\n",
       "         -2.0120,  -1.9920,  -1.9720,  -1.9520,  -1.9319,  -1.9119,  -1.8919,\n",
       "         -1.8719,  -1.8519,  -1.8318,  -1.8118,  -1.7918,  -1.7718,  -1.7518,\n",
       "         -1.7317,  -1.7117,  -1.6917,  -1.6717,  -1.6517,  -1.6316,  -1.6116,\n",
       "         -1.5916,  -1.5716,  -1.5516,  -1.5315,  -1.5115,  -1.4915,  -1.4715,\n",
       "         -1.4515,  -1.4314,  -1.4114,  -1.3914,  -1.3714,  -1.3514,  -1.3313,\n",
       "         -1.3113,  -1.2913,  -1.2713,  -1.2513,  -1.2312,  -1.2112,  -1.1912,\n",
       "         -1.1712,  -1.1512,  -1.1311,  -1.1111,  -1.0911,  -1.0711,  -1.0511,\n",
       "         -1.0310,  -1.0110,  -0.9910,  -0.9710,  -0.9510,  -0.9309,  -0.9109,\n",
       "         -0.8909,  -0.8709,  -0.8509,  -0.8308,  -0.8108,  -0.7908,  -0.7708,\n",
       "         -0.7508,  -0.7307,  -0.7107,  -0.6907,  -0.6707,  -0.6507,  -0.6306,\n",
       "         -0.6106,  -0.5906,  -0.5706,  -0.5506,  -0.5305,  -0.5105,  -0.4905,\n",
       "         -0.4705,  -0.4505,  -0.4304,  -0.4104,  -0.3904,  -0.3704,  -0.3504,\n",
       "         -0.3303,  -0.3103,  -0.2903,  -0.2703,  -0.2503,  -0.2302,  -0.2102,\n",
       "         -0.1902,  -0.1702,  -0.1502,  -0.1301,  -0.1101,  -0.0901,  -0.0701,\n",
       "         -0.0501,  -0.0300,  -0.0100,   0.0100,   0.0300,   0.0501,   0.0701,\n",
       "          0.0901,   0.1101,   0.1301,   0.1502,   0.1702,   0.1902,   0.2102,\n",
       "          0.2302,   0.2503,   0.2703,   0.2903,   0.3103,   0.3303,   0.3504,\n",
       "          0.3704,   0.3904,   0.4104,   0.4304,   0.4505,   0.4705,   0.4905,\n",
       "          0.5105,   0.5305,   0.5506,   0.5706,   0.5906,   0.6106,   0.6306,\n",
       "          0.6507,   0.6707,   0.6907,   0.7107,   0.7307,   0.7508,   0.7708,\n",
       "          0.7908,   0.8108,   0.8308,   0.8509,   0.8709,   0.8909,   0.9109,\n",
       "          0.9309,   0.9510,   0.9710,   0.9910,   1.0110,   1.0310,   1.0511,\n",
       "          1.0711,   1.0911,   1.1111,   1.1311,   1.1512,   1.1712,   1.1912,\n",
       "          1.2112,   1.2312,   1.2513,   1.2713,   1.2913,   1.3113,   1.3313,\n",
       "          1.3514,   1.3714,   1.3914,   1.4114,   1.4314,   1.4515,   1.4715,\n",
       "          1.4915,   1.5115,   1.5315,   1.5516,   1.5716,   1.5916,   1.6116,\n",
       "          1.6316,   1.6517,   1.6717,   1.6917,   1.7117,   1.7317,   1.7518,\n",
       "          1.7718,   1.7918,   1.8118,   1.8318,   1.8519,   1.8719,   1.8919,\n",
       "          1.9119,   1.9319,   1.9520,   1.9720,   1.9920,   2.0120,   2.0320,\n",
       "          2.0521,   2.0721,   2.0921,   2.1121,   2.1321,   2.1522,   2.1722,\n",
       "          2.1922,   2.2122,   2.2322,   2.2523,   2.2723,   2.2923,   2.3123,\n",
       "          2.3323,   2.3524,   2.3724,   2.3924,   2.4124,   2.4324,   2.4525,\n",
       "          2.4725,   2.4925,   2.5125,   2.5325,   2.5526,   2.5726,   2.5926,\n",
       "          2.6126,   2.6326,   2.6527,   2.6727,   2.6927,   2.7127,   2.7327,\n",
       "          2.7528,   2.7728,   2.7928,   2.8128,   2.8328,   2.8529,   2.8729,\n",
       "          2.8929,   2.9129,   2.9329,   2.9530,   2.9730,   2.9930,   3.0130,\n",
       "          3.0330,   3.0531,   3.0731,   3.0931,   3.1131,   3.1331,   3.1532,\n",
       "          3.1732,   3.1932,   3.2132,   3.2332,   3.2533,   3.2733,   3.2933,\n",
       "          3.3133,   3.3333,   3.3534,   3.3734,   3.3934,   3.4134,   3.4334,\n",
       "          3.4535,   3.4735,   3.4935,   3.5135,   3.5335,   3.5536,   3.5736,\n",
       "          3.5936,   3.6136,   3.6336,   3.6537,   3.6737,   3.6937,   3.7137,\n",
       "          3.7337,   3.7538,   3.7738,   3.7938,   3.8138,   3.8338,   3.8539,\n",
       "          3.8739,   3.8939,   3.9139,   3.9339,   3.9540,   3.9740,   3.9940,\n",
       "          4.0140,   4.0340,   4.0541,   4.0741,   4.0941,   4.1141,   4.1341,\n",
       "          4.1542,   4.1742,   4.1942,   4.2142,   4.2342,   4.2543,   4.2743,\n",
       "          4.2943,   4.3143,   4.3343,   4.3544,   4.3744,   4.3944,   4.4144,\n",
       "          4.4344,   4.4545,   4.4745,   4.4945,   4.5145,   4.5345,   4.5546,\n",
       "          4.5746,   4.5946,   4.6146,   4.6346,   4.6547,   4.6747,   4.6947,\n",
       "          4.7147,   4.7347,   4.7548,   4.7748,   4.7948,   4.8148,   4.8348,\n",
       "          4.8549,   4.8749,   4.8949,   4.9149,   4.9349,   4.9550,   4.9750,\n",
       "          4.9950,   5.0150,   5.0350,   5.0551,   5.0751,   5.0951,   5.1151,\n",
       "          5.1351,   5.1552,   5.1752,   5.1952,   5.2152,   5.2352,   5.2553,\n",
       "          5.2753,   5.2953,   5.3153,   5.3353,   5.3554,   5.3754,   5.3954,\n",
       "          5.4154,   5.4354,   5.4555,   5.4755,   5.4955,   5.5155,   5.5355,\n",
       "          5.5556,   5.5756,   5.5956,   5.6156,   5.6356,   5.6557,   5.6757,\n",
       "          5.6957,   5.7157,   5.7357,   5.7558,   5.7758,   5.7958,   5.8158,\n",
       "          5.8358,   5.8559,   5.8759,   5.8959,   5.9159,   5.9359,   5.9560,\n",
       "          5.9760,   5.9960,   6.0160,   6.0360,   6.0561,   6.0761,   6.0961,\n",
       "          6.1161,   6.1361,   6.1562,   6.1762,   6.1962,   6.2162,   6.2362,\n",
       "          6.2563,   6.2763,   6.2963,   6.3163,   6.3363,   6.3564,   6.3764,\n",
       "          6.3964,   6.4164,   6.4364,   6.4565,   6.4765,   6.4965,   6.5165,\n",
       "          6.5365,   6.5566,   6.5766,   6.5966,   6.6166,   6.6366,   6.6567,\n",
       "          6.6767,   6.6967,   6.7167,   6.7367,   6.7568,   6.7768,   6.7968,\n",
       "          6.8168,   6.8368,   6.8569,   6.8769,   6.8969,   6.9169,   6.9369,\n",
       "          6.9570,   6.9770,   6.9970,   7.0170,   7.0370,   7.0571,   7.0771,\n",
       "          7.0971,   7.1171,   7.1371,   7.1572,   7.1772,   7.1972,   7.2172,\n",
       "          7.2372,   7.2573,   7.2773,   7.2973,   7.3173,   7.3373,   7.3574,\n",
       "          7.3774,   7.3974,   7.4174,   7.4374,   7.4575,   7.4775,   7.4975,\n",
       "          7.5175,   7.5375,   7.5576,   7.5776,   7.5976,   7.6176,   7.6376,\n",
       "          7.6577,   7.6777,   7.6977,   7.7177,   7.7377,   7.7578,   7.7778,\n",
       "          7.7978,   7.8178,   7.8378,   7.8579,   7.8779,   7.8979,   7.9179,\n",
       "          7.9379,   7.9580,   7.9780,   7.9980,   8.0180,   8.0380,   8.0581,\n",
       "          8.0781,   8.0981,   8.1181,   8.1381,   8.1582,   8.1782,   8.1982,\n",
       "          8.2182,   8.2382,   8.2583,   8.2783,   8.2983,   8.3183,   8.3383,\n",
       "          8.3584,   8.3784,   8.3984,   8.4184,   8.4384,   8.4585,   8.4785,\n",
       "          8.4985,   8.5185,   8.5385,   8.5586,   8.5786,   8.5986,   8.6186,\n",
       "          8.6386,   8.6587,   8.6787,   8.6987,   8.7187,   8.7387,   8.7588,\n",
       "          8.7788,   8.7988,   8.8188,   8.8388,   8.8589,   8.8789,   8.8989,\n",
       "          8.9189,   8.9389,   8.9590,   8.9790,   8.9990,   9.0190,   9.0390,\n",
       "          9.0591,   9.0791,   9.0991,   9.1191,   9.1391,   9.1592,   9.1792,\n",
       "          9.1992,   9.2192,   9.2392,   9.2593,   9.2793,   9.2993,   9.3193,\n",
       "          9.3393,   9.3594,   9.3794,   9.3994,   9.4194,   9.4394,   9.4595,\n",
       "          9.4795,   9.4995,   9.5195,   9.5395,   9.5596,   9.5796,   9.5996,\n",
       "          9.6196,   9.6396,   9.6597,   9.6797,   9.6997,   9.7197,   9.7397,\n",
       "          9.7598,   9.7798,   9.7998,   9.8198,   9.8398,   9.8599,   9.8799,\n",
       "          9.8999,   9.9199,   9.9399,   9.9600,   9.9800,  10.0000])"
      ]
     },
     "execution_count": 181,
     "metadata": {},
     "output_type": "execute_result"
    }
   ],
   "source": [
    "x.detach()"
   ]
  },
  {
   "cell_type": "code",
   "execution_count": null,
   "id": "1bac191f-4255-4d70-a22d-8f8465be74fe",
   "metadata": {},
   "outputs": [],
   "source": []
  }
 ],
 "metadata": {
  "kernelspec": {
   "display_name": "pytorch",
   "language": "python",
   "name": "pytorch"
  },
  "language_info": {
   "codemirror_mode": {
    "name": "ipython",
    "version": 3
   },
   "file_extension": ".py",
   "mimetype": "text/x-python",
   "name": "python",
   "nbconvert_exporter": "python",
   "pygments_lexer": "ipython3",
   "version": "3.9.19"
  }
 },
 "nbformat": 4,
 "nbformat_minor": 5
}
