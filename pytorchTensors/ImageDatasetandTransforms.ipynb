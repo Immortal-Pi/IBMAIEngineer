{
 "cells": [
  {
   "cell_type": "markdown",
   "id": "e80b7bd5-3d0e-4305-a219-5b2a0658fedb",
   "metadata": {},
   "source": [
    "# image Datasets and Transforms"
   ]
  },
  {
   "cell_type": "code",
   "execution_count": 6,
   "id": "882d1435-59b9-462d-9506-bce67d194ce1",
   "metadata": {},
   "outputs": [],
   "source": [
    "def show_data(data_sample, shape=(28,28)):\n",
    "    plt.imshow(data_sample[0].numpy().reshape(shape),cmap='gray')\n",
    "    plt.title('y='+data_sample[1])"
   ]
  },
  {
   "cell_type": "code",
   "execution_count": 10,
   "id": "fe80da9e-0ae0-463a-b9c5-f310551cefad",
   "metadata": {},
   "outputs": [
    {
     "data": {
      "text/plain": [
       "<torch._C.Generator at 0x2eab8189910>"
      ]
     },
     "execution_count": 10,
     "metadata": {},
     "output_type": "execute_result"
    }
   ],
   "source": [
    "import torch\n",
    "import matplotlib.pyplot as plt\n",
    "import numpy as np\n",
    "from torch.utils.data import Dataset, DataLoader\n",
    "torch.manual_seed(0)"
   ]
  },
  {
   "cell_type": "code",
   "execution_count": 12,
   "id": "40d775a9-3b88-41ea-b2f5-5e32bf176c20",
   "metadata": {},
   "outputs": [],
   "source": [
    "import matplotlib.pyplot as plt\n",
    "from PIL import Image\n",
    "import pandas as pd\n",
    "import os"
   ]
  },
  {
   "cell_type": "markdown",
   "id": "aa3abc51-7db4-4333-a060-be4b39120b14",
   "metadata": {},
   "source": [
    "# Auxiliary Functions"
   ]
  },
  {
   "cell_type": "code",
   "execution_count": 50,
   "id": "09c9330a-a73a-4d5f-ae57-ec7c94c49c71",
   "metadata": {},
   "outputs": [
    {
     "data": {
      "text/plain": [
       "'datasets/index.csv'"
      ]
     },
     "execution_count": 50,
     "metadata": {},
     "output_type": "execute_result"
    }
   ],
   "source": [
    "directory='datasets/'\n",
    "csv_file='index.csv'\n",
    "csv_path=os.path.join(directory,csv_file)\n",
    "csv_path"
   ]
  },
  {
   "cell_type": "code",
   "execution_count": 52,
   "id": "1cf369d2-42bb-4155-996d-f88407dc847c",
   "metadata": {},
   "outputs": [],
   "source": [
    "data_name=pd.read_csv(csv_path)"
   ]
  },
  {
   "cell_type": "code",
   "execution_count": 54,
   "id": "99661c98-63f6-4eae-b28f-1ec226d6c7df",
   "metadata": {},
   "outputs": [
    {
     "data": {
      "text/html": [
       "<div>\n",
       "<style scoped>\n",
       "    .dataframe tbody tr th:only-of-type {\n",
       "        vertical-align: middle;\n",
       "    }\n",
       "\n",
       "    .dataframe tbody tr th {\n",
       "        vertical-align: top;\n",
       "    }\n",
       "\n",
       "    .dataframe thead th {\n",
       "        text-align: right;\n",
       "    }\n",
       "</style>\n",
       "<table border=\"1\" class=\"dataframe\">\n",
       "  <thead>\n",
       "    <tr style=\"text-align: right;\">\n",
       "      <th></th>\n",
       "      <th>category</th>\n",
       "      <th>image</th>\n",
       "    </tr>\n",
       "  </thead>\n",
       "  <tbody>\n",
       "    <tr>\n",
       "      <th>0</th>\n",
       "      <td>Ankle boot</td>\n",
       "      <td>img/fashion0.png</td>\n",
       "    </tr>\n",
       "    <tr>\n",
       "      <th>1</th>\n",
       "      <td>T-shirt</td>\n",
       "      <td>img/fashion1.png</td>\n",
       "    </tr>\n",
       "    <tr>\n",
       "      <th>2</th>\n",
       "      <td>T-shirt</td>\n",
       "      <td>img/fashion2.png</td>\n",
       "    </tr>\n",
       "    <tr>\n",
       "      <th>3</th>\n",
       "      <td>Dress</td>\n",
       "      <td>img/fashion3.png</td>\n",
       "    </tr>\n",
       "    <tr>\n",
       "      <th>4</th>\n",
       "      <td>T-shirt</td>\n",
       "      <td>img/fashion4.png</td>\n",
       "    </tr>\n",
       "  </tbody>\n",
       "</table>\n",
       "</div>"
      ],
      "text/plain": [
       "     category             image\n",
       "0  Ankle boot  img/fashion0.png\n",
       "1     T-shirt  img/fashion1.png\n",
       "2     T-shirt  img/fashion2.png\n",
       "3       Dress  img/fashion3.png\n",
       "4     T-shirt  img/fashion4.png"
      ]
     },
     "execution_count": 54,
     "metadata": {},
     "output_type": "execute_result"
    }
   ],
   "source": [
    "data_name.head()"
   ]
  },
  {
   "cell_type": "code",
   "execution_count": 56,
   "id": "c212f699-dbe1-4178-aa7e-dce3d133d74f",
   "metadata": {},
   "outputs": [
    {
     "data": {
      "text/plain": [
       "1      img/fashion1.png\n",
       "2      img/fashion2.png\n",
       "3      img/fashion3.png\n",
       "4      img/fashion4.png\n",
       "5      img/fashion5.png\n",
       "6      img/fashion6.png\n",
       "7      img/fashion7.png\n",
       "8      img/fashion8.png\n",
       "9      img/fashion9.png\n",
       "10    img/fashion10.png\n",
       "11    img/fashion11.png\n",
       "12    img/fashion12.png\n",
       "13    img/fashion13.png\n",
       "14    img/fashion14.png\n",
       "15    img/fashion15.png\n",
       "16    img/fashion16.png\n",
       "17    img/fashion17.png\n",
       "18    img/fashion18.png\n",
       "19    img/fashion19.png\n",
       "Name: image, dtype: object"
      ]
     },
     "execution_count": 56,
     "metadata": {},
     "output_type": "execute_result"
    }
   ],
   "source": [
    "data_name.iloc[1:20,1]"
   ]
  },
  {
   "cell_type": "code",
   "execution_count": 58,
   "id": "021fdb85-5378-4870-9798-7b5e314a1264",
   "metadata": {},
   "outputs": [],
   "source": [
    "# load image"
   ]
  },
  {
   "cell_type": "code",
   "execution_count": 60,
   "id": "fbeefb6b-bce3-4ee1-9130-64cc61975438",
   "metadata": {},
   "outputs": [
    {
     "data": {
      "text/plain": [
       "'img/fashion1.png'"
      ]
     },
     "execution_count": 60,
     "metadata": {},
     "output_type": "execute_result"
    }
   ],
   "source": [
    "image_name=data_name.iloc[1,1]\n",
    "image_name"
   ]
  },
  {
   "cell_type": "code",
   "execution_count": 62,
   "id": "7551bb7b-84bd-42bc-a584-983ff294fe48",
   "metadata": {},
   "outputs": [
    {
     "data": {
      "text/plain": [
       "'datasets/img/fashion1.png'"
      ]
     },
     "execution_count": 62,
     "metadata": {},
     "output_type": "execute_result"
    }
   ],
   "source": [
    "image_path=os.path.join(directory,image_name)\n",
    "image_path"
   ]
  },
  {
   "cell_type": "code",
   "execution_count": 70,
   "id": "d9e64ac2-04d8-49d5-9447-ab4a3ec0ec6b",
   "metadata": {},
   "outputs": [
    {
     "data": {
      "image/png": "[encoded data removed]",
      "text/plain": [
       "<Figure size 640x480 with 1 Axes>"
      ]
     },
     "metadata": {},
     "output_type": "display_data"
    }
   ],
   "source": [
    "image=Image.open(image_path)\n",
    "plt.imshow(image,cmap='grey',vmin=0,vmax=255)\n",
    "plt.title(data_name.iloc[1,0])\n",
    "plt.show()"
   ]
  },
  {
   "cell_type": "code",
   "execution_count": 74,
   "id": "806f050a-8e32-45ce-b682-786124173366",
   "metadata": {},
   "outputs": [
    {
     "data": {
      "image/png": "[encoded data removed]",
      "text/plain": [
       "<Figure size 640x480 with 1 Axes>"
      ]
     },
     "metadata": {},
     "output_type": "display_data"
    }
   ],
   "source": [
    "image_name = data_name.iloc[19, 1]\n",
    "image_path=os.path.join(directory,image_name)\n",
    "image = Image.open(image_path)\n",
    "plt.imshow(image,cmap='gray', vmin=0, vmax=255)\n",
    "plt.title(data_name.iloc[19, 0])\n",
    "plt.show()"
   ]
  },
  {
   "cell_type": "markdown",
   "id": "778c135e-5856-4650-bac4-645cc2a7a9b5",
   "metadata": {},
   "source": [
    "# create a dataset class"
   ]
  },
  {
   "cell_type": "code",
   "execution_count": 81,
   "id": "09f8ca71-604b-49ad-a96e-32eb83a31658",
   "metadata": {},
   "outputs": [],
   "source": [
    "class Dataset(Dataset):\n",
    "    def __int__(self,csv_file,data_dir,transform=None):\n",
    "        self.data_dir=data_dir\n",
    "        self.transfrom=transform\n",
    "        data_dircvs_file=os.path.join(self.data_dir,csv_file)\n",
    "        self.data_name=pd.read_csv(data_dircvs_file)\n",
    "        self.len=self.data_name.shape[0]\n",
    "\n",
    "    def __len__(self):\n",
    "        return self.len\n",
    "\n",
    "    def __getitem(self,idx):\n",
    "        img_name=os.path.join(self.data_dir,csv_file)\n",
    "        image=Image.open(img_name)\n",
    "\n",
    "        y=self.data_name.iloc[idx,0]\n",
    "\n",
    "        if self.transform:\n",
    "            image=self.transform(image)\n",
    "\n",
    "        return image,y\n",
    "\n",
    "\n",
    "        "
   ]
  },
  {
   "cell_type": "code",
   "execution_count": null,
   "id": "d4f351ab-a1a7-4a65-be44-c27881456548",
   "metadata": {},
   "outputs": [],
   "source": [
    "dataset=Dataset()"
   ]
  }
 ],
 "metadata": {
  "kernelspec": {
   "display_name": "pytorch",
   "language": "python",
   "name": "pytorch"
  },
  "language_info": {
   "codemirror_mode": {
    "name": "ipython",
    "version": 3
   },
   "file_extension": ".py",
   "mimetype": "text/x-python",
   "name": "python",
   "nbconvert_exporter": "python",
   "pygments_lexer": "ipython3",
   "version": "3.9.19"
  }
 },
 "nbformat": 4,
 "nbformat_minor": 5
}
