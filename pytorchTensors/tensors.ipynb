{
 "cells": [
  {
   "cell_type": "markdown",
   "id": "cf9fba4d-0d4d-4f32-8632-9bb25f97a9cd",
   "metadata": {},
   "source": [
    "# Tensors operations"
   ]
  },
  {
   "cell_type": "markdown",
   "id": "fde086b5-c335-4470-823c-9b0beafb8e52",
   "metadata": {},
   "source": [
    "## 1D tensor"
   ]
  },
  {
   "cell_type": "code",
   "execution_count": 109,
   "id": "feede0e7-b5bf-43b7-ae1a-c08369cc25e1",
   "metadata": {},
   "outputs": [],
   "source": [
    "import torch\n",
    "import numpy as np\n",
    "import matplotlib.pyplot as plt"
   ]
  },
  {
   "cell_type": "code",
   "execution_count": 15,
   "id": "a7a35192-27ba-4892-b620-fb28222d1ae7",
   "metadata": {},
   "outputs": [],
   "source": [
    "a=torch.Tensor([1,2,3,4,5,6])\n",
    "a=a.view(-1,1)"
   ]
  },
  {
   "cell_type": "code",
   "execution_count": 17,
   "id": "40e169bd-4107-4294-bba1-6acda241014c",
   "metadata": {},
   "outputs": [
    {
     "data": {
      "text/plain": [
       "tensor([[1.],\n",
       "        [2.],\n",
       "        [3.],\n",
       "        [4.],\n",
       "        [5.],\n",
       "        [6.]])"
      ]
     },
     "execution_count": 17,
     "metadata": {},
     "output_type": "execute_result"
    }
   ],
   "source": [
    "a"
   ]
  },
  {
   "cell_type": "code",
   "execution_count": 35,
   "id": "ebce0e6a-8ffc-444b-a428-b7b2ce1a3083",
   "metadata": {},
   "outputs": [
    {
     "data": {
      "text/plain": [
       "1.0"
      ]
     },
     "execution_count": 35,
     "metadata": {},
     "output_type": "execute_result"
    }
   ],
   "source": [
    "a[0].item()"
   ]
  },
  {
   "cell_type": "code",
   "execution_count": 37,
   "id": "416cfb73-dca5-4b0c-abb9-29903f49bc8c",
   "metadata": {},
   "outputs": [
    {
     "data": {
      "text/plain": [
       "torch.Size([6, 1])"
      ]
     },
     "execution_count": 37,
     "metadata": {},
     "output_type": "execute_result"
    }
   ],
   "source": [
    "a.size()"
   ]
  },
  {
   "cell_type": "code",
   "execution_count": 41,
   "id": "b017f815-92eb-4fa8-8d90-64eb56b3e86c",
   "metadata": {},
   "outputs": [
    {
     "data": {
      "text/plain": [
       "2"
      ]
     },
     "execution_count": 41,
     "metadata": {},
     "output_type": "execute_result"
    }
   ],
   "source": [
    "a.ndimension()"
   ]
  },
  {
   "cell_type": "code",
   "execution_count": 43,
   "id": "7fe536d9-9102-4190-a36f-80ef316c85cf",
   "metadata": {},
   "outputs": [],
   "source": [
    "# 2d tensors as input to neural networks"
   ]
  },
  {
   "cell_type": "code",
   "execution_count": 51,
   "id": "f75f33db-ca29-4ec4-a90c-4bedbd6d6b4f",
   "metadata": {},
   "outputs": [
    {
     "data": {
      "text/plain": [
       "tensor([[1.],\n",
       "        [2.],\n",
       "        [3.],\n",
       "        [4.],\n",
       "        [5.],\n",
       "        [6.]])"
      ]
     },
     "execution_count": 51,
     "metadata": {},
     "output_type": "execute_result"
    }
   ],
   "source": [
    "a=torch.Tensor([1,2,3,4,5,6])\n",
    "a_col=a.view(6,1)\n",
    "# we can use \n",
    "a_col=a.view(-1,1)\n",
    "a_col"
   ]
  },
  {
   "cell_type": "code",
   "execution_count": 53,
   "id": "5f2fb46b-9d19-4139-95e7-b8322017959e",
   "metadata": {},
   "outputs": [],
   "source": [
    "# conversion of tensors to numpy array"
   ]
  },
  {
   "cell_type": "code",
   "execution_count": 59,
   "id": "24857802-de19-4696-bb6f-e7ace33970dd",
   "metadata": {},
   "outputs": [],
   "source": [
    "np_array=np.array([0,1,2,3,4,5])"
   ]
  },
  {
   "cell_type": "code",
   "execution_count": 61,
   "id": "e849a459-b246-4c07-974a-c6e23be98f1f",
   "metadata": {},
   "outputs": [],
   "source": [
    "torch_tensor=torch.Tensor(np_array)"
   ]
  },
  {
   "cell_type": "code",
   "execution_count": 65,
   "id": "eff621b7-67a8-4199-a41c-2e1506328a13",
   "metadata": {},
   "outputs": [
    {
     "data": {
      "text/plain": [
       "tensor([0., 1., 2., 3., 4., 5.])"
      ]
     },
     "execution_count": 65,
     "metadata": {},
     "output_type": "execute_result"
    }
   ],
   "source": [
    "torch_tensor"
   ]
  },
  {
   "cell_type": "code",
   "execution_count": 67,
   "id": "2cf030e4-7caa-496c-a14b-0870792c83ee",
   "metadata": {},
   "outputs": [],
   "source": [
    "np_array=torch_tensor.numpy()"
   ]
  },
  {
   "cell_type": "code",
   "execution_count": 69,
   "id": "1262db30-e857-41b5-bd58-6862accf94dd",
   "metadata": {},
   "outputs": [
    {
     "data": {
      "text/plain": [
       "array([0., 1., 2., 3., 4., 5.], dtype=float32)"
      ]
     },
     "execution_count": 69,
     "metadata": {},
     "output_type": "execute_result"
    }
   ],
   "source": [
    "np_array"
   ]
  },
  {
   "cell_type": "code",
   "execution_count": 71,
   "id": "bfce11ad-2e59-482f-a513-97ee097c716f",
   "metadata": {},
   "outputs": [],
   "source": [
    "# convert panda series \n",
    "# convert list to tensors"
   ]
  },
  {
   "cell_type": "code",
   "execution_count": 75,
   "id": "7d4946c7-4aa4-4a2a-946a-4e9e2462528a",
   "metadata": {},
   "outputs": [
    {
     "data": {
      "text/plain": [
       "1.0"
      ]
     },
     "execution_count": 75,
     "metadata": {},
     "output_type": "execute_result"
    }
   ],
   "source": [
    "torch_tensor[1].item()"
   ]
  },
  {
   "cell_type": "code",
   "execution_count": 77,
   "id": "e3ac7c11-1a0a-4b38-b653-a25a8b667d26",
   "metadata": {},
   "outputs": [],
   "source": [
    "# indexing and slicing "
   ]
  },
  {
   "cell_type": "code",
   "execution_count": 79,
   "id": "b6ca328d-c281-47bb-96c7-b7d424deadfa",
   "metadata": {},
   "outputs": [],
   "source": [
    "# basic operations "
   ]
  },
  {
   "cell_type": "code",
   "execution_count": 81,
   "id": "a88cd9d7-de50-42ff-aca8-27d6d7e47392",
   "metadata": {},
   "outputs": [],
   "source": [
    "# vector addition and subtraction"
   ]
  },
  {
   "cell_type": "code",
   "execution_count": 83,
   "id": "eaa51956-dd77-471b-b083-48a1beba16d6",
   "metadata": {},
   "outputs": [],
   "source": [
    "# vector multiplication with scalar "
   ]
  },
  {
   "cell_type": "code",
   "execution_count": 89,
   "id": "337cd12a-bbb5-4141-8e58-848a73512be7",
   "metadata": {},
   "outputs": [
    {
     "data": {
      "text/plain": [
       "tensor(5)"
      ]
     },
     "execution_count": 89,
     "metadata": {},
     "output_type": "execute_result"
    }
   ],
   "source": [
    "# dot product \n",
    "u=torch.tensor([1,2])\n",
    "v=torch.tensor([3,1])\n",
    "result=torch.dot(u,v)\n",
    "result"
   ]
  },
  {
   "cell_type": "code",
   "execution_count": 93,
   "id": "8cc22443-e831-439b-adc3-c8f3bb1d3c24",
   "metadata": {},
   "outputs": [
    {
     "data": {
      "text/plain": [
       "tensor([4, 3])"
      ]
     },
     "execution_count": 93,
     "metadata": {},
     "output_type": "execute_result"
    }
   ],
   "source": [
    "u*v"
   ]
  },
  {
   "cell_type": "code",
   "execution_count": 95,
   "id": "2af96e94-7f74-45ea-9364-2cf3798c2c11",
   "metadata": {},
   "outputs": [
    {
     "data": {
      "text/plain": [
       "tensor(3.5000)"
      ]
     },
     "execution_count": 95,
     "metadata": {},
     "output_type": "execute_result"
    }
   ],
   "source": [
    "a.mean()"
   ]
  },
  {
   "cell_type": "code",
   "execution_count": 97,
   "id": "66a14de9-6f6b-45e7-820c-d001e8c3b16f",
   "metadata": {},
   "outputs": [
    {
     "data": {
      "text/plain": [
       "tensor(6.)"
      ]
     },
     "execution_count": 97,
     "metadata": {},
     "output_type": "execute_result"
    }
   ],
   "source": [
    "a.max()"
   ]
  },
  {
   "cell_type": "code",
   "execution_count": 101,
   "id": "0ee930d6-2e4b-4c0f-a59f-3e66858987cd",
   "metadata": {},
   "outputs": [
    {
     "data": {
      "text/plain": [
       "tensor([ 0.0000e+00,  1.0000e+00, -8.7423e-08])"
      ]
     },
     "execution_count": 101,
     "metadata": {},
     "output_type": "execute_result"
    }
   ],
   "source": [
    "# functions to map tensors to new torch tensors\n",
    "x=torch.Tensor([0,np.pi/2, np.pi])\n",
    "y=torch.sin(x)\n",
    "y"
   ]
  },
  {
   "cell_type": "code",
   "execution_count": 103,
   "id": "34f2508d-cc9d-41d1-b6b4-2dc96b0c399f",
   "metadata": {},
   "outputs": [],
   "source": [
    "# linesapce useful finction for plotting mathematical functions"
   ]
  },
  {
   "cell_type": "code",
   "execution_count": 111,
   "id": "93eb1cf9-2bba-447a-b6f3-fba94d8781d8",
   "metadata": {},
   "outputs": [],
   "source": [
    "x=torch.linspace(0,2*np.pi,100)\n",
    "y=torch.sin(x)"
   ]
  },
  {
   "cell_type": "code",
   "execution_count": 117,
   "id": "4b11689b-017d-4571-9865-98f2301f957d",
   "metadata": {},
   "outputs": [
    {
     "data": {
      "image/png": "[encoded data removed]",
      "text/plain": [
       "<Figure size 640x480 with 1 Axes>"
      ]
     },
     "metadata": {},
     "output_type": "display_data"
    }
   ],
   "source": [
    "plt.plot(x.numpy(),y)\n",
    "plt.show()"
   ]
  },
  {
   "cell_type": "code",
   "execution_count": 121,
   "id": "e434c04a-ff52-4140-a4f1-9da385df9dc3",
   "metadata": {},
   "outputs": [],
   "source": [
    "import torch\n",
    "import numpy as np\n",
    "import pandas as pd\n",
    "import matplotlib.pyplot as plt"
   ]
  },
  {
   "cell_type": "code",
   "execution_count": 123,
   "id": "ae125382-f8b4-4ccc-8197-1d9b4778193c",
   "metadata": {},
   "outputs": [
    {
     "data": {
      "text/plain": [
       "'2.4.0'"
      ]
     },
     "execution_count": 123,
     "metadata": {},
     "output_type": "execute_result"
    }
   ],
   "source": [
    "torch.__version__"
   ]
  },
  {
   "cell_type": "code",
   "execution_count": 125,
   "id": "31eb0f8f-cc75-492d-b39a-7bb54e5042a1",
   "metadata": {},
   "outputs": [],
   "source": [
    "def plotVec(vectors):\n",
    "    ax = plt.axes()\n",
    "    \n",
    "    # For loop to draw the vectors\n",
    "    for vec in vectors:\n",
    "        ax.arrow(0, 0, *vec[\"vector\"], head_width = 0.05,color = vec[\"color\"], head_length = 0.1)\n",
    "        plt.text(*(vec[\"vector\"] + 0.1), vec[\"name\"])\n",
    "    \n",
    "    plt.ylim(-2,2)\n",
    "    plt.xlim(-2,2)"
   ]
  },
  {
   "cell_type": "code",
   "execution_count": 131,
   "id": "db1eb3a1-1480-4086-ab0d-2cc1681554e3",
   "metadata": {},
   "outputs": [
    {
     "data": {
      "text/plain": [
       "(torch.int64, 'torch.LongTensor')"
      ]
     },
     "execution_count": 131,
     "metadata": {},
     "output_type": "execute_result"
    }
   ],
   "source": [
    "int_tensor=torch.tensor([0,1,2,3,4])\n",
    "int_tensor.dtype, int_tensor.type()"
   ]
  },
  {
   "cell_type": "code",
   "execution_count": 133,
   "id": "f6889fa3-8214-412b-ae27-870c7a72ac8f",
   "metadata": {},
   "outputs": [
    {
     "data": {
      "text/plain": [
       "torch.Tensor"
      ]
     },
     "execution_count": 133,
     "metadata": {},
     "output_type": "execute_result"
    }
   ],
   "source": [
    "type(int_tensor)"
   ]
  },
  {
   "cell_type": "code",
   "execution_count": 139,
   "id": "f44fd7a7-21c6-4c0b-99ed-317469883e6d",
   "metadata": {},
   "outputs": [
    {
     "name": "stderr",
     "output_type": "stream",
     "text": [
      "C:\\Users\\26amr\\AppData\\Local\\Temp\\ipykernel_13448\\1763429633.py:1: UserWarning: To copy construct from a tensor, it is recommended to use sourceTensor.clone().detach() or sourceTensor.clone().detach().requires_grad_(True), rather than torch.tensor(sourceTensor).\n",
      "  float_tensor=torch.tensor(int_tensor,dtype=torch.float64)\n"
     ]
    },
    {
     "data": {
      "text/plain": [
       "tensor([0., 1., 2., 3., 4.], dtype=torch.float64)"
      ]
     },
     "execution_count": 139,
     "metadata": {},
     "output_type": "execute_result"
    }
   ],
   "source": [
    "float_tensor=torch.tensor(int_tensor,dtype=torch.float64)\n",
    "float_tensor"
   ]
  },
  {
   "cell_type": "code",
   "execution_count": 141,
   "id": "385d0eb0-3020-40a4-aa62-fd314100843a",
   "metadata": {},
   "outputs": [],
   "source": [
    "new_float_tensor = torch.FloatTensor([0, 1, 2, 3, 4])"
   ]
  },
  {
   "cell_type": "code",
   "execution_count": 143,
   "id": "ee123dd9-4252-4d02-bce5-e4514a3fb711",
   "metadata": {},
   "outputs": [
    {
     "name": "stdout",
     "output_type": "stream",
     "text": [
      "The type of the new_float_tensor: torch.FloatTensor\n"
     ]
    }
   ],
   "source": [
    "# Another method to convert the integer list to float tensor\n",
    "\n",
    "old_int_tensor = torch.tensor([0, 1, 2, 3, 4])\n",
    "new_float_tensor = old_int_tensor.type(torch.FloatTensor)\n",
    "print(\"The type of the new_float_tensor:\", new_float_tensor.type())"
   ]
  },
  {
   "cell_type": "code",
   "execution_count": 147,
   "id": "831a507b-a572-4b61-865f-2e17af66f075",
   "metadata": {},
   "outputs": [
    {
     "data": {
      "text/plain": [
       "(torch.Size([5]), 1)"
      ]
     },
     "execution_count": 147,
     "metadata": {},
     "output_type": "execute_result"
    }
   ],
   "source": [
    "new_float_tensor.size(), new_float_tensor.ndimension()"
   ]
  },
  {
   "cell_type": "code",
   "execution_count": 151,
   "id": "14f06a81-d3f9-4c9e-9fbc-ea6090737c02",
   "metadata": {},
   "outputs": [
    {
     "data": {
      "text/plain": [
       "tensor([[0.],\n",
       "        [1.],\n",
       "        [2.],\n",
       "        [3.],\n",
       "        [4.]])"
      ]
     },
     "execution_count": 151,
     "metadata": {},
     "output_type": "execute_result"
    }
   ],
   "source": [
    "new_float_tensor.view(-1,1)"
   ]
  },
  {
   "cell_type": "code",
   "execution_count": 153,
   "id": "fb8dc4f1-601e-44ae-b22f-cbfa369bef49",
   "metadata": {},
   "outputs": [
    {
     "name": "stdout",
     "output_type": "stream",
     "text": [
      "The dtype of new tensor:  torch.float64\n",
      "The type of new tensor:  torch.DoubleTensor\n"
     ]
    }
   ],
   "source": [
    "numpy_array = np.array([0.0, 1.0, 2.0, 3.0, 4.0])\n",
    "new_tensor = torch.from_numpy(numpy_array)\n",
    "\n",
    "print(\"The dtype of new tensor: \", new_tensor.dtype)\n",
    "print(\"The type of new tensor: \", new_tensor.type())"
   ]
  },
  {
   "cell_type": "code",
   "execution_count": 155,
   "id": "7b8fc4d8-493b-4a08-a1f6-93907deba4ba",
   "metadata": {},
   "outputs": [
    {
     "name": "stdout",
     "output_type": "stream",
     "text": [
      "The numpy array from tensor:  [0. 1. 2. 3. 4.]\n",
      "The dtype of numpy array:  float64\n"
     ]
    }
   ],
   "source": [
    "back_to_numpy = new_tensor.numpy()\n",
    "print(\"The numpy array from tensor: \", back_to_numpy)\n",
    "print(\"The dtype of numpy array: \", back_to_numpy.dtype)"
   ]
  },
  {
   "cell_type": "code",
   "execution_count": 157,
   "id": "d43af7ca-e5f9-43d9-bee9-b06b8fb40e45",
   "metadata": {},
   "outputs": [
    {
     "name": "stdout",
     "output_type": "stream",
     "text": [
      "The new tensor points to numpy_array :  tensor([0., 0., 0., 0., 0.], dtype=torch.float64)\n",
      "and back to numpy array points to the tensor:  [0. 0. 0. 0. 0.]\n"
     ]
    }
   ],
   "source": [
    "# Set all elements in numpy array to zero \n",
    "numpy_array[:] = 0\n",
    "print(\"The new tensor points to numpy_array : \", new_tensor)\n",
    "print(\"and back to numpy array points to the tensor: \", back_to_numpy)"
   ]
  },
  {
   "cell_type": "code",
   "execution_count": 161,
   "id": "9c7d408f-6008-434b-98d4-2a9bb545af1b",
   "metadata": {},
   "outputs": [],
   "source": [
    "pandas_series=pd.Series([1,2,3,4,5,7])\n",
    "new_tensor=torch.from_numpy(pandas_series.values)"
   ]
  },
  {
   "cell_type": "code",
   "execution_count": 173,
   "id": "436b18f1-1392-4d47-8732-e1b777b4093c",
   "metadata": {},
   "outputs": [
    {
     "data": {
      "text/plain": [
       "tensor([1., 2., 3., 4., 5., 7.], dtype=torch.float64)"
      ]
     },
     "execution_count": 173,
     "metadata": {},
     "output_type": "execute_result"
    }
   ],
   "source": [
    "new_tensor=new_tensor.type(torch.float64)\n",
    "new_tensor"
   ]
  },
  {
   "cell_type": "code",
   "execution_count": 175,
   "id": "44549763-3983-4721-81a3-6aa69f23410e",
   "metadata": {},
   "outputs": [
    {
     "data": {
      "text/plain": [
       "tensor([[1],\n",
       "        [2],\n",
       "        [3],\n",
       "        [4],\n",
       "        [5]])"
      ]
     },
     "execution_count": 175,
     "metadata": {},
     "output_type": "execute_result"
    }
   ],
   "source": [
    "# practice \n",
    "your_tensor = torch.tensor([1, 2, 3, 4, 5])\n",
    "your_tensor = your_tensor.view(-1,1)\n",
    "your_tensor"
   ]
  },
  {
   "cell_type": "code",
   "execution_count": 177,
   "id": "9f8ca4d2-3754-4654-a1a3-d131fe75a57a",
   "metadata": {},
   "outputs": [
    {
     "name": "stdout",
     "output_type": "stream",
     "text": [
      "The value on index 0: tensor(0)\n",
      "The value on index 1: tensor(1)\n",
      "The value on index 2: tensor(2)\n",
      "The value on index 3: tensor(3)\n",
      "The value on index 4: tensor(4)\n"
     ]
    }
   ],
   "source": [
    "# A tensor for showing how the indexs work on tensors\n",
    "\n",
    "index_tensor = torch.tensor([0, 1, 2, 3, 4])\n",
    "print(\"The value on index 0:\",index_tensor[0])\n",
    "print(\"The value on index 1:\",index_tensor[1])\n",
    "print(\"The value on index 2:\",index_tensor[2])\n",
    "print(\"The value on index 3:\",index_tensor[3])\n",
    "print(\"The value on index 4:\",index_tensor[4])"
   ]
  },
  {
   "cell_type": "code",
   "execution_count": 189,
   "id": "97399b91-a462-4c88-be36-5b38457fc5fc",
   "metadata": {},
   "outputs": [
    {
     "data": {
      "text/plain": [
       "tensor([1, 2])"
      ]
     },
     "execution_count": 189,
     "metadata": {},
     "output_type": "execute_result"
    }
   ],
   "source": [
    "index_tensor[1:3]"
   ]
  },
  {
   "cell_type": "code",
   "execution_count": 208,
   "id": "e03d6ab2-34d8-4c67-b9ab-99ad90aa2d7d",
   "metadata": {},
   "outputs": [],
   "source": [
    "practice_tensor = torch.tensor([2, 7, 3, 4, 6, 2, 3, 1, 2])\n",
    "practice_tensor[[3,4,7]]=0\n",
    "practice_tensor=practice_tensor.type(torch.float64)"
   ]
  },
  {
   "cell_type": "markdown",
   "id": "7029d29e-e104-4226-863c-878b2318528d",
   "metadata": {},
   "source": [
    "# tensor functions\n",
    "- mean and standard deviation"
   ]
  },
  {
   "cell_type": "code",
   "execution_count": 210,
   "id": "078a8e67-09c2-47eb-8c6c-550e8d451bc5",
   "metadata": {},
   "outputs": [
    {
     "data": {
      "text/plain": [
       "tensor(2.1111, dtype=torch.float64)"
      ]
     },
     "execution_count": 210,
     "metadata": {},
     "output_type": "execute_result"
    }
   ],
   "source": [
    "practice_tensor.mean()"
   ]
  },
  {
   "cell_type": "code",
   "execution_count": 212,
   "id": "5412e131-1d0a-4fa8-997b-7d515ec21361",
   "metadata": {},
   "outputs": [
    {
     "data": {
      "text/plain": [
       "tensor(2.2048, dtype=torch.float64)"
      ]
     },
     "execution_count": 212,
     "metadata": {},
     "output_type": "execute_result"
    }
   ],
   "source": [
    "practice_tensor.std()"
   ]
  },
  {
   "cell_type": "code",
   "execution_count": 216,
   "id": "19c90ee5-9d69-4b56-833a-70fad35f74f9",
   "metadata": {},
   "outputs": [
    {
     "data": {
      "text/plain": [
       "(tensor(0., dtype=torch.float64), tensor(7., dtype=torch.float64))"
      ]
     },
     "execution_count": 216,
     "metadata": {},
     "output_type": "execute_result"
    }
   ],
   "source": [
    "practice_tensor.min(),practice_tensor.max()"
   ]
  },
  {
   "cell_type": "code",
   "execution_count": 226,
   "id": "8b1a3d65-822d-4c49-99de-cae843a53eff",
   "metadata": {},
   "outputs": [
    {
     "name": "stdout",
     "output_type": "stream",
     "text": [
      "tensor([ 0.0000e+00,  1.0000e+00, -8.7423e-08])\n"
     ]
    }
   ],
   "source": [
    "pi_tensor=torch.tensor([0,np.pi/2,np.pi])\n",
    "sin=torch.sin(pi_tensor)\n",
    "print(sin)"
   ]
  },
  {
   "cell_type": "code",
   "execution_count": 232,
   "id": "df8ff822-3d48-4d0d-9a9e-58a4c1ca68dc",
   "metadata": {},
   "outputs": [],
   "source": [
    "pi_sin=torch.linspace(0,2*np.pi,100)\n",
    "sin=torch.sin(pi_sin)"
   ]
  },
  {
   "cell_type": "code",
   "execution_count": 234,
   "id": "35dd02c9-6a2a-4b88-bb2a-2cf1a93317a4",
   "metadata": {},
   "outputs": [
    {
     "data": {
      "text/plain": [
       "[<matplotlib.lines.Line2D at 0x1f2bce67850>]"
      ]
     },
     "execution_count": 234,
     "metadata": {},
     "output_type": "execute_result"
    },
    {
     "data": {
      "image/png": "[encoded data removed]",
      "text/plain": [
       "<Figure size 640x480 with 1 Axes>"
      ]
     },
     "metadata": {},
     "output_type": "display_data"
    }
   ],
   "source": [
    "plt.plot(pi_sin,sin)"
   ]
  },
  {
   "cell_type": "code",
   "execution_count": 236,
   "id": "a7caec23-4212-4b36-963d-f4d26a4ae2f0",
   "metadata": {},
   "outputs": [],
   "source": [
    "# tensor operations \n",
    "u = torch.tensor([1, 0])\n",
    "v = torch.tensor([0, 1])"
   ]
  },
  {
   "cell_type": "code",
   "execution_count": 238,
   "id": "034adc43-abea-44b9-8dee-a64e404a18e1",
   "metadata": {},
   "outputs": [
    {
     "name": "stdout",
     "output_type": "stream",
     "text": [
      "The result tensor:  tensor([1, 1])\n"
     ]
    }
   ],
   "source": [
    "w = u + v\n",
    "print(\"The result tensor: \", w)"
   ]
  },
  {
   "cell_type": "code",
   "execution_count": 240,
   "id": "0a6a805a-55cc-4265-93e9-fb80e71fb909",
   "metadata": {},
   "outputs": [
    {
     "data": {
      "text/plain": [
       "tensor([0, 0])"
      ]
     },
     "execution_count": 240,
     "metadata": {},
     "output_type": "execute_result"
    }
   ],
   "source": [
    "u*v"
   ]
  },
  {
   "cell_type": "code",
   "execution_count": 244,
   "id": "99ac88a7-d028-4ae4-b2cc-7943c71cee96",
   "metadata": {},
   "outputs": [
    {
     "data": {
      "text/plain": [
       "tensor(7)"
      ]
     },
     "execution_count": 244,
     "metadata": {},
     "output_type": "execute_result"
    }
   ],
   "source": [
    "u = torch.tensor([1, 2])\n",
    "v = torch.tensor([3, 2])\n",
    "\n",
    "torch.dot(u,v)"
   ]
  },
  {
   "cell_type": "code",
   "execution_count": 246,
   "id": "2485c785-236d-456e-9c52-f297198b71f1",
   "metadata": {},
   "outputs": [],
   "source": [
    "u=torch.tensor([-1,1])\n",
    "v=torch.tensor([1,1])"
   ]
  },
  {
   "cell_type": "code",
   "execution_count": 248,
   "id": "b6db83e1-d413-44d9-906e-d0816875533a",
   "metadata": {},
   "outputs": [
    {
     "data": {
      "text/plain": [
       "[<matplotlib.lines.Line2D at 0x1f2bea418e0>]"
      ]
     },
     "execution_count": 248,
     "metadata": {},
     "output_type": "execute_result"
    },
    {
     "data": {
      "image/png": "[encoded data removed]",
      "text/plain": [
       "<Figure size 640x480 with 1 Axes>"
      ]
     },
     "metadata": {},
     "output_type": "display_data"
    }
   ],
   "source": [
    "plt.plot(u,v)"
   ]
  },
  {
   "cell_type": "code",
   "execution_count": 252,
   "id": "3ff6b313-0ee4-4967-9d25-d7d6dd8d0c1e",
   "metadata": {},
   "outputs": [
    {
     "data": {
      "image/png": "[encoded data removed]",
      "text/plain": [
       "<Figure size 640x480 with 1 Axes>"
      ]
     },
     "metadata": {},
     "output_type": "display_data"
    }
   ],
   "source": [
    "plotVec([\n",
    "    {\"vector\": u.numpy(), \"name\": 'u', \"color\": 'r'},\n",
    "    {\"vector\": v.numpy(), \"name\": 'v', \"color\": 'b'}\n",
    "])"
   ]
  },
  {
   "cell_type": "code",
   "execution_count": 254,
   "id": "945e7b51-fdb7-4b23-946e-b06ea23ab317",
   "metadata": {},
   "outputs": [
    {
     "data": {
      "text/plain": [
       "torch.int64"
      ]
     },
     "execution_count": 254,
     "metadata": {},
     "output_type": "execute_result"
    }
   ],
   "source": [
    "a=torch.tensor([1,2,3])\n",
    "a.dtype"
   ]
  },
  {
   "cell_type": "code",
   "execution_count": 256,
   "id": "4d82a0a0-73f0-4340-ac19-c4462c80697c",
   "metadata": {},
   "outputs": [
    {
     "data": {
      "text/plain": [
       "tensor(2)"
      ]
     },
     "execution_count": 256,
     "metadata": {},
     "output_type": "execute_result"
    }
   ],
   "source": [
    "u=torch.tensor([1,2])\n",
    "v=torch.tensor([0,1])\n",
    "torch.dot(u,v)"
   ]
  },
  {
   "cell_type": "code",
   "execution_count": 258,
   "id": "f1f5cd75-5744-4846-8d9b-33820493809c",
   "metadata": {},
   "outputs": [],
   "source": [
    "A = torch.tensor([[0, 1, 1], [1, 0, 1]])\n",
    "B = torch.tensor([[1, 1], [1, 1], [-1, 1]])\n",
    "A_times_B = torch.mm(A,B)"
   ]
  },
  {
   "cell_type": "code",
   "execution_count": 260,
   "id": "f6a91119-de45-46cc-b233-136dea79fabc",
   "metadata": {},
   "outputs": [
    {
     "data": {
      "text/plain": [
       "tensor([[0, 2],\n",
       "        [0, 2]])"
      ]
     },
     "execution_count": 260,
     "metadata": {},
     "output_type": "execute_result"
    }
   ],
   "source": [
    "A_times_B"
   ]
  },
  {
   "cell_type": "code",
   "execution_count": 264,
   "id": "3f58bf4a-b3f2-4375-a642-6af07bb2a515",
   "metadata": {},
   "outputs": [
    {
     "data": {
      "text/plain": [
       "2"
      ]
     },
     "execution_count": 264,
     "metadata": {},
     "output_type": "execute_result"
    }
   ],
   "source": [
    "a=torch.tensor([[0,1,1],[1,0,1]])\n",
    "a.ndimension()"
   ]
  },
  {
   "cell_type": "code",
   "execution_count": 266,
   "id": "1838fdcd-b9eb-47b0-bbab-9127986d7e8c",
   "metadata": {},
   "outputs": [],
   "source": [
    "#2d tensors"
   ]
  },
  {
   "cell_type": "code",
   "execution_count": 268,
   "id": "d9a4f478-f77b-4a08-8e63-641015abc2d1",
   "metadata": {},
   "outputs": [
    {
     "name": "stdout",
     "output_type": "stream",
     "text": [
      "The New 2D Tensor:  tensor([[11, 12, 13],\n",
      "        [21, 22, 23],\n",
      "        [31, 32, 33]])\n"
     ]
    }
   ],
   "source": [
    "# Convert 2D List to 2D Tensor\n",
    "\n",
    "twoD_list = [[11, 12, 13], [21, 22, 23], [31, 32, 33]]\n",
    "twoD_tensor = torch.tensor(twoD_list)\n",
    "print(\"The New 2D Tensor: \", twoD_tensor)"
   ]
  },
  {
   "cell_type": "code",
   "execution_count": 270,
   "id": "384204fd-946c-42e6-8f6f-72fccae30590",
   "metadata": {},
   "outputs": [
    {
     "name": "stdout",
     "output_type": "stream",
     "text": [
      "The dimension of twoD_tensor:  2\n",
      "The shape of twoD_tensor:  torch.Size([3, 3])\n",
      "The shape of twoD_tensor:  torch.Size([3, 3])\n",
      "The number of elements in twoD_tensor:  9\n"
     ]
    }
   ],
   "source": [
    "print(\"The dimension of twoD_tensor: \", twoD_tensor.ndimension())\n",
    "print(\"The shape of twoD_tensor: \", twoD_tensor.shape)\n",
    "print(\"The shape of twoD_tensor: \", twoD_tensor.size())\n",
    "print(\"The number of elements in twoD_tensor: \", twoD_tensor.numel())"
   ]
  },
  {
   "cell_type": "code",
   "execution_count": 272,
   "id": "c4ab0090-4377-4d00-b609-4fdd17cce503",
   "metadata": {},
   "outputs": [
    {
     "name": "stdout",
     "output_type": "stream",
     "text": [
      "Tensor -> Numpy Array:\n",
      "The numpy array after converting:  [[11 12 13]\n",
      " [21 22 23]\n",
      " [31 32 33]]\n",
      "Type after converting:  int64\n",
      "================================================\n",
      "Numpy Array -> Tensor:\n",
      "The tensor after converting: tensor([[11, 12, 13],\n",
      "        [21, 22, 23],\n",
      "        [31, 32, 33]])\n",
      "Type after converting:  torch.int64\n"
     ]
    }
   ],
   "source": [
    "# Convert tensor to numpy array; Convert numpy array to tensor\n",
    "\n",
    "twoD_numpy = twoD_tensor.numpy()\n",
    "print(\"Tensor -> Numpy Array:\")\n",
    "print(\"The numpy array after converting: \", twoD_numpy)\n",
    "print(\"Type after converting: \", twoD_numpy.dtype)\n",
    "\n",
    "print(\"================================================\")\n",
    "\n",
    "new_twoD_tensor = torch.from_numpy(twoD_numpy)\n",
    "print(\"Numpy Array -> Tensor:\")\n",
    "print(\"The tensor after converting:\", new_twoD_tensor)\n",
    "print(\"Type after converting: \", new_twoD_tensor.dtype)"
   ]
  },
  {
   "cell_type": "code",
   "execution_count": 274,
   "id": "bfd9b219-8099-4dd4-86a9-6282f264dc5d",
   "metadata": {},
   "outputs": [
    {
     "name": "stdout",
     "output_type": "stream",
     "text": [
      "Pandas Dataframe to numpy:  [[ 11  12]\n",
      " [ 21  22]\n",
      " [ 31 312]]\n",
      "Type BEFORE converting:  int64\n",
      "================================================\n",
      "Tensor AFTER converting:  tensor([[ 11,  12],\n",
      "        [ 21,  22],\n",
      "        [ 31, 312]])\n",
      "Type AFTER converting:  torch.int64\n"
     ]
    }
   ],
   "source": [
    "# Try to convert the Panda Dataframe to tensor\n",
    "\n",
    "df = pd.DataFrame({'a':[11,21,31],'b':[12,22,312]})\n",
    "\n",
    "print(\"Pandas Dataframe to numpy: \", df.values)\n",
    "print(\"Type BEFORE converting: \", df.values.dtype)\n",
    "\n",
    "print(\"================================================\")\n",
    "\n",
    "new_tensor = torch.from_numpy(df.values)\n",
    "print(\"Tensor AFTER converting: \", new_tensor)\n",
    "print(\"Type AFTER converting: \", new_tensor.dtype)"
   ]
  },
  {
   "cell_type": "code",
   "execution_count": 302,
   "id": "cddfd731-e179-4591-b496-6cf12f1c700a",
   "metadata": {},
   "outputs": [
    {
     "data": {
      "text/plain": [
       "tensor([[11,  3],\n",
       "        [33,  3],\n",
       "        [22,  2]])"
      ]
     },
     "execution_count": 302,
     "metadata": {},
     "output_type": "execute_result"
    }
   ],
   "source": [
    "# Practice: try to convert Pandas Series to tensor\n",
    "\n",
    "df = pd.DataFrame({'A':[11, 33, 22],'B':[3, 3, 2]})\n",
    "df_tensor=torch.tensor(df.values)\n",
    "df_tensor"
   ]
  },
  {
   "cell_type": "code",
   "execution_count": 304,
   "id": "3dcbab37-6aa2-4d11-b746-9c00951720b3",
   "metadata": {},
   "outputs": [],
   "source": [
    "tensor_ques = torch.tensor([[11, 12, 13], [21, 22, 23], [31, 32, 33]])"
   ]
  },
  {
   "cell_type": "code",
   "execution_count": 316,
   "id": "799410ae-fe92-4898-adf0-2caa0a4282ac",
   "metadata": {},
   "outputs": [],
   "source": [
    "tensor_ques[1:3,1]=0"
   ]
  },
  {
   "cell_type": "code",
   "execution_count": 318,
   "id": "b296d17f-b42c-4c42-a92e-d2311d628a16",
   "metadata": {},
   "outputs": [
    {
     "data": {
      "text/plain": [
       "tensor([[11, 12, 13],\n",
       "        [21,  0,  0],\n",
       "        [31,  0, 33]])"
      ]
     },
     "execution_count": 318,
     "metadata": {},
     "output_type": "execute_result"
    }
   ],
   "source": [
    "tensor_ques"
   ]
  },
  {
   "cell_type": "code",
   "execution_count": 320,
   "id": "2c6c0b94-c30c-4208-b59d-8f02814ee691",
   "metadata": {},
   "outputs": [
    {
     "name": "stdout",
     "output_type": "stream",
     "text": [
      "The result of A * B:  tensor([[0, 2],\n",
      "        [0, 2]])\n"
     ]
    }
   ],
   "source": [
    "A = torch.tensor([[0, 1, 1], [1, 0, 1]])\n",
    "B = torch.tensor([[1, 1], [1, 1], [-1, 1]])\n",
    "A_times_B = torch.mm(A,B)\n",
    "print(\"The result of A * B: \", A_times_B)"
   ]
  },
  {
   "cell_type": "code",
   "execution_count": 324,
   "id": "5c28e855-e562-4cd4-974c-f9e34a54dd71",
   "metadata": {},
   "outputs": [
    {
     "name": "stdout",
     "output_type": "stream",
     "text": [
      "The result of X * Y:  tensor([[2, 1, 2],\n",
      "        [3, 0, 4]])\n"
     ]
    }
   ],
   "source": [
    "X = torch.tensor([[0, 1], [1, 2]])\n",
    "Y = torch.tensor([[-1, -2, 0], [2, 1, 2]])\n",
    "X_times_Y = torch.mm(X, Y)\n",
    "print(\"The result of X * Y: \", X_times_Y)\n",
    "\n"
   ]
  },
  {
   "cell_type": "code",
   "execution_count": null,
   "id": "a6ba0402-cd8f-4c72-98a5-481eba23d719",
   "metadata": {},
   "outputs": [],
   "source": []
  }
 ],
 "metadata": {
  "kernelspec": {
   "display_name": "pytorch",
   "language": "python",
   "name": "pytorch"
  },
  "language_info": {
   "codemirror_mode": {
    "name": "ipython",
    "version": 3
   },
   "file_extension": ".py",
   "mimetype": "text/x-python",
   "name": "python",
   "nbconvert_exporter": "python",
   "pygments_lexer": "ipython3",
   "version": "3.9.19"
  }
 },
 "nbformat": 4,
 "nbformat_minor": 5
}
