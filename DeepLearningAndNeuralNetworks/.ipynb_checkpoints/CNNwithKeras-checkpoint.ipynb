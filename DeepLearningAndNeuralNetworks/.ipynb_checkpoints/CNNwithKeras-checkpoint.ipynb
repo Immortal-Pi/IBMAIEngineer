{
 "cells": [
  {
   "cell_type": "code",
   "execution_count": 5,
   "id": "ce597013-b888-4b0a-9ddc-5c91f5600ff4",
   "metadata": {},
   "outputs": [],
   "source": [
    "import keras\n",
    "from keras.models import Sequential\n",
    "from keras.layers import Dense\n",
    "from keras.utils import to_categorical\n",
    "from keras.layers.convolutional import Conv2D\n",
    "from keras.layers.convolutional import MaxPooling2D\n",
    "from keras.layers import Flatten"
   ]
  },
  {
   "cell_type": "code",
   "execution_count": 6,
   "id": "1bc5d86f-3c3f-443f-8eeb-ea1387232e03",
   "metadata": {},
   "outputs": [],
   "source": [
    "from keras.datasets import mnist "
   ]
  },
  {
   "cell_type": "code",
   "execution_count": 18,
   "id": "cb5b5136-db70-4e7b-a5b7-4df54f396e81",
   "metadata": {},
   "outputs": [],
   "source": [
    "(xtrain,ytrain),(xtest,ytest)=mnist.load_data()\n",
    "xtrain=xtrain.reshape(xtrain.shape[0],28,28,1).astype('float32')\n",
    "xtest=xtest.reshape(xtest.shape[0],28,28,1).astype('float32')"
   ]
  },
  {
   "cell_type": "code",
   "execution_count": 19,
   "id": "6a72a87b-c3c7-4dc0-a55d-1329e462c33b",
   "metadata": {},
   "outputs": [],
   "source": [
    "xtrain=xtrain/255\n",
    "xtest=xtest/255"
   ]
  },
  {
   "cell_type": "code",
   "execution_count": 20,
   "id": "0339b1a3-476b-4d8a-9e7a-8e53ce44b071",
   "metadata": {},
   "outputs": [
    {
     "data": {
      "text/plain": [
       "((60000, 10), (60000, 28, 28, 1))"
      ]
     },
     "execution_count": 20,
     "metadata": {},
     "output_type": "execute_result"
    }
   ],
   "source": [
    "ytrain=to_categorical(ytrain)\n",
    "ytest=to_categorical(ytest)\n",
    "ytrain.shape, xtrain.shape"
   ]
  },
  {
   "cell_type": "code",
   "execution_count": 21,
   "id": "fb36e455-c064-4a2c-b10b-ea52a4c68e08",
   "metadata": {},
   "outputs": [],
   "source": [
    "num_classes=ytest.shape[1]"
   ]
  },
  {
   "cell_type": "code",
   "execution_count": 22,
   "id": "f3a01ccc-a27f-4b7d-bcd8-a9342dd4887b",
   "metadata": {},
   "outputs": [
    {
     "data": {
      "text/plain": [
       "10"
      ]
     },
     "execution_count": 22,
     "metadata": {},
     "output_type": "execute_result"
    }
   ],
   "source": [
    "num_classes"
   ]
  },
  {
   "cell_type": "code",
   "execution_count": 23,
   "id": "8376f4c6-d955-4ca7-804f-ca7f677228bf",
   "metadata": {},
   "outputs": [],
   "source": [
    "def convolutional_model():\n",
    "    model=Sequential()\n",
    "    model.add(Conv2D(16,(5,5),strides=(1,1),activation='relu',input_shape=(28,28,1)))\n",
    "    model.add(MaxPooling2D(pool_size=(2,2),strides=(2,2)))\n",
    "    model.add(Flatten())\n",
    "    model.add(Dense(100,activation='relu'))\n",
    "    model.add(Dense(num_classes,activation='softmax'))\n",
    "\n",
    "    model.compile(optimizer='adam',loss='categorical_crossentropy',metrics=['accuracy'])\n",
    "    return model"
   ]
  },
  {
   "cell_type": "code",
   "execution_count": 24,
   "id": "f3f02f1e-db6c-4b18-94ab-6142321fe35d",
   "metadata": {},
   "outputs": [
    {
     "name": "stdout",
     "output_type": "stream",
     "text": [
      "Epoch 1/10\n",
      "300/300 - 13s - loss: 0.3005 - accuracy: 0.9155 - val_loss: 0.1070 - val_accuracy: 0.9684 - 13s/epoch - 42ms/step\n",
      "Epoch 2/10\n",
      "300/300 - 1s - loss: 0.0882 - accuracy: 0.9748 - val_loss: 0.0696 - val_accuracy: 0.9778 - 938ms/epoch - 3ms/step\n",
      "Epoch 3/10\n",
      "300/300 - 1s - loss: 0.0610 - accuracy: 0.9820 - val_loss: 0.0575 - val_accuracy: 0.9805 - 915ms/epoch - 3ms/step\n",
      "Epoch 4/10\n",
      "300/300 - 1s - loss: 0.0457 - accuracy: 0.9865 - val_loss: 0.0498 - val_accuracy: 0.9835 - 947ms/epoch - 3ms/step\n",
      "Epoch 5/10\n",
      "300/300 - 1s - loss: 0.0380 - accuracy: 0.9887 - val_loss: 0.0457 - val_accuracy: 0.9855 - 934ms/epoch - 3ms/step\n",
      "Epoch 6/10\n",
      "300/300 - 1s - loss: 0.0311 - accuracy: 0.9904 - val_loss: 0.0445 - val_accuracy: 0.9849 - 991ms/epoch - 3ms/step\n",
      "Epoch 7/10\n",
      "300/300 - 1s - loss: 0.0255 - accuracy: 0.9921 - val_loss: 0.0361 - val_accuracy: 0.9871 - 978ms/epoch - 3ms/step\n",
      "Epoch 8/10\n",
      "300/300 - 1s - loss: 0.0217 - accuracy: 0.9938 - val_loss: 0.0391 - val_accuracy: 0.9867 - 964ms/epoch - 3ms/step\n",
      "Epoch 9/10\n",
      "300/300 - 1s - loss: 0.0175 - accuracy: 0.9952 - val_loss: 0.0413 - val_accuracy: 0.9865 - 1s/epoch - 4ms/step\n",
      "Epoch 10/10\n",
      "300/300 - 1s - loss: 0.0159 - accuracy: 0.9953 - val_loss: 0.0404 - val_accuracy: 0.9870 - 944ms/epoch - 3ms/step\n",
      "0.9869999885559082 1.3000011444091797\n"
     ]
    }
   ],
   "source": [
    "model=convolutional_model()\n",
    "model.fit(xtrain,ytrain,validation_data=(xtest,ytest),epochs=10,batch_size=200,verbose=2)\n",
    "scores=model.evaluate(xtest,ytest,verbose=0)\n",
    "print(scores[1], 100-scores[1]*100)"
   ]
  },
  {
   "cell_type": "code",
   "execution_count": 25,
   "id": "1e626e97-de59-474c-9704-2847a39f64c3",
   "metadata": {},
   "outputs": [],
   "source": [
    "def convolutional_model():\n",
    "    model=Sequential()\n",
    "    model.add(Conv2D(16,(5,5),strides=(1,1),activation='relu',input_shape=(28,28,1)))\n",
    "    model.add(MaxPooling2D(pool_size=(2,2),strides=(2,2)))\n",
    "    model.add(Conv2D(8,(5,5),strides=(1,1),activation='relu'))\n",
    "    model.add(MaxPooling2D(pool_size=(2,2),strides=(2,2)))\n",
    "    model.add(Flatten())\n",
    "    model.add(Dense(100,activation='relu'))\n",
    "    model.add(Dense(num_classes,activation='softmax'))\n",
    "\n",
    "    model.compile(optimizer='adam',loss='categorical_crossentropy',metrics=['accuracy'])\n",
    "    return model"
   ]
  },
  {
   "cell_type": "code",
   "execution_count": 26,
   "id": "6ac9999d-3d33-4584-a68f-66fa4a00f4b7",
   "metadata": {},
   "outputs": [
    {
     "name": "stdout",
     "output_type": "stream",
     "text": [
      "Epoch 1/10\n",
      "300/300 - 2s - loss: 0.4763 - accuracy: 0.8613 - val_loss: 0.1648 - val_accuracy: 0.9504 - 2s/epoch - 6ms/step\n",
      "Epoch 2/10\n",
      "300/300 - 1s - loss: 0.1402 - accuracy: 0.9581 - val_loss: 0.0893 - val_accuracy: 0.9731 - 1s/epoch - 3ms/step\n",
      "Epoch 3/10\n",
      "300/300 - 1s - loss: 0.0945 - accuracy: 0.9708 - val_loss: 0.0669 - val_accuracy: 0.9796 - 999ms/epoch - 3ms/step\n",
      "Epoch 4/10\n",
      "300/300 - 1s - loss: 0.0741 - accuracy: 0.9778 - val_loss: 0.0547 - val_accuracy: 0.9832 - 1s/epoch - 4ms/step\n",
      "Epoch 5/10\n",
      "300/300 - 1s - loss: 0.0625 - accuracy: 0.9811 - val_loss: 0.0545 - val_accuracy: 0.9829 - 1s/epoch - 4ms/step\n",
      "Epoch 6/10\n",
      "300/300 - 1s - loss: 0.0557 - accuracy: 0.9830 - val_loss: 0.0456 - val_accuracy: 0.9857 - 1s/epoch - 3ms/step\n",
      "Epoch 7/10\n",
      "300/300 - 1s - loss: 0.0481 - accuracy: 0.9857 - val_loss: 0.0466 - val_accuracy: 0.9857 - 1s/epoch - 4ms/step\n",
      "Epoch 8/10\n",
      "300/300 - 1s - loss: 0.0433 - accuracy: 0.9868 - val_loss: 0.0430 - val_accuracy: 0.9855 - 1s/epoch - 4ms/step\n",
      "Epoch 9/10\n",
      "300/300 - 1s - loss: 0.0396 - accuracy: 0.9876 - val_loss: 0.0380 - val_accuracy: 0.9877 - 1s/epoch - 3ms/step\n",
      "Epoch 10/10\n",
      "300/300 - 1s - loss: 0.0360 - accuracy: 0.9887 - val_loss: 0.0364 - val_accuracy: 0.9894 - 1000ms/epoch - 3ms/step\n",
      "Accuracy: 0.9894000291824341 \n",
      " Error: 1.0599970817565918\n"
     ]
    }
   ],
   "source": [
    "model=convolutional_model()\n",
    "model.fit(xtrain,ytrain,validation_data=(xtest,ytest),epochs=10,batch_size=200,verbose=2)\n",
    "scores=model.evaluate(xtest,ytest,verbose=0)\n",
    "print(\"Accuracy: {} \\n Error: {}\".format(scores[1], 100-scores[1]*100))"
   ]
  },
  {
   "cell_type": "code",
   "execution_count": null,
   "id": "5cfa3600-53f9-44a8-8fc3-0bc83addb639",
   "metadata": {},
   "outputs": [],
   "source": []
  }
 ],
 "metadata": {
  "kernelspec": {
   "display_name": "tf",
   "language": "python",
   "name": "tf"
  },
  "language_info": {
   "codemirror_mode": {
    "name": "ipython",
    "version": 3
   },
   "file_extension": ".py",
   "mimetype": "text/x-python",
   "name": "python",
   "nbconvert_exporter": "python",
   "pygments_lexer": "ipython3",
   "version": "3.9.18"
  }
 },
 "nbformat": 4,
 "nbformat_minor": 5
}
