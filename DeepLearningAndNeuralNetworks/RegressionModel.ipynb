{
 "cells": [
  {
   "cell_type": "markdown",
   "id": "5baa6698-b2c4-4a8d-84ca-c9b381f8d0bf",
   "metadata": {},
   "source": [
    "# Regression model on concrete dataset"
   ]
  },
  {
   "cell_type": "code",
   "execution_count": 1,
   "id": "937f1c6d-16bf-4831-9a14-ca710934ef27",
   "metadata": {},
   "outputs": [],
   "source": [
    "import numpy as np\n",
    "import pandas as pd"
   ]
  },
  {
   "cell_type": "code",
   "execution_count": 19,
   "id": "b88257f7-4c5b-4b42-b200-f591f02680f2",
   "metadata": {},
   "outputs": [
    {
     "data": {
      "text/html": [
       "<div>\n",
       "<style scoped>\n",
       "    .dataframe tbody tr th:only-of-type {\n",
       "        vertical-align: middle;\n",
       "    }\n",
       "\n",
       "    .dataframe tbody tr th {\n",
       "        vertical-align: top;\n",
       "    }\n",
       "\n",
       "    .dataframe thead th {\n",
       "        text-align: right;\n",
       "    }\n",
       "</style>\n",
       "<table border=\"1\" class=\"dataframe\">\n",
       "  <thead>\n",
       "    <tr style=\"text-align: right;\">\n",
       "      <th></th>\n",
       "      <th>Cement</th>\n",
       "      <th>Blast Furnace Slag</th>\n",
       "      <th>Fly Ash</th>\n",
       "      <th>Water</th>\n",
       "      <th>Superplasticizer</th>\n",
       "      <th>Coarse Aggregate</th>\n",
       "      <th>Fine Aggregate</th>\n",
       "      <th>Age</th>\n",
       "      <th>Strength</th>\n",
       "    </tr>\n",
       "  </thead>\n",
       "  <tbody>\n",
       "    <tr>\n",
       "      <th>0</th>\n",
       "      <td>540.0</td>\n",
       "      <td>0.0</td>\n",
       "      <td>0.0</td>\n",
       "      <td>162.0</td>\n",
       "      <td>2.5</td>\n",
       "      <td>1040.0</td>\n",
       "      <td>676.0</td>\n",
       "      <td>28</td>\n",
       "      <td>79.99</td>\n",
       "    </tr>\n",
       "    <tr>\n",
       "      <th>1</th>\n",
       "      <td>540.0</td>\n",
       "      <td>0.0</td>\n",
       "      <td>0.0</td>\n",
       "      <td>162.0</td>\n",
       "      <td>2.5</td>\n",
       "      <td>1055.0</td>\n",
       "      <td>676.0</td>\n",
       "      <td>28</td>\n",
       "      <td>61.89</td>\n",
       "    </tr>\n",
       "    <tr>\n",
       "      <th>2</th>\n",
       "      <td>332.5</td>\n",
       "      <td>142.5</td>\n",
       "      <td>0.0</td>\n",
       "      <td>228.0</td>\n",
       "      <td>0.0</td>\n",
       "      <td>932.0</td>\n",
       "      <td>594.0</td>\n",
       "      <td>270</td>\n",
       "      <td>40.27</td>\n",
       "    </tr>\n",
       "    <tr>\n",
       "      <th>3</th>\n",
       "      <td>332.5</td>\n",
       "      <td>142.5</td>\n",
       "      <td>0.0</td>\n",
       "      <td>228.0</td>\n",
       "      <td>0.0</td>\n",
       "      <td>932.0</td>\n",
       "      <td>594.0</td>\n",
       "      <td>365</td>\n",
       "      <td>41.05</td>\n",
       "    </tr>\n",
       "    <tr>\n",
       "      <th>4</th>\n",
       "      <td>198.6</td>\n",
       "      <td>132.4</td>\n",
       "      <td>0.0</td>\n",
       "      <td>192.0</td>\n",
       "      <td>0.0</td>\n",
       "      <td>978.4</td>\n",
       "      <td>825.5</td>\n",
       "      <td>360</td>\n",
       "      <td>44.30</td>\n",
       "    </tr>\n",
       "  </tbody>\n",
       "</table>\n",
       "</div>"
      ],
      "text/plain": [
       "   Cement  Blast Furnace Slag  Fly Ash  Water  Superplasticizer  \\\n",
       "0   540.0                 0.0      0.0  162.0               2.5   \n",
       "1   540.0                 0.0      0.0  162.0               2.5   \n",
       "2   332.5               142.5      0.0  228.0               0.0   \n",
       "3   332.5               142.5      0.0  228.0               0.0   \n",
       "4   198.6               132.4      0.0  192.0               0.0   \n",
       "\n",
       "   Coarse Aggregate  Fine Aggregate  Age  Strength  \n",
       "0            1040.0           676.0   28     79.99  \n",
       "1            1055.0           676.0   28     61.89  \n",
       "2             932.0           594.0  270     40.27  \n",
       "3             932.0           594.0  365     41.05  \n",
       "4             978.4           825.5  360     44.30  "
      ]
     },
     "execution_count": 19,
     "metadata": {},
     "output_type": "execute_result"
    }
   ],
   "source": [
    "concrete_data = pd.read_csv('https://s3-api.us-geo.objectstorage.softlayer.net/cf-courses-data/CognitiveClass/DL0101EN/labs/data/concrete_data.csv')\n",
    "concrete_data.head()"
   ]
  },
  {
   "cell_type": "code",
   "execution_count": 20,
   "id": "c819720d-a253-40f4-99c5-7487537b5887",
   "metadata": {},
   "outputs": [
    {
     "data": {
      "text/plain": [
       "(1030, 9)"
      ]
     },
     "execution_count": 20,
     "metadata": {},
     "output_type": "execute_result"
    }
   ],
   "source": [
    "concrete_data.shape"
   ]
  },
  {
   "cell_type": "code",
   "execution_count": 21,
   "id": "d3158d65-b234-47e8-8405-e83b5e6f8374",
   "metadata": {},
   "outputs": [
    {
     "data": {
      "text/html": [
       "<div>\n",
       "<style scoped>\n",
       "    .dataframe tbody tr th:only-of-type {\n",
       "        vertical-align: middle;\n",
       "    }\n",
       "\n",
       "    .dataframe tbody tr th {\n",
       "        vertical-align: top;\n",
       "    }\n",
       "\n",
       "    .dataframe thead th {\n",
       "        text-align: right;\n",
       "    }\n",
       "</style>\n",
       "<table border=\"1\" class=\"dataframe\">\n",
       "  <thead>\n",
       "    <tr style=\"text-align: right;\">\n",
       "      <th></th>\n",
       "      <th>Cement</th>\n",
       "      <th>Blast Furnace Slag</th>\n",
       "      <th>Fly Ash</th>\n",
       "      <th>Water</th>\n",
       "      <th>Superplasticizer</th>\n",
       "      <th>Coarse Aggregate</th>\n",
       "      <th>Fine Aggregate</th>\n",
       "      <th>Age</th>\n",
       "      <th>Strength</th>\n",
       "    </tr>\n",
       "  </thead>\n",
       "  <tbody>\n",
       "    <tr>\n",
       "      <th>count</th>\n",
       "      <td>1030.000000</td>\n",
       "      <td>1030.000000</td>\n",
       "      <td>1030.000000</td>\n",
       "      <td>1030.000000</td>\n",
       "      <td>1030.000000</td>\n",
       "      <td>1030.000000</td>\n",
       "      <td>1030.000000</td>\n",
       "      <td>1030.000000</td>\n",
       "      <td>1030.000000</td>\n",
       "    </tr>\n",
       "    <tr>\n",
       "      <th>mean</th>\n",
       "      <td>281.167864</td>\n",
       "      <td>73.895825</td>\n",
       "      <td>54.188350</td>\n",
       "      <td>181.567282</td>\n",
       "      <td>6.204660</td>\n",
       "      <td>972.918932</td>\n",
       "      <td>773.580485</td>\n",
       "      <td>45.662136</td>\n",
       "      <td>35.817961</td>\n",
       "    </tr>\n",
       "    <tr>\n",
       "      <th>std</th>\n",
       "      <td>104.506364</td>\n",
       "      <td>86.279342</td>\n",
       "      <td>63.997004</td>\n",
       "      <td>21.354219</td>\n",
       "      <td>5.973841</td>\n",
       "      <td>77.753954</td>\n",
       "      <td>80.175980</td>\n",
       "      <td>63.169912</td>\n",
       "      <td>16.705742</td>\n",
       "    </tr>\n",
       "    <tr>\n",
       "      <th>min</th>\n",
       "      <td>102.000000</td>\n",
       "      <td>0.000000</td>\n",
       "      <td>0.000000</td>\n",
       "      <td>121.800000</td>\n",
       "      <td>0.000000</td>\n",
       "      <td>801.000000</td>\n",
       "      <td>594.000000</td>\n",
       "      <td>1.000000</td>\n",
       "      <td>2.330000</td>\n",
       "    </tr>\n",
       "    <tr>\n",
       "      <th>25%</th>\n",
       "      <td>192.375000</td>\n",
       "      <td>0.000000</td>\n",
       "      <td>0.000000</td>\n",
       "      <td>164.900000</td>\n",
       "      <td>0.000000</td>\n",
       "      <td>932.000000</td>\n",
       "      <td>730.950000</td>\n",
       "      <td>7.000000</td>\n",
       "      <td>23.710000</td>\n",
       "    </tr>\n",
       "    <tr>\n",
       "      <th>50%</th>\n",
       "      <td>272.900000</td>\n",
       "      <td>22.000000</td>\n",
       "      <td>0.000000</td>\n",
       "      <td>185.000000</td>\n",
       "      <td>6.400000</td>\n",
       "      <td>968.000000</td>\n",
       "      <td>779.500000</td>\n",
       "      <td>28.000000</td>\n",
       "      <td>34.445000</td>\n",
       "    </tr>\n",
       "    <tr>\n",
       "      <th>75%</th>\n",
       "      <td>350.000000</td>\n",
       "      <td>142.950000</td>\n",
       "      <td>118.300000</td>\n",
       "      <td>192.000000</td>\n",
       "      <td>10.200000</td>\n",
       "      <td>1029.400000</td>\n",
       "      <td>824.000000</td>\n",
       "      <td>56.000000</td>\n",
       "      <td>46.135000</td>\n",
       "    </tr>\n",
       "    <tr>\n",
       "      <th>max</th>\n",
       "      <td>540.000000</td>\n",
       "      <td>359.400000</td>\n",
       "      <td>200.100000</td>\n",
       "      <td>247.000000</td>\n",
       "      <td>32.200000</td>\n",
       "      <td>1145.000000</td>\n",
       "      <td>992.600000</td>\n",
       "      <td>365.000000</td>\n",
       "      <td>82.600000</td>\n",
       "    </tr>\n",
       "  </tbody>\n",
       "</table>\n",
       "</div>"
      ],
      "text/plain": [
       "            Cement  Blast Furnace Slag      Fly Ash        Water  \\\n",
       "count  1030.000000         1030.000000  1030.000000  1030.000000   \n",
       "mean    281.167864           73.895825    54.188350   181.567282   \n",
       "std     104.506364           86.279342    63.997004    21.354219   \n",
       "min     102.000000            0.000000     0.000000   121.800000   \n",
       "25%     192.375000            0.000000     0.000000   164.900000   \n",
       "50%     272.900000           22.000000     0.000000   185.000000   \n",
       "75%     350.000000          142.950000   118.300000   192.000000   \n",
       "max     540.000000          359.400000   200.100000   247.000000   \n",
       "\n",
       "       Superplasticizer  Coarse Aggregate  Fine Aggregate          Age  \\\n",
       "count       1030.000000       1030.000000     1030.000000  1030.000000   \n",
       "mean           6.204660        972.918932      773.580485    45.662136   \n",
       "std            5.973841         77.753954       80.175980    63.169912   \n",
       "min            0.000000        801.000000      594.000000     1.000000   \n",
       "25%            0.000000        932.000000      730.950000     7.000000   \n",
       "50%            6.400000        968.000000      779.500000    28.000000   \n",
       "75%           10.200000       1029.400000      824.000000    56.000000   \n",
       "max           32.200000       1145.000000      992.600000   365.000000   \n",
       "\n",
       "          Strength  \n",
       "count  1030.000000  \n",
       "mean     35.817961  \n",
       "std      16.705742  \n",
       "min       2.330000  \n",
       "25%      23.710000  \n",
       "50%      34.445000  \n",
       "75%      46.135000  \n",
       "max      82.600000  "
      ]
     },
     "execution_count": 21,
     "metadata": {},
     "output_type": "execute_result"
    }
   ],
   "source": [
    "concrete_data.describe()"
   ]
  },
  {
   "cell_type": "markdown",
   "id": "67fdf520-fc43-44e3-84b2-17fe6b9f2a0b",
   "metadata": {},
   "source": [
    "# check for any null values"
   ]
  },
  {
   "cell_type": "code",
   "execution_count": 22,
   "id": "9b5fb818-3b98-413c-8db9-2b213e527522",
   "metadata": {},
   "outputs": [
    {
     "data": {
      "text/plain": [
       "Cement                0\n",
       "Blast Furnace Slag    0\n",
       "Fly Ash               0\n",
       "Water                 0\n",
       "Superplasticizer      0\n",
       "Coarse Aggregate      0\n",
       "Fine Aggregate        0\n",
       "Age                   0\n",
       "Strength              0\n",
       "dtype: int64"
      ]
     },
     "execution_count": 22,
     "metadata": {},
     "output_type": "execute_result"
    }
   ],
   "source": [
    "concrete_data.isnull().sum()"
   ]
  },
  {
   "cell_type": "markdown",
   "id": "51d1e6fe-9421-452c-b5c2-f088e46acb49",
   "metadata": {},
   "source": [
    "# split the data into predictors and target"
   ]
  },
  {
   "cell_type": "code",
   "execution_count": 23,
   "id": "db5b255d-784f-45e6-a91d-eb9ca369db6a",
   "metadata": {},
   "outputs": [
    {
     "data": {
      "text/plain": [
       "((1030, 7),\n",
       " (1030,),\n",
       " Index(['Cement', 'Blast Furnace Slag', 'Fly Ash', 'Water', 'Superplasticizer',\n",
       "        'Coarse Aggregate', 'Fine Aggregate'],\n",
       "       dtype='object'))"
      ]
     },
     "execution_count": 23,
     "metadata": {},
     "output_type": "execute_result"
    }
   ],
   "source": [
    "# split the data into predictors and target\n",
    "concrete_data_columns=concrete_data.columns\n",
    "\n",
    "predictors=concrete_data.iloc[:,:-2]\n",
    "target=concrete_data.iloc[:,-1]\n",
    "predictors.shape,target.shape, predictors.columns"
   ]
  },
  {
   "cell_type": "markdown",
   "id": "c185aa09-2630-42a7-8955-e2cd570fb368",
   "metadata": {},
   "source": [
    "# PART A : Build a baseline model"
   ]
  },
  {
   "cell_type": "markdown",
   "id": "0699acd4-7603-45af-8691-cf06899c7e58",
   "metadata": {},
   "source": [
    "# normalize the data"
   ]
  },
  {
   "cell_type": "code",
   "execution_count": 24,
   "id": "c64ac121-8f68-4435-b56b-ec1683cb8f78",
   "metadata": {},
   "outputs": [
    {
     "data": {
      "text/html": [
       "<div>\n",
       "<style scoped>\n",
       "    .dataframe tbody tr th:only-of-type {\n",
       "        vertical-align: middle;\n",
       "    }\n",
       "\n",
       "    .dataframe tbody tr th {\n",
       "        vertical-align: top;\n",
       "    }\n",
       "\n",
       "    .dataframe thead th {\n",
       "        text-align: right;\n",
       "    }\n",
       "</style>\n",
       "<table border=\"1\" class=\"dataframe\">\n",
       "  <thead>\n",
       "    <tr style=\"text-align: right;\">\n",
       "      <th></th>\n",
       "      <th>Cement</th>\n",
       "      <th>Blast Furnace Slag</th>\n",
       "      <th>Fly Ash</th>\n",
       "      <th>Water</th>\n",
       "      <th>Superplasticizer</th>\n",
       "      <th>Coarse Aggregate</th>\n",
       "      <th>Fine Aggregate</th>\n",
       "    </tr>\n",
       "  </thead>\n",
       "  <tbody>\n",
       "    <tr>\n",
       "      <th>0</th>\n",
       "      <td>2.476712</td>\n",
       "      <td>-0.856472</td>\n",
       "      <td>-0.846733</td>\n",
       "      <td>-0.916319</td>\n",
       "      <td>-0.620147</td>\n",
       "      <td>0.862735</td>\n",
       "      <td>-1.217079</td>\n",
       "    </tr>\n",
       "    <tr>\n",
       "      <th>1</th>\n",
       "      <td>2.476712</td>\n",
       "      <td>-0.856472</td>\n",
       "      <td>-0.846733</td>\n",
       "      <td>-0.916319</td>\n",
       "      <td>-0.620147</td>\n",
       "      <td>1.055651</td>\n",
       "      <td>-1.217079</td>\n",
       "    </tr>\n",
       "    <tr>\n",
       "      <th>2</th>\n",
       "      <td>0.491187</td>\n",
       "      <td>0.795140</td>\n",
       "      <td>-0.846733</td>\n",
       "      <td>2.174405</td>\n",
       "      <td>-1.038638</td>\n",
       "      <td>-0.526262</td>\n",
       "      <td>-2.239829</td>\n",
       "    </tr>\n",
       "    <tr>\n",
       "      <th>3</th>\n",
       "      <td>0.491187</td>\n",
       "      <td>0.795140</td>\n",
       "      <td>-0.846733</td>\n",
       "      <td>2.174405</td>\n",
       "      <td>-1.038638</td>\n",
       "      <td>-0.526262</td>\n",
       "      <td>-2.239829</td>\n",
       "    </tr>\n",
       "    <tr>\n",
       "      <th>4</th>\n",
       "      <td>-0.790075</td>\n",
       "      <td>0.678079</td>\n",
       "      <td>-0.846733</td>\n",
       "      <td>0.488555</td>\n",
       "      <td>-1.038638</td>\n",
       "      <td>0.070492</td>\n",
       "      <td>0.647569</td>\n",
       "    </tr>\n",
       "  </tbody>\n",
       "</table>\n",
       "</div>"
      ],
      "text/plain": [
       "     Cement  Blast Furnace Slag   Fly Ash     Water  Superplasticizer  \\\n",
       "0  2.476712           -0.856472 -0.846733 -0.916319         -0.620147   \n",
       "1  2.476712           -0.856472 -0.846733 -0.916319         -0.620147   \n",
       "2  0.491187            0.795140 -0.846733  2.174405         -1.038638   \n",
       "3  0.491187            0.795140 -0.846733  2.174405         -1.038638   \n",
       "4 -0.790075            0.678079 -0.846733  0.488555         -1.038638   \n",
       "\n",
       "   Coarse Aggregate  Fine Aggregate  \n",
       "0          0.862735       -1.217079  \n",
       "1          1.055651       -1.217079  \n",
       "2         -0.526262       -2.239829  \n",
       "3         -0.526262       -2.239829  \n",
       "4          0.070492        0.647569  "
      ]
     },
     "execution_count": 24,
     "metadata": {},
     "output_type": "execute_result"
    }
   ],
   "source": [
    "predictors_norm=(predictors-predictors.mean())/predictors.std()\n",
    "predictors_norm.head()"
   ]
  },
  {
   "cell_type": "code",
   "execution_count": 25,
   "id": "056c638d-e558-4376-be20-a94f5f93b988",
   "metadata": {},
   "outputs": [],
   "source": [
    "n_col=predictors_norm.shape[1]"
   ]
  },
  {
   "cell_type": "markdown",
   "id": "18440775-6a9d-42d8-b95d-1255adf69d55",
   "metadata": {},
   "source": [
    "# build the model"
   ]
  },
  {
   "cell_type": "code",
   "execution_count": 26,
   "id": "46ed0fe8-6c9f-41a2-8c8c-c1d592ce2a3e",
   "metadata": {},
   "outputs": [],
   "source": [
    "from keras.models import Sequential\n",
    "from keras.layers import Dense\n",
    "from sklearn.model_selection import train_test_split"
   ]
  },
  {
   "cell_type": "code",
   "execution_count": 27,
   "id": "cd10e96d-b74d-4bcb-90ee-01127442cf31",
   "metadata": {},
   "outputs": [],
   "source": [
    "xtrain,xtest,ytrain,ytest=train_test_split(predictors_norm,target,test_size=0.3)"
   ]
  },
  {
   "cell_type": "code",
   "execution_count": 28,
   "id": "c858837a-abfc-41bc-b0c5-d236826b20a6",
   "metadata": {},
   "outputs": [],
   "source": [
    "def regression_model():\n",
    "    model=Sequential()\n",
    "    model.add(Dense(50,activation='relu',input_shape=(n_col,)))\n",
    "    model.add(Dense(10,activation='relu'))\n",
    "    model.add(Dense(1))\n",
    "    model.compile(optimizer='adam',loss='mean_squared_error')\n",
    "    return model"
   ]
  },
  {
   "cell_type": "code",
   "execution_count": 30,
   "id": "b53287f2-7c0c-4b84-b494-a49b5f63a61c",
   "metadata": {},
   "outputs": [
    {
     "name": "stdout",
     "output_type": "stream",
     "text": [
      "Epoch 1/50\n",
      "23/23 [==============================] - 1s 4ms/step - loss: 1515.0569\n",
      "Epoch 2/50\n",
      "23/23 [==============================] - 0s 4ms/step - loss: 1452.8438\n",
      "Epoch 3/50\n",
      "23/23 [==============================] - 0s 4ms/step - loss: 1366.9554\n",
      "Epoch 4/50\n",
      "23/23 [==============================] - 0s 3ms/step - loss: 1240.6431\n",
      "Epoch 5/50\n",
      "23/23 [==============================] - 0s 3ms/step - loss: 1070.1354\n",
      "Epoch 6/50\n",
      "23/23 [==============================] - 0s 3ms/step - loss: 869.4204\n",
      "Epoch 7/50\n",
      "23/23 [==============================] - 0s 3ms/step - loss: 661.6841\n",
      "Epoch 8/50\n",
      "23/23 [==============================] - 0s 3ms/step - loss: 473.7131\n",
      "Epoch 9/50\n",
      "23/23 [==============================] - 0s 2ms/step - loss: 338.0543\n",
      "Epoch 10/50\n",
      "23/23 [==============================] - 0s 2ms/step - loss: 264.9357\n",
      "Epoch 11/50\n",
      "23/23 [==============================] - 0s 2ms/step - loss: 233.3426\n",
      "Epoch 12/50\n",
      "23/23 [==============================] - 0s 2ms/step - loss: 221.3038\n",
      "Epoch 13/50\n",
      "23/23 [==============================] - 0s 2ms/step - loss: 214.5552\n",
      "Epoch 14/50\n",
      "23/23 [==============================] - 0s 2ms/step - loss: 210.1657\n",
      "Epoch 15/50\n",
      "23/23 [==============================] - 0s 2ms/step - loss: 206.4450\n",
      "Epoch 16/50\n",
      "23/23 [==============================] - 0s 3ms/step - loss: 203.5617\n",
      "Epoch 17/50\n",
      "23/23 [==============================] - 0s 3ms/step - loss: 200.4057\n",
      "Epoch 18/50\n",
      "23/23 [==============================] - 0s 3ms/step - loss: 197.9133\n",
      "Epoch 19/50\n",
      "23/23 [==============================] - 0s 2ms/step - loss: 195.4498\n",
      "Epoch 20/50\n",
      "23/23 [==============================] - 0s 2ms/step - loss: 193.4085\n",
      "Epoch 21/50\n",
      "23/23 [==============================] - 0s 2ms/step - loss: 191.0510\n",
      "Epoch 22/50\n",
      "23/23 [==============================] - 0s 2ms/step - loss: 189.0546\n",
      "Epoch 23/50\n",
      "23/23 [==============================] - 0s 2ms/step - loss: 187.1853\n",
      "Epoch 24/50\n",
      "23/23 [==============================] - 0s 2ms/step - loss: 186.1959\n",
      "Epoch 25/50\n",
      "23/23 [==============================] - 0s 2ms/step - loss: 184.0297\n",
      "Epoch 26/50\n",
      "23/23 [==============================] - 0s 2ms/step - loss: 182.3056\n",
      "Epoch 27/50\n",
      "23/23 [==============================] - 0s 2ms/step - loss: 180.7386\n",
      "Epoch 28/50\n",
      "23/23 [==============================] - 0s 3ms/step - loss: 179.3237\n",
      "Epoch 29/50\n",
      "23/23 [==============================] - 0s 3ms/step - loss: 177.9162\n",
      "Epoch 30/50\n",
      "23/23 [==============================] - 0s 4ms/step - loss: 176.4146\n",
      "Epoch 31/50\n",
      "23/23 [==============================] - 0s 2ms/step - loss: 174.8914\n",
      "Epoch 32/50\n",
      "23/23 [==============================] - 0s 2ms/step - loss: 173.8541\n",
      "Epoch 33/50\n",
      "23/23 [==============================] - 0s 2ms/step - loss: 172.9613\n",
      "Epoch 34/50\n",
      "23/23 [==============================] - 0s 2ms/step - loss: 171.5907\n",
      "Epoch 35/50\n",
      "23/23 [==============================] - 0s 2ms/step - loss: 170.3952\n",
      "Epoch 36/50\n",
      "23/23 [==============================] - 0s 2ms/step - loss: 168.9417\n",
      "Epoch 37/50\n",
      "23/23 [==============================] - 0s 2ms/step - loss: 167.6777\n",
      "Epoch 38/50\n",
      "23/23 [==============================] - 0s 2ms/step - loss: 166.5344\n",
      "Epoch 39/50\n",
      "23/23 [==============================] - 0s 2ms/step - loss: 165.7159\n",
      "Epoch 40/50\n",
      "23/23 [==============================] - 0s 2ms/step - loss: 164.1666\n",
      "Epoch 41/50\n",
      "23/23 [==============================] - 0s 2ms/step - loss: 163.2068\n",
      "Epoch 42/50\n",
      "23/23 [==============================] - 0s 3ms/step - loss: 161.9133\n",
      "Epoch 43/50\n",
      "23/23 [==============================] - 0s 3ms/step - loss: 160.5036\n",
      "Epoch 44/50\n",
      "23/23 [==============================] - 0s 3ms/step - loss: 159.3173\n",
      "Epoch 45/50\n",
      "23/23 [==============================] - 0s 2ms/step - loss: 157.9744\n",
      "Epoch 46/50\n",
      "23/23 [==============================] - 0s 2ms/step - loss: 157.1682\n",
      "Epoch 47/50\n",
      "23/23 [==============================] - 0s 2ms/step - loss: 155.9772\n",
      "Epoch 48/50\n",
      "23/23 [==============================] - 0s 2ms/step - loss: 155.0915\n",
      "Epoch 49/50\n",
      "23/23 [==============================] - 0s 2ms/step - loss: 153.4809\n",
      "Epoch 50/50\n",
      "23/23 [==============================] - 0s 2ms/step - loss: 152.5744\n"
     ]
    },
    {
     "data": {
      "text/plain": [
       "<keras.callbacks.History at 0x1849f402ee0>"
      ]
     },
     "execution_count": 30,
     "metadata": {},
     "output_type": "execute_result"
    }
   ],
   "source": [
    "model=regression_model()\n",
    "model.fit(xtrain,ytrain,epochs=50,verbose=1)"
   ]
  },
  {
   "cell_type": "markdown",
   "id": "05a42a65-2885-4e66-afd2-cb759c67f36b",
   "metadata": {},
   "source": [
    "# prediction"
   ]
  },
  {
   "cell_type": "code",
   "execution_count": 32,
   "id": "85c066e5-305b-4dc6-963f-2a5be0ed38c6",
   "metadata": {},
   "outputs": [
    {
     "name": "stdout",
     "output_type": "stream",
     "text": [
      "10/10 [==============================] - 0s 2ms/step\n"
     ]
    }
   ],
   "source": [
    "y_predict=model.predict(xtest)"
   ]
  },
  {
   "cell_type": "code",
   "execution_count": 35,
   "id": "b00ad9ce-6d7f-4ebb-bcd9-f5f51330cfb5",
   "metadata": {},
   "outputs": [
    {
     "name": "stdout",
     "output_type": "stream",
     "text": [
      "mean squared error: 161.18069229654478\n"
     ]
    }
   ],
   "source": [
    "from sklearn.metrics import mean_squared_error\n",
    "\n",
    "print(f'mean squared error: {mean_squared_error(y_predict,ytest)}')"
   ]
  },
  {
   "cell_type": "code",
   "execution_count": null,
   "id": "8844950f-51d1-4eed-a342-b54118f29710",
   "metadata": {},
   "outputs": [],
   "source": []
  }
 ],
 "metadata": {
  "kernelspec": {
   "display_name": "tf",
   "language": "python",
   "name": "tf"
  },
  "language_info": {
   "codemirror_mode": {
    "name": "ipython",
    "version": 3
   },
   "file_extension": ".py",
   "mimetype": "text/x-python",
   "name": "python",
   "nbconvert_exporter": "python",
   "pygments_lexer": "ipython3",
   "version": "3.9.18"
  }
 },
 "nbformat": 4,
 "nbformat_minor": 5
}
