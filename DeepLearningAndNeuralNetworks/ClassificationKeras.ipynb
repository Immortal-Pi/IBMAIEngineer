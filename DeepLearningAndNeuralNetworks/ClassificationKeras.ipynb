{
 "cells": [
  {
   "cell_type": "code",
   "execution_count": 2,
   "id": "cf0e2f0c-f2d5-462b-96d4-934932c7fd90",
   "metadata": {},
   "outputs": [],
   "source": [
    "import keras\n",
    "from keras.models import Sequential\n",
    "from keras.layers import Dense\n",
    "from keras.utils import to_categorical\n",
    "import matplotlib.pyplot as plt"
   ]
  },
  {
   "cell_type": "code",
   "execution_count": 3,
   "id": "68598037-4d8e-4e04-803c-5e612f1870ef",
   "metadata": {},
   "outputs": [],
   "source": [
    "from keras.datasets import mnist\n",
    "(xtrain,ytrain),(xtest,ytest)=mnist.load_data()"
   ]
  },
  {
   "cell_type": "code",
   "execution_count": 4,
   "id": "05787fcc-7a09-488d-b35a-4fe31bf32fdc",
   "metadata": {},
   "outputs": [
    {
     "data": {
      "text/plain": [
       "(60000, 28, 28)"
      ]
     },
     "execution_count": 4,
     "metadata": {},
     "output_type": "execute_result"
    }
   ],
   "source": [
    "xtrain.shape"
   ]
  },
  {
   "cell_type": "code",
   "execution_count": 5,
   "id": "fbca5abc-1718-4188-81fe-92957bab2f0f",
   "metadata": {},
   "outputs": [
    {
     "data": {
      "text/plain": [
       "<matplotlib.image.AxesImage at 0x27e8fc1eb80>"
      ]
     },
     "execution_count": 5,
     "metadata": {},
     "output_type": "execute_result"
    },
    {
     "data": {
      "image/png": "[encoded data removed]",
      "text/plain": [
       "<Figure size 640x480 with 1 Axes>"
      ]
     },
     "metadata": {},
     "output_type": "display_data"
    }
   ],
   "source": [
    "plt.imshow(xtrain[0])"
   ]
  },
  {
   "cell_type": "code",
   "execution_count": 7,
   "id": "c9833755-e5e2-409a-b812-c2df3fa49155",
   "metadata": {},
   "outputs": [
    {
     "data": {
      "text/plain": [
       "784"
      ]
     },
     "execution_count": 7,
     "metadata": {},
     "output_type": "execute_result"
    }
   ],
   "source": [
    "num_pixels = xtrain.shape[1]*xtrain.shape[2]\n",
    "num_pixels"
   ]
  },
  {
   "cell_type": "code",
   "execution_count": 8,
   "id": "8ab1f70f-e703-47d7-aa11-bd043cddaae9",
   "metadata": {},
   "outputs": [
    {
     "data": {
      "text/plain": [
       "((60000, 784), (10000, 784))"
      ]
     },
     "execution_count": 8,
     "metadata": {},
     "output_type": "execute_result"
    }
   ],
   "source": [
    "xtrain=xtrain.reshape(xtrain.shape[0],num_pixels).astype('float32')\n",
    "xtest=xtest.reshape(xtest.shape[0],num_pixels).astype('float32')\n",
    "xtrain.shape,xtest.shape"
   ]
  },
  {
   "cell_type": "code",
   "execution_count": 9,
   "id": "82547ceb-0e49-453c-8fe8-038dff8e52a6",
   "metadata": {},
   "outputs": [],
   "source": [
    "xtrain=xtrain/255\n",
    "xtest=xtest/255"
   ]
  },
  {
   "cell_type": "markdown",
   "id": "27ad2d9a-063b-4bbb-b85e-56b5b361af22",
   "metadata": {},
   "source": [
    "ytrain=to_categorical(ytrain)\n",
    "ytest=to_categorical(ytest)\n",
    "\n",
    "num_classes=ytest.shape[1]\n",
    "print(num_classes)"
   ]
  },
  {
   "cell_type": "code",
   "execution_count": 12,
   "id": "22c6b748-e428-4efb-9e3d-e78bb8b3481f",
   "metadata": {},
   "outputs": [
    {
     "data": {
      "text/plain": [
       "array([[0., 0., 0., ..., 0., 0., 0.],\n",
       "       [1., 0., 0., ..., 0., 0., 0.],\n",
       "       [0., 0., 0., ..., 0., 0., 0.],\n",
       "       ...,\n",
       "       [0., 0., 0., ..., 0., 0., 0.],\n",
       "       [0., 0., 0., ..., 0., 0., 0.],\n",
       "       [0., 0., 0., ..., 0., 1., 0.]], dtype=float32)"
      ]
     },
     "execution_count": 12,
     "metadata": {},
     "output_type": "execute_result"
    }
   ],
   "source": [
    "ytrain"
   ]
  },
  {
   "cell_type": "markdown",
   "id": "7510a770-23e5-4b39-8197-8a30ce5e2b5d",
   "metadata": {},
   "source": [
    "# build a neural Network"
   ]
  },
  {
   "cell_type": "code",
   "execution_count": 15,
   "id": "fb5668cb-90ee-4e27-8944-0a24cede41e0",
   "metadata": {},
   "outputs": [],
   "source": [
    "def classification_model():\n",
    "    model=Sequential()\n",
    "    model.add(Dense(num_pixels,activation='relu',input_shape=(num_pixels,)))\n",
    "    model.add(Dense(100,activation='relu'))\n",
    "    model.add(Dense(num_classes,activation='softmax'))\n",
    "\n",
    "    model.compile(optimizer='adam',loss='categorical_crossentropy',metrics=['accuracy'])\n",
    "    return model"
   ]
  },
  {
   "cell_type": "markdown",
   "id": "e5379434-386f-406b-bda4-f33cf6769fef",
   "metadata": {},
   "source": [
    "# train and test the Network"
   ]
  },
  {
   "cell_type": "code",
   "execution_count": 18,
   "id": "fc9331e8-5723-488f-b978-f66bd447fdd9",
   "metadata": {},
   "outputs": [
    {
     "name": "stdout",
     "output_type": "stream",
     "text": [
      "Epoch 1/10\n",
      "1875/1875 - 5s - loss: 0.1864 - accuracy: 0.9429 - val_loss: 0.1188 - val_accuracy: 0.9621 - 5s/epoch - 2ms/step\n",
      "Epoch 2/10\n",
      "1875/1875 - 4s - loss: 0.0785 - accuracy: 0.9752 - val_loss: 0.0918 - val_accuracy: 0.9733 - 4s/epoch - 2ms/step\n",
      "Epoch 3/10\n",
      "1875/1875 - 4s - loss: 0.0558 - accuracy: 0.9826 - val_loss: 0.0693 - val_accuracy: 0.9800 - 4s/epoch - 2ms/step\n",
      "Epoch 4/10\n",
      "1875/1875 - 4s - loss: 0.0368 - accuracy: 0.9881 - val_loss: 0.0802 - val_accuracy: 0.9788 - 4s/epoch - 2ms/step\n",
      "Epoch 5/10\n",
      "1875/1875 - 4s - loss: 0.0301 - accuracy: 0.9899 - val_loss: 0.0953 - val_accuracy: 0.9727 - 4s/epoch - 2ms/step\n",
      "Epoch 6/10\n",
      "1875/1875 - 4s - loss: 0.0265 - accuracy: 0.9912 - val_loss: 0.0754 - val_accuracy: 0.9818 - 4s/epoch - 2ms/step\n",
      "Epoch 7/10\n",
      "1875/1875 - 4s - loss: 0.0218 - accuracy: 0.9926 - val_loss: 0.0801 - val_accuracy: 0.9812 - 4s/epoch - 2ms/step\n",
      "Epoch 8/10\n",
      "1875/1875 - 4s - loss: 0.0200 - accuracy: 0.9938 - val_loss: 0.0945 - val_accuracy: 0.9792 - 4s/epoch - 2ms/step\n",
      "Epoch 9/10\n",
      "1875/1875 - 4s - loss: 0.0177 - accuracy: 0.9946 - val_loss: 0.0909 - val_accuracy: 0.9805 - 4s/epoch - 2ms/step\n",
      "Epoch 10/10\n",
      "1875/1875 - 4s - loss: 0.0155 - accuracy: 0.9955 - val_loss: 0.0992 - val_accuracy: 0.9797 - 4s/epoch - 2ms/step\n"
     ]
    }
   ],
   "source": [
    "model=classification_model()\n",
    "model.fit(xtrain,ytrain,validation_data=(xtest,ytest),epochs=10,verbose=2)\n",
    "scores=model.evaluate(xtest,ytest,verbose=0)"
   ]
  },
  {
   "cell_type": "code",
   "execution_count": 19,
   "id": "bef852e5-c8cc-49a1-b7d0-12feb5a69600",
   "metadata": {},
   "outputs": [
    {
     "name": "stdout",
     "output_type": "stream",
     "text": [
      "Accuracy: 0.9797000288963318% \n",
      " Error: 0.020299971103668213\n"
     ]
    }
   ],
   "source": [
    "print('Accuracy: {}% \\n Error: {}'.format(scores[1], 1 - scores[1]))"
   ]
  },
  {
   "cell_type": "code",
   "execution_count": 22,
   "id": "7b1be7ea-4bbb-4f9c-b5c5-0ca25928d688",
   "metadata": {},
   "outputs": [],
   "source": [
    "model.save('classification_model.h5')"
   ]
  },
  {
   "cell_type": "code",
   "execution_count": 23,
   "id": "3f1505e0-0957-4e51-acbf-9b4f3330ffd2",
   "metadata": {},
   "outputs": [],
   "source": [
    "from keras.models import load_model"
   ]
  },
  {
   "cell_type": "code",
   "execution_count": 24,
   "id": "e279c9b6-6a35-4e38-abac-e37709134498",
   "metadata": {},
   "outputs": [],
   "source": [
    "pretrained_model=load_model('classification_model.h5')"
   ]
  },
  {
   "cell_type": "code",
   "execution_count": null,
   "id": "50065f0a-6903-45ce-b715-88f486c58316",
   "metadata": {},
   "outputs": [],
   "source": []
  }
 ],
 "metadata": {
  "kernelspec": {
   "display_name": "tf",
   "language": "python",
   "name": "tf"
  },
  "language_info": {
   "codemirror_mode": {
    "name": "ipython",
    "version": 3
   },
   "file_extension": ".py",
   "mimetype": "text/x-python",
   "name": "python",
   "nbconvert_exporter": "python",
   "pygments_lexer": "ipython3",
   "version": "3.9.18"
  }
 },
 "nbformat": 4,
 "nbformat_minor": 5
}
