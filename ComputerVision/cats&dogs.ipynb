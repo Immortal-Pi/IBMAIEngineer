{
 "cells": [
  {
   "cell_type": "markdown",
   "id": "ad4b1716",
   "metadata": {},
   "source": [
    "# cats and dogs classification using unet model"
   ]
  },
  {
   "cell_type": "code",
   "execution_count": null,
   "id": "8f465c3f",
   "metadata": {},
   "outputs": [],
   "source": []
  }
 ],
 "metadata": {
  "kernelspec": {
   "display_name": "tf",
   "language": "python",
   "name": "tf"
  },
  "language_info": {
   "codemirror_mode": {
    "name": "ipython",
    "version": 3
   },
   "file_extension": ".py",
   "mimetype": "text/x-python",
   "name": "python",
   "nbconvert_exporter": "python",
   "pygments_lexer": "ipython3",
   "version": "3.9.19"
  }
 },
 "nbformat": 4,
 "nbformat_minor": 5
}
