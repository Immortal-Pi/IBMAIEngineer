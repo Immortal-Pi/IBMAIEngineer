{
 "cells": [
  {
   "cell_type": "code",
   "execution_count": 1,
   "id": "cb25ae42-7dd4-4cb2-a20c-4c756f7a9f5c",
   "metadata": {},
   "outputs": [],
   "source": [
    "import torch"
   ]
  },
  {
   "cell_type": "code",
   "execution_count": 3,
   "id": "b5e5e36f-d3ae-4a85-8052-e82cf1f8a8e2",
   "metadata": {},
   "outputs": [
    {
     "data": {
      "text/plain": [
       "True"
      ]
     },
     "execution_count": 3,
     "metadata": {},
     "output_type": "execute_result"
    }
   ],
   "source": [
    "torch.cuda.is_available()"
   ]
  },
  {
   "cell_type": "code",
   "execution_count": 5,
   "id": "f50be5c9-0754-4fb4-9d90-43bd89e73135",
   "metadata": {},
   "outputs": [
    {
     "data": {
      "text/plain": [
       "0"
      ]
     },
     "execution_count": 5,
     "metadata": {},
     "output_type": "execute_result"
    }
   ],
   "source": [
    "torch.cuda.current_device()"
   ]
  },
  {
   "cell_type": "code",
   "execution_count": 7,
   "id": "f839f480-305a-42d4-814d-6aa5d2e4c6eb",
   "metadata": {},
   "outputs": [
    {
     "data": {
      "text/plain": [
       "'NVIDIA GeForce RTX 4070 Laptop GPU'"
      ]
     },
     "execution_count": 7,
     "metadata": {},
     "output_type": "execute_result"
    }
   ],
   "source": [
    "torch.cuda.get_device_name()"
   ]
  },
  {
   "cell_type": "code",
   "execution_count": 9,
   "id": "631ba997-812b-4d9e-ae5d-66bcb7155f6a",
   "metadata": {},
   "outputs": [
    {
     "name": "stderr",
     "output_type": "stream",
     "text": [
      "C:\\Users\\26amr\\AppData\\Local\\Temp\\ipykernel_13864\\3499522927.py:1: FutureWarning: `torch.cuda.memory_cached` has been renamed to `torch.cuda.memory_reserved`\n",
      "  torch.cuda.memory_cached()\n"
     ]
    },
    {
     "data": {
      "text/plain": [
       "0"
      ]
     },
     "execution_count": 9,
     "metadata": {},
     "output_type": "execute_result"
    }
   ],
   "source": [
    "torch.cuda.memory_cached()"
   ]
  },
  {
   "cell_type": "code",
   "execution_count": 15,
   "id": "d62123da-1cc3-46fc-9b5f-80c1c3b0dd97",
   "metadata": {},
   "outputs": [
    {
     "data": {
      "text/plain": [
       "tensor([1., 2., 3.], device='cuda:0')"
      ]
     },
     "execution_count": 15,
     "metadata": {},
     "output_type": "execute_result"
    }
   ],
   "source": [
    "var1=torch.FloatTensor([1.0,2.0,3.0]).cuda()\n",
    "var1"
   ]
  },
  {
   "cell_type": "code",
   "execution_count": 16,
   "id": "07cc2a3f-0123-4738-ab1f-846584e712e1",
   "metadata": {},
   "outputs": [
    {
     "data": {
      "text/plain": [
       "device(type='cuda', index=0)"
      ]
     },
     "execution_count": 16,
     "metadata": {},
     "output_type": "execute_result"
    }
   ],
   "source": [
    "var1.device"
   ]
  },
  {
   "cell_type": "code",
   "execution_count": 37,
   "id": "1c931e68-cdf9-4919-9edd-fcef5fcc100b",
   "metadata": {},
   "outputs": [],
   "source": [
    "import pandas as pd\n",
    "import seaborn as sns\n",
    "import numpy as np\n",
    "import torch\n",
    "import torch.nn as nn\n",
    "import torch.nn.functional as F"
   ]
  },
  {
   "cell_type": "code",
   "execution_count": 69,
   "id": "ce894a1b-a457-422c-a165-a932edc9c235",
   "metadata": {},
   "outputs": [
    {
     "data": {
      "text/html": [
       "<div>\n",
       "<style scoped>\n",
       "    .dataframe tbody tr th:only-of-type {\n",
       "        vertical-align: middle;\n",
       "    }\n",
       "\n",
       "    .dataframe tbody tr th {\n",
       "        vertical-align: top;\n",
       "    }\n",
       "\n",
       "    .dataframe thead th {\n",
       "        text-align: right;\n",
       "    }\n",
       "</style>\n",
       "<table border=\"1\" class=\"dataframe\">\n",
       "  <thead>\n",
       "    <tr style=\"text-align: right;\">\n",
       "      <th></th>\n",
       "      <th>Pregnancies</th>\n",
       "      <th>Glucose</th>\n",
       "      <th>BloodPressure</th>\n",
       "      <th>SkinThickness</th>\n",
       "      <th>Insulin</th>\n",
       "      <th>BMI</th>\n",
       "      <th>DiabetesPedigreeFunction</th>\n",
       "      <th>Age</th>\n",
       "      <th>Outcome</th>\n",
       "    </tr>\n",
       "  </thead>\n",
       "  <tbody>\n",
       "    <tr>\n",
       "      <th>0</th>\n",
       "      <td>6</td>\n",
       "      <td>148</td>\n",
       "      <td>72</td>\n",
       "      <td>35</td>\n",
       "      <td>0</td>\n",
       "      <td>33.6</td>\n",
       "      <td>0.627</td>\n",
       "      <td>50</td>\n",
       "      <td>1</td>\n",
       "    </tr>\n",
       "    <tr>\n",
       "      <th>1</th>\n",
       "      <td>1</td>\n",
       "      <td>85</td>\n",
       "      <td>66</td>\n",
       "      <td>29</td>\n",
       "      <td>0</td>\n",
       "      <td>26.6</td>\n",
       "      <td>0.351</td>\n",
       "      <td>31</td>\n",
       "      <td>0</td>\n",
       "    </tr>\n",
       "    <tr>\n",
       "      <th>2</th>\n",
       "      <td>8</td>\n",
       "      <td>183</td>\n",
       "      <td>64</td>\n",
       "      <td>0</td>\n",
       "      <td>0</td>\n",
       "      <td>23.3</td>\n",
       "      <td>0.672</td>\n",
       "      <td>32</td>\n",
       "      <td>1</td>\n",
       "    </tr>\n",
       "    <tr>\n",
       "      <th>3</th>\n",
       "      <td>1</td>\n",
       "      <td>89</td>\n",
       "      <td>66</td>\n",
       "      <td>23</td>\n",
       "      <td>94</td>\n",
       "      <td>28.1</td>\n",
       "      <td>0.167</td>\n",
       "      <td>21</td>\n",
       "      <td>0</td>\n",
       "    </tr>\n",
       "    <tr>\n",
       "      <th>4</th>\n",
       "      <td>0</td>\n",
       "      <td>137</td>\n",
       "      <td>40</td>\n",
       "      <td>35</td>\n",
       "      <td>168</td>\n",
       "      <td>43.1</td>\n",
       "      <td>2.288</td>\n",
       "      <td>33</td>\n",
       "      <td>1</td>\n",
       "    </tr>\n",
       "  </tbody>\n",
       "</table>\n",
       "</div>"
      ],
      "text/plain": [
       "   Pregnancies  Glucose  BloodPressure  SkinThickness  Insulin   BMI  \\\n",
       "0            6      148             72             35        0  33.6   \n",
       "1            1       85             66             29        0  26.6   \n",
       "2            8      183             64              0        0  23.3   \n",
       "3            1       89             66             23       94  28.1   \n",
       "4            0      137             40             35      168  43.1   \n",
       "\n",
       "   DiabetesPedigreeFunction  Age  Outcome  \n",
       "0                     0.627   50        1  \n",
       "1                     0.351   31        0  \n",
       "2                     0.672   32        1  \n",
       "3                     0.167   21        0  \n",
       "4                     2.288   33        1  "
      ]
     },
     "execution_count": 69,
     "metadata": {},
     "output_type": "execute_result"
    }
   ],
   "source": [
    "data=pd.read_csv('datasets/diabetes.csv')\n",
    "data.head()"
   ]
  },
  {
   "cell_type": "code",
   "execution_count": 63,
   "id": "c78511c8-04ff-4221-8054-c66f4994f095",
   "metadata": {},
   "outputs": [],
   "source": [
    "data['Outcome']=np.where(data['Outcome']==1, 'Diabetic', 'No Diabetic')"
   ]
  },
  {
   "cell_type": "code",
   "execution_count": 67,
   "id": "a51c1934-f4c1-41c5-be9b-efb9b9846c9b",
   "metadata": {},
   "outputs": [
    {
     "data": {
      "text/html": [
       "<div>\n",
       "<style scoped>\n",
       "    .dataframe tbody tr th:only-of-type {\n",
       "        vertical-align: middle;\n",
       "    }\n",
       "\n",
       "    .dataframe tbody tr th {\n",
       "        vertical-align: top;\n",
       "    }\n",
       "\n",
       "    .dataframe thead th {\n",
       "        text-align: right;\n",
       "    }\n",
       "</style>\n",
       "<table border=\"1\" class=\"dataframe\">\n",
       "  <thead>\n",
       "    <tr style=\"text-align: right;\">\n",
       "      <th></th>\n",
       "      <th>Pregnancies</th>\n",
       "      <th>Glucose</th>\n",
       "      <th>BloodPressure</th>\n",
       "      <th>SkinThickness</th>\n",
       "      <th>Insulin</th>\n",
       "      <th>BMI</th>\n",
       "      <th>DiabetesPedigreeFunction</th>\n",
       "      <th>Age</th>\n",
       "      <th>Outcome</th>\n",
       "    </tr>\n",
       "  </thead>\n",
       "  <tbody>\n",
       "    <tr>\n",
       "      <th>0</th>\n",
       "      <td>6</td>\n",
       "      <td>148</td>\n",
       "      <td>72</td>\n",
       "      <td>35</td>\n",
       "      <td>0</td>\n",
       "      <td>33.6</td>\n",
       "      <td>0.627</td>\n",
       "      <td>50</td>\n",
       "      <td>1</td>\n",
       "    </tr>\n",
       "    <tr>\n",
       "      <th>1</th>\n",
       "      <td>1</td>\n",
       "      <td>85</td>\n",
       "      <td>66</td>\n",
       "      <td>29</td>\n",
       "      <td>0</td>\n",
       "      <td>26.6</td>\n",
       "      <td>0.351</td>\n",
       "      <td>31</td>\n",
       "      <td>0</td>\n",
       "    </tr>\n",
       "    <tr>\n",
       "      <th>2</th>\n",
       "      <td>8</td>\n",
       "      <td>183</td>\n",
       "      <td>64</td>\n",
       "      <td>0</td>\n",
       "      <td>0</td>\n",
       "      <td>23.3</td>\n",
       "      <td>0.672</td>\n",
       "      <td>32</td>\n",
       "      <td>1</td>\n",
       "    </tr>\n",
       "    <tr>\n",
       "      <th>3</th>\n",
       "      <td>1</td>\n",
       "      <td>89</td>\n",
       "      <td>66</td>\n",
       "      <td>23</td>\n",
       "      <td>94</td>\n",
       "      <td>28.1</td>\n",
       "      <td>0.167</td>\n",
       "      <td>21</td>\n",
       "      <td>0</td>\n",
       "    </tr>\n",
       "    <tr>\n",
       "      <th>4</th>\n",
       "      <td>0</td>\n",
       "      <td>137</td>\n",
       "      <td>40</td>\n",
       "      <td>35</td>\n",
       "      <td>168</td>\n",
       "      <td>43.1</td>\n",
       "      <td>2.288</td>\n",
       "      <td>33</td>\n",
       "      <td>1</td>\n",
       "    </tr>\n",
       "  </tbody>\n",
       "</table>\n",
       "</div>"
      ],
      "text/plain": [
       "   Pregnancies  Glucose  BloodPressure  SkinThickness  Insulin   BMI  \\\n",
       "0            6      148             72             35        0  33.6   \n",
       "1            1       85             66             29        0  26.6   \n",
       "2            8      183             64              0        0  23.3   \n",
       "3            1       89             66             23       94  28.1   \n",
       "4            0      137             40             35      168  43.1   \n",
       "\n",
       "   DiabetesPedigreeFunction  Age  Outcome  \n",
       "0                     0.627   50        1  \n",
       "1                     0.351   31        0  \n",
       "2                     0.672   32        1  \n",
       "3                     0.167   21        0  \n",
       "4                     2.288   33        1  "
      ]
     },
     "execution_count": 67,
     "metadata": {},
     "output_type": "execute_result"
    }
   ],
   "source": [
    "data.head()"
   ]
  },
  {
   "cell_type": "code",
   "execution_count": 71,
   "id": "b6e2909d-0e78-4e57-b154-3d637a0c0dbd",
   "metadata": {},
   "outputs": [
    {
     "data": {
      "text/plain": [
       "numpy.ndarray"
      ]
     },
     "execution_count": 71,
     "metadata": {},
     "output_type": "execute_result"
    }
   ],
   "source": [
    "x=data.drop('Outcome', axis=1).values\n",
    "type(x)"
   ]
  },
  {
   "cell_type": "code",
   "execution_count": 73,
   "id": "39780748-759b-4d5c-a5aa-9bc8ef7311b4",
   "metadata": {},
   "outputs": [
    {
     "data": {
      "text/plain": [
       "numpy.ndarray"
      ]
     },
     "execution_count": 73,
     "metadata": {},
     "output_type": "execute_result"
    }
   ],
   "source": [
    "y=data['Outcome'].values\n",
    "type(y)"
   ]
  },
  {
   "cell_type": "code",
   "execution_count": 355,
   "id": "b5169b7c-9b0b-4aa2-8bbf-9f19b208d1f8",
   "metadata": {},
   "outputs": [],
   "source": [
    "from sklearn.model_selection import train_test_split\n",
    "xtrain,xtest,ytrain,ytest=train_test_split(x,y,test_size=0.2,random_state=0)"
   ]
  },
  {
   "cell_type": "code",
   "execution_count": 359,
   "id": "2c926841-f4ee-4e58-983d-e4ee2bcc91ef",
   "metadata": {},
   "outputs": [],
   "source": [
    "xtrain=torch.FloatTensor(xtrain).cuda()\n",
    "xtest=torch.FloatTensor(xtest).cuda()\n",
    "ytrain=torch.LongTensor(ytrain).cuda()\n",
    "ytest=torch.LongTensor(ytest).cuda()"
   ]
  },
  {
   "cell_type": "code",
   "execution_count": 177,
   "id": "4584f03e-8e0f-40a5-9a36-4a1d1794f4ba",
   "metadata": {},
   "outputs": [
    {
     "data": {
      "text/plain": [
       "(device(type='cuda', index=0), torch.Size([614, 8]))"
      ]
     },
     "execution_count": 177,
     "metadata": {},
     "output_type": "execute_result"
    }
   ],
   "source": [
    "xtrain.device, xtrain.shape"
   ]
  },
  {
   "cell_type": "code",
   "execution_count": 369,
   "id": "74732e46-47ae-46d5-84d0-850072059e68",
   "metadata": {},
   "outputs": [],
   "source": [
    "class ANNModel(nn.Module):\n",
    "    def __init__(self, input_features=8, hidden1=20, hidden2=20, out_fearures=2):\n",
    "        super().__init__()\n",
    "        self.f_connected1=nn.Linear(input_features,hidden1)\n",
    "        self.f_connected2=nn.Linear(hidden1, hidden2)\n",
    "        self.out=nn.Linear(hidden2, out_fearures)\n",
    "    def forward(self,x):\n",
    "        x=F.relu(self.f_connected1(x))\n",
    "        x=F.relu(self.f_connected2(x))\n",
    "        x=self.out(x)\n",
    "        return x"
   ]
  },
  {
   "cell_type": "code",
   "execution_count": 371,
   "id": "c0faabe9-9c34-45a6-8572-b2dd3df407d0",
   "metadata": {},
   "outputs": [],
   "source": [
    "torch.manual_seed(20)\n",
    "model=ANNModel()"
   ]
  },
  {
   "cell_type": "code",
   "execution_count": 373,
   "id": "cfa93c27-443d-4707-882f-35a58bccbf7c",
   "metadata": {},
   "outputs": [
    {
     "data": {
      "text/plain": [
       "<bound method Module.parameters of ANNModel(\n",
       "  (f_connected1): Linear(in_features=8, out_features=20, bias=True)\n",
       "  (f_connected2): Linear(in_features=20, out_features=20, bias=True)\n",
       "  (out): Linear(in_features=20, out_features=2, bias=True)\n",
       ")>"
      ]
     },
     "execution_count": 373,
     "metadata": {},
     "output_type": "execute_result"
    }
   ],
   "source": [
    "model.parameters"
   ]
  },
  {
   "cell_type": "code",
   "execution_count": 375,
   "id": "0ff733d0-83b5-4033-acae-c4e3592b5617",
   "metadata": {},
   "outputs": [
    {
     "name": "stdout",
     "output_type": "stream",
     "text": [
      "False\n",
      "False\n",
      "False\n",
      "False\n",
      "False\n",
      "False\n"
     ]
    }
   ],
   "source": [
    "# next(model.parameters).cuda()\n",
    "for i in model.parameters():\n",
    "    print(i.is_cuda)"
   ]
  },
  {
   "cell_type": "code",
   "execution_count": 377,
   "id": "bcdcdf06-1951-4cb5-ac3d-34d2b85dfe79",
   "metadata": {},
   "outputs": [],
   "source": [
    "model=model.cuda()"
   ]
  },
  {
   "cell_type": "code",
   "execution_count": 379,
   "id": "27093b2e-17c9-447e-b86f-67ea6e154ee1",
   "metadata": {},
   "outputs": [
    {
     "name": "stdout",
     "output_type": "stream",
     "text": [
      "True\n",
      "True\n",
      "True\n",
      "True\n",
      "True\n",
      "True\n"
     ]
    }
   ],
   "source": [
    "for i in model.parameters():\n",
    "    print(i.is_cuda)"
   ]
  },
  {
   "cell_type": "markdown",
   "id": "a8f05cef-ff1f-4c44-8b36-e96fb5b5ab18",
   "metadata": {},
   "source": [
    "# check memory allocation"
   ]
  },
  {
   "cell_type": "code",
   "execution_count": 382,
   "id": "acc9f367-c14e-49fb-82af-1cf841178652",
   "metadata": {},
   "outputs": [
    {
     "data": {
      "text/plain": [
       "27525120"
      ]
     },
     "execution_count": 382,
     "metadata": {},
     "output_type": "execute_result"
    }
   ],
   "source": [
    "torch.cuda.memory_allocated()"
   ]
  },
  {
   "cell_type": "code",
   "execution_count": 384,
   "id": "5e9e1fa9-c2ae-4789-a463-4161ba2ffd90",
   "metadata": {},
   "outputs": [
    {
     "name": "stderr",
     "output_type": "stream",
     "text": [
      "C:\\Users\\26amr\\AppData\\Local\\Temp\\ipykernel_13864\\3499522927.py:1: FutureWarning: `torch.cuda.memory_cached` has been renamed to `torch.cuda.memory_reserved`\n",
      "  torch.cuda.memory_cached()\n"
     ]
    },
    {
     "data": {
      "text/plain": [
       "33554432"
      ]
     },
     "execution_count": 384,
     "metadata": {},
     "output_type": "execute_result"
    }
   ],
   "source": [
    "torch.cuda.memory_cached()"
   ]
  },
  {
   "cell_type": "markdown",
   "id": "a17553dd-d6f3-4eba-a64c-7a801d6c0eed",
   "metadata": {},
   "source": [
    "# loss function and optimization"
   ]
  },
  {
   "cell_type": "code",
   "execution_count": 386,
   "id": "afb1ff5a-4b62-4cb4-9efa-959ed2224ff0",
   "metadata": {},
   "outputs": [],
   "source": [
    "loss_function=nn.CrossEntropyLoss()\n",
    "optimizer=torch.optim.Adam(model.parameters(), lr=0.01)"
   ]
  },
  {
   "cell_type": "code",
   "execution_count": 388,
   "id": "c57a3d8d-fb42-4e4a-b2ed-0711928ccc34",
   "metadata": {},
   "outputs": [
    {
     "name": "stdout",
     "output_type": "stream",
     "text": [
      "Epoch number: 1 and loss: 3.457210063934326\n",
      "Epoch number: 11 and loss: 0.8019208908081055\n",
      "Epoch number: 21 and loss: 0.6090320348739624\n",
      "Epoch number: 31 and loss: 0.5917770862579346\n",
      "Epoch number: 41 and loss: 0.5679708123207092\n",
      "Epoch number: 51 and loss: 0.5529042482376099\n",
      "Epoch number: 61 and loss: 0.5410094857215881\n",
      "Epoch number: 71 and loss: 0.5310390591621399\n",
      "Epoch number: 81 and loss: 0.5220361351966858\n",
      "Epoch number: 91 and loss: 0.5135971903800964\n",
      "Epoch number: 101 and loss: 0.5061255097389221\n",
      "Epoch number: 111 and loss: 0.49834105372428894\n",
      "Epoch number: 121 and loss: 0.4960552155971527\n",
      "Epoch number: 131 and loss: 0.4828636944293976\n",
      "Epoch number: 141 and loss: 0.4756036698818207\n",
      "Epoch number: 151 and loss: 0.4799237549304962\n",
      "Epoch number: 161 and loss: 0.47929248213768005\n",
      "Epoch number: 171 and loss: 0.4650002121925354\n",
      "Epoch number: 181 and loss: 0.4582020938396454\n",
      "Epoch number: 191 and loss: 0.45270824432373047\n",
      "Epoch number: 201 and loss: 0.44577449560165405\n",
      "Epoch number: 211 and loss: 0.4396323561668396\n",
      "Epoch number: 221 and loss: 0.43892645835876465\n",
      "Epoch number: 231 and loss: 0.4437078535556793\n",
      "Epoch number: 241 and loss: 0.4295613467693329\n",
      "Epoch number: 251 and loss: 0.4251101016998291\n",
      "Epoch number: 261 and loss: 0.42271414399147034\n",
      "Epoch number: 271 and loss: 0.41188865900039673\n",
      "Epoch number: 281 and loss: 0.40954720973968506\n",
      "Epoch number: 291 and loss: 0.40809768438339233\n",
      "Epoch number: 301 and loss: 0.4009905755519867\n",
      "Epoch number: 311 and loss: 0.4326630234718323\n",
      "Epoch number: 321 and loss: 0.4094851613044739\n",
      "Epoch number: 331 and loss: 0.4089009165763855\n",
      "Epoch number: 341 and loss: 0.3924769163131714\n",
      "Epoch number: 351 and loss: 0.39655759930610657\n",
      "Epoch number: 361 and loss: 0.3861067295074463\n",
      "Epoch number: 371 and loss: 0.38196390867233276\n",
      "Epoch number: 381 and loss: 0.4043388366699219\n",
      "Epoch number: 391 and loss: 0.39581531286239624\n",
      "Epoch number: 401 and loss: 0.37860816717147827\n",
      "Epoch number: 411 and loss: 0.38022881746292114\n",
      "Epoch number: 421 and loss: 0.3855536878108978\n",
      "Epoch number: 431 and loss: 0.3767699897289276\n",
      "Epoch number: 441 and loss: 0.3741925358772278\n",
      "Epoch number: 451 and loss: 0.3896948993206024\n",
      "Epoch number: 461 and loss: 0.3630474805831909\n",
      "Epoch number: 471 and loss: 0.35667380690574646\n",
      "Epoch number: 481 and loss: 0.4327964782714844\n",
      "Epoch number: 491 and loss: 0.3685268759727478\n",
      "Epoch number: 501 and loss: 0.35046589374542236\n",
      "Epoch number: 511 and loss: 0.35316768288612366\n",
      "Epoch number: 521 and loss: 0.35223111510276794\n",
      "Epoch number: 531 and loss: 0.3414626717567444\n",
      "Epoch number: 541 and loss: 0.3387027084827423\n",
      "Epoch number: 551 and loss: 0.35607847571372986\n",
      "Epoch number: 561 and loss: 0.3605128526687622\n",
      "Epoch number: 571 and loss: 0.3461892902851105\n",
      "Epoch number: 581 and loss: 0.34147781133651733\n",
      "Epoch number: 591 and loss: 0.3411479592323303\n",
      "Epoch number: 601 and loss: 0.3269980549812317\n",
      "Epoch number: 611 and loss: 0.33382776379585266\n",
      "Epoch number: 621 and loss: 0.34534546732902527\n",
      "Epoch number: 631 and loss: 0.32595908641815186\n",
      "Epoch number: 641 and loss: 0.32768502831459045\n",
      "Epoch number: 651 and loss: 0.33250102400779724\n",
      "Epoch number: 661 and loss: 0.32537609338760376\n",
      "Epoch number: 671 and loss: 0.3157943785190582\n",
      "Epoch number: 681 and loss: 0.315284788608551\n",
      "Epoch number: 691 and loss: 0.3168265223503113\n",
      "Epoch number: 701 and loss: 0.31447774171829224\n",
      "Epoch number: 711 and loss: 0.30849984288215637\n",
      "Epoch number: 721 and loss: 0.3249751031398773\n",
      "Epoch number: 731 and loss: 0.34749048948287964\n",
      "Epoch number: 741 and loss: 0.3092763125896454\n",
      "Epoch number: 751 and loss: 0.3065393269062042\n",
      "Epoch number: 761 and loss: 0.3038896918296814\n",
      "Epoch number: 771 and loss: 0.3020114600658417\n",
      "Epoch number: 781 and loss: 0.3002845048904419\n",
      "Epoch number: 791 and loss: 0.3312748372554779\n",
      "Epoch number: 801 and loss: 0.33960670232772827\n",
      "Epoch number: 811 and loss: 0.3222980201244354\n",
      "Epoch number: 821 and loss: 0.30907851457595825\n",
      "Epoch number: 831 and loss: 0.30364611744880676\n",
      "Epoch number: 841 and loss: 0.3021617829799652\n",
      "Epoch number: 851 and loss: 0.3012295663356781\n",
      "Epoch number: 861 and loss: 0.2974379062652588\n",
      "Epoch number: 871 and loss: 0.4141407907009125\n",
      "Epoch number: 881 and loss: 0.36336061358451843\n",
      "Epoch number: 891 and loss: 0.29738444089889526\n",
      "Epoch number: 901 and loss: 0.3044450581073761\n",
      "Epoch number: 911 and loss: 0.2927394211292267\n",
      "Epoch number: 921 and loss: 0.2915123701095581\n",
      "Epoch number: 931 and loss: 0.2901557683944702\n",
      "Epoch number: 941 and loss: 0.2899770736694336\n",
      "Epoch number: 951 and loss: 0.28850772976875305\n",
      "Epoch number: 961 and loss: 0.2941190004348755\n",
      "Epoch number: 971 and loss: 0.3082541823387146\n",
      "Epoch number: 981 and loss: 0.2990526258945465\n",
      "Epoch number: 991 and loss: 0.3016514778137207\n",
      "2.943465232849121\n"
     ]
    }
   ],
   "source": [
    "import time\n",
    "start_time=time.time()\n",
    "epochs=1000\n",
    "final_losses=[]\n",
    "for i in range(epochs):\n",
    "    i=i+1\n",
    "    y_pred=model.forward(xtrain)\n",
    "    loss=loss_function(y_pred, ytrain)\n",
    "    final_losses.append(loss.cpu().data.numpy())\n",
    "    if i%10==1:\n",
    "        print('Epoch number: {} and loss: {}'.format(i,loss.item()))\n",
    "    optimizer.zero_grad()\n",
    "    loss.backward()\n",
    "    optimizer.step()\n",
    "print(time.time()-start_time)"
   ]
  },
  {
   "cell_type": "code",
   "execution_count": 230,
   "id": "02edbac2-df39-43b3-bdbc-c3444adf4819",
   "metadata": {},
   "outputs": [],
   "source": [
    "import matplotlib.pyplot as plt"
   ]
  },
  {
   "cell_type": "code",
   "execution_count": 392,
   "id": "28810d6a-8f4d-420b-b222-54beac337125",
   "metadata": {},
   "outputs": [
    {
     "data": {
      "text/plain": [
       "Text(0.5, 0, 'Epoch')"
      ]
     },
     "execution_count": 392,
     "metadata": {},
     "output_type": "execute_result"
    },
    {
     "data": {
      "image/png": "[encoded data removed]",
      "text/plain": [
       "<Figure size 640x480 with 1 Axes>"
      ]
     },
     "metadata": {},
     "output_type": "display_data"
    }
   ],
   "source": [
    "final_losses=np.array(final_losses)\n",
    "plt.plot(range(epochs),final_losses)\n",
    "plt.ylabel('Loss')\n",
    "plt.xlabel('Epoch')\n",
    "# final_losses=final_losses.cpu().data.numpy().argmax()\n",
    "# final_losses"
   ]
  },
  {
   "cell_type": "code",
   "execution_count": 394,
   "id": "4315e046-d140-4351-a558-1a83efb68e9e",
   "metadata": {},
   "outputs": [
    {
     "name": "stdout",
     "output_type": "stream",
     "text": [
      "1\n",
      "0\n",
      "0\n",
      "1\n",
      "0\n",
      "0\n",
      "1\n",
      "1\n",
      "0\n",
      "0\n",
      "1\n",
      "1\n",
      "0\n",
      "1\n",
      "0\n",
      "0\n",
      "1\n",
      "0\n",
      "1\n",
      "0\n",
      "1\n",
      "0\n",
      "0\n",
      "0\n",
      "0\n",
      "1\n",
      "0\n",
      "1\n",
      "0\n",
      "0\n",
      "0\n",
      "0\n",
      "0\n",
      "1\n",
      "0\n",
      "1\n",
      "1\n",
      "0\n",
      "0\n",
      "1\n",
      "0\n",
      "0\n",
      "0\n",
      "1\n",
      "1\n",
      "0\n",
      "0\n",
      "0\n",
      "1\n",
      "0\n",
      "0\n",
      "0\n",
      "1\n",
      "1\n",
      "0\n",
      "0\n",
      "0\n",
      "0\n",
      "0\n",
      "0\n",
      "1\n",
      "0\n",
      "0\n",
      "1\n",
      "1\n",
      "1\n",
      "0\n",
      "0\n",
      "0\n",
      "0\n",
      "0\n",
      "0\n",
      "0\n",
      "1\n",
      "1\n",
      "0\n",
      "0\n",
      "1\n",
      "0\n",
      "0\n",
      "0\n",
      "1\n",
      "0\n",
      "0\n",
      "0\n",
      "0\n",
      "0\n",
      "0\n",
      "1\n",
      "0\n",
      "0\n",
      "0\n",
      "0\n",
      "0\n",
      "1\n",
      "0\n",
      "0\n",
      "0\n",
      "0\n",
      "1\n",
      "0\n",
      "0\n",
      "0\n",
      "0\n",
      "1\n",
      "1\n",
      "0\n",
      "0\n",
      "0\n",
      "1\n",
      "0\n",
      "1\n",
      "1\n",
      "0\n",
      "1\n",
      "0\n",
      "0\n",
      "1\n",
      "0\n",
      "1\n",
      "0\n",
      "0\n",
      "0\n",
      "0\n",
      "0\n",
      "0\n",
      "0\n",
      "0\n",
      "0\n",
      "0\n",
      "0\n",
      "0\n",
      "0\n",
      "0\n",
      "0\n",
      "1\n",
      "0\n",
      "0\n",
      "1\n",
      "0\n",
      "0\n",
      "1\n",
      "0\n",
      "0\n",
      "0\n",
      "0\n",
      "0\n",
      "0\n",
      "0\n",
      "1\n",
      "0\n",
      "0\n",
      "0\n",
      "0\n"
     ]
    }
   ],
   "source": [
    "predictions=[]\n",
    "with torch.no_grad():\n",
    "    for i, data in enumerate(xtest):\n",
    "        ypred=model(data)\n",
    "        predictions.append(ypred.argmax().item())\n",
    "        print(ypred.argmax().item())"
   ]
  },
  {
   "cell_type": "code",
   "execution_count": 398,
   "id": "d4127e3b-75c5-411c-a691-694430d7751f",
   "metadata": {},
   "outputs": [],
   "source": [
    "from sklearn.metrics import confusion_matrix\n",
    "# cm=confusion_matrix(ytest, predictions)\n",
    "type(predictions)\n",
    "# ytest=ytest.cpu().numpy()\n",
    "cm=confusion_matrix(ytest, predictions)"
   ]
  },
  {
   "cell_type": "code",
   "execution_count": 400,
   "id": "aee2b6e7-a70b-4058-b0b5-3fef7e62529e",
   "metadata": {},
   "outputs": [
    {
     "data": {
      "text/plain": [
       "array([[93, 14],\n",
       "       [17, 30]], dtype=int64)"
      ]
     },
     "execution_count": 400,
     "metadata": {},
     "output_type": "execute_result"
    }
   ],
   "source": [
    "cm"
   ]
  },
  {
   "cell_type": "code",
   "execution_count": 402,
   "id": "79c96fab-3002-4cc0-a011-2c932b3d4f23",
   "metadata": {},
   "outputs": [
    {
     "data": {
      "text/plain": [
       "Text(95.72222222222221, 0.5, 'Predicted Values')"
      ]
     },
     "execution_count": 402,
     "metadata": {},
     "output_type": "execute_result"
    },
    {
     "data": {
      "image/png": "[encoded data removed]",
      "text/plain": [
       "<Figure size 1000x600 with 2 Axes>"
      ]
     },
     "metadata": {},
     "output_type": "display_data"
    }
   ],
   "source": [
    "plt.figure(figsize=(10,6))\n",
    "sns.heatmap(cm, annot=True)\n",
    "plt.xlabel('Actual Values')\n",
    "plt.ylabel('Predicted Values')"
   ]
  },
  {
   "cell_type": "code",
   "execution_count": 406,
   "id": "bfe13f1e-a665-4a94-a0e1-a40cfc3732a9",
   "metadata": {},
   "outputs": [
    {
     "data": {
      "text/plain": [
       "0.7987012987012987"
      ]
     },
     "execution_count": 406,
     "metadata": {},
     "output_type": "execute_result"
    }
   ],
   "source": [
    "from sklearn.metrics import accuracy_score\n",
    "score=accuracy_score(ytest,predictions)\n",
    "score"
   ]
  },
  {
   "cell_type": "code",
   "execution_count": 410,
   "id": "99c2647e-7374-4f1f-9d32-1b0498f96f23",
   "metadata": {},
   "outputs": [],
   "source": [
    "#save the model\n",
    "torch.save(model,'/pythonProjects/IBMAIEngineer/ComputerVision/diabetes.pt')"
   ]
  },
  {
   "cell_type": "code",
   "execution_count": 412,
   "id": "05bbdc9c-da4a-47a9-bbf6-599446b44753",
   "metadata": {},
   "outputs": [
    {
     "name": "stderr",
     "output_type": "stream",
     "text": [
      "C:\\Users\\26amr\\AppData\\Local\\Temp\\ipykernel_13864\\3207295988.py:2: FutureWarning: You are using `torch.load` with `weights_only=False` (the current default value), which uses the default pickle module implicitly. It is possible to construct malicious pickle data which will execute arbitrary code during unpickling (See https://github.com/pytorch/pytorch/blob/main/SECURITY.md#untrusted-models for more details). In a future release, the default value for `weights_only` will be flipped to `True`. This limits the functions that could be executed during unpickling. Arbitrary objects will no longer be allowed to be loaded via this mode unless they are explicitly allowlisted by the user via `torch.serialization.add_safe_globals`. We recommend you start setting `weights_only=True` for any use case where you don't have full control of the loaded file. Please open an issue on GitHub for any issues related to this experimental feature.\n",
      "  model=torch.load('diabetes.pt')\n"
     ]
    },
    {
     "data": {
      "text/plain": [
       "ANNModel(\n",
       "  (f_connected1): Linear(in_features=8, out_features=20, bias=True)\n",
       "  (f_connected2): Linear(in_features=20, out_features=20, bias=True)\n",
       "  (out): Linear(in_features=20, out_features=2, bias=True)\n",
       ")"
      ]
     },
     "execution_count": 412,
     "metadata": {},
     "output_type": "execute_result"
    }
   ],
   "source": [
    "# load the model\n",
    "model=torch.load('diabetes.pt')\n",
    "model.eval()"
   ]
  },
  {
   "cell_type": "code",
   "execution_count": 432,
   "id": "d03a695b-2028-49e1-b7e7-9f91ef4430e6",
   "metadata": {},
   "outputs": [
    {
     "data": {
      "text/html": [
       "<div>\n",
       "<style scoped>\n",
       "    .dataframe tbody tr th:only-of-type {\n",
       "        vertical-align: middle;\n",
       "    }\n",
       "\n",
       "    .dataframe tbody tr th {\n",
       "        vertical-align: top;\n",
       "    }\n",
       "\n",
       "    .dataframe thead th {\n",
       "        text-align: right;\n",
       "    }\n",
       "</style>\n",
       "<table border=\"1\" class=\"dataframe\">\n",
       "  <thead>\n",
       "    <tr style=\"text-align: right;\">\n",
       "      <th></th>\n",
       "      <th>Pregnancies</th>\n",
       "      <th>Glucose</th>\n",
       "      <th>BloodPressure</th>\n",
       "      <th>SkinThickness</th>\n",
       "      <th>Insulin</th>\n",
       "      <th>BMI</th>\n",
       "      <th>DiabetesPedigreeFunction</th>\n",
       "      <th>Age</th>\n",
       "      <th>Outcome</th>\n",
       "    </tr>\n",
       "  </thead>\n",
       "  <tbody>\n",
       "    <tr>\n",
       "      <th>0</th>\n",
       "      <td>6</td>\n",
       "      <td>148</td>\n",
       "      <td>72</td>\n",
       "      <td>35</td>\n",
       "      <td>0</td>\n",
       "      <td>33.6</td>\n",
       "      <td>0.627</td>\n",
       "      <td>50</td>\n",
       "      <td>1</td>\n",
       "    </tr>\n",
       "    <tr>\n",
       "      <th>1</th>\n",
       "      <td>1</td>\n",
       "      <td>85</td>\n",
       "      <td>66</td>\n",
       "      <td>29</td>\n",
       "      <td>0</td>\n",
       "      <td>26.6</td>\n",
       "      <td>0.351</td>\n",
       "      <td>31</td>\n",
       "      <td>0</td>\n",
       "    </tr>\n",
       "    <tr>\n",
       "      <th>2</th>\n",
       "      <td>8</td>\n",
       "      <td>183</td>\n",
       "      <td>64</td>\n",
       "      <td>0</td>\n",
       "      <td>0</td>\n",
       "      <td>23.3</td>\n",
       "      <td>0.672</td>\n",
       "      <td>32</td>\n",
       "      <td>1</td>\n",
       "    </tr>\n",
       "    <tr>\n",
       "      <th>3</th>\n",
       "      <td>1</td>\n",
       "      <td>89</td>\n",
       "      <td>66</td>\n",
       "      <td>23</td>\n",
       "      <td>94</td>\n",
       "      <td>28.1</td>\n",
       "      <td>0.167</td>\n",
       "      <td>21</td>\n",
       "      <td>0</td>\n",
       "    </tr>\n",
       "    <tr>\n",
       "      <th>4</th>\n",
       "      <td>0</td>\n",
       "      <td>137</td>\n",
       "      <td>40</td>\n",
       "      <td>35</td>\n",
       "      <td>168</td>\n",
       "      <td>43.1</td>\n",
       "      <td>2.288</td>\n",
       "      <td>33</td>\n",
       "      <td>1</td>\n",
       "    </tr>\n",
       "  </tbody>\n",
       "</table>\n",
       "</div>"
      ],
      "text/plain": [
       "   Pregnancies  Glucose  BloodPressure  SkinThickness  Insulin   BMI  \\\n",
       "0            6      148             72             35        0  33.6   \n",
       "1            1       85             66             29        0  26.6   \n",
       "2            8      183             64              0        0  23.3   \n",
       "3            1       89             66             23       94  28.1   \n",
       "4            0      137             40             35      168  43.1   \n",
       "\n",
       "   DiabetesPedigreeFunction  Age  Outcome  \n",
       "0                     0.627   50        1  \n",
       "1                     0.351   31        0  \n",
       "2                     0.672   32        1  \n",
       "3                     0.167   21        0  \n",
       "4                     2.288   33        1  "
      ]
     },
     "execution_count": 432,
     "metadata": {},
     "output_type": "execute_result"
    }
   ],
   "source": [
    "data=pd.read_csv('datasets/diabetes.csv')\n",
    "data.head()"
   ]
  },
  {
   "cell_type": "code",
   "execution_count": 426,
   "id": "2e863589-92be-47f5-ad66-e219151b0cb8",
   "metadata": {},
   "outputs": [
    {
     "ename": "AttributeError",
     "evalue": "'Tensor' object has no attribute 'iloc'",
     "output_type": "error",
     "traceback": [
      "\u001b[1;31m---------------------------------------------------------------------------\u001b[0m",
      "\u001b[1;31mAttributeError\u001b[0m                            Traceback (most recent call last)",
      "Cell \u001b[1;32mIn[426], line 1\u001b[0m\n\u001b[1;32m----> 1\u001b[0m list1\u001b[38;5;241m=\u001b[39m\u001b[43mdata\u001b[49m\u001b[38;5;241;43m.\u001b[39;49m\u001b[43miloc\u001b[49m\u001b[38;5;241m.\u001b[39mcpu()\u001b[38;5;241m.\u001b[39mdata\u001b[38;5;241m.\u001b[39mnumpy()\n",
      "\u001b[1;31mAttributeError\u001b[0m: 'Tensor' object has no attribute 'iloc'"
     ]
    }
   ],
   "source": [
    "# list1=data.iloc.cpu().data.numpy()"
   ]
  },
  {
   "cell_type": "code",
   "execution_count": 438,
   "id": "43a5315b-ba72-4fc1-a986-a861d0d6e6a6",
   "metadata": {},
   "outputs": [
    {
     "data": {
      "text/plain": [
       "[6.0, 148.0, 72.0, 35.0, 0.0, 33.6, 0.627, 50.0]"
      ]
     },
     "execution_count": 438,
     "metadata": {},
     "output_type": "execute_result"
    }
   ],
   "source": [
    "list(data.iloc[0,:-1])"
   ]
  },
  {
   "cell_type": "code",
   "execution_count": 440,
   "id": "74df9869-8811-43da-85cd-e32fb9c5c252",
   "metadata": {},
   "outputs": [],
   "source": [
    "list1=[6.0,130.0,72.0,40.0, 0.0,33.6,0.627,50.0]"
   ]
  },
  {
   "cell_type": "code",
   "execution_count": 446,
   "id": "e61d1c04-b46a-4445-aa9a-699e20bdf734",
   "metadata": {},
   "outputs": [],
   "source": [
    "new_data=torch.tensor(list1).cuda()"
   ]
  },
  {
   "cell_type": "code",
   "execution_count": 447,
   "id": "8ee6532b-fcb4-4390-9bb2-76c2639642a3",
   "metadata": {},
   "outputs": [
    {
     "data": {
      "text/plain": [
       "device(type='cuda', index=0)"
      ]
     },
     "execution_count": 447,
     "metadata": {},
     "output_type": "execute_result"
    }
   ],
   "source": [
    "new_data.device"
   ]
  },
  {
   "cell_type": "code",
   "execution_count": 452,
   "id": "721b984d-3693-4d3e-98a8-8676d2473b27",
   "metadata": {},
   "outputs": [
    {
     "name": "stdout",
     "output_type": "stream",
     "text": [
      "tensor([0.7859, 2.4077], device='cuda:0')\n",
      "1\n"
     ]
    }
   ],
   "source": [
    "with torch.no_grad():\n",
    "    print(model(new_data))\n",
    "    print(model(new_data).argmax().item())"
   ]
  },
  {
   "cell_type": "code",
   "execution_count": null,
   "id": "1b51fd6b-fd0a-40d6-96f1-a1e5c94fa4ef",
   "metadata": {},
   "outputs": [],
   "source": []
  }
 ],
 "metadata": {
  "kernelspec": {
   "display_name": "pytorch",
   "language": "python",
   "name": "pytorch"
  },
  "language_info": {
   "codemirror_mode": {
    "name": "ipython",
    "version": 3
   },
   "file_extension": ".py",
   "mimetype": "text/x-python",
   "name": "python",
   "nbconvert_exporter": "python",
   "pygments_lexer": "ipython3",
   "version": "3.9.19"
  }
 },
 "nbformat": 4,
 "nbformat_minor": 5
}
