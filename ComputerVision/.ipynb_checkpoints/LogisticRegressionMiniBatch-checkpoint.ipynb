{
 "cells": [
  {
   "cell_type": "markdown",
   "id": "e4352df7",
   "metadata": {},
   "source": [
    "# Logistic Regression with Mini-Batch Gradient Descent\n",
    "<h2>Objective</h2>\n",
    "\n",
    "<ul>\n",
    "    <li>Represent your data as a Dataset object</li>\n",
    "    <li>Create a Logistic Regression Model using PyTorch</li>\n",
    "    <li>Set a Criterion to calculate Loss</li>\n",
    "    <li>Create a Data Loader and set the Batch Size</li>\n",
    "    <li>Create an Optimizer to update Model Parameters and set Learning Rate</li>\n",
    "    <li>Train a Model</li>\n",
    "</ul> \n"
   ]
  },
  {
   "cell_type": "code",
   "execution_count": 1,
   "id": "3ee4ba7f",
   "metadata": {},
   "outputs": [],
   "source": [
    "import numpy as np\n",
    "import matplotlib.pyplot as plt\n",
    "from mpl_toolkits import mplot3d\n",
    "import torch\n",
    "from torch.utils.data import Dataset, DataLoader\n",
    "import torch.nn as nn"
   ]
  },
  {
   "cell_type": "code",
   "execution_count": 2,
   "id": "069c414a",
   "metadata": {},
   "outputs": [],
   "source": [
    "# visualize the data space and the parameter space during training"
   ]
  },
  {
   "cell_type": "code",
   "execution_count": null,
   "id": "925e4f58",
   "metadata": {},
   "outputs": [],
   "source": [
    "class plot_error_surfaces(object):\n",
    "    #Constructor\n",
    "    def __init__(self,wrange,brange,x,y,nsamples=30,go=True):\n",
    "        w=np.linspace(-wrange,wrange,nsamples)\n",
    "        b=np.linspace(-brange,brange,nsamples)"
   ]
  }
 ],
 "metadata": {
  "kernelspec": {
   "display_name": "tf",
   "language": "python",
   "name": "tf"
  },
  "language_info": {
   "codemirror_mode": {
    "name": "ipython",
    "version": 3
   },
   "file_extension": ".py",
   "mimetype": "text/x-python",
   "name": "python",
   "nbconvert_exporter": "python",
   "pygments_lexer": "ipython3",
   "version": "3.9.19"
  }
 },
 "nbformat": 4,
 "nbformat_minor": 5
}
