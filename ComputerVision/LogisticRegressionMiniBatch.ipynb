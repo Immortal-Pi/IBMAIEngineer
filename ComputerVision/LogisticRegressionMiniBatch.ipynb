{
 "cells": [
  {
   "cell_type": "markdown",
   "id": "e4352df7",
   "metadata": {},
   "source": [
    "# Logistic Regression with Mini-Batch Gradient Descent\n",
    "<h2>Objective</h2>\n",
    "\n",
    "<ul>\n",
    "    <li>Represent your data as a Dataset object</li>\n",
    "    <li>Create a Logistic Regression Model using PyTorch</li>\n",
    "    <li>Set a Criterion to calculate Loss</li>\n",
    "    <li>Create a Data Loader and set the Batch Size</li>\n",
    "    <li>Create an Optimizer to update Model Parameters and set Learning Rate</li>\n",
    "    <li>Train a Model</li>\n",
    "</ul> \n"
   ]
  },
  {
   "cell_type": "code",
   "execution_count": 2,
   "id": "3ee4ba7f",
   "metadata": {},
   "outputs": [],
   "source": [
    "import numpy as np\n",
    "import matplotlib.pyplot as plt\n",
    "from mpl_toolkits import mplot3d\n",
    "import torch\n",
    "from torch.utils.data import Dataset, DataLoader\n",
    "import torch.nn as nn"
   ]
  },
  {
   "cell_type": "code",
   "execution_count": 3,
   "id": "069c414a",
   "metadata": {},
   "outputs": [],
   "source": [
    "# visualize the data space and the parameter space during training"
   ]
  },
  {
   "cell_type": "code",
   "execution_count": null,
   "id": "925e4f58",
   "metadata": {},
   "outputs": [],
   "source": [
    "class plot_error_surfaces(object):\n",
    "    #Constructor\n",
    "    def __init__(self,wrange,brange,x,y,nsamples=30,go=True):\n",
    "        W=np.linspace(-wrange,wrange,nsamples)\n",
    "        B=np.linspace(-brange,brange,nsamples)\n",
    "        w,b = np.meshgrid(W,B)\n",
    "        z=np.zeros((30,30))\n",
    "        count1=0\n",
    "        self.x=X.numpy()\n",
    "        self.y=Y.numpy()\n",
    "        for w1, b1 in zip(w,b):\n",
    "            count=0\n",
    "            for w2, b2 in zip(w1,b1):\n",
    "                yhat=1/(1+np.exp(-1*(w2*self.x+b2)))\n",
    "                Z[count1,count2]=-1*np.mean(self.y*np.log(yhat+1e-16)+(1-self.y)*np.log(1-yhat+1e-16))\n",
    "                count2+=1\n",
    "            count1+=1\n",
    "        self.Z=z\n",
    "        self.w=w\n",
    "        self.b=b\n",
    "        self.W=[]\n",
    "        self.B=[]\n",
    "        self.LOSS=[]\n",
    "        self.n=0\n",
    "        if go==True:\n",
    "            plt.figure()\n",
    "            plt.figure(figsize=(7.5,5))\n",
    "            plt.axes(projection='3d').plot_surface(self.w, self.b, self.Z, rstride=1, cstride=1, cmap='viridis',edgecolor='none')\n",
    "            plt.title('Loss Surface')\n",
    "            plt.xlabel('w')\n",
    "            plt.ylabel('b')\n",
    "            plt.show()\n",
    "            plt.figure()\n",
    "            plt.title('Loss Surfafce Contour')\n",
    "            plt.xlabel('w')\n",
    "            plt.ylabel('b')\n",
    "            plt.contour(self.w,self.b, self.Z)\n",
    "            plt.show()\n",
    "            "
   ]
  }
 ],
 "metadata": {
  "kernelspec": {
   "display_name": "tf",
   "language": "python",
   "name": "tf"
  },
  "language_info": {
   "codemirror_mode": {
    "name": "ipython",
    "version": 3
   },
   "file_extension": ".py",
   "mimetype": "text/x-python",
   "name": "python",
   "nbconvert_exporter": "python",
   "pygments_lexer": "ipython3",
   "version": "3.9.18"
  }
 },
 "nbformat": 4,
 "nbformat_minor": 5
}
