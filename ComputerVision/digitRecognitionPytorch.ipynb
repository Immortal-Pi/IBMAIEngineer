{
 "cells": [
  {
   "cell_type": "markdown",
   "id": "f4fd4b15-0349-4d86-be7a-ece0ab0bfcea",
   "metadata": {},
   "source": [
    "# Digit Classification with Softmax"
   ]
  },
  {
   "cell_type": "code",
   "execution_count": 4,
   "id": "2c2a5e02-7c16-418e-b2d0-20f1ced35954",
   "metadata": {},
   "outputs": [],
   "source": [
    "import torch\n",
    "import torch.nn as nn\n",
    "import torchvision.transforms as transform \n",
    "import torchvision.datasets as dsets\n",
    "import matplotlib.pylab as plt\n",
    "import numpy as np"
   ]
  },
  {
   "cell_type": "code",
   "execution_count": null,
   "id": "efac4b1b-55f1-4b51-bb6a-1f9dd77ca966",
   "metadata": {},
   "outputs": [],
   "source": [
    "def PlotParameters(model):\n",
    "    W="
   ]
  },
  {
   "cell_type": "code",
   "execution_count": null,
   "id": "a98c084c-064d-4b86-b64b-d72b2edbd714",
   "metadata": {},
   "outputs": [],
   "source": []
  }
 ],
 "metadata": {
  "kernelspec": {
   "display_name": "tf",
   "language": "python",
   "name": "tf"
  },
  "language_info": {
   "codemirror_mode": {
    "name": "ipython",
    "version": 3
   },
   "file_extension": ".py",
   "mimetype": "text/x-python",
   "name": "python",
   "nbconvert_exporter": "python",
   "pygments_lexer": "ipython3",
   "version": "3.9.18"
  }
 },
 "nbformat": 4,
 "nbformat_minor": 5
}
