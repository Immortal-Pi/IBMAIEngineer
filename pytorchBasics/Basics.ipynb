{
 "cells": [
  {
   "cell_type": "markdown",
   "id": "41cc0b22-8c31-4069-af6d-6deccb8d97a2",
   "metadata": {},
   "source": [
    "# pytorch basics"
   ]
  },
  {
   "cell_type": "markdown",
   "id": "66549034-0860-4080-a19b-4c0f46cf38be",
   "metadata": {},
   "source": [
    "## check for GPU connectivity"
   ]
  },
  {
   "cell_type": "code",
   "execution_count": 1,
   "id": "5fe7504b-76c0-4aa8-aad4-f4f6663f2cf8",
   "metadata": {},
   "outputs": [],
   "source": [
    "import torch"
   ]
  },
  {
   "cell_type": "code",
   "execution_count": 2,
   "id": "f9b837b8-a49e-4720-823e-6dd6a15f19fa",
   "metadata": {},
   "outputs": [
    {
     "data": {
      "text/plain": [
       "'2.4.0'"
      ]
     },
     "execution_count": 2,
     "metadata": {},
     "output_type": "execute_result"
    }
   ],
   "source": [
    "torch.__version__"
   ]
  },
  {
   "cell_type": "code",
   "execution_count": 3,
   "id": "e07d00cb-0379-40bb-acf2-5086841706ce",
   "metadata": {},
   "outputs": [
    {
     "data": {
      "text/plain": [
       "True"
      ]
     },
     "execution_count": 3,
     "metadata": {},
     "output_type": "execute_result"
    }
   ],
   "source": [
    "torch.cuda.is_available()"
   ]
  },
  {
   "cell_type": "code",
   "execution_count": 7,
   "id": "6673ee4d-aa5a-4c67-acfd-07324be42b54",
   "metadata": {},
   "outputs": [
    {
     "data": {
      "text/plain": [
       "0"
      ]
     },
     "execution_count": 7,
     "metadata": {},
     "output_type": "execute_result"
    }
   ],
   "source": [
    "torch.cuda.current_device()"
   ]
  },
  {
   "cell_type": "code",
   "execution_count": 9,
   "id": "5aa5b49a-f28f-4067-8bf3-6c1a3f4cd73f",
   "metadata": {},
   "outputs": [
    {
     "data": {
      "text/plain": [
       "'NVIDIA GeForce RTX 4070 Laptop GPU'"
      ]
     },
     "execution_count": 9,
     "metadata": {},
     "output_type": "execute_result"
    }
   ],
   "source": [
    "torch.cuda.get_device_name(0)"
   ]
  },
  {
   "cell_type": "code",
   "execution_count": 11,
   "id": "e7498912-002d-4d3b-98cc-aa7edbe538b7",
   "metadata": {},
   "outputs": [
    {
     "data": {
      "text/plain": [
       "0"
      ]
     },
     "execution_count": 11,
     "metadata": {},
     "output_type": "execute_result"
    }
   ],
   "source": [
    "torch.cuda.memory_allocated()"
   ]
  },
  {
   "cell_type": "markdown",
   "id": "0df1873f-6982-4072-ab4b-7b3485b0a80b",
   "metadata": {},
   "source": [
    "# \t\t○ Tensors basics \n",
    "\t\t\t- A tensor is a generalization of vectos and matrices and is easily understood as a multidimensional array.\n",
    "\t\t\t- Term and set of techniques known in ML in traning and operation of deep learning models can be described in terms of tensors. \n",
    "\t\t\t- In many cases tensors are used as repalcement for numpy to use power of GPUs\n",
    "\t\t\t- Tensors:- data structure used in linear algebra \n",
    "\t\t\t\t□ Vectors \n",
    "\t\t\t\t□ Matrics \n",
    "\t\t\t\t□ Perform arithmatic operations with tensors\n",
    "\t\t\n"
   ]
  },
  {
   "cell_type": "code",
   "execution_count": 27,
   "id": "043208f8-a184-4233-9c05-a7427c615713",
   "metadata": {},
   "outputs": [],
   "source": [
    "import numpy as np"
   ]
  },
  {
   "cell_type": "code",
   "execution_count": 29,
   "id": "6462599a-7774-44a5-ad18-0c8981fa17f6",
   "metadata": {},
   "outputs": [],
   "source": [
    "list=[3,4,5,6]\n",
    "array=np.array(list)"
   ]
  },
  {
   "cell_type": "code",
   "execution_count": 31,
   "id": "0965bb93-6da5-4f04-901d-92fb61cc0da6",
   "metadata": {},
   "outputs": [
    {
     "data": {
      "text/plain": [
       "dtype('int32')"
      ]
     },
     "execution_count": 31,
     "metadata": {},
     "output_type": "execute_result"
    }
   ],
   "source": [
    "array.dtype"
   ]
  },
  {
   "cell_type": "markdown",
   "id": "e80430d5-cdda-4653-810f-d13d5f675675",
   "metadata": {},
   "source": [
    "# convert numpy to pytorch tensors"
   ]
  },
  {
   "cell_type": "code",
   "execution_count": 84,
   "id": "03ae9ef7-cfb1-4fe7-a59f-2bf8d271e370",
   "metadata": {},
   "outputs": [],
   "source": [
    "tensors=torch.from_numpy(array).cuda()"
   ]
  },
  {
   "cell_type": "code",
   "execution_count": 85,
   "id": "7a50a034-5831-40da-a2f2-ff832e261730",
   "metadata": {},
   "outputs": [
    {
     "data": {
      "text/plain": [
       "tensor([  3,   4, 100,   6], device='cuda:0', dtype=torch.int32)"
      ]
     },
     "execution_count": 85,
     "metadata": {},
     "output_type": "execute_result"
    }
   ],
   "source": [
    "tensors"
   ]
  },
  {
   "cell_type": "code",
   "execution_count": 88,
   "id": "60494047-0394-47cb-b979-2c2e2b772775",
   "metadata": {},
   "outputs": [
    {
     "data": {
      "text/plain": [
       "tensor([3, 4], device='cuda:0', dtype=torch.int32)"
      ]
     },
     "execution_count": 88,
     "metadata": {},
     "output_type": "execute_result"
    }
   ],
   "source": [
    "tensors[:2]"
   ]
  },
  {
   "cell_type": "markdown",
   "id": "7269abdf-4d93-49f5-86c8-60ac5b5f28b8",
   "metadata": {},
   "source": [
    "## change in tensor address also changes the list"
   ]
  },
  {
   "cell_type": "code",
   "execution_count": 91,
   "id": "861c5c54-c66b-4826-99ec-5e86071a2e1b",
   "metadata": {},
   "outputs": [],
   "source": [
    "tensors[2]=100"
   ]
  },
  {
   "cell_type": "code",
   "execution_count": 93,
   "id": "f022a6cb-9738-4a97-9f3a-10e737308226",
   "metadata": {},
   "outputs": [
    {
     "data": {
      "text/plain": [
       "tensor([  3,   4, 100,   6], device='cuda:0', dtype=torch.int32)"
      ]
     },
     "execution_count": 93,
     "metadata": {},
     "output_type": "execute_result"
    }
   ],
   "source": [
    "tensors"
   ]
  },
  {
   "cell_type": "code",
   "execution_count": 95,
   "id": "4da6a757-6a0c-4590-902e-a42d4f62dac8",
   "metadata": {},
   "outputs": [
    {
     "data": {
      "text/plain": [
       "array([  3,   4, 100,   6])"
      ]
     },
     "execution_count": 95,
     "metadata": {},
     "output_type": "execute_result"
    }
   ],
   "source": [
    "array"
   ]
  },
  {
   "cell_type": "code",
   "execution_count": 107,
   "id": "a5dcbcc0-808a-443f-8b44-17100d23850b",
   "metadata": {},
   "outputs": [],
   "source": [
    "# to avoid the above issue\n",
    "tensor1=torch.tensor(array).cuda()"
   ]
  },
  {
   "cell_type": "code",
   "execution_count": 109,
   "id": "de25f663-dc18-43b6-a17f-6cc0aa37221d",
   "metadata": {},
   "outputs": [],
   "source": [
    "tensor1[1]=20"
   ]
  },
  {
   "cell_type": "code",
   "execution_count": 113,
   "id": "c5deb5c7-afbe-4c02-bf1f-d3f065c029be",
   "metadata": {},
   "outputs": [
    {
     "data": {
      "text/plain": [
       "(tensor([  3,  20, 100,   6], device='cuda:0', dtype=torch.int32),\n",
       " array([  3,   4, 100,   6]))"
      ]
     },
     "execution_count": 113,
     "metadata": {},
     "output_type": "execute_result"
    }
   ],
   "source": [
    "tensor1, array"
   ]
  },
  {
   "cell_type": "code",
   "execution_count": 117,
   "id": "6e70d456-2fec-45a0-869a-6fa29ca425e3",
   "metadata": {},
   "outputs": [
    {
     "data": {
      "text/plain": [
       "(tensor([[0., 0., 0.],\n",
       "         [0., 0., 0.]], dtype=torch.float64),\n",
       " tensor([[1., 1., 1.],\n",
       "         [1., 1., 1.]], dtype=torch.float64))"
      ]
     },
     "execution_count": 117,
     "metadata": {},
     "output_type": "execute_result"
    }
   ],
   "source": [
    "# create zero's array\n",
    "# create 1's array\n",
    "# operations are very simmilar to numpy \n",
    "\n",
    "zero_tensor=torch.zeros(2,3,dtype=torch.float64)\n",
    "one_tensor=torch.ones(2,3,dtype=torch.float64)\n",
    "zero_tensor, one_tensor"
   ]
  },
  {
   "cell_type": "markdown",
   "id": "3456d4da-982b-49f2-9bb2-030b29f3922d",
   "metadata": {},
   "source": [
    "# Arithmetic operations"
   ]
  },
  {
   "cell_type": "code",
   "execution_count": 128,
   "id": "3318243a-d17f-4b89-9f2a-95934fb44feb",
   "metadata": {},
   "outputs": [
    {
     "data": {
      "text/plain": [
       "tensor([[2., 2., 2.],\n",
       "        [2., 2., 2.]], dtype=torch.float64)"
      ]
     },
     "execution_count": 128,
     "metadata": {},
     "output_type": "execute_result"
    }
   ],
   "source": [
    "zero_tensor+2*one_tensor"
   ]
  },
  {
   "cell_type": "markdown",
   "id": "56a0a0dd-730a-4980-bf9f-00cceb9d4963",
   "metadata": {},
   "source": [
    "## 2d array"
   ]
  },
  {
   "cell_type": "code",
   "execution_count": 238,
   "id": "f49f7694-831d-42c5-a55e-7ff1b136a4dc",
   "metadata": {},
   "outputs": [
    {
     "data": {
      "text/plain": [
       "tensor([[ 0,  1,  2],\n",
       "        [ 3,  4,  5],\n",
       "        [ 6,  7,  8],\n",
       "        [ 9, 10, 11],\n",
       "        [12, 13, 14]], device='cuda:0', dtype=torch.int32)"
      ]
     },
     "execution_count": 238,
     "metadata": {},
     "output_type": "execute_result"
    }
   ],
   "source": [
    "a=torch.tensor(np.arange(0,15).reshape(5,3)).cuda()\n",
    "a"
   ]
  },
  {
   "cell_type": "code",
   "execution_count": 240,
   "id": "71171a4c-9a5a-4f7a-bcf1-2e8e86294849",
   "metadata": {},
   "outputs": [
    {
     "data": {
      "text/plain": [
       "tensor([[30, 31, 32],\n",
       "        [33, 34, 35],\n",
       "        [36, 37, 38],\n",
       "        [39, 40, 41],\n",
       "        [42, 43, 44]], device='cuda:0', dtype=torch.int32)"
      ]
     },
     "execution_count": 240,
     "metadata": {},
     "output_type": "execute_result"
    }
   ],
   "source": [
    "b=torch.tensor(np.arange(30,45).reshape(5,3)).cuda()\n",
    "b"
   ]
  },
  {
   "cell_type": "code",
   "execution_count": 156,
   "id": "baa22ca8-8f08-48c6-9e44-5f1c766bc2e1",
   "metadata": {},
   "outputs": [
    {
     "data": {
      "text/plain": [
       "tensor([[  0,  31,  64],\n",
       "        [ 99, 136, 175],\n",
       "        [216, 259, 304],\n",
       "        [351, 400, 451],\n",
       "        [504, 559, 616]], device='cuda:0', dtype=torch.int32)"
      ]
     },
     "execution_count": 156,
     "metadata": {},
     "output_type": "execute_result"
    }
   ],
   "source": [
    "c=a*b\n",
    "c"
   ]
  },
  {
   "cell_type": "code",
   "execution_count": 158,
   "id": "f143c359-10f9-4e15-9a37-d9b13b6f10da",
   "metadata": {},
   "outputs": [
    {
     "data": {
      "text/plain": [
       "tensor([ 0, 31, 64], device='cuda:0', dtype=torch.int32)"
      ]
     },
     "execution_count": 158,
     "metadata": {},
     "output_type": "execute_result"
    }
   ],
   "source": [
    "c[0,:]"
   ]
  },
  {
   "cell_type": "code",
   "execution_count": 160,
   "id": "18ab51a0-db62-49b4-99e7-f89405939c86",
   "metadata": {},
   "outputs": [
    {
     "data": {
      "text/plain": [
       "tensor([[30, 32, 34],\n",
       "        [36, 38, 40],\n",
       "        [42, 44, 46],\n",
       "        [48, 50, 52],\n",
       "        [54, 56, 58]], device='cuda:0', dtype=torch.int32)"
      ]
     },
     "execution_count": 160,
     "metadata": {},
     "output_type": "execute_result"
    }
   ],
   "source": [
    "a+b"
   ]
  },
  {
   "cell_type": "code",
   "execution_count": 170,
   "id": "450bdc23-ffe8-4418-ad53-882637906cd3",
   "metadata": {},
   "outputs": [],
   "source": [
    "zeros=torch.zeros(5,3,dtype=torch.float64)"
   ]
  },
  {
   "cell_type": "code",
   "execution_count": 182,
   "id": "3c9cccd3-0c33-495d-bb74-75a664b94e75",
   "metadata": {},
   "outputs": [
    {
     "data": {
      "text/plain": [
       "tensor(660, device='cuda:0')"
      ]
     },
     "execution_count": 182,
     "metadata": {},
     "output_type": "execute_result"
    }
   ],
   "source": [
    "torch.add(a,b).sum()"
   ]
  },
  {
   "cell_type": "markdown",
   "id": "732c4488-e390-43c0-bc37-425f7c9aa00e",
   "metadata": {},
   "source": [
    "## Dot products and numtiplication operations"
   ]
  },
  {
   "cell_type": "code",
   "execution_count": 190,
   "id": "a82392b9-8fa8-4752-9ab6-afd3901727e6",
   "metadata": {},
   "outputs": [
    {
     "data": {
      "text/plain": [
       "tensor([[  0,  31,  64],\n",
       "        [ 99, 136, 175],\n",
       "        [216, 259, 304],\n",
       "        [351, 400, 451],\n",
       "        [504, 559, 616]], device='cuda:0', dtype=torch.int32)"
      ]
     },
     "execution_count": 190,
     "metadata": {},
     "output_type": "execute_result"
    }
   ],
   "source": [
    "a.mul(b)"
   ]
  },
  {
   "cell_type": "code",
   "execution_count": 233,
   "id": "fc9d7944-8fa7-4895-a27f-7e83b7bec79d",
   "metadata": {},
   "outputs": [
    {
     "data": {
      "text/plain": [
       "(tensor([5., 6., 7., 8., 9.], device='cuda:0', dtype=torch.float64),\n",
       " tensor([0., 1., 2., 3., 4.], device='cuda:0', dtype=torch.float64),\n",
       " tensor(80., device='cuda:0', dtype=torch.float64))"
      ]
     },
     "execution_count": 233,
     "metadata": {},
     "output_type": "execute_result"
    }
   ],
   "source": [
    "a=torch.tensor(np.arange(5,10,dtype=np.float64)).cuda()\n",
    "b=torch.tensor(np.arange(0,5,dtype=np.float64)).cuda()\n",
    "a, b, a.dot(b)"
   ]
  },
  {
   "cell_type": "markdown",
   "id": "35cbd71d-ff83-4ca1-9587-c8a0292e00a4",
   "metadata": {},
   "source": [
    "## matrix multiplication"
   ]
  },
  {
   "cell_type": "code",
   "execution_count": 254,
   "id": "67315b0e-f01a-44b2-8a6c-c5025b5d1d7c",
   "metadata": {},
   "outputs": [
    {
     "data": {
      "text/plain": [
       "(tensor([[0., 1., 2.],\n",
       "         [3., 4., 5.],\n",
       "         [6., 7., 8.]], device='cuda:0', dtype=torch.float64),\n",
       " tensor([[ 9., 10., 11.],\n",
       "         [12., 13., 14.],\n",
       "         [15., 16., 17.]], device='cuda:0', dtype=torch.float64))"
      ]
     },
     "execution_count": 254,
     "metadata": {},
     "output_type": "execute_result"
    }
   ],
   "source": [
    "a=torch.tensor(np.arange(0,9, dtype=np.float64).reshape(3,3)).cuda()\n",
    "\n",
    "b=torch.tensor(np.arange(9,18,  dtype=np.float64).reshape(3,3)).cuda()\n",
    "a,b"
   ]
  },
  {
   "cell_type": "code",
   "execution_count": 256,
   "id": "91a88486-1451-4c49-a456-a5139f62b12c",
   "metadata": {},
   "outputs": [
    {
     "data": {
      "text/plain": [
       "tensor([[ 42.,  45.,  48.],\n",
       "        [150., 162., 174.],\n",
       "        [258., 279., 300.]], device='cuda:0', dtype=torch.float64)"
      ]
     },
     "execution_count": 256,
     "metadata": {},
     "output_type": "execute_result"
    }
   ],
   "source": [
    "torch.matmul(a,b)"
   ]
  },
  {
   "cell_type": "code",
   "execution_count": 258,
   "id": "bb5dd003-9a51-4db5-8d29-b85545088315",
   "metadata": {},
   "outputs": [
    {
     "data": {
      "text/plain": [
       "tensor([[ 42.,  45.,  48.],\n",
       "        [150., 162., 174.],\n",
       "        [258., 279., 300.]], device='cuda:0', dtype=torch.float64)"
      ]
     },
     "execution_count": 258,
     "metadata": {},
     "output_type": "execute_result"
    }
   ],
   "source": [
    "torch.mm(a,b)"
   ]
  },
  {
   "cell_type": "code",
   "execution_count": 260,
   "id": "d6f01f22-e502-4f1a-aa16-7e9bbc84e213",
   "metadata": {},
   "outputs": [
    {
     "data": {
      "text/plain": [
       "tensor([[ 42.,  45.,  48.],\n",
       "        [150., 162., 174.],\n",
       "        [258., 279., 300.]], device='cuda:0', dtype=torch.float64)"
      ]
     },
     "execution_count": 260,
     "metadata": {},
     "output_type": "execute_result"
    }
   ],
   "source": [
    "a@b"
   ]
  },
  {
   "cell_type": "code",
   "execution_count": null,
   "id": "9f951830-4ae7-42ce-972f-19769575261a",
   "metadata": {},
   "outputs": [],
   "source": []
  }
 ],
 "metadata": {
  "kernelspec": {
   "display_name": "pytorch",
   "language": "python",
   "name": "pytorch"
  },
  "language_info": {
   "codemirror_mode": {
    "name": "ipython",
    "version": 3
   },
   "file_extension": ".py",
   "mimetype": "text/x-python",
   "name": "python",
   "nbconvert_exporter": "python",
   "pygments_lexer": "ipython3",
   "version": "3.9.19"
  }
 },
 "nbformat": 4,
 "nbformat_minor": 5
}
