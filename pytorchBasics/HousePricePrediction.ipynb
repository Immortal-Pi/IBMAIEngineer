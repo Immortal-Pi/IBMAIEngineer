{
 "cells": [
  {
   "cell_type": "markdown",
   "id": "b3d271e7-17b5-46d3-ac23-b08a83a09fea",
   "metadata": {},
   "source": [
    "# Linear regression using pytorch\n",
    "# Agenda\n",
    "1. ANN with pytorch\n",
    "2. feature engineering\n",
    "3. categorical features -- embedding layers, continous variables \n",
    "4. pythonic class to create feed forward neural network - linear regression"
   ]
  },
  {
   "cell_type": "code",
   "execution_count": 4,
   "id": "40314518-02f8-4970-a65c-86a322d06a5d",
   "metadata": {},
   "outputs": [],
   "source": [
    "import pandas as pd\n",
    "import torch"
   ]
  },
  {
   "cell_type": "code",
   "execution_count": 5,
   "id": "ec660ece-c051-473b-8c13-fd0d5883df5f",
   "metadata": {},
   "outputs": [
    {
     "data": {
      "text/plain": [
       "0"
      ]
     },
     "execution_count": 5,
     "metadata": {},
     "output_type": "execute_result"
    }
   ],
   "source": [
    "torch.cuda.memory_allocated()"
   ]
  },
  {
   "cell_type": "code",
   "execution_count": 6,
   "id": "4364ecbd-2b80-4443-a8e3-fc0812f3b877",
   "metadata": {},
   "outputs": [],
   "source": [
    "data=pd.read_csv('datasets/houseprice.csv', usecols=['SalePrice','MSSubClass','MSZoning','LotFrontage','LotArea','Street','YearBuilt','LotShape','1stFlrSF','2ndFlrSF']).dropna()"
   ]
  },
  {
   "cell_type": "code",
   "execution_count": 7,
   "id": "be6430ae-7698-42c3-90f1-61d1a448723e",
   "metadata": {},
   "outputs": [
    {
     "data": {
      "text/html": [
       "<div>\n",
       "<style scoped>\n",
       "    .dataframe tbody tr th:only-of-type {\n",
       "        vertical-align: middle;\n",
       "    }\n",
       "\n",
       "    .dataframe tbody tr th {\n",
       "        vertical-align: top;\n",
       "    }\n",
       "\n",
       "    .dataframe thead th {\n",
       "        text-align: right;\n",
       "    }\n",
       "</style>\n",
       "<table border=\"1\" class=\"dataframe\">\n",
       "  <thead>\n",
       "    <tr style=\"text-align: right;\">\n",
       "      <th></th>\n",
       "      <th>MSSubClass</th>\n",
       "      <th>MSZoning</th>\n",
       "      <th>LotFrontage</th>\n",
       "      <th>LotArea</th>\n",
       "      <th>Street</th>\n",
       "      <th>LotShape</th>\n",
       "      <th>YearBuilt</th>\n",
       "      <th>1stFlrSF</th>\n",
       "      <th>2ndFlrSF</th>\n",
       "      <th>SalePrice</th>\n",
       "    </tr>\n",
       "  </thead>\n",
       "  <tbody>\n",
       "    <tr>\n",
       "      <th>0</th>\n",
       "      <td>60</td>\n",
       "      <td>RL</td>\n",
       "      <td>65.0</td>\n",
       "      <td>8450</td>\n",
       "      <td>Pave</td>\n",
       "      <td>Reg</td>\n",
       "      <td>2003</td>\n",
       "      <td>856</td>\n",
       "      <td>854</td>\n",
       "      <td>208500</td>\n",
       "    </tr>\n",
       "    <tr>\n",
       "      <th>1</th>\n",
       "      <td>20</td>\n",
       "      <td>RL</td>\n",
       "      <td>80.0</td>\n",
       "      <td>9600</td>\n",
       "      <td>Pave</td>\n",
       "      <td>Reg</td>\n",
       "      <td>1976</td>\n",
       "      <td>1262</td>\n",
       "      <td>0</td>\n",
       "      <td>181500</td>\n",
       "    </tr>\n",
       "    <tr>\n",
       "      <th>2</th>\n",
       "      <td>60</td>\n",
       "      <td>RL</td>\n",
       "      <td>68.0</td>\n",
       "      <td>11250</td>\n",
       "      <td>Pave</td>\n",
       "      <td>IR1</td>\n",
       "      <td>2001</td>\n",
       "      <td>920</td>\n",
       "      <td>866</td>\n",
       "      <td>223500</td>\n",
       "    </tr>\n",
       "    <tr>\n",
       "      <th>3</th>\n",
       "      <td>70</td>\n",
       "      <td>RL</td>\n",
       "      <td>60.0</td>\n",
       "      <td>9550</td>\n",
       "      <td>Pave</td>\n",
       "      <td>IR1</td>\n",
       "      <td>1915</td>\n",
       "      <td>961</td>\n",
       "      <td>756</td>\n",
       "      <td>140000</td>\n",
       "    </tr>\n",
       "    <tr>\n",
       "      <th>4</th>\n",
       "      <td>60</td>\n",
       "      <td>RL</td>\n",
       "      <td>84.0</td>\n",
       "      <td>14260</td>\n",
       "      <td>Pave</td>\n",
       "      <td>IR1</td>\n",
       "      <td>2000</td>\n",
       "      <td>1145</td>\n",
       "      <td>1053</td>\n",
       "      <td>250000</td>\n",
       "    </tr>\n",
       "  </tbody>\n",
       "</table>\n",
       "</div>"
      ],
      "text/plain": [
       "   MSSubClass MSZoning  LotFrontage  LotArea Street LotShape  YearBuilt  \\\n",
       "0          60       RL         65.0     8450   Pave      Reg       2003   \n",
       "1          20       RL         80.0     9600   Pave      Reg       1976   \n",
       "2          60       RL         68.0    11250   Pave      IR1       2001   \n",
       "3          70       RL         60.0     9550   Pave      IR1       1915   \n",
       "4          60       RL         84.0    14260   Pave      IR1       2000   \n",
       "\n",
       "   1stFlrSF  2ndFlrSF  SalePrice  \n",
       "0       856       854     208500  \n",
       "1      1262         0     181500  \n",
       "2       920       866     223500  \n",
       "3       961       756     140000  \n",
       "4      1145      1053     250000  "
      ]
     },
     "execution_count": 7,
     "metadata": {},
     "output_type": "execute_result"
    }
   ],
   "source": [
    "data.head()"
   ]
  },
  {
   "cell_type": "code",
   "execution_count": 8,
   "id": "d5cdb3ba-3906-45e7-ac55-81be9a890c52",
   "metadata": {},
   "outputs": [
    {
     "data": {
      "text/plain": [
       "(1201, 10)"
      ]
     },
     "execution_count": 8,
     "metadata": {},
     "output_type": "execute_result"
    }
   ],
   "source": [
    "data.shape"
   ]
  },
  {
   "cell_type": "code",
   "execution_count": 9,
   "id": "d3ff4ddd-9f8d-4cbb-a511-7ca7484d62dd",
   "metadata": {},
   "outputs": [
    {
     "name": "stdout",
     "output_type": "stream",
     "text": [
      "<class 'pandas.core.frame.DataFrame'>\n",
      "Index: 1201 entries, 0 to 1459\n",
      "Data columns (total 10 columns):\n",
      " #   Column       Non-Null Count  Dtype  \n",
      "---  ------       --------------  -----  \n",
      " 0   MSSubClass   1201 non-null   int64  \n",
      " 1   MSZoning     1201 non-null   object \n",
      " 2   LotFrontage  1201 non-null   float64\n",
      " 3   LotArea      1201 non-null   int64  \n",
      " 4   Street       1201 non-null   object \n",
      " 5   LotShape     1201 non-null   object \n",
      " 6   YearBuilt    1201 non-null   int64  \n",
      " 7   1stFlrSF     1201 non-null   int64  \n",
      " 8   2ndFlrSF     1201 non-null   int64  \n",
      " 9   SalePrice    1201 non-null   int64  \n",
      "dtypes: float64(1), int64(6), object(3)\n",
      "memory usage: 103.2+ KB\n"
     ]
    }
   ],
   "source": [
    "data.info()"
   ]
  },
  {
   "cell_type": "markdown",
   "id": "46ad7a22-0e41-4700-80ab-e36cba8c37c2",
   "metadata": {},
   "source": [
    "# pytorch for tabular dataset\n",
    "1. categorical features -- embedding Layers \n",
    "2. Continous features "
   ]
  },
  {
   "cell_type": "code",
   "execution_count": 11,
   "id": "506f5347-8ad2-453e-a3b0-6dd0f86fcc02",
   "metadata": {},
   "outputs": [
    {
     "name": "stdout",
     "output_type": "stream",
     "text": [
      "column name MSSubClass and unique value are 15\n",
      "column name MSZoning and unique value are 5\n",
      "column name LotFrontage and unique value are 110\n",
      "column name LotArea and unique value are 869\n",
      "column name Street and unique value are 2\n",
      "column name LotShape and unique value are 4\n",
      "column name YearBuilt and unique value are 112\n",
      "column name 1stFlrSF and unique value are 678\n",
      "column name 2ndFlrSF and unique value are 368\n",
      "column name SalePrice and unique value are 597\n"
     ]
    }
   ],
   "source": [
    "for i in data.columns:\n",
    "    print(f'column name {i} and unique value are {len(data[i].unique())}')"
   ]
  },
  {
   "cell_type": "markdown",
   "id": "be4f23e2-b637-4635-ae44-7d877173bb28",
   "metadata": {},
   "source": [
    "### identify the categorical features from above"
   ]
  },
  {
   "cell_type": "code",
   "execution_count": 13,
   "id": "9bf8492b-8ffd-4a73-a6c3-1720f9239c1a",
   "metadata": {},
   "outputs": [],
   "source": [
    "import datetime"
   ]
  },
  {
   "cell_type": "code",
   "execution_count": 14,
   "id": "74e1874d-2ffc-4a52-a3ed-764b8403bb26",
   "metadata": {},
   "outputs": [
    {
     "data": {
      "text/plain": [
       "2024"
      ]
     },
     "execution_count": 14,
     "metadata": {},
     "output_type": "execute_result"
    }
   ],
   "source": [
    "datetime.datetime.now().year"
   ]
  },
  {
   "cell_type": "code",
   "execution_count": 15,
   "id": "6218fe5a-55c2-4b99-b449-e75542669928",
   "metadata": {},
   "outputs": [
    {
     "data": {
      "text/plain": [
       "0       2003\n",
       "1       1976\n",
       "2       2001\n",
       "3       1915\n",
       "4       2000\n",
       "        ... \n",
       "1455    1999\n",
       "1456    1978\n",
       "1457    1941\n",
       "1458    1950\n",
       "1459    1965\n",
       "Name: YearBuilt, Length: 1201, dtype: int64"
      ]
     },
     "execution_count": 15,
     "metadata": {},
     "output_type": "execute_result"
    }
   ],
   "source": [
    "data['YearBuilt']"
   ]
  },
  {
   "cell_type": "code",
   "execution_count": 16,
   "id": "98467ad1-ff7f-4291-81b0-5f0dd45c6248",
   "metadata": {},
   "outputs": [],
   "source": [
    "data['TotalYears']=datetime.datetime.now().year-data['YearBuilt']"
   ]
  },
  {
   "cell_type": "code",
   "execution_count": 17,
   "id": "2afb5eb1-fd6d-42f9-bf88-a03600d665b3",
   "metadata": {},
   "outputs": [],
   "source": [
    "data.drop('YearBuilt',axis=1,inplace=True)"
   ]
  },
  {
   "cell_type": "code",
   "execution_count": 18,
   "id": "7c179088-880e-4aad-b87d-212d4b15478c",
   "metadata": {},
   "outputs": [
    {
     "data": {
      "text/plain": [
       "Index(['MSSubClass', 'MSZoning', 'LotFrontage', 'LotArea', 'Street',\n",
       "       'LotShape', '1stFlrSF', '2ndFlrSF', 'SalePrice', 'TotalYears'],\n",
       "      dtype='object')"
      ]
     },
     "execution_count": 18,
     "metadata": {},
     "output_type": "execute_result"
    }
   ],
   "source": [
    "data.columns"
   ]
  },
  {
   "cell_type": "code",
   "execution_count": 19,
   "id": "b2c9915d-8f01-4623-b933-412a72963038",
   "metadata": {},
   "outputs": [],
   "source": [
    "categorical_features=['MSSubClass','MSZoning','Street','LotShape']\n",
    "out_feature='SalePrice'"
   ]
  },
  {
   "cell_type": "markdown",
   "id": "cf9b447d-fe08-43d5-9352-e8652a8ccd57",
   "metadata": {},
   "source": [
    "## Categorical Features -- Embedding Layers\n",
    "1. Label Encoding \n",
    "2. take all categorical features ---> numpy->torch-> tensor\n",
    "3. lets take all the continuous values\n",
    "4. embedding layer -- categorical features"
   ]
  },
  {
   "cell_type": "code",
   "execution_count": 21,
   "id": "5687ab81-c951-48e5-a47e-f0e3f73963fd",
   "metadata": {},
   "outputs": [
    {
     "data": {
      "text/plain": [
       "array([5, 0, 5, ..., 6, 0, 0], dtype=int64)"
      ]
     },
     "execution_count": 21,
     "metadata": {},
     "output_type": "execute_result"
    }
   ],
   "source": [
    "from sklearn.preprocessing import LabelEncoder\n",
    "lbl_encoder={}\n",
    "lbl_encoder['MSSubClass']=LabelEncoder()\n",
    "lbl_encoder['MSSubClass'].fit_transform(data['MSSubClass'])"
   ]
  },
  {
   "cell_type": "code",
   "execution_count": 22,
   "id": "048f78dd-20f8-4e65-86f7-f3877b70e05e",
   "metadata": {},
   "outputs": [
    {
     "data": {
      "text/plain": [
       "array(['RL', 'RM', 'C (all)', 'FV', 'RH'], dtype=object)"
      ]
     },
     "execution_count": 22,
     "metadata": {},
     "output_type": "execute_result"
    }
   ],
   "source": [
    "data['MSZoning'].unique()"
   ]
  },
  {
   "cell_type": "code",
   "execution_count": 23,
   "id": "90467db6-df74-4164-a4fb-6012af8f4fef",
   "metadata": {},
   "outputs": [],
   "source": [
    "from sklearn.preprocessing import LabelEncoder\n",
    "lbl_encoder={}\n",
    "for feature in categorical_features:\n",
    "    lbl_encoder[feature]=LabelEncoder()\n",
    "    data[feature]=lbl_encoder[feature].fit_transform(data[feature])"
   ]
  },
  {
   "cell_type": "code",
   "execution_count": 24,
   "id": "569b60c2-35f9-4c75-9cd3-12b81d5a1870",
   "metadata": {},
   "outputs": [
    {
     "data": {
      "text/html": [
       "<div>\n",
       "<style scoped>\n",
       "    .dataframe tbody tr th:only-of-type {\n",
       "        vertical-align: middle;\n",
       "    }\n",
       "\n",
       "    .dataframe tbody tr th {\n",
       "        vertical-align: top;\n",
       "    }\n",
       "\n",
       "    .dataframe thead th {\n",
       "        text-align: right;\n",
       "    }\n",
       "</style>\n",
       "<table border=\"1\" class=\"dataframe\">\n",
       "  <thead>\n",
       "    <tr style=\"text-align: right;\">\n",
       "      <th></th>\n",
       "      <th>MSSubClass</th>\n",
       "      <th>MSZoning</th>\n",
       "      <th>LotFrontage</th>\n",
       "      <th>LotArea</th>\n",
       "      <th>Street</th>\n",
       "      <th>LotShape</th>\n",
       "      <th>1stFlrSF</th>\n",
       "      <th>2ndFlrSF</th>\n",
       "      <th>SalePrice</th>\n",
       "      <th>TotalYears</th>\n",
       "    </tr>\n",
       "  </thead>\n",
       "  <tbody>\n",
       "    <tr>\n",
       "      <th>0</th>\n",
       "      <td>5</td>\n",
       "      <td>3</td>\n",
       "      <td>65.0</td>\n",
       "      <td>8450</td>\n",
       "      <td>1</td>\n",
       "      <td>3</td>\n",
       "      <td>856</td>\n",
       "      <td>854</td>\n",
       "      <td>208500</td>\n",
       "      <td>21</td>\n",
       "    </tr>\n",
       "    <tr>\n",
       "      <th>1</th>\n",
       "      <td>0</td>\n",
       "      <td>3</td>\n",
       "      <td>80.0</td>\n",
       "      <td>9600</td>\n",
       "      <td>1</td>\n",
       "      <td>3</td>\n",
       "      <td>1262</td>\n",
       "      <td>0</td>\n",
       "      <td>181500</td>\n",
       "      <td>48</td>\n",
       "    </tr>\n",
       "    <tr>\n",
       "      <th>2</th>\n",
       "      <td>5</td>\n",
       "      <td>3</td>\n",
       "      <td>68.0</td>\n",
       "      <td>11250</td>\n",
       "      <td>1</td>\n",
       "      <td>0</td>\n",
       "      <td>920</td>\n",
       "      <td>866</td>\n",
       "      <td>223500</td>\n",
       "      <td>23</td>\n",
       "    </tr>\n",
       "    <tr>\n",
       "      <th>3</th>\n",
       "      <td>6</td>\n",
       "      <td>3</td>\n",
       "      <td>60.0</td>\n",
       "      <td>9550</td>\n",
       "      <td>1</td>\n",
       "      <td>0</td>\n",
       "      <td>961</td>\n",
       "      <td>756</td>\n",
       "      <td>140000</td>\n",
       "      <td>109</td>\n",
       "    </tr>\n",
       "    <tr>\n",
       "      <th>4</th>\n",
       "      <td>5</td>\n",
       "      <td>3</td>\n",
       "      <td>84.0</td>\n",
       "      <td>14260</td>\n",
       "      <td>1</td>\n",
       "      <td>0</td>\n",
       "      <td>1145</td>\n",
       "      <td>1053</td>\n",
       "      <td>250000</td>\n",
       "      <td>24</td>\n",
       "    </tr>\n",
       "    <tr>\n",
       "      <th>...</th>\n",
       "      <td>...</td>\n",
       "      <td>...</td>\n",
       "      <td>...</td>\n",
       "      <td>...</td>\n",
       "      <td>...</td>\n",
       "      <td>...</td>\n",
       "      <td>...</td>\n",
       "      <td>...</td>\n",
       "      <td>...</td>\n",
       "      <td>...</td>\n",
       "    </tr>\n",
       "    <tr>\n",
       "      <th>1455</th>\n",
       "      <td>5</td>\n",
       "      <td>3</td>\n",
       "      <td>62.0</td>\n",
       "      <td>7917</td>\n",
       "      <td>1</td>\n",
       "      <td>3</td>\n",
       "      <td>953</td>\n",
       "      <td>694</td>\n",
       "      <td>175000</td>\n",
       "      <td>25</td>\n",
       "    </tr>\n",
       "    <tr>\n",
       "      <th>1456</th>\n",
       "      <td>0</td>\n",
       "      <td>3</td>\n",
       "      <td>85.0</td>\n",
       "      <td>13175</td>\n",
       "      <td>1</td>\n",
       "      <td>3</td>\n",
       "      <td>2073</td>\n",
       "      <td>0</td>\n",
       "      <td>210000</td>\n",
       "      <td>46</td>\n",
       "    </tr>\n",
       "    <tr>\n",
       "      <th>1457</th>\n",
       "      <td>6</td>\n",
       "      <td>3</td>\n",
       "      <td>66.0</td>\n",
       "      <td>9042</td>\n",
       "      <td>1</td>\n",
       "      <td>3</td>\n",
       "      <td>1188</td>\n",
       "      <td>1152</td>\n",
       "      <td>266500</td>\n",
       "      <td>83</td>\n",
       "    </tr>\n",
       "    <tr>\n",
       "      <th>1458</th>\n",
       "      <td>0</td>\n",
       "      <td>3</td>\n",
       "      <td>68.0</td>\n",
       "      <td>9717</td>\n",
       "      <td>1</td>\n",
       "      <td>3</td>\n",
       "      <td>1078</td>\n",
       "      <td>0</td>\n",
       "      <td>142125</td>\n",
       "      <td>74</td>\n",
       "    </tr>\n",
       "    <tr>\n",
       "      <th>1459</th>\n",
       "      <td>0</td>\n",
       "      <td>3</td>\n",
       "      <td>75.0</td>\n",
       "      <td>9937</td>\n",
       "      <td>1</td>\n",
       "      <td>3</td>\n",
       "      <td>1256</td>\n",
       "      <td>0</td>\n",
       "      <td>147500</td>\n",
       "      <td>59</td>\n",
       "    </tr>\n",
       "  </tbody>\n",
       "</table>\n",
       "<p>1201 rows × 10 columns</p>\n",
       "</div>"
      ],
      "text/plain": [
       "      MSSubClass  MSZoning  LotFrontage  LotArea  Street  LotShape  1stFlrSF  \\\n",
       "0              5         3         65.0     8450       1         3       856   \n",
       "1              0         3         80.0     9600       1         3      1262   \n",
       "2              5         3         68.0    11250       1         0       920   \n",
       "3              6         3         60.0     9550       1         0       961   \n",
       "4              5         3         84.0    14260       1         0      1145   \n",
       "...          ...       ...          ...      ...     ...       ...       ...   \n",
       "1455           5         3         62.0     7917       1         3       953   \n",
       "1456           0         3         85.0    13175       1         3      2073   \n",
       "1457           6         3         66.0     9042       1         3      1188   \n",
       "1458           0         3         68.0     9717       1         3      1078   \n",
       "1459           0         3         75.0     9937       1         3      1256   \n",
       "\n",
       "      2ndFlrSF  SalePrice  TotalYears  \n",
       "0          854     208500          21  \n",
       "1            0     181500          48  \n",
       "2          866     223500          23  \n",
       "3          756     140000         109  \n",
       "4         1053     250000          24  \n",
       "...        ...        ...         ...  \n",
       "1455       694     175000          25  \n",
       "1456         0     210000          46  \n",
       "1457      1152     266500          83  \n",
       "1458         0     142125          74  \n",
       "1459         0     147500          59  \n",
       "\n",
       "[1201 rows x 10 columns]"
      ]
     },
     "execution_count": 24,
     "metadata": {},
     "output_type": "execute_result"
    }
   ],
   "source": [
    "data"
   ]
  },
  {
   "cell_type": "code",
   "execution_count": 25,
   "id": "f1ac21eb-216a-48e8-b65a-6e521d11e291",
   "metadata": {},
   "outputs": [
    {
     "data": {
      "text/plain": [
       "array([[5, 3, 1, 3],\n",
       "       [0, 3, 1, 3],\n",
       "       [5, 3, 1, 0],\n",
       "       ...,\n",
       "       [6, 3, 1, 3],\n",
       "       [0, 3, 1, 3],\n",
       "       [0, 3, 1, 3]], dtype=int64)"
      ]
     },
     "execution_count": 25,
     "metadata": {},
     "output_type": "execute_result"
    }
   ],
   "source": [
    "import numpy as np\n",
    "cat_features=np.stack([data['MSSubClass'],data['MSZoning'], data['Street'], data['LotShape']],1)\n",
    "cat_features"
   ]
  },
  {
   "cell_type": "code",
   "execution_count": 26,
   "id": "b3c77393-46e3-41e4-baf0-f35a7f1fef03",
   "metadata": {},
   "outputs": [
    {
     "data": {
      "text/plain": [
       "tensor([[5, 3, 1, 3],\n",
       "        [0, 3, 1, 3],\n",
       "        [5, 3, 1, 0],\n",
       "        ...,\n",
       "        [6, 3, 1, 3],\n",
       "        [0, 3, 1, 3],\n",
       "        [0, 3, 1, 3]])"
      ]
     },
     "execution_count": 26,
     "metadata": {},
     "output_type": "execute_result"
    }
   ],
   "source": [
    "import torch\n",
    "cat_features=torch.tensor(cat_features, dtype=torch.int64)\n",
    "cat_features "
   ]
  },
  {
   "cell_type": "markdown",
   "id": "bacb8d6a-4cb5-4b05-9dd6-a090c7639ffb",
   "metadata": {},
   "source": [
    "## Categorical Features -- Embedding Layers\n",
    "1. Label Encoding \n",
    "2. take all categorical features ---> numpy->torch-> tensor\n",
    "3. lets take all the continuous values\n",
    "4. continous variable --> numpy --> torch--> tensors\n",
    "5. embedding layer "
   ]
  },
  {
   "cell_type": "code",
   "execution_count": 28,
   "id": "d3cdff17-f7ad-424d-9cfd-3569d412eee0",
   "metadata": {},
   "outputs": [],
   "source": [
    "continous_features=[]\n",
    "for i in data.columns:\n",
    "    if i in ['MSSubClass','MSZoning','Street','LotShape','SalePrice']:\n",
    "        pass\n",
    "    else:\n",
    "        continous_features.append(i)"
   ]
  },
  {
   "cell_type": "code",
   "execution_count": 29,
   "id": "06d98afa-9726-4bdd-a55a-ed40556621d8",
   "metadata": {},
   "outputs": [
    {
     "data": {
      "text/plain": [
       "['LotFrontage', 'LotArea', '1stFlrSF', '2ndFlrSF', 'TotalYears']"
      ]
     },
     "execution_count": 29,
     "metadata": {},
     "output_type": "execute_result"
    }
   ],
   "source": [
    "continous_features"
   ]
  },
  {
   "cell_type": "code",
   "execution_count": 30,
   "id": "3f80f942-b986-4fe0-86e8-1c19586e1ccb",
   "metadata": {},
   "outputs": [],
   "source": [
    "### stacking continous variables to tensor"
   ]
  },
  {
   "cell_type": "code",
   "execution_count": 31,
   "id": "e9cd169d-0886-4346-9e36-b48e53f8b19f",
   "metadata": {},
   "outputs": [
    {
     "data": {
      "text/plain": [
       "tensor([[   65.,  8450.,   856.,   854.,    21.],\n",
       "        [   80.,  9600.,  1262.,     0.,    48.],\n",
       "        [   68., 11250.,   920.,   866.,    23.],\n",
       "        ...,\n",
       "        [   66.,  9042.,  1188.,  1152.,    83.],\n",
       "        [   68.,  9717.,  1078.,     0.,    74.],\n",
       "        [   75.,  9937.,  1256.,     0.,    59.]])"
      ]
     },
     "execution_count": 31,
     "metadata": {},
     "output_type": "execute_result"
    }
   ],
   "source": [
    "cont_values=np.stack([data[i].values for i in continous_features],axis=1)\n",
    "cont_values=torch.tensor(cont_values,dtype=torch.float)\n",
    "cont_values\n",
    "# data[i].values - will give values in the form of numpy arrays"
   ]
  },
  {
   "cell_type": "code",
   "execution_count": 32,
   "id": "c9ea2423-91c4-4bb7-9a1b-81011e17f2a7",
   "metadata": {},
   "outputs": [
    {
     "data": {
      "text/plain": [
       "tensor([[208500.],\n",
       "        [181500.],\n",
       "        [223500.],\n",
       "        ...,\n",
       "        [266500.],\n",
       "        [142125.],\n",
       "        [147500.]])"
      ]
     },
     "execution_count": 32,
     "metadata": {},
     "output_type": "execute_result"
    }
   ],
   "source": [
    "y=torch.tensor(data['SalePrice'].values, dtype=torch.float).reshape(-1,1)\n",
    "y"
   ]
  },
  {
   "cell_type": "code",
   "execution_count": 33,
   "id": "ff5fe4d7-16e7-4e97-8bed-2bc75473969b",
   "metadata": {},
   "outputs": [
    {
     "data": {
      "text/plain": [
       "<bound method DataFrame.info of       MSSubClass  MSZoning  LotFrontage  LotArea  Street  LotShape  1stFlrSF  \\\n",
       "0              5         3         65.0     8450       1         3       856   \n",
       "1              0         3         80.0     9600       1         3      1262   \n",
       "2              5         3         68.0    11250       1         0       920   \n",
       "3              6         3         60.0     9550       1         0       961   \n",
       "4              5         3         84.0    14260       1         0      1145   \n",
       "...          ...       ...          ...      ...     ...       ...       ...   \n",
       "1455           5         3         62.0     7917       1         3       953   \n",
       "1456           0         3         85.0    13175       1         3      2073   \n",
       "1457           6         3         66.0     9042       1         3      1188   \n",
       "1458           0         3         68.0     9717       1         3      1078   \n",
       "1459           0         3         75.0     9937       1         3      1256   \n",
       "\n",
       "      2ndFlrSF  SalePrice  TotalYears  \n",
       "0          854     208500          21  \n",
       "1            0     181500          48  \n",
       "2          866     223500          23  \n",
       "3          756     140000         109  \n",
       "4         1053     250000          24  \n",
       "...        ...        ...         ...  \n",
       "1455       694     175000          25  \n",
       "1456         0     210000          46  \n",
       "1457      1152     266500          83  \n",
       "1458         0     142125          74  \n",
       "1459         0     147500          59  \n",
       "\n",
       "[1201 rows x 10 columns]>"
      ]
     },
     "execution_count": 33,
     "metadata": {},
     "output_type": "execute_result"
    }
   ],
   "source": [
    "data.info"
   ]
  },
  {
   "cell_type": "markdown",
   "id": "97abea49-18d7-4130-995a-978eb8cbeb0c",
   "metadata": {},
   "source": [
    "## compare the number of columns from the original dataset"
   ]
  },
  {
   "cell_type": "code",
   "execution_count": 35,
   "id": "198af3cb-72f3-4386-8e8e-0bd0a8faec76",
   "metadata": {},
   "outputs": [
    {
     "data": {
      "text/plain": [
       "(torch.Size([1201, 4]), torch.Size([1201, 5]), torch.Size([1201, 1]))"
      ]
     },
     "execution_count": 35,
     "metadata": {},
     "output_type": "execute_result"
    }
   ],
   "source": [
    "cat_features.shape, cont_values.shape, y.shape"
   ]
  },
  {
   "cell_type": "code",
   "execution_count": 36,
   "id": "ff972714-1eef-4233-b93d-d733d5ce69e0",
   "metadata": {},
   "outputs": [
    {
     "data": {
      "text/plain": [
       "(1201, 10)"
      ]
     },
     "execution_count": 36,
     "metadata": {},
     "output_type": "execute_result"
    }
   ],
   "source": [
    "data.shape"
   ]
  },
  {
   "cell_type": "markdown",
   "id": "e31306e4-4ecd-4e76-bbb0-35f7480988ec",
   "metadata": {},
   "source": [
    "## embedding technique"
   ]
  },
  {
   "cell_type": "code",
   "execution_count": 38,
   "id": "a7e8a142-636d-4065-a71a-f8af231ae159",
   "metadata": {},
   "outputs": [
    {
     "data": {
      "text/plain": [
       "5"
      ]
     },
     "execution_count": 38,
     "metadata": {},
     "output_type": "execute_result"
    }
   ],
   "source": [
    "len(data['MSZoning'].unique())"
   ]
  },
  {
   "cell_type": "code",
   "execution_count": 39,
   "id": "fbca1f3f-9713-4341-babe-b9e6227f6caa",
   "metadata": {},
   "outputs": [
    {
     "data": {
      "text/plain": [
       "[15, 5, 2, 4]"
      ]
     },
     "execution_count": 39,
     "metadata": {},
     "output_type": "execute_result"
    }
   ],
   "source": [
    "cat_dims=[len(data[col].unique()) for col in ['MSSubClass','MSZoning','Street','LotShape']]\n",
    "cat_dims"
   ]
  },
  {
   "cell_type": "code",
   "execution_count": 40,
   "id": "7b3d448f-6485-4b24-9b52-70b632c2d81b",
   "metadata": {},
   "outputs": [],
   "source": [
    "### thumb - rule \n",
    "### - output dimension should be setbased on the input dimension (min(50,features dimension/2))\n",
    "## always have not more than 50\n",
    "embedding_dim=[(x, min(50,(x+1)//2)) for x in cat_dims]"
   ]
  },
  {
   "cell_type": "code",
   "execution_count": 41,
   "id": "5e07223a-db45-49ad-9296-addf10264fef",
   "metadata": {},
   "outputs": [
    {
     "data": {
      "text/plain": [
       "[(15, 8), (5, 3), (2, 1), (4, 2)]"
      ]
     },
     "execution_count": 41,
     "metadata": {},
     "output_type": "execute_result"
    }
   ],
   "source": [
    "# for a column input dimension is 15 and output dimension is 8\n",
    "embedding_dim"
   ]
  },
  {
   "cell_type": "markdown",
   "id": "0ab53bb2-bbef-4503-82dc-fa8df0ac7386",
   "metadata": {},
   "source": [
    "## embedding layer"
   ]
  },
  {
   "cell_type": "code",
   "execution_count": 43,
   "id": "ca2b403d-92df-4fb2-9cd5-9ad4905f770d",
   "metadata": {},
   "outputs": [
    {
     "data": {
      "text/plain": [
       "ModuleList(\n",
       "  (0): Embedding(15, 8)\n",
       "  (1): Embedding(5, 3)\n",
       "  (2): Embedding(2, 1)\n",
       "  (3): Embedding(4, 2)\n",
       ")"
      ]
     },
     "execution_count": 43,
     "metadata": {},
     "output_type": "execute_result"
    }
   ],
   "source": [
    "import torch\n",
    "import torch.nn as nn\n",
    "import torch.nn.functional as F\n",
    "\n",
    "#creating embedding layer\n",
    "# module list because we will have multiple embedding layers\n",
    "embed_representation=nn.ModuleList([nn.Embedding(inp,out) for inp,out in embedding_dim])\n",
    "embed_representation"
   ]
  },
  {
   "cell_type": "code",
   "execution_count": 44,
   "id": "7612b7f0-1a31-4c93-99f3-9c7c0969f1fe",
   "metadata": {},
   "outputs": [
    {
     "data": {
      "text/plain": [
       "torch.Size([1201, 4])"
      ]
     },
     "execution_count": 44,
     "metadata": {},
     "output_type": "execute_result"
    }
   ],
   "source": [
    "cat_features.shape"
   ]
  },
  {
   "cell_type": "code",
   "execution_count": 45,
   "id": "cfce3781-2607-4c1d-b50d-f4a5dd7a3481",
   "metadata": {},
   "outputs": [
    {
     "data": {
      "text/plain": [
       "tensor([[5, 3, 1, 3],\n",
       "        [0, 3, 1, 3],\n",
       "        [5, 3, 1, 0],\n",
       "        [6, 3, 1, 0]])"
      ]
     },
     "execution_count": 45,
     "metadata": {},
     "output_type": "execute_result"
    }
   ],
   "source": [
    "cat_features_z=cat_features[:4]\n",
    "cat_features_z"
   ]
  },
  {
   "cell_type": "code",
   "execution_count": 46,
   "id": "354a07f9-f095-41c7-abff-400eca2ac397",
   "metadata": {},
   "outputs": [],
   "source": [
    "# convert categorical features into vectors using embedding layer\n",
    "# converts each layer like [5,0,5,6] column into a vector\n",
    "embedding_val=[]\n",
    "for i, e in enumerate(embed_representation):\n",
    "    embedding_val.append(e(cat_features[:,i]))\n",
    "    "
   ]
  },
  {
   "cell_type": "code",
   "execution_count": 47,
   "id": "716c7726-1336-4807-b6ee-68ce60cb87d2",
   "metadata": {},
   "outputs": [
    {
     "data": {
      "text/plain": [
       "[tensor([[ 0.6039,  1.1670, -0.7003,  ...,  0.6205,  0.8773, -0.5033],\n",
       "         [ 0.6850, -0.8698,  1.0224,  ..., -1.1166, -1.0362,  1.2124],\n",
       "         [ 0.6039,  1.1670, -0.7003,  ...,  0.6205,  0.8773, -0.5033],\n",
       "         ...,\n",
       "         [-0.3762, -1.6503,  0.1124,  ...,  0.5427,  1.5936, -1.1679],\n",
       "         [ 0.6850, -0.8698,  1.0224,  ..., -1.1166, -1.0362,  1.2124],\n",
       "         [ 0.6850, -0.8698,  1.0224,  ..., -1.1166, -1.0362,  1.2124]],\n",
       "        grad_fn=<EmbeddingBackward0>),\n",
       " tensor([[-1.9610, -0.3123,  0.2061],\n",
       "         [-1.9610, -0.3123,  0.2061],\n",
       "         [-1.9610, -0.3123,  0.2061],\n",
       "         ...,\n",
       "         [-1.9610, -0.3123,  0.2061],\n",
       "         [-1.9610, -0.3123,  0.2061],\n",
       "         [-1.9610, -0.3123,  0.2061]], grad_fn=<EmbeddingBackward0>),\n",
       " tensor([[-1.1017],\n",
       "         [-1.1017],\n",
       "         [-1.1017],\n",
       "         ...,\n",
       "         [-1.1017],\n",
       "         [-1.1017],\n",
       "         [-1.1017]], grad_fn=<EmbeddingBackward0>),\n",
       " tensor([[-0.3009, -1.4286],\n",
       "         [-0.3009, -1.4286],\n",
       "         [-0.0517,  0.5125],\n",
       "         ...,\n",
       "         [-0.3009, -1.4286],\n",
       "         [-0.3009, -1.4286],\n",
       "         [-0.3009, -1.4286]], grad_fn=<EmbeddingBackward0>)]"
      ]
     },
     "execution_count": 47,
     "metadata": {},
     "output_type": "execute_result"
    }
   ],
   "source": [
    "embedding_val"
   ]
  },
  {
   "cell_type": "code",
   "execution_count": 48,
   "id": "596e6d2b-f3bd-40ca-a505-16dffe107ede",
   "metadata": {},
   "outputs": [
    {
     "data": {
      "text/plain": [
       "torch.Size([1201, 14])"
      ]
     },
     "execution_count": 48,
     "metadata": {},
     "output_type": "execute_result"
    }
   ],
   "source": [
    "# make columns - combining the values \n",
    "# np.stack was used for previous \n",
    "z=torch.cat(embedding_val,axis=1)\n",
    "z.shape"
   ]
  },
  {
   "cell_type": "code",
   "execution_count": 49,
   "id": "0edbca70-3509-43b2-a74c-d922daa477ec",
   "metadata": {},
   "outputs": [],
   "source": [
    "### implementing dropout layer\n",
    "# avoid overfitting \n",
    "dropout = nn.Dropout(.4)"
   ]
  },
  {
   "cell_type": "code",
   "execution_count": 50,
   "id": "db9ece1b-f84c-41d8-803a-fd681d983380",
   "metadata": {},
   "outputs": [
    {
     "data": {
      "text/plain": [
       "tensor([[ 1.0066,  0.0000, -0.0000,  ..., -0.0000, -0.5016, -2.3811],\n",
       "        [ 1.1416, -0.0000,  0.0000,  ..., -1.8362, -0.0000, -0.0000],\n",
       "        [ 1.0066,  1.9451, -1.1672,  ..., -1.8362, -0.0862,  0.0000],\n",
       "        ...,\n",
       "        [-0.6270, -0.0000,  0.0000,  ..., -1.8362, -0.5016, -2.3811],\n",
       "        [ 1.1416, -1.4496,  0.0000,  ..., -0.0000, -0.0000, -0.0000],\n",
       "        [ 1.1416, -0.0000,  1.7040,  ..., -0.0000, -0.0000, -2.3811]],\n",
       "       grad_fn=<MulBackward0>)"
      ]
     },
     "execution_count": 50,
     "metadata": {},
     "output_type": "execute_result"
    }
   ],
   "source": [
    "final_embed=dropout(z)\n",
    "final_embed"
   ]
  },
  {
   "cell_type": "markdown",
   "id": "18167e2d-947c-4bda-8152-9e898f7dabed",
   "metadata": {},
   "source": [
    "# creating neural network"
   ]
  },
  {
   "cell_type": "code",
   "execution_count": 52,
   "id": "af64f312-1901-44d9-bb96-a7a4cc519ad4",
   "metadata": {},
   "outputs": [],
   "source": [
    "import torch\n",
    "import torch.nn as nn\n",
    "import torch.nn.functional as F"
   ]
  },
  {
   "cell_type": "code",
   "execution_count": 53,
   "id": "4d104d66-79a9-41f7-9e62-ca46cf4824a0",
   "metadata": {},
   "outputs": [],
   "source": [
    "#nn.Module is the base class \n",
    "class FeedForwarddNN(nn.Module):\n",
    "   # constructor - initialize the neural network \n",
    "    # embedding_dim - input and output dimensions for embedding layer \n",
    "    # n_count - number of continous features \n",
    "    # out_sz - size of the output layer \n",
    "    # layers - list of difiing number of neurons in eacg layer \n",
    "    # p - droupout probability \n",
    "    def __init__(self, embedding_dim,n_count,out_sz, layers,p=0.5):\n",
    "        super().__init__()\n",
    "        # convert into dense vecotors\n",
    "        # get the values into a list inp- input, out-output\n",
    "        self.embeds=nn.ModuleList([nn.Embedding(inp,out) for inp, out in embedding_dim])\n",
    "        self.emb_drop=nn.Dropout(p)\n",
    "        # batch normalization - for continous features \n",
    "        self.bn_cont=nn.BatchNorm1d(n_count)\n",
    "\n",
    "        # hidden layer setup \n",
    "        # n_emb - total number of features after all the embedding laters are concatenated \n",
    "        # n_in - input size of fully connected layer \n",
    "        layerlist=[]\n",
    "        n_emb=sum((out for inp,out in embedding_dim))\n",
    "        n_in=n_emb+n_count\n",
    "        #layers=[100,50]\n",
    "        #1st Hidden layer - 100 neurons \n",
    "        #2nd Hidden layer - 50\n",
    "        for i in layers:\n",
    "            layerlist.append(nn.Linear(n_in,i))\n",
    "            layerlist.append(nn.ReLU(inplace=True))\n",
    "            layerlist.append(nn.BatchNorm1d(i))\n",
    "            layerlist.append(nn.Dropout(p))\n",
    "            n_in=i\n",
    "        # append the output layer \n",
    "        layerlist.append(nn.Linear(layers[-1],out_sz))\n",
    "        # all the layers are stored in nn.Sequential \n",
    "        # * layerlist - each element is passed as a separate argument and cains them together\n",
    "        self.layers=nn.Sequential(*layerlist)\n",
    "\n",
    "    # forawrd pass of the network\n",
    "    def forward(self, x_cat, x_cont):\n",
    "        # for each categorical feature embedding layer is applied \n",
    "        # result is concatenated along the feature dimensions\n",
    "        embeddings=[]\n",
    "        for i,e in enumerate(self.embeds):\n",
    "            embeddings.append(e(x_cat[:,i]))\n",
    "        x=torch.cat(embeddings,1)\n",
    "        x=self.emb_drop(x)\n",
    "\n",
    "        x_cont=self.bn_cont(x_cont)\n",
    "        x=torch.cat([x,x_cont],1)\n",
    "        x=self.layers(x)\n",
    "        return x"
   ]
  },
  {
   "cell_type": "code",
   "execution_count": 54,
   "id": "b82fd3d8-d56e-4618-a75f-ddf2ab98f2c6",
   "metadata": {},
   "outputs": [
    {
     "data": {
      "text/plain": [
       "5"
      ]
     },
     "execution_count": 54,
     "metadata": {},
     "output_type": "execute_result"
    }
   ],
   "source": [
    "len(continous_features)"
   ]
  },
  {
   "cell_type": "code",
   "execution_count": 55,
   "id": "bad654d1-8fcf-4041-be45-1eb979b2afa4",
   "metadata": {},
   "outputs": [],
   "source": [
    "torch.manual_seed(100)\n",
    "model=FeedForwarddNN(embedding_dim,len(continous_features),1,[100,50],p=0.4)"
   ]
  },
  {
   "cell_type": "code",
   "execution_count": 56,
   "id": "90d1a36a-9805-4542-afea-acc79d1e60ac",
   "metadata": {},
   "outputs": [
    {
     "name": "stdout",
     "output_type": "stream",
     "text": [
      "PyTorch is using GPU for training.\n",
      "Device name: NVIDIA GeForce RTX 4070 Laptop GPU\n"
     ]
    }
   ],
   "source": [
    "if torch.cuda.is_available():\n",
    "    print(\"PyTorch is using GPU for training.\")\n",
    "    print(f\"Device name: {torch.cuda.get_device_name(0)}\")"
   ]
  },
  {
   "cell_type": "code",
   "execution_count": 57,
   "id": "34e74ed0-9cca-40ce-a4cb-c2630016ea1c",
   "metadata": {},
   "outputs": [],
   "source": [
    "device = 'cuda'\n",
    "model = model.to(device)"
   ]
  },
  {
   "cell_type": "markdown",
   "id": "7ae08243-5844-4451-b0dc-25aa71201390",
   "metadata": {},
   "source": [
    "# define Lose and optimizer"
   ]
  },
  {
   "cell_type": "code",
   "execution_count": 59,
   "id": "51e79ae2-bf36-493c-9899-a0583b1a4ee9",
   "metadata": {},
   "outputs": [
    {
     "data": {
      "text/plain": [
       "<bound method Module.parameters of FeedForwarddNN(\n",
       "  (embeds): ModuleList(\n",
       "    (0): Embedding(15, 8)\n",
       "    (1): Embedding(5, 3)\n",
       "    (2): Embedding(2, 1)\n",
       "    (3): Embedding(4, 2)\n",
       "  )\n",
       "  (emb_drop): Dropout(p=0.4, inplace=False)\n",
       "  (bn_cont): BatchNorm1d(5, eps=1e-05, momentum=0.1, affine=True, track_running_stats=True)\n",
       "  (layers): Sequential(\n",
       "    (0): Linear(in_features=19, out_features=100, bias=True)\n",
       "    (1): ReLU(inplace=True)\n",
       "    (2): BatchNorm1d(100, eps=1e-05, momentum=0.1, affine=True, track_running_stats=True)\n",
       "    (3): Dropout(p=0.4, inplace=False)\n",
       "    (4): Linear(in_features=100, out_features=50, bias=True)\n",
       "    (5): ReLU(inplace=True)\n",
       "    (6): BatchNorm1d(50, eps=1e-05, momentum=0.1, affine=True, track_running_stats=True)\n",
       "    (7): Dropout(p=0.4, inplace=False)\n",
       "    (8): Linear(in_features=50, out_features=1, bias=True)\n",
       "  )\n",
       ")>"
      ]
     },
     "execution_count": 59,
     "metadata": {},
     "output_type": "execute_result"
    }
   ],
   "source": [
    "model.parameters"
   ]
  },
  {
   "cell_type": "code",
   "execution_count": 60,
   "id": "dba6fe9f-b078-46c5-8be9-fe8fcaad5507",
   "metadata": {},
   "outputs": [],
   "source": [
    "loss_function=nn.MSELoss() ### later convert into RMSE\n",
    "optimizer=torch.optim.Adam(model.parameters(), lr=0.01)"
   ]
  },
  {
   "cell_type": "code",
   "execution_count": 61,
   "id": "67119870-a075-42cd-b809-0d83e239ba76",
   "metadata": {},
   "outputs": [
    {
     "name": "stdout",
     "output_type": "stream",
     "text": [
      "dataset shape: (1201, 10)\n",
      "continous features shape: torch.Size([1201, 5])\n",
      "categorical features shape: torch.Size([1201, 4])\n",
      "target variables shape: torch.Size([1201, 1])\n"
     ]
    }
   ],
   "source": [
    "print(f'dataset shape: {data.shape}')\n",
    "print(f'continous features shape: {cont_values.shape}')\n",
    "print(f'categorical features shape: {cat_features.shape}')\n",
    "print(f'target variables shape: {y.shape}')"
   ]
  },
  {
   "cell_type": "markdown",
   "id": "0e15664c-60ca-494d-9bf9-00dbd9567d16",
   "metadata": {},
   "source": [
    "##  train test split "
   ]
  },
  {
   "cell_type": "code",
   "execution_count": 63,
   "id": "5523794b-9a4b-44ce-903a-18cd21d5d610",
   "metadata": {},
   "outputs": [
    {
     "data": {
      "text/plain": [
       "tensor([[ 5,  3,  1,  3],\n",
       "        [ 0,  3,  1,  3],\n",
       "        [ 5,  3,  1,  0],\n",
       "        ...,\n",
       "        [ 8,  3,  1,  3],\n",
       "        [10,  3,  1,  3],\n",
       "        [10,  3,  1,  3]], device='cuda:0')"
      ]
     },
     "execution_count": 63,
     "metadata": {},
     "output_type": "execute_result"
    }
   ],
   "source": [
    "batch_size=1200\n",
    "test_size=int(batch_size*0.15)\n",
    "train_categorical=cat_features[:batch_size-test_size].cuda()\n",
    "test_categorical=cat_features[batch_size-test_size:batch_size].cuda()\n",
    "train_cont=cont_values[:batch_size-test_size].cuda()\n",
    "test_cont=cont_values[batch_size-test_size:batch_size].cuda()\n",
    "ytrain=y[:batch_size-test_size].cuda()\n",
    "ytest=y[batch_size-test_size:batch_size].cuda()\n",
    "# model=model.cuda()\n",
    "train_categorical"
   ]
  },
  {
   "cell_type": "code",
   "execution_count": 64,
   "id": "8e269b9c-d675-400e-972f-534f52a3c446",
   "metadata": {},
   "outputs": [
    {
     "data": {
      "text/plain": [
       "(1020, 180, 1020, 180, 1020, 180)"
      ]
     },
     "execution_count": 64,
     "metadata": {},
     "output_type": "execute_result"
    }
   ],
   "source": [
    "len(train_categorical),len(test_categorical),len(train_cont), len(test_cont), len(ytrain), len(ytest)"
   ]
  },
  {
   "cell_type": "code",
   "execution_count": 65,
   "id": "1aa63714-0946-4716-a01c-34fdc3e686da",
   "metadata": {},
   "outputs": [
    {
     "name": "stdout",
     "output_type": "stream",
     "text": [
      "epoch number: 1 and the loss: 200496.765625\n",
      "epoch number: 11 and the loss: 200493.484375\n",
      "epoch number: 21 and the loss: 200489.25\n",
      "epoch number: 31 and the loss: 200482.40625\n",
      "epoch number: 41 and the loss: 200473.125\n",
      "epoch number: 51 and the loss: 200461.59375\n",
      "epoch number: 61 and the loss: 200447.125\n",
      "epoch number: 71 and the loss: 200428.265625\n",
      "epoch number: 81 and the loss: 200407.15625\n",
      "epoch number: 91 and the loss: 200382.515625\n",
      "epoch number: 101 and the loss: 200355.171875\n",
      "epoch number: 111 and the loss: 200326.0\n",
      "epoch number: 121 and the loss: 200288.59375\n",
      "epoch number: 131 and the loss: 200251.484375\n",
      "epoch number: 141 and the loss: 200207.78125\n",
      "epoch number: 151 and the loss: 200160.6875\n",
      "epoch number: 161 and the loss: 200115.34375\n",
      "epoch number: 171 and the loss: 200061.078125\n",
      "epoch number: 181 and the loss: 200004.796875\n",
      "epoch number: 191 and the loss: 199937.953125\n",
      "epoch number: 201 and the loss: 199875.046875\n",
      "epoch number: 211 and the loss: 199815.3125\n",
      "epoch number: 221 and the loss: 199751.875\n",
      "epoch number: 231 and the loss: 199679.328125\n",
      "epoch number: 241 and the loss: 199590.640625\n",
      "epoch number: 251 and the loss: 199485.109375\n",
      "epoch number: 261 and the loss: 199410.4375\n",
      "epoch number: 271 and the loss: 199326.59375\n",
      "epoch number: 281 and the loss: 199242.984375\n",
      "epoch number: 291 and the loss: 199131.5\n",
      "epoch number: 301 and the loss: 199038.296875\n",
      "epoch number: 311 and the loss: 198947.75\n",
      "epoch number: 321 and the loss: 198825.71875\n",
      "epoch number: 331 and the loss: 198731.84375\n",
      "epoch number: 341 and the loss: 198607.84375\n",
      "epoch number: 351 and the loss: 198503.9375\n",
      "epoch number: 361 and the loss: 198341.953125\n",
      "epoch number: 371 and the loss: 198263.875\n",
      "epoch number: 381 and the loss: 198114.359375\n",
      "epoch number: 391 and the loss: 197998.140625\n",
      "epoch number: 401 and the loss: 197876.8125\n",
      "epoch number: 411 and the loss: 197742.5625\n",
      "epoch number: 421 and the loss: 197599.5\n",
      "epoch number: 431 and the loss: 197417.109375\n",
      "epoch number: 441 and the loss: 197311.546875\n",
      "epoch number: 451 and the loss: 197143.421875\n",
      "epoch number: 461 and the loss: 196965.328125\n",
      "epoch number: 471 and the loss: 196812.765625\n",
      "epoch number: 481 and the loss: 196651.875\n",
      "epoch number: 491 and the loss: 196528.8125\n",
      "epoch number: 501 and the loss: 196387.140625\n",
      "epoch number: 511 and the loss: 196269.0625\n",
      "epoch number: 521 and the loss: 196017.0625\n",
      "epoch number: 531 and the loss: 195821.265625\n",
      "epoch number: 541 and the loss: 195765.21875\n",
      "epoch number: 551 and the loss: 195457.984375\n",
      "epoch number: 561 and the loss: 195280.015625\n",
      "epoch number: 571 and the loss: 195148.546875\n",
      "epoch number: 581 and the loss: 194919.09375\n",
      "epoch number: 591 and the loss: 194667.53125\n",
      "epoch number: 601 and the loss: 194535.640625\n",
      "epoch number: 611 and the loss: 194250.359375\n",
      "epoch number: 621 and the loss: 194000.171875\n",
      "epoch number: 631 and the loss: 193882.828125\n",
      "epoch number: 641 and the loss: 193750.234375\n",
      "epoch number: 651 and the loss: 193451.0\n",
      "epoch number: 661 and the loss: 193255.84375\n",
      "epoch number: 671 and the loss: 193101.421875\n",
      "epoch number: 681 and the loss: 192870.578125\n",
      "epoch number: 691 and the loss: 192645.46875\n",
      "epoch number: 701 and the loss: 192413.609375\n",
      "epoch number: 711 and the loss: 192202.84375\n",
      "epoch number: 721 and the loss: 191945.09375\n",
      "epoch number: 731 and the loss: 191672.203125\n",
      "epoch number: 741 and the loss: 191541.59375\n",
      "epoch number: 751 and the loss: 191356.515625\n",
      "epoch number: 761 and the loss: 190971.6875\n",
      "epoch number: 771 and the loss: 190657.359375\n",
      "epoch number: 781 and the loss: 190470.65625\n",
      "epoch number: 791 and the loss: 190238.609375\n",
      "epoch number: 801 and the loss: 190027.484375\n",
      "epoch number: 811 and the loss: 189816.203125\n",
      "epoch number: 821 and the loss: 189397.484375\n",
      "epoch number: 831 and the loss: 189307.15625\n",
      "epoch number: 841 and the loss: 188882.6875\n",
      "epoch number: 851 and the loss: 188726.03125\n",
      "epoch number: 861 and the loss: 188429.546875\n",
      "epoch number: 871 and the loss: 187997.1875\n",
      "epoch number: 881 and the loss: 187606.703125\n",
      "epoch number: 891 and the loss: 187526.515625\n",
      "epoch number: 901 and the loss: 187418.71875\n",
      "epoch number: 911 and the loss: 187147.4375\n",
      "epoch number: 921 and the loss: 186777.46875\n",
      "epoch number: 931 and the loss: 186549.078125\n",
      "epoch number: 941 and the loss: 186141.09375\n",
      "epoch number: 951 and the loss: 185964.34375\n",
      "epoch number: 961 and the loss: 185428.546875\n",
      "epoch number: 971 and the loss: 185207.796875\n",
      "epoch number: 981 and the loss: 184924.65625\n",
      "epoch number: 991 and the loss: 184573.5\n",
      "epoch number: 1001 and the loss: 184413.0\n",
      "epoch number: 1011 and the loss: 184104.6875\n",
      "epoch number: 1021 and the loss: 183613.609375\n",
      "epoch number: 1031 and the loss: 183610.1875\n",
      "epoch number: 1041 and the loss: 183056.734375\n",
      "epoch number: 1051 and the loss: 183036.828125\n",
      "epoch number: 1061 and the loss: 182695.015625\n",
      "epoch number: 1071 and the loss: 182237.515625\n",
      "epoch number: 1081 and the loss: 181924.640625\n",
      "epoch number: 1091 and the loss: 181564.109375\n",
      "epoch number: 1101 and the loss: 181329.890625\n",
      "epoch number: 1111 and the loss: 180921.8125\n",
      "epoch number: 1121 and the loss: 180750.203125\n",
      "epoch number: 1131 and the loss: 179911.03125\n",
      "epoch number: 1141 and the loss: 180242.0\n",
      "epoch number: 1151 and the loss: 179485.5\n",
      "epoch number: 1161 and the loss: 178996.5625\n",
      "epoch number: 1171 and the loss: 179003.234375\n",
      "epoch number: 1181 and the loss: 178514.75\n",
      "epoch number: 1191 and the loss: 178144.421875\n",
      "epoch number: 1201 and the loss: 177702.046875\n",
      "epoch number: 1211 and the loss: 177577.71875\n",
      "epoch number: 1221 and the loss: 177198.421875\n",
      "epoch number: 1231 and the loss: 176921.984375\n",
      "epoch number: 1241 and the loss: 176440.28125\n",
      "epoch number: 1251 and the loss: 176026.90625\n",
      "epoch number: 1261 and the loss: 175610.734375\n",
      "epoch number: 1271 and the loss: 175303.46875\n",
      "epoch number: 1281 and the loss: 175044.140625\n",
      "epoch number: 1291 and the loss: 174509.53125\n",
      "epoch number: 1301 and the loss: 173917.96875\n",
      "epoch number: 1311 and the loss: 174008.390625\n",
      "epoch number: 1321 and the loss: 173556.5\n",
      "epoch number: 1331 and the loss: 173022.84375\n",
      "epoch number: 1341 and the loss: 173070.875\n",
      "epoch number: 1351 and the loss: 172661.1875\n",
      "epoch number: 1361 and the loss: 171560.953125\n",
      "epoch number: 1371 and the loss: 171676.09375\n",
      "epoch number: 1381 and the loss: 170619.1875\n",
      "epoch number: 1391 and the loss: 170454.328125\n",
      "epoch number: 1401 and the loss: 170406.140625\n",
      "epoch number: 1411 and the loss: 169644.703125\n",
      "epoch number: 1421 and the loss: 169891.90625\n",
      "epoch number: 1431 and the loss: 169412.640625\n",
      "epoch number: 1441 and the loss: 169033.03125\n",
      "epoch number: 1451 and the loss: 168028.765625\n",
      "epoch number: 1461 and the loss: 167817.546875\n",
      "epoch number: 1471 and the loss: 167487.96875\n",
      "epoch number: 1481 and the loss: 166767.828125\n",
      "epoch number: 1491 and the loss: 167267.140625\n",
      "epoch number: 1501 and the loss: 166420.0\n",
      "epoch number: 1511 and the loss: 165915.3125\n",
      "epoch number: 1521 and the loss: 165541.25\n",
      "epoch number: 1531 and the loss: 164882.46875\n",
      "epoch number: 1541 and the loss: 164294.875\n",
      "epoch number: 1551 and the loss: 164487.1875\n",
      "epoch number: 1561 and the loss: 163832.78125\n",
      "epoch number: 1571 and the loss: 163770.546875\n",
      "epoch number: 1581 and the loss: 163011.234375\n",
      "epoch number: 1591 and the loss: 163421.46875\n",
      "epoch number: 1601 and the loss: 161969.0625\n",
      "epoch number: 1611 and the loss: 161647.6875\n",
      "epoch number: 1621 and the loss: 161596.265625\n",
      "epoch number: 1631 and the loss: 161174.609375\n",
      "epoch number: 1641 and the loss: 160843.625\n",
      "epoch number: 1651 and the loss: 159616.796875\n",
      "epoch number: 1661 and the loss: 160202.796875\n",
      "epoch number: 1671 and the loss: 159139.015625\n",
      "epoch number: 1681 and the loss: 159112.546875\n",
      "epoch number: 1691 and the loss: 158462.609375\n",
      "epoch number: 1701 and the loss: 158497.421875\n",
      "epoch number: 1711 and the loss: 157445.59375\n",
      "epoch number: 1721 and the loss: 156658.09375\n",
      "epoch number: 1731 and the loss: 156270.46875\n",
      "epoch number: 1741 and the loss: 156017.375\n",
      "epoch number: 1751 and the loss: 155514.359375\n",
      "epoch number: 1761 and the loss: 155617.9375\n",
      "epoch number: 1771 and the loss: 154950.5\n",
      "epoch number: 1781 and the loss: 154630.828125\n",
      "epoch number: 1791 and the loss: 153676.703125\n",
      "epoch number: 1801 and the loss: 153287.65625\n",
      "epoch number: 1811 and the loss: 153059.03125\n",
      "epoch number: 1821 and the loss: 152402.71875\n",
      "epoch number: 1831 and the loss: 152031.375\n",
      "epoch number: 1841 and the loss: 151242.953125\n",
      "epoch number: 1851 and the loss: 151380.1875\n",
      "epoch number: 1861 and the loss: 150522.78125\n",
      "epoch number: 1871 and the loss: 150017.453125\n",
      "epoch number: 1881 and the loss: 149767.609375\n",
      "epoch number: 1891 and the loss: 149338.25\n",
      "epoch number: 1901 and the loss: 148781.484375\n",
      "epoch number: 1911 and the loss: 148619.921875\n",
      "epoch number: 1921 and the loss: 147992.078125\n",
      "epoch number: 1931 and the loss: 147542.640625\n",
      "epoch number: 1941 and the loss: 146545.859375\n",
      "epoch number: 1951 and the loss: 146663.515625\n",
      "epoch number: 1961 and the loss: 145797.359375\n",
      "epoch number: 1971 and the loss: 145424.8125\n",
      "epoch number: 1981 and the loss: 144596.078125\n",
      "epoch number: 1991 and the loss: 144170.296875\n",
      "epoch number: 2001 and the loss: 144191.296875\n",
      "epoch number: 2011 and the loss: 143755.125\n",
      "epoch number: 2021 and the loss: 142842.78125\n",
      "epoch number: 2031 and the loss: 142362.59375\n",
      "epoch number: 2041 and the loss: 142014.875\n",
      "epoch number: 2051 and the loss: 141417.5\n",
      "epoch number: 2061 and the loss: 140674.421875\n",
      "epoch number: 2071 and the loss: 141058.828125\n",
      "epoch number: 2081 and the loss: 139839.859375\n",
      "epoch number: 2091 and the loss: 139485.015625\n",
      "epoch number: 2101 and the loss: 139564.265625\n",
      "epoch number: 2111 and the loss: 139221.703125\n",
      "epoch number: 2121 and the loss: 137987.34375\n",
      "epoch number: 2131 and the loss: 137830.0625\n",
      "epoch number: 2141 and the loss: 136900.078125\n",
      "epoch number: 2151 and the loss: 137379.109375\n",
      "epoch number: 2161 and the loss: 136934.0\n",
      "epoch number: 2171 and the loss: 135797.015625\n",
      "epoch number: 2181 and the loss: 135188.796875\n",
      "epoch number: 2191 and the loss: 134083.140625\n",
      "epoch number: 2201 and the loss: 134350.359375\n",
      "epoch number: 2211 and the loss: 133976.453125\n",
      "epoch number: 2221 and the loss: 133261.9375\n",
      "epoch number: 2231 and the loss: 132728.25\n",
      "epoch number: 2241 and the loss: 132777.953125\n",
      "epoch number: 2251 and the loss: 132363.1875\n",
      "epoch number: 2261 and the loss: 131254.5\n",
      "epoch number: 2271 and the loss: 130513.4375\n",
      "epoch number: 2281 and the loss: 130397.171875\n",
      "epoch number: 2291 and the loss: 129710.21875\n",
      "epoch number: 2301 and the loss: 130034.359375\n",
      "epoch number: 2311 and the loss: 128758.765625\n",
      "epoch number: 2321 and the loss: 128810.2421875\n",
      "epoch number: 2331 and the loss: 128151.53125\n",
      "epoch number: 2341 and the loss: 126219.84375\n",
      "epoch number: 2351 and the loss: 126998.2265625\n",
      "epoch number: 2361 and the loss: 126054.3046875\n",
      "epoch number: 2371 and the loss: 125740.2734375\n",
      "epoch number: 2381 and the loss: 125164.6953125\n",
      "epoch number: 2391 and the loss: 125524.796875\n",
      "epoch number: 2401 and the loss: 123632.328125\n",
      "epoch number: 2411 and the loss: 123523.21875\n",
      "epoch number: 2421 and the loss: 124498.9375\n",
      "epoch number: 2431 and the loss: 123729.296875\n",
      "epoch number: 2441 and the loss: 122549.40625\n",
      "epoch number: 2451 and the loss: 122147.5234375\n",
      "epoch number: 2461 and the loss: 121638.71875\n",
      "epoch number: 2471 and the loss: 121696.0546875\n",
      "epoch number: 2481 and the loss: 120322.7265625\n",
      "epoch number: 2491 and the loss: 119773.390625\n",
      "epoch number: 2501 and the loss: 120042.0546875\n",
      "epoch number: 2511 and the loss: 119030.3125\n",
      "epoch number: 2521 and the loss: 118506.328125\n",
      "epoch number: 2531 and the loss: 118982.9375\n",
      "epoch number: 2541 and the loss: 116961.1015625\n",
      "epoch number: 2551 and the loss: 116867.4375\n",
      "epoch number: 2561 and the loss: 116006.90625\n",
      "epoch number: 2571 and the loss: 115607.25\n",
      "epoch number: 2581 and the loss: 115094.453125\n",
      "epoch number: 2591 and the loss: 114320.8203125\n",
      "epoch number: 2601 and the loss: 115156.796875\n",
      "epoch number: 2611 and the loss: 113852.796875\n",
      "epoch number: 2621 and the loss: 114315.703125\n",
      "epoch number: 2631 and the loss: 112091.4765625\n",
      "epoch number: 2641 and the loss: 111820.25\n",
      "epoch number: 2651 and the loss: 112213.5078125\n",
      "epoch number: 2661 and the loss: 111410.484375\n",
      "epoch number: 2671 and the loss: 110762.6484375\n",
      "epoch number: 2681 and the loss: 110360.9609375\n",
      "epoch number: 2691 and the loss: 109242.0\n",
      "epoch number: 2701 and the loss: 110046.6953125\n",
      "epoch number: 2711 and the loss: 109879.0\n",
      "epoch number: 2721 and the loss: 108363.0625\n",
      "epoch number: 2731 and the loss: 107804.84375\n",
      "epoch number: 2741 and the loss: 107273.1171875\n",
      "epoch number: 2751 and the loss: 106095.578125\n",
      "epoch number: 2761 and the loss: 106535.921875\n",
      "epoch number: 2771 and the loss: 105912.296875\n",
      "epoch number: 2781 and the loss: 104746.453125\n",
      "epoch number: 2791 and the loss: 104572.546875\n",
      "epoch number: 2801 and the loss: 103370.6875\n",
      "epoch number: 2811 and the loss: 103782.8125\n",
      "epoch number: 2821 and the loss: 101858.546875\n",
      "epoch number: 2831 and the loss: 103262.7734375\n",
      "epoch number: 2841 and the loss: 102007.125\n",
      "epoch number: 2851 and the loss: 102595.3359375\n",
      "epoch number: 2861 and the loss: 100743.234375\n",
      "epoch number: 2871 and the loss: 101245.6953125\n",
      "epoch number: 2881 and the loss: 101426.671875\n",
      "epoch number: 2891 and the loss: 99608.1953125\n",
      "epoch number: 2901 and the loss: 98977.5390625\n",
      "epoch number: 2911 and the loss: 100696.6953125\n",
      "epoch number: 2921 and the loss: 99362.6640625\n",
      "epoch number: 2931 and the loss: 97663.2578125\n",
      "epoch number: 2941 and the loss: 98195.4375\n",
      "epoch number: 2951 and the loss: 95967.671875\n",
      "epoch number: 2961 and the loss: 96113.1796875\n",
      "epoch number: 2971 and the loss: 95493.921875\n",
      "epoch number: 2981 and the loss: 94222.984375\n",
      "epoch number: 2991 and the loss: 94475.375\n",
      "epoch number: 3001 and the loss: 94736.8984375\n",
      "epoch number: 3011 and the loss: 94586.046875\n",
      "epoch number: 3021 and the loss: 93865.453125\n",
      "epoch number: 3031 and the loss: 93729.3125\n",
      "epoch number: 3041 and the loss: 92270.2890625\n",
      "epoch number: 3051 and the loss: 91676.3984375\n",
      "epoch number: 3061 and the loss: 91403.984375\n",
      "epoch number: 3071 and the loss: 90599.890625\n",
      "epoch number: 3081 and the loss: 89554.2578125\n",
      "epoch number: 3091 and the loss: 90008.5703125\n",
      "epoch number: 3101 and the loss: 89035.8828125\n",
      "epoch number: 3111 and the loss: 87630.90625\n",
      "epoch number: 3121 and the loss: 88437.2578125\n",
      "epoch number: 3131 and the loss: 87839.03125\n",
      "epoch number: 3141 and the loss: 87013.09375\n",
      "epoch number: 3151 and the loss: 86285.953125\n",
      "epoch number: 3161 and the loss: 86519.359375\n",
      "epoch number: 3171 and the loss: 87932.3203125\n",
      "epoch number: 3181 and the loss: 88659.5234375\n",
      "epoch number: 3191 and the loss: 84712.3984375\n",
      "epoch number: 3201 and the loss: 84604.5078125\n",
      "epoch number: 3211 and the loss: 84155.125\n",
      "epoch number: 3221 and the loss: 83004.3984375\n",
      "epoch number: 3231 and the loss: 83453.1015625\n",
      "epoch number: 3241 and the loss: 82539.3046875\n",
      "epoch number: 3251 and the loss: 82893.8984375\n",
      "epoch number: 3261 and the loss: 82088.8203125\n",
      "epoch number: 3271 and the loss: 80853.8046875\n",
      "epoch number: 3281 and the loss: 81383.296875\n",
      "epoch number: 3291 and the loss: 80748.390625\n",
      "epoch number: 3301 and the loss: 80292.5703125\n",
      "epoch number: 3311 and the loss: 78238.2109375\n",
      "epoch number: 3321 and the loss: 78168.859375\n",
      "epoch number: 3331 and the loss: 77722.9140625\n",
      "epoch number: 3341 and the loss: 78200.4921875\n",
      "epoch number: 3351 and the loss: 76281.2265625\n",
      "epoch number: 3361 and the loss: 76606.296875\n",
      "epoch number: 3371 and the loss: 76386.5703125\n",
      "epoch number: 3381 and the loss: 75855.21875\n",
      "epoch number: 3391 and the loss: 76813.1875\n",
      "epoch number: 3401 and the loss: 75066.46875\n",
      "epoch number: 3411 and the loss: 74878.8203125\n",
      "epoch number: 3421 and the loss: 74127.0703125\n",
      "epoch number: 3431 and the loss: 73073.140625\n",
      "epoch number: 3441 and the loss: 73365.40625\n",
      "epoch number: 3451 and the loss: 71690.703125\n",
      "epoch number: 3461 and the loss: 71469.3515625\n",
      "epoch number: 3471 and the loss: 71804.8671875\n",
      "epoch number: 3481 and the loss: 70949.9375\n",
      "epoch number: 3491 and the loss: 70225.8828125\n",
      "epoch number: 3501 and the loss: 70262.3828125\n",
      "epoch number: 3511 and the loss: 70745.7109375\n",
      "epoch number: 3521 and the loss: 69806.453125\n",
      "epoch number: 3531 and the loss: 70136.46875\n",
      "epoch number: 3541 and the loss: 68366.3984375\n",
      "epoch number: 3551 and the loss: 66990.6796875\n",
      "epoch number: 3561 and the loss: 67869.140625\n",
      "epoch number: 3571 and the loss: 67124.1796875\n",
      "epoch number: 3581 and the loss: 67085.1875\n",
      "epoch number: 3591 and the loss: 65971.8125\n",
      "epoch number: 3601 and the loss: 64038.59375\n",
      "epoch number: 3611 and the loss: 65646.5703125\n",
      "epoch number: 3621 and the loss: 64178.76953125\n",
      "epoch number: 3631 and the loss: 65576.7421875\n",
      "epoch number: 3641 and the loss: 62684.7734375\n",
      "epoch number: 3651 and the loss: 62364.8671875\n",
      "epoch number: 3661 and the loss: 61986.328125\n",
      "epoch number: 3671 and the loss: 62697.14453125\n",
      "epoch number: 3681 and the loss: 62213.7421875\n",
      "epoch number: 3691 and the loss: 61175.69140625\n",
      "epoch number: 3701 and the loss: 59446.390625\n",
      "epoch number: 3711 and the loss: 59181.41796875\n",
      "epoch number: 3721 and the loss: 59213.94921875\n",
      "epoch number: 3731 and the loss: 58626.0078125\n",
      "epoch number: 3741 and the loss: 61092.78515625\n",
      "epoch number: 3751 and the loss: 59991.9921875\n",
      "epoch number: 3761 and the loss: 58243.18359375\n",
      "epoch number: 3771 and the loss: 57008.8125\n",
      "epoch number: 3781 and the loss: 55653.03125\n",
      "epoch number: 3791 and the loss: 56914.53125\n",
      "epoch number: 3801 and the loss: 54811.77734375\n",
      "epoch number: 3811 and the loss: 56357.25\n",
      "epoch number: 3821 and the loss: 55215.72265625\n",
      "epoch number: 3831 and the loss: 53721.80078125\n",
      "epoch number: 3841 and the loss: 54305.703125\n",
      "epoch number: 3851 and the loss: 54321.890625\n",
      "epoch number: 3861 and the loss: 55867.13671875\n",
      "epoch number: 3871 and the loss: 52770.203125\n",
      "epoch number: 3881 and the loss: 52626.01953125\n",
      "epoch number: 3891 and the loss: 52006.6484375\n",
      "epoch number: 3901 and the loss: 52430.94921875\n",
      "epoch number: 3911 and the loss: 51864.00390625\n",
      "epoch number: 3921 and the loss: 51854.7578125\n",
      "epoch number: 3931 and the loss: 50409.22265625\n",
      "epoch number: 3941 and the loss: 51266.9921875\n",
      "epoch number: 3951 and the loss: 50074.26171875\n",
      "epoch number: 3961 and the loss: 48982.4453125\n",
      "epoch number: 3971 and the loss: 49422.7109375\n",
      "epoch number: 3981 and the loss: 48471.1015625\n",
      "epoch number: 3991 and the loss: 49532.70703125\n",
      "epoch number: 4001 and the loss: 48535.24609375\n",
      "epoch number: 4011 and the loss: 49436.96484375\n",
      "epoch number: 4021 and the loss: 47304.26953125\n",
      "epoch number: 4031 and the loss: 48137.890625\n",
      "epoch number: 4041 and the loss: 45600.94140625\n",
      "epoch number: 4051 and the loss: 52112.74609375\n",
      "epoch number: 4061 and the loss: 45066.76953125\n",
      "epoch number: 4071 and the loss: 46220.2265625\n",
      "epoch number: 4081 and the loss: 44860.8984375\n",
      "epoch number: 4091 and the loss: 47065.796875\n",
      "epoch number: 4101 and the loss: 44933.890625\n",
      "epoch number: 4111 and the loss: 45611.35546875\n",
      "epoch number: 4121 and the loss: 45511.765625\n",
      "epoch number: 4131 and the loss: 48610.98046875\n",
      "epoch number: 4141 and the loss: 44923.99609375\n",
      "epoch number: 4151 and the loss: 43168.33984375\n",
      "epoch number: 4161 and the loss: 44907.9375\n",
      "epoch number: 4171 and the loss: 42906.42578125\n",
      "epoch number: 4181 and the loss: 43344.18359375\n",
      "epoch number: 4191 and the loss: 42523.46875\n",
      "epoch number: 4201 and the loss: 44350.31640625\n",
      "epoch number: 4211 and the loss: 41793.97265625\n",
      "epoch number: 4221 and the loss: 42609.2890625\n",
      "epoch number: 4231 and the loss: 39610.27734375\n",
      "epoch number: 4241 and the loss: 43005.4375\n",
      "epoch number: 4251 and the loss: 41117.05859375\n",
      "epoch number: 4261 and the loss: 40113.24609375\n",
      "epoch number: 4271 and the loss: 42032.25390625\n",
      "epoch number: 4281 and the loss: 43197.55859375\n",
      "epoch number: 4291 and the loss: 40143.73046875\n",
      "epoch number: 4301 and the loss: 39253.33203125\n",
      "epoch number: 4311 and the loss: 42031.74609375\n",
      "epoch number: 4321 and the loss: 39687.29296875\n",
      "epoch number: 4331 and the loss: 40742.36328125\n",
      "epoch number: 4341 and the loss: 40730.4140625\n",
      "epoch number: 4351 and the loss: 40048.38671875\n",
      "epoch number: 4361 and the loss: 39573.9375\n",
      "epoch number: 4371 and the loss: 39132.90625\n",
      "epoch number: 4381 and the loss: 37677.39453125\n",
      "epoch number: 4391 and the loss: 37153.79296875\n",
      "epoch number: 4401 and the loss: 37726.37109375\n",
      "epoch number: 4411 and the loss: 37626.4375\n",
      "epoch number: 4421 and the loss: 38615.65234375\n",
      "epoch number: 4431 and the loss: 40486.9453125\n",
      "epoch number: 4441 and the loss: 37498.18359375\n",
      "epoch number: 4451 and the loss: 38146.125\n",
      "epoch number: 4461 and the loss: 37044.546875\n",
      "epoch number: 4471 and the loss: 41998.26171875\n",
      "epoch number: 4481 and the loss: 37086.25390625\n",
      "epoch number: 4491 and the loss: 36285.66015625\n",
      "epoch number: 4501 and the loss: 38006.8828125\n",
      "epoch number: 4511 and the loss: 37623.0703125\n",
      "epoch number: 4521 and the loss: 35490.62109375\n",
      "epoch number: 4531 and the loss: 37022.66015625\n",
      "epoch number: 4541 and the loss: 36032.953125\n",
      "epoch number: 4551 and the loss: 36200.21875\n",
      "epoch number: 4561 and the loss: 35816.94921875\n",
      "epoch number: 4571 and the loss: 38974.08984375\n",
      "epoch number: 4581 and the loss: 37865.28125\n",
      "epoch number: 4591 and the loss: 35520.69140625\n",
      "epoch number: 4601 and the loss: 36420.5078125\n",
      "epoch number: 4611 and the loss: 36922.29296875\n",
      "epoch number: 4621 and the loss: 36694.94921875\n",
      "epoch number: 4631 and the loss: 35302.48046875\n",
      "epoch number: 4641 and the loss: 36403.16796875\n",
      "epoch number: 4651 and the loss: 36857.33984375\n",
      "epoch number: 4661 and the loss: 36868.0703125\n",
      "epoch number: 4671 and the loss: 35608.96484375\n",
      "epoch number: 4681 and the loss: 35245.0078125\n",
      "epoch number: 4691 and the loss: 36413.88671875\n",
      "epoch number: 4701 and the loss: 37092.3671875\n",
      "epoch number: 4711 and the loss: 36517.296875\n",
      "epoch number: 4721 and the loss: 34967.42578125\n",
      "epoch number: 4731 and the loss: 36861.9609375\n",
      "epoch number: 4741 and the loss: 35229.09765625\n",
      "epoch number: 4751 and the loss: 33846.484375\n",
      "epoch number: 4761 and the loss: 34171.515625\n",
      "epoch number: 4771 and the loss: 36296.45703125\n",
      "epoch number: 4781 and the loss: 34970.68359375\n",
      "epoch number: 4791 and the loss: 37841.015625\n",
      "epoch number: 4801 and the loss: 35149.9140625\n",
      "epoch number: 4811 and the loss: 35418.80859375\n",
      "epoch number: 4821 and the loss: 36652.3828125\n",
      "epoch number: 4831 and the loss: 38107.91796875\n",
      "epoch number: 4841 and the loss: 34746.56640625\n",
      "epoch number: 4851 and the loss: 35585.4921875\n",
      "epoch number: 4861 and the loss: 35544.01171875\n",
      "epoch number: 4871 and the loss: 37581.734375\n",
      "epoch number: 4881 and the loss: 39244.8984375\n",
      "epoch number: 4891 and the loss: 35622.97265625\n",
      "epoch number: 4901 and the loss: 36267.16796875\n",
      "epoch number: 4911 and the loss: 34837.67578125\n",
      "epoch number: 4921 and the loss: 33394.35546875\n",
      "epoch number: 4931 and the loss: 35380.3515625\n",
      "epoch number: 4941 and the loss: 35752.02734375\n",
      "epoch number: 4951 and the loss: 35099.875\n",
      "epoch number: 4961 and the loss: 36151.51953125\n",
      "epoch number: 4971 and the loss: 35683.01171875\n",
      "epoch number: 4981 and the loss: 33457.859375\n",
      "epoch number: 4991 and the loss: 35506.453125\n",
      "Execution time: 23.39883327484131 seconds\n"
     ]
    }
   ],
   "source": [
    "import time\n",
    "epochs=5000\n",
    "final_losses=[]\n",
    "st=time.time()\n",
    "for i in range(epochs):\n",
    "    i=i+1\n",
    "    y_pred=model(train_categorical,train_cont)\n",
    "    loss=torch.sqrt(loss_function(y_pred,ytrain))\n",
    "    final_losses.append(loss.cpu().data.numpy())\n",
    "    if i%10==1:\n",
    "        print(f'epoch number: {i} and the loss: {loss.item()}')\n",
    "    optimizer.zero_grad()\n",
    "    loss.backward()\n",
    "    optimizer.step()\n",
    "et=time.time()\n",
    "elapsed_time = et - st\n",
    "print('Execution time:', elapsed_time, 'seconds')"
   ]
  },
  {
   "cell_type": "code",
   "execution_count": 66,
   "id": "f66794b9-9bf4-4c91-a24f-cfbb9c0fe320",
   "metadata": {},
   "outputs": [
    {
     "data": {
      "text/plain": [
       "17258496"
      ]
     },
     "execution_count": 66,
     "metadata": {},
     "output_type": "execute_result"
    }
   ],
   "source": [
    "# CPU\n",
    "## Execution time: 177.4386601448059 seconds\n",
    "# GPU \n",
    "# Execution time: 23.677615642547607 seconds\n",
    "torch.cuda.memory_allocated()"
   ]
  },
  {
   "cell_type": "code",
   "execution_count": 67,
   "id": "7a449faa-5f9a-415d-8f53-a7f93f5c6a9a",
   "metadata": {},
   "outputs": [
    {
     "data": {
      "text/plain": [
       "Text(0.5, 0, 'epoch')"
      ]
     },
     "execution_count": 67,
     "metadata": {},
     "output_type": "execute_result"
    },
    {
     "data": {
      "image/png": "[encoded data removed]",
      "text/plain": [
       "<Figure size 640x480 with 1 Axes>"
      ]
     },
     "metadata": {},
     "output_type": "display_data"
    }
   ],
   "source": [
    "import matplotlib.pyplot as plt\n",
    "plt.plot(range(epochs),final_losses)\n",
    "plt.ylabel('RMSE Loss')\n",
    "plt.xlabel('epoch')"
   ]
  },
  {
   "cell_type": "code",
   "execution_count": 68,
   "id": "e14a61ac-c0b2-41d8-b7b6-8cfe52cf2993",
   "metadata": {},
   "outputs": [
    {
     "name": "stdout",
     "output_type": "stream",
     "text": [
      "RMSE: 48541.8828125\n"
     ]
    }
   ],
   "source": [
    "# vaidating the test data\n",
    "y_pred=''\n",
    "with torch.no_grad():\n",
    "    y_pred=model(test_categorical,test_cont)\n",
    "    loss=torch.sqrt(loss_function(y_pred,ytest))\n",
    "print(f'RMSE: {loss}')"
   ]
  },
  {
   "cell_type": "markdown",
   "id": "b153ac67-a7e8-4694-b6ed-dad2360b35de",
   "metadata": {},
   "source": [
    "# find the difference in the prices from actual to predictions"
   ]
  },
  {
   "cell_type": "code",
   "execution_count": 70,
   "id": "4e8fc5ee-4773-4e8f-b31c-9a240d298f27",
   "metadata": {},
   "outputs": [],
   "source": [
    "data_verify=pd.DataFrame(ytest.tolist(),columns=['Test'])\n",
    "data_predicted=pd.DataFrame(y_pred.tolist(),columns=['Prediction'])"
   ]
  },
  {
   "cell_type": "code",
   "execution_count": 71,
   "id": "022dd4c2-182d-4916-9212-1eb979cb7800",
   "metadata": {},
   "outputs": [
    {
     "data": {
      "text/html": [
       "<div>\n",
       "<style scoped>\n",
       "    .dataframe tbody tr th:only-of-type {\n",
       "        vertical-align: middle;\n",
       "    }\n",
       "\n",
       "    .dataframe tbody tr th {\n",
       "        vertical-align: top;\n",
       "    }\n",
       "\n",
       "    .dataframe thead th {\n",
       "        text-align: right;\n",
       "    }\n",
       "</style>\n",
       "<table border=\"1\" class=\"dataframe\">\n",
       "  <thead>\n",
       "    <tr style=\"text-align: right;\">\n",
       "      <th></th>\n",
       "      <th>Test</th>\n",
       "      <th>Prediction</th>\n",
       "      <th>Difference</th>\n",
       "    </tr>\n",
       "  </thead>\n",
       "  <tbody>\n",
       "    <tr>\n",
       "      <th>0</th>\n",
       "      <td>130000.0</td>\n",
       "      <td>162262.515625</td>\n",
       "      <td>-32262.515625</td>\n",
       "    </tr>\n",
       "    <tr>\n",
       "      <th>1</th>\n",
       "      <td>138887.0</td>\n",
       "      <td>184557.781250</td>\n",
       "      <td>-45670.781250</td>\n",
       "    </tr>\n",
       "    <tr>\n",
       "      <th>2</th>\n",
       "      <td>175500.0</td>\n",
       "      <td>152551.687500</td>\n",
       "      <td>22948.312500</td>\n",
       "    </tr>\n",
       "    <tr>\n",
       "      <th>3</th>\n",
       "      <td>195000.0</td>\n",
       "      <td>267787.968750</td>\n",
       "      <td>-72787.968750</td>\n",
       "    </tr>\n",
       "    <tr>\n",
       "      <th>4</th>\n",
       "      <td>142500.0</td>\n",
       "      <td>187093.062500</td>\n",
       "      <td>-44593.062500</td>\n",
       "    </tr>\n",
       "  </tbody>\n",
       "</table>\n",
       "</div>"
      ],
      "text/plain": [
       "       Test     Prediction    Difference\n",
       "0  130000.0  162262.515625 -32262.515625\n",
       "1  138887.0  184557.781250 -45670.781250\n",
       "2  175500.0  152551.687500  22948.312500\n",
       "3  195000.0  267787.968750 -72787.968750\n",
       "4  142500.0  187093.062500 -44593.062500"
      ]
     },
     "execution_count": 71,
     "metadata": {},
     "output_type": "execute_result"
    }
   ],
   "source": [
    "final_output=pd.concat([data_verify,data_predicted],axis=1)\n",
    "final_output['Difference']=final_output['Test']-final_output['Prediction']\n",
    "final_output.head()"
   ]
  },
  {
   "cell_type": "code",
   "execution_count": null,
   "id": "dd8b3088-fec1-4c4a-b465-0757e3d91ab6",
   "metadata": {},
   "outputs": [],
   "source": []
  }
 ],
 "metadata": {
  "kernelspec": {
   "display_name": "pytorch",
   "language": "python",
   "name": "pytorch"
  },
  "language_info": {
   "codemirror_mode": {
    "name": "ipython",
    "version": 3
   },
   "file_extension": ".py",
   "mimetype": "text/x-python",
   "name": "python",
   "nbconvert_exporter": "python",
   "pygments_lexer": "ipython3",
   "version": "3.9.19"
  }
 },
 "nbformat": 4,
 "nbformat_minor": 5
}
