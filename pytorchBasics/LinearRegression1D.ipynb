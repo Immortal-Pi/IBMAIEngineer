{
 "cells": [
  {
   "cell_type": "markdown",
   "id": "8b70d306-f15c-469c-9b0b-1e15a4d6e187",
   "metadata": {},
   "source": [
    "# Linear regression 1D: Prediction"
   ]
  },
  {
   "cell_type": "code",
   "execution_count": 9,
   "id": "cf22e56e-f9ca-4a0b-9a67-c0295078eea8",
   "metadata": {},
   "outputs": [],
   "source": [
    "import torch"
   ]
  },
  {
   "cell_type": "code",
   "execution_count": 11,
   "id": "6a21559f-6ee4-4707-ae94-22c8a360cd2e",
   "metadata": {},
   "outputs": [],
   "source": [
    "w=torch.tensor(2.0,requires_grad=True)\n",
    "b=torch.tensor(-1.0, requires_grad=True)"
   ]
  },
  {
   "cell_type": "code",
   "execution_count": 13,
   "id": "9297aa23-2293-4130-a2c2-5beba3bd38e5",
   "metadata": {},
   "outputs": [],
   "source": [
    "def forward(x):\n",
    "    yhat=w*x+b\n",
    "    return yhat"
   ]
  },
  {
   "cell_type": "code",
   "execution_count": 21,
   "id": "37e4277b-23ad-451c-bbb6-0240f6c62cac",
   "metadata": {},
   "outputs": [
    {
     "data": {
      "text/plain": [
       "1.0"
      ]
     },
     "execution_count": 21,
     "metadata": {},
     "output_type": "execute_result"
    }
   ],
   "source": [
    "x=torch.tensor([[1.0]])\n",
    "yhat=forward(x)\n",
    "yhat.item()"
   ]
  },
  {
   "cell_type": "code",
   "execution_count": 25,
   "id": "20a90d94-c54e-43f4-a174-29386fea53ad",
   "metadata": {},
   "outputs": [
    {
     "data": {
      "text/plain": [
       "tensor([[1.],\n",
       "        [3.]], grad_fn=<AddBackward0>)"
      ]
     },
     "execution_count": 25,
     "metadata": {},
     "output_type": "execute_result"
    }
   ],
   "source": [
    "#multiple inputs \n",
    "x=torch.tensor([[1.0],[2.0]])\n",
    "yhat=forward(x)\n",
    "yhat"
   ]
  },
  {
   "cell_type": "code",
   "execution_count": 27,
   "id": "10d611f6-ec1e-4012-b7e0-fde3b96ab076",
   "metadata": {},
   "outputs": [
    {
     "data": {
      "text/plain": [
       "tensor([[1.],\n",
       "        [3.],\n",
       "        [5.]], grad_fn=<AddBackward0>)"
      ]
     },
     "execution_count": 27,
     "metadata": {},
     "output_type": "execute_result"
    }
   ],
   "source": [
    "x=torch.tensor([[1.0],[2.0],[3.0]])\n",
    "yhat=forward(x)\n",
    "yhat"
   ]
  },
  {
   "cell_type": "code",
   "execution_count": 31,
   "id": "852b64b8-6d6d-45d0-b4ad-320b0c96aef5",
   "metadata": {},
   "outputs": [
    {
     "data": {
      "text/plain": [
       "<torch._C.Generator at 0x23a4e53f070>"
      ]
     },
     "execution_count": 31,
     "metadata": {},
     "output_type": "execute_result"
    }
   ],
   "source": [
    "# linear class\n",
    "from torch.nn import Linear\n",
    "torch.manual_seed(1)"
   ]
  },
  {
   "cell_type": "code",
   "execution_count": 47,
   "id": "a63f99d6-04b6-4501-9226-a474878047b4",
   "metadata": {},
   "outputs": [
    {
     "data": {
      "text/plain": [
       "[Parameter containing:\n",
       " tensor([[ 0.2937,  0.0803, -0.0707]], requires_grad=True),\n",
       " Parameter containing:\n",
       " tensor([0.1601], requires_grad=True)]"
      ]
     },
     "execution_count": 47,
     "metadata": {},
     "output_type": "execute_result"
    }
   ],
   "source": [
    "lr=Linear(in_features=3,out_features=1,bias=True)\n",
    "list(lr.parameters())"
   ]
  },
  {
   "cell_type": "code",
   "execution_count": 49,
   "id": "3af7444e-13f7-4fe2-953f-d799e99ed70b",
   "metadata": {},
   "outputs": [
    {
     "data": {
      "text/plain": [
       "(OrderedDict([('weight', tensor([[ 0.2937,  0.0803, -0.0707]])),\n",
       "              ('bias', tensor([0.1601]))]),\n",
       " odict_keys(['weight', 'bias']),\n",
       " odict_values([tensor([[ 0.2937,  0.0803, -0.0707]]), tensor([0.1601])]))"
      ]
     },
     "execution_count": 49,
     "metadata": {},
     "output_type": "execute_result"
    }
   ],
   "source": [
    "lr.state_dict(), lr.state_dict().keys(), lr.state_dict().values()"
   ]
  },
  {
   "cell_type": "code",
   "execution_count": 51,
   "id": "8b362981-f837-45f9-99b6-b59a21ce724e",
   "metadata": {},
   "outputs": [
    {
     "data": {
      "text/plain": [
       "(Parameter containing:\n",
       " tensor([[ 0.2937,  0.0803, -0.0707]], requires_grad=True),\n",
       " Parameter containing:\n",
       " tensor([0.1601], requires_grad=True))"
      ]
     },
     "execution_count": 51,
     "metadata": {},
     "output_type": "execute_result"
    }
   ],
   "source": [
    "lr.weight, lr.bias"
   ]
  },
  {
   "cell_type": "code",
   "execution_count": 71,
   "id": "0a8e00e5-67ff-4449-a45c-59ffcd113572",
   "metadata": {},
   "outputs": [
    {
     "data": {
      "text/plain": [
       "tensor([[0.3460],\n",
       "        [1.5448],\n",
       "        [2.8286]], grad_fn=<AddmmBackward0>)"
      ]
     },
     "execution_count": 71,
     "metadata": {},
     "output_type": "execute_result"
    }
   ],
   "source": [
    "x=torch.tensor([[1.0,3.5,5.5],[5.0,6.0,8.0],[9.0,10.0,11.0]])\n",
    "yhat=lr(x)\n",
    "yhat"
   ]
  },
  {
   "cell_type": "code",
   "execution_count": 73,
   "id": "7610d8a5-d31c-41a8-a742-ef20f68c3490",
   "metadata": {},
   "outputs": [
    {
     "data": {
      "text/plain": [
       "[Parameter containing:\n",
       " tensor([[0.0493]], requires_grad=True),\n",
       " Parameter containing:\n",
       " tensor([0.3652], requires_grad=True)]"
      ]
     },
     "execution_count": 73,
     "metadata": {},
     "output_type": "execute_result"
    }
   ],
   "source": [
    "lr=Linear(in_features=1,out_features=1,bias=True)\n",
    "list(lr.parameters())"
   ]
  },
  {
   "cell_type": "code",
   "execution_count": 75,
   "id": "5d176af0-87f4-409b-bd16-cd3da05feae2",
   "metadata": {},
   "outputs": [
    {
     "data": {
      "text/plain": [
       "tensor([[0.4639],\n",
       "        [0.4146],\n",
       "        [0.5132]], grad_fn=<AddmmBackward0>)"
      ]
     },
     "execution_count": 75,
     "metadata": {},
     "output_type": "execute_result"
    }
   ],
   "source": [
    "x=torch.tensor([[2.0],[1.0],[3.0]])\n",
    "yhat=lr(x)\n",
    "yhat"
   ]
  },
  {
   "cell_type": "markdown",
   "id": "1b92e2a1-f744-4441-a1c8-44223e206e0a",
   "metadata": {},
   "source": [
    "# building custom modules"
   ]
  },
  {
   "cell_type": "code",
   "execution_count": 82,
   "id": "941bd81f-c69e-4435-bbb3-f93a836bded2",
   "metadata": {},
   "outputs": [],
   "source": [
    "from torch import nn"
   ]
  },
  {
   "cell_type": "code",
   "execution_count": 84,
   "id": "aff18441-7ddd-4f14-bd37-d058e6816034",
   "metadata": {},
   "outputs": [],
   "source": [
    "class LR(nn.Module):\n",
    "    def __init__(self,input_layer, out_layer):\n",
    "        super(LR,self).__init__()\n",
    "        self.linear=nn.Linear(input_layer,out_layer)\n",
    "    def forward(self,x):\n",
    "        out=self.linear(x)\n",
    "        return x"
   ]
  },
  {
   "cell_type": "code",
   "execution_count": 90,
   "id": "4849da4a-a1a0-4854-971a-d572a12e846e",
   "metadata": {},
   "outputs": [
    {
     "data": {
      "text/plain": [
       "Linear(in_features=1, out_features=1, bias=True)"
      ]
     },
     "execution_count": 90,
     "metadata": {},
     "output_type": "execute_result"
    }
   ],
   "source": [
    "lr=LR(1,1)\n",
    "list(lr.parameters())\n",
    "lr.linear"
   ]
  },
  {
   "cell_type": "code",
   "execution_count": 92,
   "id": "878eb2e7-eea6-407e-a065-39c77cebb087",
   "metadata": {},
   "outputs": [
    {
     "data": {
      "text/plain": [
       "tensor([100.])"
      ]
     },
     "execution_count": 92,
     "metadata": {},
     "output_type": "execute_result"
    }
   ],
   "source": [
    "x=torch.tensor([100.0])\n",
    "yhat=lr(x)\n",
    "yhat"
   ]
  },
  {
   "cell_type": "code",
   "execution_count": null,
   "id": "f2c566f1-6119-494f-8c82-80fc2b44b5f3",
   "metadata": {},
   "outputs": [],
   "source": []
  }
 ],
 "metadata": {
  "kernelspec": {
   "display_name": "pytorch",
   "language": "python",
   "name": "pytorch"
  },
  "language_info": {
   "codemirror_mode": {
    "name": "ipython",
    "version": 3
   },
   "file_extension": ".py",
   "mimetype": "text/x-python",
   "name": "python",
   "nbconvert_exporter": "python",
   "pygments_lexer": "ipython3",
   "version": "3.9.19"
  }
 },
 "nbformat": 4,
 "nbformat_minor": 5
}
