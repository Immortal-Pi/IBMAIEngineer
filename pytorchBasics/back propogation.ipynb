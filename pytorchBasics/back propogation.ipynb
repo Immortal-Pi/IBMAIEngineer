{
 "cells": [
  {
   "cell_type": "markdown",
   "id": "86db5d3f-4433-4d48-b9c0-a0cc5ff160e2",
   "metadata": {},
   "source": [
    "# back propogation using pytorch\n",
    "- derivatives and slopes\n",
    "- backward()\n",
    " \n",
    "- compute derivaties y=x^2\n",
    "  - dy/dx=2x"
   ]
  },
  {
   "cell_type": "code",
   "execution_count": 53,
   "id": "e1b5fd64-f3ae-4f7c-b9e7-0b5952bd0d1c",
   "metadata": {},
   "outputs": [],
   "source": [
    "import torch"
   ]
  },
  {
   "cell_type": "code",
   "execution_count": 54,
   "id": "992825d7-fad0-4789-963b-4c2e6a57f497",
   "metadata": {},
   "outputs": [],
   "source": [
    "# gradient- TRUE - able to do the back propogation\n",
    "# keeps the remainder on the x variable on how the value of changes \n",
    "x=torch.tensor(4.0,requires_grad=True)"
   ]
  },
  {
   "cell_type": "code",
   "execution_count": 55,
   "id": "4b8bffb6-e6ac-4c12-b9c1-b8340b71e501",
   "metadata": {},
   "outputs": [
    {
     "data": {
      "text/plain": [
       "tensor(4., requires_grad=True)"
      ]
     },
     "execution_count": 55,
     "metadata": {},
     "output_type": "execute_result"
    }
   ],
   "source": [
    "x"
   ]
  },
  {
   "cell_type": "code",
   "execution_count": 56,
   "id": "87c87ad1-1b5b-49c6-a005-150f7d8189cf",
   "metadata": {},
   "outputs": [
    {
     "data": {
      "text/plain": [
       "tensor(16., grad_fn=<PowBackward0>)"
      ]
     },
     "execution_count": 56,
     "metadata": {},
     "output_type": "execute_result"
    }
   ],
   "source": [
    "y=x**2\n",
    "y"
   ]
  },
  {
   "cell_type": "markdown",
   "id": "9e67e284-11b3-40fd-b3ad-a95b832ddd3e",
   "metadata": {},
   "source": [
    "### back propotation \n",
    "### y=2*x"
   ]
  },
  {
   "cell_type": "code",
   "execution_count": 58,
   "id": "877c5057-2e0a-4b94-9be5-0e73431ea43c",
   "metadata": {},
   "outputs": [
    {
     "name": "stdout",
     "output_type": "stream",
     "text": [
      "tensor(8.)\n"
     ]
    },
    {
     "data": {
      "text/plain": [
       "tensor(16., grad_fn=<PowBackward0>)"
      ]
     },
     "execution_count": 58,
     "metadata": {},
     "output_type": "execute_result"
    }
   ],
   "source": [
    "y.backward()\n",
    "print(x.grad)\n",
    "y"
   ]
  },
  {
   "cell_type": "markdown",
   "id": "672ea8ae-e004-434e-82fa-4dde6d59e854",
   "metadata": {},
   "source": [
    "### create for a complex variable"
   ]
  },
  {
   "cell_type": "code",
   "execution_count": 74,
   "id": "44f688bc-d035-4b7d-8fb8-dc307e8a7641",
   "metadata": {},
   "outputs": [],
   "source": [
    "lst=[[2.,3.,1.],[4.,5.,3.],[7.,6.,4.]]\n",
    "torch_input=torch.tensor(lst, requires_grad=True)"
   ]
  },
  {
   "cell_type": "code",
   "execution_count": 76,
   "id": "db1a66ef-9e9b-4aa7-847c-11370361ebba",
   "metadata": {},
   "outputs": [
    {
     "data": {
      "text/plain": [
       "tensor([[2., 3., 1.],\n",
       "        [4., 5., 3.],\n",
       "        [7., 6., 4.]], requires_grad=True)"
      ]
     },
     "execution_count": 76,
     "metadata": {},
     "output_type": "execute_result"
    }
   ],
   "source": [
    "torch_input"
   ]
  },
  {
   "cell_type": "code",
   "execution_count": 78,
   "id": "1ecb23e9-05d4-4fb3-97a4-4ac8b59507c8",
   "metadata": {},
   "outputs": [],
   "source": [
    "y=torch_input**3+torch_input**2"
   ]
  },
  {
   "cell_type": "code",
   "execution_count": 84,
   "id": "0f59b943-4b91-4f47-bbac-922010ccd760",
   "metadata": {},
   "outputs": [
    {
     "data": {
      "text/plain": [
       "tensor([[ 12.,  36.,   2.],\n",
       "        [ 80., 150.,  36.],\n",
       "        [392., 252.,  80.]], grad_fn=<AddBackward0>)"
      ]
     },
     "execution_count": 84,
     "metadata": {},
     "output_type": "execute_result"
    }
   ],
   "source": [
    "y"
   ]
  },
  {
   "cell_type": "code",
   "execution_count": 88,
   "id": "ea53fdeb-a4e3-4d3a-bee3-ca94a013165a",
   "metadata": {},
   "outputs": [
    {
     "data": {
      "text/plain": [
       "tensor(1040., grad_fn=<SumBackward0>)"
      ]
     },
     "execution_count": 88,
     "metadata": {},
     "output_type": "execute_result"
    }
   ],
   "source": [
    "z=y.sum()\n",
    "z"
   ]
  },
  {
   "cell_type": "code",
   "execution_count": 90,
   "id": "7883e900-34ec-4c5d-8e29-cecfd62f5fce",
   "metadata": {},
   "outputs": [],
   "source": [
    "z.backward()"
   ]
  },
  {
   "cell_type": "code",
   "execution_count": 96,
   "id": "192b73e7-eaf7-4db7-9f5a-6aadaba480c2",
   "metadata": {},
   "outputs": [
    {
     "data": {
      "text/plain": [
       "tensor([[ 16.,  33.,   5.],\n",
       "        [ 56.,  85.,  33.],\n",
       "        [161., 120.,  56.]])"
      ]
     },
     "execution_count": 96,
     "metadata": {},
     "output_type": "execute_result"
    }
   ],
   "source": [
    "torch_input.grad"
   ]
  },
  {
   "cell_type": "markdown",
   "id": "57a815bd-817d-44bf-b798-99c8fa888adf",
   "metadata": {},
   "source": [
    "##  how it is working \n",
    "#### torch_input=x\n",
    "\n",
    "#### y     = x^3+x^2\n",
    "#### dy/dx = 3x^2 + 2x"
   ]
  },
  {
   "cell_type": "code",
   "execution_count": 107,
   "id": "11df2491-40c4-4822-bac6-242610030b8d",
   "metadata": {},
   "outputs": [],
   "source": [
    "# 3(2)^2 +2*2 \n",
    "# 12+4\n",
    "# 16"
   ]
  },
  {
   "cell_type": "markdown",
   "id": "beb9cf9a-7c97-4802-b003-132efbbaa096",
   "metadata": {},
   "source": [
    "## chain rule of differentiation for each element will happen\n",
    "## we can set it for each and very epochs"
   ]
  },
  {
   "cell_type": "code",
   "execution_count": null,
   "id": "6341172d-18ba-46e9-9ee1-037036a6b64e",
   "metadata": {},
   "outputs": [],
   "source": []
  },
  {
   "cell_type": "code",
   "execution_count": null,
   "id": "1aaf48a1-af34-4b24-8ec0-d1b066c4d563",
   "metadata": {},
   "outputs": [],
   "source": []
  }
 ],
 "metadata": {
  "kernelspec": {
   "display_name": "pytorch",
   "language": "python",
   "name": "pytorch"
  },
  "language_info": {
   "codemirror_mode": {
    "name": "ipython",
    "version": 3
   },
   "file_extension": ".py",
   "mimetype": "text/x-python",
   "name": "python",
   "nbconvert_exporter": "python",
   "pygments_lexer": "ipython3",
   "version": "3.9.19"
  }
 },
 "nbformat": 4,
 "nbformat_minor": 5
}
