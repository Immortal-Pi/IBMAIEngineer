{
 "cells": [
  {
   "cell_type": "markdown",
   "id": "41cc0b22-8c31-4069-af6d-6deccb8d97a2",
   "metadata": {},
   "source": [
    "# pytorch basics"
   ]
  },
  {
   "cell_type": "code",
   "execution_count": 3,
   "id": "5fe7504b-76c0-4aa8-aad4-f4f6663f2cf8",
   "metadata": {},
   "outputs": [],
   "source": [
    "import torch"
   ]
  },
  {
   "cell_type": "code",
   "execution_count": 4,
   "id": "f9b837b8-a49e-4720-823e-6dd6a15f19fa",
   "metadata": {},
   "outputs": [
    {
     "data": {
      "text/plain": [
       "'2.4.0+cpu'"
      ]
     },
     "execution_count": 4,
     "metadata": {},
     "output_type": "execute_result"
    }
   ],
   "source": [
    "torch.__version__"
   ]
  },
  {
   "cell_type": "code",
   "execution_count": 5,
   "id": "e07d00cb-0379-40bb-acf2-5086841706ce",
   "metadata": {},
   "outputs": [
    {
     "data": {
      "text/plain": [
       "False"
      ]
     },
     "execution_count": 5,
     "metadata": {},
     "output_type": "execute_result"
    }
   ],
   "source": [
    "torch.cuda.is_available()"
   ]
  },
  {
   "cell_type": "code",
   "execution_count": null,
   "id": "6673ee4d-aa5a-4c67-acfd-07324be42b54",
   "metadata": {},
   "outputs": [],
   "source": []
  }
 ],
 "metadata": {
  "kernelspec": {
   "display_name": "R [conda env:rprg]",
   "language": "R",
   "name": "conda-env-rprg-r"
  },
  "language_info": {
   "codemirror_mode": "r",
   "file_extension": ".r",
   "mimetype": "text/x-r-source",
   "name": "R",
   "pygments_lexer": "r",
   "version": "3.6.1"
  }
 },
 "nbformat": 4,
 "nbformat_minor": 5
}
