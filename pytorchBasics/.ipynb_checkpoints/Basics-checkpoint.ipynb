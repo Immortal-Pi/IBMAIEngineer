{
 "cells": [
  {
   "cell_type": "markdown",
   "id": "41cc0b22-8c31-4069-af6d-6deccb8d97a2",
   "metadata": {},
   "source": [
    "# pytorch basics"
   ]
  },
  {
   "cell_type": "markdown",
   "id": "66549034-0860-4080-a19b-4c0f46cf38be",
   "metadata": {},
   "source": [
    "## check for GPU connectivity"
   ]
  },
  {
   "cell_type": "code",
   "execution_count": 1,
   "id": "5fe7504b-76c0-4aa8-aad4-f4f6663f2cf8",
   "metadata": {},
   "outputs": [],
   "source": [
    "import torch"
   ]
  },
  {
   "cell_type": "code",
   "execution_count": 2,
   "id": "f9b837b8-a49e-4720-823e-6dd6a15f19fa",
   "metadata": {},
   "outputs": [
    {
     "data": {
      "text/plain": [
       "'2.4.0'"
      ]
     },
     "execution_count": 2,
     "metadata": {},
     "output_type": "execute_result"
    }
   ],
   "source": [
    "torch.__version__"
   ]
  },
  {
   "cell_type": "code",
   "execution_count": 3,
   "id": "e07d00cb-0379-40bb-acf2-5086841706ce",
   "metadata": {},
   "outputs": [
    {
     "data": {
      "text/plain": [
       "True"
      ]
     },
     "execution_count": 3,
     "metadata": {},
     "output_type": "execute_result"
    }
   ],
   "source": [
    "torch.cuda.is_available()"
   ]
  },
  {
   "cell_type": "code",
   "execution_count": 7,
   "id": "6673ee4d-aa5a-4c67-acfd-07324be42b54",
   "metadata": {},
   "outputs": [
    {
     "data": {
      "text/plain": [
       "0"
      ]
     },
     "execution_count": 7,
     "metadata": {},
     "output_type": "execute_result"
    }
   ],
   "source": [
    "torch.cuda.current_device()"
   ]
  },
  {
   "cell_type": "code",
   "execution_count": 9,
   "id": "5aa5b49a-f28f-4067-8bf3-6c1a3f4cd73f",
   "metadata": {},
   "outputs": [
    {
     "data": {
      "text/plain": [
       "'NVIDIA GeForce RTX 4070 Laptop GPU'"
      ]
     },
     "execution_count": 9,
     "metadata": {},
     "output_type": "execute_result"
    }
   ],
   "source": [
    "torch.cuda.get_device_name(0)"
   ]
  },
  {
   "cell_type": "code",
   "execution_count": 11,
   "id": "e7498912-002d-4d3b-98cc-aa7edbe538b7",
   "metadata": {},
   "outputs": [
    {
     "data": {
      "text/plain": [
       "0"
      ]
     },
     "execution_count": 11,
     "metadata": {},
     "output_type": "execute_result"
    }
   ],
   "source": [
    "torch.cuda.memory_allocated()"
   ]
  },
  {
   "cell_type": "markdown",
   "id": "0df1873f-6982-4072-ab4b-7b3485b0a80b",
   "metadata": {},
   "source": [
    "# \t\t○ Tensors basics \n",
    "\t\t\t- A tensor is a generalization of vectos and matrices and is easily understood as a multidimensional array.\n",
    "\t\t\t- Term and set of techniques known in ML in traning and operation of deep learning models can be described in terms of tensors. \n",
    "\t\t\t- In many cases tensors are used as repalcement for numpy to use power of GPUs\n",
    "\t\t\t- Tensors:- data structure used in linear algebra \n",
    "\t\t\t\t□ Vectors \n",
    "\t\t\t\t□ Matrics \n",
    "\t\t\t\t□ Perform arithmatic operations with tensors\n",
    "\t\t\n"
   ]
  },
  {
   "cell_type": "code",
   "execution_count": 27,
   "id": "043208f8-a184-4233-9c05-a7427c615713",
   "metadata": {},
   "outputs": [],
   "source": [
    "import numpy as np"
   ]
  },
  {
   "cell_type": "code",
   "execution_count": 29,
   "id": "6462599a-7774-44a5-ad18-0c8981fa17f6",
   "metadata": {},
   "outputs": [],
   "source": [
    "list=[3,4,5,6]\n",
    "array=np.array(list)"
   ]
  },
  {
   "cell_type": "code",
   "execution_count": 31,
   "id": "0965bb93-6da5-4f04-901d-92fb61cc0da6",
   "metadata": {},
   "outputs": [
    {
     "data": {
      "text/plain": [
       "dtype('int32')"
      ]
     },
     "execution_count": 31,
     "metadata": {},
     "output_type": "execute_result"
    }
   ],
   "source": [
    "array.dtype"
   ]
  },
  {
   "cell_type": "markdown",
   "id": "e80430d5-cdda-4653-810f-d13d5f675675",
   "metadata": {},
   "source": [
    "# convert numpy to pytorch tensors"
   ]
  },
  {
   "cell_type": "code",
   "execution_count": 84,
   "id": "03ae9ef7-cfb1-4fe7-a59f-2bf8d271e370",
   "metadata": {},
   "outputs": [],
   "source": [
    "tensors=torch.from_numpy(array).cuda()"
   ]
  },
  {
   "cell_type": "code",
   "execution_count": 85,
   "id": "7a50a034-5831-40da-a2f2-ff832e261730",
   "metadata": {},
   "outputs": [
    {
     "data": {
      "text/plain": [
       "tensor([  3,   4, 100,   6], device='cuda:0', dtype=torch.int32)"
      ]
     },
     "execution_count": 85,
     "metadata": {},
     "output_type": "execute_result"
    }
   ],
   "source": [
    "tensors"
   ]
  },
  {
   "cell_type": "code",
   "execution_count": 88,
   "id": "60494047-0394-47cb-b979-2c2e2b772775",
   "metadata": {},
   "outputs": [
    {
     "data": {
      "text/plain": [
       "tensor([3, 4], device='cuda:0', dtype=torch.int32)"
      ]
     },
     "execution_count": 88,
     "metadata": {},
     "output_type": "execute_result"
    }
   ],
   "source": [
    "tensors[:2]"
   ]
  },
  {
   "cell_type": "markdown",
   "id": "7269abdf-4d93-49f5-86c8-60ac5b5f28b8",
   "metadata": {},
   "source": [
    "## change in tensor address also changes the list"
   ]
  },
  {
   "cell_type": "code",
   "execution_count": 91,
   "id": "861c5c54-c66b-4826-99ec-5e86071a2e1b",
   "metadata": {},
   "outputs": [],
   "source": [
    "tensors[2]=100"
   ]
  },
  {
   "cell_type": "code",
   "execution_count": 93,
   "id": "f022a6cb-9738-4a97-9f3a-10e737308226",
   "metadata": {},
   "outputs": [
    {
     "data": {
      "text/plain": [
       "tensor([  3,   4, 100,   6], device='cuda:0', dtype=torch.int32)"
      ]
     },
     "execution_count": 93,
     "metadata": {},
     "output_type": "execute_result"
    }
   ],
   "source": [
    "tensors"
   ]
  },
  {
   "cell_type": "code",
   "execution_count": 95,
   "id": "4da6a757-6a0c-4590-902e-a42d4f62dac8",
   "metadata": {},
   "outputs": [
    {
     "data": {
      "text/plain": [
       "array([  3,   4, 100,   6])"
      ]
     },
     "execution_count": 95,
     "metadata": {},
     "output_type": "execute_result"
    }
   ],
   "source": [
    "array"
   ]
  },
  {
   "cell_type": "code",
   "execution_count": 107,
   "id": "a5dcbcc0-808a-443f-8b44-17100d23850b",
   "metadata": {},
   "outputs": [],
   "source": [
    "# to avoid the above issue\n",
    "tensor1=torch.tensor(array).cuda()"
   ]
  },
  {
   "cell_type": "code",
   "execution_count": 109,
   "id": "de25f663-dc18-43b6-a17f-6cc0aa37221d",
   "metadata": {},
   "outputs": [],
   "source": [
    "tensor1[1]=20"
   ]
  },
  {
   "cell_type": "code",
   "execution_count": 113,
   "id": "c5deb5c7-afbe-4c02-bf1f-d3f065c029be",
   "metadata": {},
   "outputs": [
    {
     "data": {
      "text/plain": [
       "(tensor([  3,  20, 100,   6], device='cuda:0', dtype=torch.int32),\n",
       " array([  3,   4, 100,   6]))"
      ]
     },
     "execution_count": 113,
     "metadata": {},
     "output_type": "execute_result"
    }
   ],
   "source": [
    "tensor1, array"
   ]
  },
  {
   "cell_type": "code",
   "execution_count": 117,
   "id": "6e70d456-2fec-45a0-869a-6fa29ca425e3",
   "metadata": {},
   "outputs": [
    {
     "data": {
      "text/plain": [
       "(tensor([[0., 0., 0.],\n",
       "         [0., 0., 0.]], dtype=torch.float64),\n",
       " tensor([[1., 1., 1.],\n",
       "         [1., 1., 1.]], dtype=torch.float64))"
      ]
     },
     "execution_count": 117,
     "metadata": {},
     "output_type": "execute_result"
    }
   ],
   "source": [
    "# create zero's array\n",
    "# create 1's array\n",
    "# operations are very simmilar to numpy \n",
    "\n",
    "zero_tensor=torch.zeros(2,3,dtype=torch.float64)\n",
    "one_tensor=torch.ones(2,3,dtype=torch.float64)\n",
    "zero_tensor, one_tensor"
   ]
  },
  {
   "cell_type": "code",
   "execution_count": null,
   "id": "05b78262-ce95-4051-8afc-8cec3d14d1e5",
   "metadata": {},
   "outputs": [],
   "source": []
  }
 ],
 "metadata": {
  "kernelspec": {
   "display_name": "pytorch",
   "language": "python",
   "name": "pytorch"
  },
  "language_info": {
   "codemirror_mode": {
    "name": "ipython",
    "version": 3
   },
   "file_extension": ".py",
   "mimetype": "text/x-python",
   "name": "python",
   "nbconvert_exporter": "python",
   "pygments_lexer": "ipython3",
   "version": "3.9.19"
  }
 },
 "nbformat": 4,
 "nbformat_minor": 5
}
