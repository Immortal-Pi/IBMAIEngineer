{
 "cells": [
  {
   "cell_type": "markdown",
   "id": "b3d271e7-17b5-46d3-ac23-b08a83a09fea",
   "metadata": {},
   "source": [
    "# Advance HOuse price prediction using pytorch"
   ]
  },
  {
   "cell_type": "code",
   "execution_count": 6,
   "id": "40314518-02f8-4970-a65c-86a322d06a5d",
   "metadata": {},
   "outputs": [],
   "source": [
    "import pandas as pd"
   ]
  },
  {
   "cell_type": "code",
   "execution_count": null,
   "id": "4364ecbd-2b80-4443-a8e3-fc0812f3b877",
   "metadata": {},
   "outputs": [],
   "source": [
    "data=pd.read_csv('')"
   ]
  },
  {
   "cell_type": "raw",
   "id": "dc23f999-95e8-4f29-aeee-c8c1ae7d7096",
   "metadata": {},
   "source": []
  },
  {
   "cell_type": "code",
   "execution_count": null,
   "id": "d5cdb3ba-3906-45e7-ac55-81be9a890c52",
   "metadata": {},
   "outputs": [],
   "source": []
  }
 ],
 "metadata": {
  "kernelspec": {
   "display_name": "pytorch",
   "language": "python",
   "name": "pytorch"
  },
  "language_info": {
   "codemirror_mode": {
    "name": "ipython",
    "version": 3
   },
   "file_extension": ".py",
   "mimetype": "text/x-python",
   "name": "python",
   "nbconvert_exporter": "python",
   "pygments_lexer": "ipython3",
   "version": "3.9.19"
  }
 },
 "nbformat": 4,
 "nbformat_minor": 5
}
