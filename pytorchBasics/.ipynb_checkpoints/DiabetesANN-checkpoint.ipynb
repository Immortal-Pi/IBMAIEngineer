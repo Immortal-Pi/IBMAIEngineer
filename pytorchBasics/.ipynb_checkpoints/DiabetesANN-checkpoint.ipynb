{
 "cells": [
  {
   "cell_type": "markdown",
   "id": "7af786d2-ee47-4683-a745-4abb9b8b2c3e",
   "metadata": {},
   "source": [
    "# Creating An ANN using Pytorch"
   ]
  },
  {
   "cell_type": "code",
   "execution_count": 1,
   "id": "c70fd40b-bbac-40b4-902b-f2bdda350c07",
   "metadata": {},
   "outputs": [],
   "source": [
    "import torch\n",
    "import pandas as pd"
   ]
  },
  {
   "cell_type": "code",
   "execution_count": null,
   "id": "f9b8d9d3-fdc1-4499-a05b-e819907eee82",
   "metadata": {},
   "outputs": [],
   "source": []
  }
 ],
 "metadata": {
  "kernelspec": {
   "display_name": "pytorch",
   "language": "python",
   "name": "pytorch"
  },
  "language_info": {
   "codemirror_mode": {
    "name": "ipython",
    "version": 3
   },
   "file_extension": ".py",
   "mimetype": "text/x-python",
   "name": "python",
   "nbconvert_exporter": "python",
   "pygments_lexer": "ipython3",
   "version": "3.9.19"
  }
 },
 "nbformat": 4,
 "nbformat_minor": 5
}
