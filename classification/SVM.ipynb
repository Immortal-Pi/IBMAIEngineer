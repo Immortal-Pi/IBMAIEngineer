{
 "cells": [
  {
   "cell_type": "markdown",
   "id": "56802e81-0787-4863-9791-b2e9df746948",
   "metadata": {},
   "source": [
    "# Support Vector Machine vs Vanilla Linear Classifier"
   ]
  },
  {
   "cell_type": "code",
   "execution_count": null,
   "id": "4676886d-76da-437d-b36e-35577e983823",
   "metadata": {},
   "outputs": [],
   "source": []
  }
 ],
 "metadata": {
  "kernelspec": {
   "display_name": "pytorch",
   "language": "python",
   "name": "pytorch"
  },
  "language_info": {
   "codemirror_mode": {
    "name": "ipython",
    "version": 3
   },
   "file_extension": ".py",
   "mimetype": "text/x-python",
   "name": "python",
   "nbconvert_exporter": "python",
   "pygments_lexer": "ipython3",
   "version": "3.9.19"
  }
 },
 "nbformat": 4,
 "nbformat_minor": 5
}
