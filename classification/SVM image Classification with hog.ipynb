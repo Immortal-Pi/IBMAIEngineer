{
 "cells": [
  {
   "cell_type": "markdown",
   "id": "eb3b779c-e99a-4198-afc3-fa1e33bb119d",
   "metadata": {},
   "source": [
    "# H.O.G. and SVM Image Classification with OpenCV"
   ]
  },
  {
   "cell_type": "code",
   "execution_count": 17,
   "id": "b1e424a4-ba40-47a8-804d-b6919411ed00",
   "metadata": {},
   "outputs": [],
   "source": [
    "import numpy as np\n",
    "import pandas as pd\n",
    "import matplotlib.pyplot as plt\n",
    "from imutils import paths\n",
    "import seaborn as sns\n",
    "import random\n",
    "import time\n",
    "from datetime import datetime \n"
   ]
  },
  {
   "cell_type": "code",
   "execution_count": 23,
   "id": "7b294278-2dc5-408b-9921-a8281590a6e2",
   "metadata": {},
   "outputs": [],
   "source": [
    "import cv2\n",
    "import joblib\n",
    "from skimage.feature import hog\n",
    "from sklearn.metrics import accuracy_score\n",
    "from sklearn.preprocessing import StandardScaler\n",
    "from sklearn.svm import SVC\n",
    "from sklearn.metrics import confusion_matrix \n",
    "from sklearn.model_selection import GridSearchCV"
   ]
  },
  {
   "cell_type": "code",
   "execution_count": 113,
   "id": "ac2b9c46-8acd-490c-ac15-4ff4bd17c7fb",
   "metadata": {},
   "outputs": [],
   "source": [
    "def load_images(image_paths):\n",
    "    for (i,image_path) in enumerate(image_paths):\n",
    "        image=cv2.imread(image_path)\n",
    "        image=np.array(image).astype('uint8')\n",
    "        image=cv2.resize(image,(64,64))\n",
    "        grey_image=cv2.cvtColor(image,cv2.COLOR_BGR2GRAY)\n",
    "        hog_features,hog_images=hog(grey_image, \n",
    "                                   visualize=True,\n",
    "                                    block_norm='L2-Hys',\n",
    "                                   pixels_per_cell=(16,16)\n",
    "                                   )\n",
    "        label=class_object.index(annotations['annotations'][image_path[44:]][0]['label'])\n",
    "        train_images.append(hog_features)\n",
    "        train_labels.append(label)\n",
    "        "
   ]
  },
  {
   "cell_type": "code",
   "execution_count": 29,
   "id": "3ee72a20-7c39-41e7-ba91-fb87c338c1dc",
   "metadata": {},
   "outputs": [
    {
     "data": {
      "text/plain": [
       "{'version': '1.0',\n",
       " 'type': 'classification',\n",
       " 'labels': ['dog', 'cat'],\n",
       " 'annotations': {'645c2283-a71c-42ee-a841-3a696018eef8.jpg': [{'label': 'dog'}],\n",
       "  'e95d9b59-1dd8-4747-abb9-bde400b7d25e.jpg': [{'label': 'dog'}],\n",
       "  'e9d94988-099a-48e9-b6ad-bd939d0b92c0.jpg': [{'label': 'dog'}],\n",
       "  '1710540b-b4dd-4697-bb7a-8e423fb05b1c.jpg': [{'label': 'dog'}],\n",
       "  '4dc102a8-4d32-4870-9793-7d1199e33c97.jpg': [{'label': 'dog'}],\n",
       "  '7f0b77ee-7b86-429f-80af-1cd9d809b10f.jpg': [{'label': 'dog'}],\n",
       "  '318db1dd-ecb8-4e41-a513-44a1c53f4beb.jpg': [{'label': 'dog'}],\n",
       "  '520a78bd-0b06-4ebc-95d3-cdbf67ef4cda.jpg': [{'label': 'dog'}],\n",
       "  '46a4285c-e03a-49ff-bb8b-ce43c296cefa.jpg': [{'label': 'dog'}],\n",
       "  '5ae0c1ae-fbc1-4814-8a88-4ed5d340af33.jpg': [{'label': 'dog'}],\n",
       "  'ac7d3d12-37e4-4b2e-b09b-2d30ae02a716.jpg': [{'label': 'dog'}],\n",
       "  '0c72b627-91aa-4848-b6a2-79c77bc81874.jpg': [{'label': 'dog'}],\n",
       "  '445ffcf7-e8d5-4557-9e3c-a2b02caea58b.jpg': [{'label': 'dog'}],\n",
       "  'b5377ba6-745e-4d42-80d8-08cc71b94325.jpg': [{'label': 'dog'}],\n",
       "  '1d8ec8c6-39e2-414c-8fc1-23ee8ba877ba.jpg': [{'label': 'dog'}],\n",
       "  '2911b196-0efc-4a74-9410-22d277e5e96e.jpg': [{'label': 'dog'}],\n",
       "  '03215efd-81d8-422a-ac30-e3926e50817c.jpg': [{'label': 'dog'}],\n",
       "  '0aca910d-acf3-4235-83cf-7e057ba12033.jpg': [{'label': 'dog'}],\n",
       "  '106b0909-c245-4f65-adcb-7664f0212ff5.jpg': [{'label': 'dog'}],\n",
       "  '49f373f6-8885-4a77-9514-d6715cd68408.jpg': [{'label': 'dog'}],\n",
       "  '86229d06-bc37-42cb-b402-52770d634403.jpg': [{'label': 'dog'}],\n",
       "  'e700293c-b186-40cc-b6a3-78338c240ebf.jpg': [{'label': 'dog'}],\n",
       "  'e80a6b08-4e36-4eb8-ab99-f0c2b47b631b.jpg': [{'label': 'dog'}],\n",
       "  'faea77a6-fc41-456c-a21b-bd214340ca6b.jpg': [{'label': 'dog'}],\n",
       "  '027c7829-fdb6-4d20-acc1-db84795cf940.jpg': [{'label': 'dog'}],\n",
       "  'c4444760-81bc-467d-b98a-b018247c53f8.jpg': [{'label': 'dog'}],\n",
       "  '1b1a859c-1c8e-48bf-b53a-a8579cce40c0.jpg': [{'label': 'dog'}],\n",
       "  'b9280b44-d608-484b-b0c0-04556a4d8c77.jpg': [{'label': 'dog'}],\n",
       "  'a8c8dbab-79f9-4c6d-a4ea-2997853e658a.jpg': [{'label': 'dog'}],\n",
       "  'cb53a28d-f8a1-4416-bed2-3eeeea1d11e1.jpg': [{'label': 'dog'}],\n",
       "  '7d942715-2ab9-46bb-8932-0e1929802c31.jpg': [{'label': 'dog'}],\n",
       "  '8a64c3e2-2049-4287-90a9-6a28f64c3294.jpg': [{'label': 'dog'}],\n",
       "  '75b6ab56-b5f4-4e0b-9c31-a2fc07b7a1fb.jpg': [{'label': 'dog'}],\n",
       "  'f54df54b-2e20-429d-8f2c-5e916c88e479.jpg': [{'label': 'dog'}],\n",
       "  '82d05539-60c9-42ce-bc44-f3df6cd7a110.jpg': [{'label': 'dog'}],\n",
       "  'bc0cb9d8-3931-4353-926b-00bc92508515.jpg': [{'label': 'dog'}],\n",
       "  '4eb3e72f-5172-494e-9140-88d46418c811.jpg': [{'label': 'dog'}],\n",
       "  'b64d82bc-671e-49e0-bb3e-4a4b0dd8236a.jpg': [{'label': 'dog'}],\n",
       "  '7f4d1858-4d84-4d92-adcb-3101d799bb40.jpg': [{'label': 'dog'}],\n",
       "  'b05bae95-41d1-4f80-8fbd-253e4d33a9bf.jpg': [{'label': 'dog'}],\n",
       "  'd340e797-b20d-47af-b28d-97b3665cbb44.jpg': [{'label': 'dog'}],\n",
       "  'b5726140-9231-441a-9072-581da810c37b.jpg': [{'label': 'dog'}],\n",
       "  '63f7ba2d-be85-464e-aa92-1dc6b54dfc56.jpg': [{'label': 'dog'}],\n",
       "  '927f9910-1178-4c7e-b411-18260b9be7f4.jpg': [{'label': 'dog'}],\n",
       "  '30f8d4e0-8859-4905-a0ea-5f1a2ab68976.jpg': [{'label': 'dog'}],\n",
       "  '93d16a33-5654-45ec-b00a-00d37cb725ec.jpg': [{'label': 'dog'}],\n",
       "  '576d3531-8fb7-41c4-8978-25d815f6ddcb.jpg': [{'label': 'dog'}],\n",
       "  '0fd887e8-d34b-43e3-9cfe-13e35bd85569.jpg': [{'label': 'dog'}],\n",
       "  'f6d3ae42-b7cc-42d6-9108-f8543c49590b.jpg': [{'label': 'dog'}],\n",
       "  '0045b57a-c919-4cb1-bdf9-9ab504fc0dc2.jpg': [{'label': 'dog'}],\n",
       "  'df15d89e-185d-40ff-b663-68b15f9a8337.jpg': [{'label': 'dog'}],\n",
       "  'd2d0ec61-183e-488c-97f7-63ce2819ba97.jpg': [{'label': 'dog'}],\n",
       "  '30293a2a-9bf3-4844-b3be-6fdd526875b3.jpg': [{'label': 'dog'}],\n",
       "  'a3a6ee64-a080-4775-98a6-00e5fe40b59c.jpg': [{'label': 'dog'}],\n",
       "  '64e2e908-ca8c-4d14-a101-f52be78130d4.jpg': [{'label': 'dog'}],\n",
       "  'b141b784-1acb-4940-9609-7cd95816e05b.jpg': [{'label': 'dog'}],\n",
       "  '233597ac-c584-46c6-a0c1-5d49f24350b4.jpg': [{'label': 'dog'}],\n",
       "  'bd55b124-2411-4340-82f6-6c59852d84b2.jpg': [{'label': 'dog'}],\n",
       "  '69c8c84d-03b5-47ff-9442-d2646b2dc380.jpg': [{'label': 'dog'}],\n",
       "  'b2382102-6847-477b-ad92-935e9c4e5557.jpg': [{'label': 'dog'}],\n",
       "  '84c6cbfc-aee0-4e35-b38d-69c9a125d58f.jpg': [{'label': 'dog'}],\n",
       "  '92e09e80-4d5d-467b-896c-72a28513e8f9.jpg': [{'label': 'dog'}],\n",
       "  '2df29fd4-6a4b-46b6-bfa7-d9c2fbc36310.jpg': [{'label': 'dog'}],\n",
       "  '9d893f3f-6687-4c56-9a8c-8285005effe5.jpg': [{'label': 'dog'}],\n",
       "  'c3562096-e8e7-4f5c-9034-0a0ae0f8d761.jpg': [{'label': 'dog'}],\n",
       "  '8b242026-3e9e-48e9-9ddf-fba067653b92.jpg': [{'label': 'dog'}],\n",
       "  '21ea4dc2-b04c-493c-8502-097d3d43a0d1.jpg': [{'label': 'dog'}],\n",
       "  'daadd747-a406-4eb2-8692-47a830774e2d.jpg': [{'label': 'dog'}],\n",
       "  '795135a6-8a53-4b91-8149-b963feb79622.jpg': [{'label': 'dog'}],\n",
       "  '1fb46331-1084-4a5d-beb8-91e8f1e058ae.jpg': [{'label': 'dog'}],\n",
       "  '57184eaa-8a41-493d-9406-62d72e1a13b4.jpg': [{'label': 'dog'}],\n",
       "  '503879a2-e96e-4fd2-be49-1a2c245dbe41.jpg': [{'label': 'dog'}],\n",
       "  '093a8fb7-72b3-4d96-afa7-6439bedb51c3.jpg': [{'label': 'dog'}],\n",
       "  'a190e901-3bbf-4016-8863-7d3c392bd313.jpg': [{'label': 'dog'}],\n",
       "  'd1d8bcdc-b227-4f63-82de-baa90550492b.jpg': [{'label': 'dog'}],\n",
       "  '99766839-dab6-4ba4-b3ff-c1cbb664c331.jpg': [{'label': 'dog'}],\n",
       "  'adae3d78-8084-4a57-a4cb-85621c011d02.jpg': [{'label': 'dog'}],\n",
       "  '5a70ec6e-35ef-4576-abca-e8f9f53e1218.jpg': [{'label': 'dog'}],\n",
       "  '2dcaadf7-60c1-468d-bdf8-9351f43f7345.jpg': [{'label': 'dog'}],\n",
       "  '7521d205-7824-4bb8-a344-96cbfe17822f.jpg': [{'label': 'dog'}],\n",
       "  'd307a75b-798f-4fcb-8f11-d1953081cfca.jpg': [{'label': 'dog'}],\n",
       "  '7d64e33e-ba99-4e3e-89d4-524be7a8cb1f.jpg': [{'label': 'dog'}],\n",
       "  '83b40f52-0229-432e-bcd2-99592b137008.jpg': [{'label': 'dog'}],\n",
       "  '86a782ed-845f-4716-851a-39b88e53fdda.jpg': [{'label': 'dog'}],\n",
       "  'c3b0e88b-4f2a-4f31-abd8-8a3cbd594031.jpg': [{'label': 'dog'}],\n",
       "  '443ab82e-fec3-411f-bae9-a46a37ceb6c2.jpg': [{'label': 'dog'}],\n",
       "  '90bf74f3-fdb5-40b3-b817-5e1022c28bb7.jpg': [{'label': 'dog'}],\n",
       "  'c5977b6a-9f53-4074-a6d3-aaca0b0a641f.jpg': [{'label': 'dog'}],\n",
       "  'fda75e17-eb6d-49fb-a655-70bda143107a.jpg': [{'label': 'dog'}],\n",
       "  '54ba702d-86c1-423c-a21f-d91717b160fe.jpg': [{'label': 'dog'}],\n",
       "  'f718711b-5d9a-45cb-9a49-d8e72707c19c.jpg': [{'label': 'dog'}],\n",
       "  'e122ca3c-b62d-4969-9376-1644eed84474.jpg': [{'label': 'dog'}],\n",
       "  '000f00c1-9234-4783-9b0e-f9a2e41e984a.jpg': [{'label': 'dog'}],\n",
       "  '391a05a2-bece-4420-b8a4-d2b020a404b4.jpg': [{'label': 'dog'}],\n",
       "  'bc270572-48c6-416a-b9ba-cdb2b38e1e66.jpg': [{'label': 'dog'}],\n",
       "  'd474c6c9-f905-4eb7-819c-f43e2271065f.jpg': [{'label': 'dog'}],\n",
       "  '13b3561c-4ae6-4c5b-9783-420605924b96.jpg': [{'label': 'dog'}],\n",
       "  '7e5c3306-1ca6-40ea-ba8b-6921fe3aa26c.jpg': [{'label': 'dog'}],\n",
       "  '24be6a0b-570b-4b8d-82b2-d33001dc6e2d.jpg': [{'label': 'dog'}],\n",
       "  '933b3f70-748f-4ecc-965c-29795068fbb9.jpg': [{'label': 'dog'}],\n",
       "  '8335a66f-9c15-4dfb-af35-e392439639ad.jpg': [{'label': 'cat'}],\n",
       "  '7b134226-955e-4451-aec8-79e6620262e0.jpg': [{'label': 'cat'}],\n",
       "  'eefa466b-3715-49f2-b0b3-d3fcae78ab99.jpg': [{'label': 'cat'}],\n",
       "  '1e6574a0-ae42-406c-9f37-c45887dd04b4.jpg': [{'label': 'cat'}],\n",
       "  'f3aa6f77-3743-4de8-8652-ea6efbe45296.jpg': [{'label': 'cat'}],\n",
       "  'f9631ef5-8325-44b6-802f-bcf8607c525c.jpg': [{'label': 'cat'}],\n",
       "  '00c6355b-7f01-45a6-af7c-a7c37687ea86.jpg': [{'label': 'cat'}],\n",
       "  'ad9ac16f-6ccd-4d20-9f9e-0f108c5261c6.jpg': [{'label': 'cat'}],\n",
       "  '2959e79d-0b98-4916-994d-28fcdafa3ddb.jpg': [{'label': 'cat'}],\n",
       "  '81dd870a-0d9b-41aa-abf3-e867add8e9ad.jpg': [{'label': 'cat'}],\n",
       "  'a897d30f-b536-4872-9cc5-edb15132acc1.jpg': [{'label': 'cat'}],\n",
       "  'a57ba9cf-7074-4f79-8486-de377a733326.jpg': [{'label': 'cat'}],\n",
       "  '3691ebb7-cb13-4712-a8b0-bb8cefb4e367.jpg': [{'label': 'cat'}],\n",
       "  '12a98293-f8cb-451c-b9bc-a7005c38a93d.jpg': [{'label': 'cat'}],\n",
       "  'adf9a699-c9c8-40f3-84c5-10750c74acf3.jpg': [{'label': 'cat'}],\n",
       "  'ced126f6-90f3-49cd-809a-64df90f96675.jpg': [{'label': 'cat'}],\n",
       "  '9f36aef1-346c-419e-866e-7e4a5fc429fc.jpg': [{'label': 'cat'}],\n",
       "  '4269da15-1ade-4c3d-9a29-dcab1f6fb416.jpg': [{'label': 'cat'}],\n",
       "  'b74150bb-0371-403c-b647-fc2f0c0bd5a6.jpg': [{'label': 'cat'}],\n",
       "  '730e0174-06c7-4a07-b9e1-0af5a9d359cb.jpg': [{'label': 'cat'}],\n",
       "  '59db2640-02d1-4787-be8f-6758af3fa6f6.jpg': [{'label': 'cat'}],\n",
       "  '3ce56a66-f77a-4ff2-bdcc-50ed27b2e06b.jpg': [{'label': 'cat'}],\n",
       "  '6bdde552-12c5-4d31-b874-e71ebc283afd.jpg': [{'label': 'cat'}],\n",
       "  '236af9a7-6401-469e-a050-949a1a0eeb5a.jpg': [{'label': 'cat'}],\n",
       "  '04aab042-7ae2-4c1a-9d49-73b03068f3ab.jpg': [{'label': 'cat'}],\n",
       "  'ba736f9f-3294-4390-be09-f2a9e94c6ca6.jpg': [{'label': 'cat'}],\n",
       "  'e84312eb-b68a-4a18-b9cf-1e3e0f990d61.jpg': [{'label': 'cat'}],\n",
       "  'e59a7b19-0793-4e69-b82b-0ae139aea5c2.jpg': [{'label': 'cat'}],\n",
       "  '6f19f415-b19a-4032-80a1-45ca8ef634c7.jpg': [{'label': 'cat'}],\n",
       "  'f922092f-1f0c-486e-a249-12b54beab35f.jpg': [{'label': 'cat'}],\n",
       "  '7181d1e3-75d5-40c1-976e-e7f5a56e4c73.jpg': [{'label': 'cat'}],\n",
       "  '63601e82-51fc-4804-8842-9c97bd03375f.jpg': [{'label': 'cat'}],\n",
       "  '8b6d1815-e6f9-4fd2-8b28-f93fc2f2ef57.jpg': [{'label': 'cat'}],\n",
       "  '2e5360f7-1d12-46ad-b3ee-3c892eb127ad.jpg': [{'label': 'cat'}],\n",
       "  '40638739-2b66-4a6a-be2d-eae402309dab.jpg': [{'label': 'cat'}],\n",
       "  '90df7e8d-45a1-4dd8-a6e0-1fb27ed43477.jpg': [{'label': 'cat'}],\n",
       "  'b7a27c55-1214-483e-b571-fffd4d00efc1.jpg': [{'label': 'cat'}],\n",
       "  'd6dbc29d-5d38-4ff7-9f7c-05eaf70de576.jpg': [{'label': 'cat'}],\n",
       "  '72928b60-c8c4-427b-8633-8f2795ecfd1f.jpg': [{'label': 'cat'}],\n",
       "  '4dd322ae-0c21-421f-9f12-2a810f8a1d7e.jpg': [{'label': 'cat'}],\n",
       "  '2e1efd17-9c49-4737-9dac-1d8d554987e3.jpg': [{'label': 'cat'}],\n",
       "  'fb7c6055-200f-44df-b0da-48c95b3106da.jpg': [{'label': 'cat'}],\n",
       "  'e3c16ac0-e994-4b55-886c-59a960e0c6ed.jpg': [{'label': 'cat'}],\n",
       "  '6db8a54b-ea5c-4cbe-8511-cd37a401fe89.jpg': [{'label': 'cat'}],\n",
       "  'aa4f9368-cc00-446e-8104-b9135097977f.jpg': [{'label': 'cat'}],\n",
       "  'e660e79e-2059-458c-91fa-7834df048ec7.jpg': [{'label': 'cat'}],\n",
       "  '4c1076b9-3dd0-4b19-950d-7481c2491b7d.jpg': [{'label': 'cat'}],\n",
       "  '376836d0-fad1-484f-8c85-bfc253fa7205.jpg': [{'label': 'cat'}],\n",
       "  '64a663bb-8a78-4831-b5ff-b016e48a7a14.jpg': [{'label': 'cat'}],\n",
       "  '55260cbd-df23-400f-a5df-5873d7a7fceb.jpg': [{'label': 'cat'}],\n",
       "  'f2d3d7a0-6522-4e3e-9e58-42d5556761c3.jpg': [{'label': 'cat'}],\n",
       "  'f209e275-1133-446e-9a4c-77ff0eebc771.jpg': [{'label': 'cat'}],\n",
       "  'f7bdfdc7-3750-4af0-8a41-6af6e5c3536b.jpg': [{'label': 'cat'}],\n",
       "  'a3e1344b-658a-4ae1-8bda-03e047ce1f57.jpg': [{'label': 'cat'}],\n",
       "  'bc9bfbcb-d929-4520-9fff-dd2f82c726e2.jpg': [{'label': 'cat'}],\n",
       "  '18d3afa5-f76e-4b03-a9c8-667e58031f4d.jpg': [{'label': 'cat'}],\n",
       "  '24c0db0e-ad8a-445a-a59c-94ccff94cf0a.jpg': [{'label': 'cat'}],\n",
       "  '4010e8af-d972-48ee-a8d5-2a2ecbe347e1.jpg': [{'label': 'cat'}],\n",
       "  'cfc7ca68-df99-4706-8a44-ee84452e9166.jpg': [{'label': 'cat'}],\n",
       "  '8715f32b-3ac1-4e16-82e4-3be8a0933f80.jpg': [{'label': 'cat'}],\n",
       "  '93739267-73b2-423d-a0e4-3837da22207f.jpg': [{'label': 'cat'}],\n",
       "  'e575d4a2-94e2-4290-908f-857b59ea08cc.jpg': [{'label': 'cat'}],\n",
       "  '32d2a4a8-ae17-480a-996f-e6cacf3d270c.jpg': [{'label': 'cat'}],\n",
       "  '1d299cfe-9a12-40aa-beae-249b9359555b.jpg': [{'label': 'cat'}],\n",
       "  '21f83291-d057-4862-8c0a-61d22b46a456.jpg': [{'label': 'cat'}],\n",
       "  '2da3e53b-0390-4dc8-a09a-089c298433f7.jpg': [{'label': 'cat'}],\n",
       "  '8a218da3-27ba-4693-97c0-c3cb6c431770.jpg': [{'label': 'cat'}],\n",
       "  '6f7e7b75-5c2d-4af3-bf5b-dcdfb83e657c.jpg': [{'label': 'cat'}],\n",
       "  '43e48784-4ce0-4d09-a2b9-3003fb638c72.jpg': [{'label': 'cat'}],\n",
       "  '9663ed94-6c8f-4d6b-b890-6cecf33f3cc1.jpg': [{'label': 'cat'}],\n",
       "  '45030f69-82ac-431e-8796-3eed969ad3b4.jpg': [{'label': 'cat'}],\n",
       "  'a4b0df18-c46b-48fa-bf6e-c79816bae136.jpg': [{'label': 'cat'}],\n",
       "  '1eb76a0b-43b4-49dd-8c61-5092c4ab78c1.jpg': [{'label': 'cat'}],\n",
       "  '47de90f9-24e8-4d24-a464-9333ce4656ba.jpg': [{'label': 'cat'}],\n",
       "  '3313c0ae-d080-4b84-9949-ce3700140165.jpg': [{'label': 'cat'}],\n",
       "  'd9b32d7a-a8d5-45b6-bf60-30fa86657b43.jpg': [{'label': 'cat'}],\n",
       "  'fcafaea7-b1eb-4984-8c31-87e1e341fc34.jpg': [{'label': 'cat'}],\n",
       "  '04c5d65b-f693-4388-aa45-c09c00db347c.jpg': [{'label': 'cat'}],\n",
       "  'c9b22ab1-ae7b-4bf7-9618-daccde32b74f.jpg': [{'label': 'cat'}],\n",
       "  '7dadb90f-bf84-49a9-ae2b-f9f55708839f.jpg': [{'label': 'cat'}],\n",
       "  '690186aa-3010-49ed-9804-74dc018d76bb.jpg': [{'label': 'cat'}],\n",
       "  'ffad1c06-b104-4813-ba60-fc70491973e9.jpg': [{'label': 'cat'}],\n",
       "  '9f9f4fbd-fa0e-40e3-b359-adc879a6f29f.jpg': [{'label': 'cat'}],\n",
       "  '5e16d7d9-2043-47fb-b8f2-1bad80a42813.jpg': [{'label': 'cat'}],\n",
       "  '3b11124a-b0b0-4905-92de-2331663599e1.jpg': [{'label': 'cat'}],\n",
       "  'd1e03b06-41b5-44e8-8d94-d7aee3c56eb3.jpg': [{'label': 'cat'}],\n",
       "  '1d69e050-f954-4469-9c2e-dd7eb8637eb0.jpg': [{'label': 'cat'}],\n",
       "  '09de4480-0443-4885-a6aa-6a19ef19d27c.jpg': [{'label': 'cat'}],\n",
       "  '5a5b51ed-9f92-401e-a5ec-c3258a2c8ba3.jpg': [{'label': 'cat'}],\n",
       "  '09fbcee9-784e-4e9e-828e-696bb7c56a58.jpg': [{'label': 'cat'}],\n",
       "  '3ac6a669-d789-4ed8-9660-d3a7b1c61c9c.jpg': [{'label': 'cat'}],\n",
       "  '5ab87236-7853-451a-a25d-d26748a52ae6.jpg': [{'label': 'cat'}],\n",
       "  '4e60efc2-c040-45d4-bab2-a08499e282e4.jpg': [{'label': 'cat'}],\n",
       "  '1291a39b-8da4-41d7-8862-f4ec4301af4c.jpg': [{'label': 'cat'}],\n",
       "  '6f1b81cd-0aee-4424-ae6d-2acbf4611ac5.jpg': [{'label': 'cat'}],\n",
       "  '01161aaa-b3f1-418f-9151-fdbf858ce528.jpg': [{'label': 'cat'}],\n",
       "  'abfd11e4-01a4-4a1c-84ef-9f14c3bcfe88.jpg': [{'label': 'cat'}],\n",
       "  '2d784533-ac3d-4b3e-a3e5-1b4e9e448ab6.jpg': [{'label': 'cat'}],\n",
       "  '0a6ebd21-bb04-49f5-9b43-de715e2dd64f.jpg': [{'label': 'cat'}],\n",
       "  'e8834ea4-8ea2-4ff1-97ab-de62f1d46aee.jpg': [{'label': 'cat'}]}}"
      ]
     },
     "execution_count": 29,
     "metadata": {},
     "output_type": "execute_result"
    }
   ],
   "source": [
    "# get the images annotations \n",
    "import json\n",
    "with open('datasets/cats_dogs_images_/cats_dogs_images/_annotations.json') as f:\n",
    "    annotations=json.load(f)\n",
    "# annotations =pd.read_json('datasets/cats_dogs_images_/cats_dogs_images/_annotations.json')\n",
    "annotations"
   ]
  },
  {
   "cell_type": "code",
   "execution_count": 31,
   "id": "14b51c78-452c-4552-b8b7-0ce663c8c197",
   "metadata": {},
   "outputs": [
    {
     "data": {
      "text/plain": [
       "{'645c2283-a71c-42ee-a841-3a696018eef8.jpg': [{'label': 'dog'}],\n",
       " 'e95d9b59-1dd8-4747-abb9-bde400b7d25e.jpg': [{'label': 'dog'}],\n",
       " 'e9d94988-099a-48e9-b6ad-bd939d0b92c0.jpg': [{'label': 'dog'}],\n",
       " '1710540b-b4dd-4697-bb7a-8e423fb05b1c.jpg': [{'label': 'dog'}],\n",
       " '4dc102a8-4d32-4870-9793-7d1199e33c97.jpg': [{'label': 'dog'}]}"
      ]
     },
     "execution_count": 31,
     "metadata": {},
     "output_type": "execute_result"
    }
   ],
   "source": [
    "first_five={k:annotations['annotations'][k] for k in list(annotations['annotations'])[:5]}\n",
    "first_five"
   ]
  },
  {
   "cell_type": "markdown",
   "id": "d02dcb23-7572-414e-b68a-587087e823b6",
   "metadata": {},
   "source": [
    "# Histogram of oriented gradients (H.O.G)"
   ]
  },
  {
   "cell_type": "code",
   "execution_count": 73,
   "id": "fed8c6b4-1bd3-4937-8eb4-abdd349c3ff0",
   "metadata": {},
   "outputs": [],
   "source": [
    "sample_image='datasets/cats_dogs_images_/cats_dogs_images/'+random.choice(list(annotations['annotations'].keys()))"
   ]
  },
  {
   "cell_type": "code",
   "execution_count": 75,
   "id": "cab48312-da12-4abd-8217-5dc52143422d",
   "metadata": {},
   "outputs": [],
   "source": [
    "sample_image = cv2.imread(sample_image)"
   ]
  },
  {
   "cell_type": "code",
   "execution_count": 77,
   "id": "4e796a62-a9ef-4919-a67b-f2f3cfdf2bbe",
   "metadata": {},
   "outputs": [
    {
     "data": {
      "text/plain": [
       "<matplotlib.image.AxesImage at 0x1b586e9b2b0>"
      ]
     },
     "execution_count": 77,
     "metadata": {},
     "output_type": "execute_result"
    },
    {
     "data": {
      "image/png": "[encoded data removed]",
      "text/plain": [
       "<Figure size 640x480 with 1 Axes>"
      ]
     },
     "metadata": {},
     "output_type": "display_data"
    }
   ],
   "source": [
    "sample_image = cv2.resize(sample_image, (64, 64))\n",
    "sample_image = cv2.cvtColor(sample_image, cv2.COLOR_BGR2GRAY)\n",
    "plt.imshow(sample_image, cmap=plt.cm.gray)"
   ]
  },
  {
   "cell_type": "markdown",
   "id": "f18e9f27-d386-4890-ab50-fd32645c6626",
   "metadata": {},
   "source": [
    "# run H.O.G on the grey scale to see what it looks like "
   ]
  },
  {
   "cell_type": "code",
   "execution_count": 80,
   "id": "0bff3c17-6d7d-4c28-b6b0-4c9f0a0b75c4",
   "metadata": {},
   "outputs": [
    {
     "data": {
      "text/plain": [
       "<matplotlib.image.AxesImage at 0x1b586f99fa0>"
      ]
     },
     "execution_count": 80,
     "metadata": {},
     "output_type": "execute_result"
    },
    {
     "data": {
      "image/png": "[encoded data removed]",
      "text/plain": [
       "<Figure size 640x480 with 1 Axes>"
      ]
     },
     "metadata": {},
     "output_type": "display_data"
    }
   ],
   "source": [
    "sample_image_features, sample_hog_image=hog(sample_image,\n",
    "                                           visualize=True,\n",
    "                                            block_norm='L2-Hys',\n",
    "                                            pixels_per_cell=(16,16)\n",
    "                                           )\n",
    "plt.imshow(sample_hog_image,cmap=plt.cm.grey)"
   ]
  },
  {
   "cell_type": "markdown",
   "id": "fb758613-436a-405b-9dc7-9b47f6d1bf03",
   "metadata": {},
   "source": [
    "# load images and generate training/test dataset"
   ]
  },
  {
   "cell_type": "code",
   "execution_count": 103,
   "id": "8b973d10-f37d-4d29-8ad1-edd4a03b8bf4",
   "metadata": {},
   "outputs": [
    {
     "data": {
      "text/plain": [
       "['dog', 'cat']"
      ]
     },
     "execution_count": 103,
     "metadata": {},
     "output_type": "execute_result"
    }
   ],
   "source": [
    "images_paths=list(paths.list_images('datasets/cats_dogs_images_/cats_dogs_images/'))\n",
    "train_images=[]\n",
    "train_labels=[]\n",
    "class_object=annotations['labels']\n",
    "class_object"
   ]
  },
  {
   "cell_type": "code",
   "execution_count": 95,
   "id": "997becdc-112e-4651-9822-dd2c2a1b5349",
   "metadata": {},
   "outputs": [
    {
     "data": {
      "text/plain": [
       "['datasets/cats_dogs_images_/cats_dogs_images/000f00c1-9234-4783-9b0e-f9a2e41e984a.jpg',\n",
       " 'datasets/cats_dogs_images_/cats_dogs_images/0045b57a-c919-4cb1-bdf9-9ab504fc0dc2.jpg',\n",
       " 'datasets/cats_dogs_images_/cats_dogs_images/00c6355b-7f01-45a6-af7c-a7c37687ea86.jpg',\n",
       " 'datasets/cats_dogs_images_/cats_dogs_images/01161aaa-b3f1-418f-9151-fdbf858ce528.jpg',\n",
       " 'datasets/cats_dogs_images_/cats_dogs_images/027c7829-fdb6-4d20-acc1-db84795cf940.jpg',\n",
       " 'datasets/cats_dogs_images_/cats_dogs_images/03215efd-81d8-422a-ac30-e3926e50817c.jpg',\n",
       " 'datasets/cats_dogs_images_/cats_dogs_images/04aab042-7ae2-4c1a-9d49-73b03068f3ab.jpg',\n",
       " 'datasets/cats_dogs_images_/cats_dogs_images/04c5d65b-f693-4388-aa45-c09c00db347c.jpg',\n",
       " 'datasets/cats_dogs_images_/cats_dogs_images/093a8fb7-72b3-4d96-afa7-6439bedb51c3.jpg',\n",
       " 'datasets/cats_dogs_images_/cats_dogs_images/09de4480-0443-4885-a6aa-6a19ef19d27c.jpg',\n",
       " 'datasets/cats_dogs_images_/cats_dogs_images/09fbcee9-784e-4e9e-828e-696bb7c56a58.jpg',\n",
       " 'datasets/cats_dogs_images_/cats_dogs_images/0a6ebd21-bb04-49f5-9b43-de715e2dd64f.jpg',\n",
       " 'datasets/cats_dogs_images_/cats_dogs_images/0aca910d-acf3-4235-83cf-7e057ba12033.jpg',\n",
       " 'datasets/cats_dogs_images_/cats_dogs_images/0c72b627-91aa-4848-b6a2-79c77bc81874.jpg',\n",
       " 'datasets/cats_dogs_images_/cats_dogs_images/0fd887e8-d34b-43e3-9cfe-13e35bd85569.jpg',\n",
       " 'datasets/cats_dogs_images_/cats_dogs_images/106b0909-c245-4f65-adcb-7664f0212ff5.jpg',\n",
       " 'datasets/cats_dogs_images_/cats_dogs_images/1291a39b-8da4-41d7-8862-f4ec4301af4c.jpg',\n",
       " 'datasets/cats_dogs_images_/cats_dogs_images/12a98293-f8cb-451c-b9bc-a7005c38a93d.jpg',\n",
       " 'datasets/cats_dogs_images_/cats_dogs_images/13b3561c-4ae6-4c5b-9783-420605924b96.jpg',\n",
       " 'datasets/cats_dogs_images_/cats_dogs_images/1710540b-b4dd-4697-bb7a-8e423fb05b1c.jpg',\n",
       " 'datasets/cats_dogs_images_/cats_dogs_images/18d3afa5-f76e-4b03-a9c8-667e58031f4d.jpg',\n",
       " 'datasets/cats_dogs_images_/cats_dogs_images/1b1a859c-1c8e-48bf-b53a-a8579cce40c0.jpg',\n",
       " 'datasets/cats_dogs_images_/cats_dogs_images/1d299cfe-9a12-40aa-beae-249b9359555b.jpg',\n",
       " 'datasets/cats_dogs_images_/cats_dogs_images/1d69e050-f954-4469-9c2e-dd7eb8637eb0.jpg',\n",
       " 'datasets/cats_dogs_images_/cats_dogs_images/1d8ec8c6-39e2-414c-8fc1-23ee8ba877ba.jpg',\n",
       " 'datasets/cats_dogs_images_/cats_dogs_images/1e6574a0-ae42-406c-9f37-c45887dd04b4.jpg',\n",
       " 'datasets/cats_dogs_images_/cats_dogs_images/1eb76a0b-43b4-49dd-8c61-5092c4ab78c1.jpg',\n",
       " 'datasets/cats_dogs_images_/cats_dogs_images/1fb46331-1084-4a5d-beb8-91e8f1e058ae.jpg',\n",
       " 'datasets/cats_dogs_images_/cats_dogs_images/21ea4dc2-b04c-493c-8502-097d3d43a0d1.jpg',\n",
       " 'datasets/cats_dogs_images_/cats_dogs_images/21f83291-d057-4862-8c0a-61d22b46a456.jpg',\n",
       " 'datasets/cats_dogs_images_/cats_dogs_images/233597ac-c584-46c6-a0c1-5d49f24350b4.jpg',\n",
       " 'datasets/cats_dogs_images_/cats_dogs_images/236af9a7-6401-469e-a050-949a1a0eeb5a.jpg',\n",
       " 'datasets/cats_dogs_images_/cats_dogs_images/24be6a0b-570b-4b8d-82b2-d33001dc6e2d.jpg',\n",
       " 'datasets/cats_dogs_images_/cats_dogs_images/24c0db0e-ad8a-445a-a59c-94ccff94cf0a.jpg',\n",
       " 'datasets/cats_dogs_images_/cats_dogs_images/2911b196-0efc-4a74-9410-22d277e5e96e.jpg',\n",
       " 'datasets/cats_dogs_images_/cats_dogs_images/2959e79d-0b98-4916-994d-28fcdafa3ddb.jpg',\n",
       " 'datasets/cats_dogs_images_/cats_dogs_images/2d784533-ac3d-4b3e-a3e5-1b4e9e448ab6.jpg',\n",
       " 'datasets/cats_dogs_images_/cats_dogs_images/2da3e53b-0390-4dc8-a09a-089c298433f7.jpg',\n",
       " 'datasets/cats_dogs_images_/cats_dogs_images/2dcaadf7-60c1-468d-bdf8-9351f43f7345.jpg',\n",
       " 'datasets/cats_dogs_images_/cats_dogs_images/2df29fd4-6a4b-46b6-bfa7-d9c2fbc36310.jpg',\n",
       " 'datasets/cats_dogs_images_/cats_dogs_images/2e1efd17-9c49-4737-9dac-1d8d554987e3.jpg',\n",
       " 'datasets/cats_dogs_images_/cats_dogs_images/2e5360f7-1d12-46ad-b3ee-3c892eb127ad.jpg',\n",
       " 'datasets/cats_dogs_images_/cats_dogs_images/30293a2a-9bf3-4844-b3be-6fdd526875b3.jpg',\n",
       " 'datasets/cats_dogs_images_/cats_dogs_images/30f8d4e0-8859-4905-a0ea-5f1a2ab68976.jpg',\n",
       " 'datasets/cats_dogs_images_/cats_dogs_images/318db1dd-ecb8-4e41-a513-44a1c53f4beb.jpg',\n",
       " 'datasets/cats_dogs_images_/cats_dogs_images/32d2a4a8-ae17-480a-996f-e6cacf3d270c.jpg',\n",
       " 'datasets/cats_dogs_images_/cats_dogs_images/3313c0ae-d080-4b84-9949-ce3700140165.jpg',\n",
       " 'datasets/cats_dogs_images_/cats_dogs_images/3691ebb7-cb13-4712-a8b0-bb8cefb4e367.jpg',\n",
       " 'datasets/cats_dogs_images_/cats_dogs_images/376836d0-fad1-484f-8c85-bfc253fa7205.jpg',\n",
       " 'datasets/cats_dogs_images_/cats_dogs_images/391a05a2-bece-4420-b8a4-d2b020a404b4.jpg',\n",
       " 'datasets/cats_dogs_images_/cats_dogs_images/3ac6a669-d789-4ed8-9660-d3a7b1c61c9c.jpg',\n",
       " 'datasets/cats_dogs_images_/cats_dogs_images/3b11124a-b0b0-4905-92de-2331663599e1.jpg',\n",
       " 'datasets/cats_dogs_images_/cats_dogs_images/3ce56a66-f77a-4ff2-bdcc-50ed27b2e06b.jpg',\n",
       " 'datasets/cats_dogs_images_/cats_dogs_images/4010e8af-d972-48ee-a8d5-2a2ecbe347e1.jpg',\n",
       " 'datasets/cats_dogs_images_/cats_dogs_images/40638739-2b66-4a6a-be2d-eae402309dab.jpg',\n",
       " 'datasets/cats_dogs_images_/cats_dogs_images/4269da15-1ade-4c3d-9a29-dcab1f6fb416.jpg',\n",
       " 'datasets/cats_dogs_images_/cats_dogs_images/43e48784-4ce0-4d09-a2b9-3003fb638c72.jpg',\n",
       " 'datasets/cats_dogs_images_/cats_dogs_images/443ab82e-fec3-411f-bae9-a46a37ceb6c2.jpg',\n",
       " 'datasets/cats_dogs_images_/cats_dogs_images/445ffcf7-e8d5-4557-9e3c-a2b02caea58b.jpg',\n",
       " 'datasets/cats_dogs_images_/cats_dogs_images/45030f69-82ac-431e-8796-3eed969ad3b4.jpg',\n",
       " 'datasets/cats_dogs_images_/cats_dogs_images/46a4285c-e03a-49ff-bb8b-ce43c296cefa.jpg',\n",
       " 'datasets/cats_dogs_images_/cats_dogs_images/47de90f9-24e8-4d24-a464-9333ce4656ba.jpg',\n",
       " 'datasets/cats_dogs_images_/cats_dogs_images/49f373f6-8885-4a77-9514-d6715cd68408.jpg',\n",
       " 'datasets/cats_dogs_images_/cats_dogs_images/4c1076b9-3dd0-4b19-950d-7481c2491b7d.jpg',\n",
       " 'datasets/cats_dogs_images_/cats_dogs_images/4dc102a8-4d32-4870-9793-7d1199e33c97.jpg',\n",
       " 'datasets/cats_dogs_images_/cats_dogs_images/4dd322ae-0c21-421f-9f12-2a810f8a1d7e.jpg',\n",
       " 'datasets/cats_dogs_images_/cats_dogs_images/4e60efc2-c040-45d4-bab2-a08499e282e4.jpg',\n",
       " 'datasets/cats_dogs_images_/cats_dogs_images/4eb3e72f-5172-494e-9140-88d46418c811.jpg',\n",
       " 'datasets/cats_dogs_images_/cats_dogs_images/503879a2-e96e-4fd2-be49-1a2c245dbe41.jpg',\n",
       " 'datasets/cats_dogs_images_/cats_dogs_images/520a78bd-0b06-4ebc-95d3-cdbf67ef4cda.jpg',\n",
       " 'datasets/cats_dogs_images_/cats_dogs_images/54ba702d-86c1-423c-a21f-d91717b160fe.jpg',\n",
       " 'datasets/cats_dogs_images_/cats_dogs_images/55260cbd-df23-400f-a5df-5873d7a7fceb.jpg',\n",
       " 'datasets/cats_dogs_images_/cats_dogs_images/57184eaa-8a41-493d-9406-62d72e1a13b4.jpg',\n",
       " 'datasets/cats_dogs_images_/cats_dogs_images/576d3531-8fb7-41c4-8978-25d815f6ddcb.jpg',\n",
       " 'datasets/cats_dogs_images_/cats_dogs_images/59db2640-02d1-4787-be8f-6758af3fa6f6.jpg',\n",
       " 'datasets/cats_dogs_images_/cats_dogs_images/5a5b51ed-9f92-401e-a5ec-c3258a2c8ba3.jpg',\n",
       " 'datasets/cats_dogs_images_/cats_dogs_images/5a70ec6e-35ef-4576-abca-e8f9f53e1218.jpg',\n",
       " 'datasets/cats_dogs_images_/cats_dogs_images/5ab87236-7853-451a-a25d-d26748a52ae6.jpg',\n",
       " 'datasets/cats_dogs_images_/cats_dogs_images/5ae0c1ae-fbc1-4814-8a88-4ed5d340af33.jpg',\n",
       " 'datasets/cats_dogs_images_/cats_dogs_images/5e16d7d9-2043-47fb-b8f2-1bad80a42813.jpg',\n",
       " 'datasets/cats_dogs_images_/cats_dogs_images/63601e82-51fc-4804-8842-9c97bd03375f.jpg',\n",
       " 'datasets/cats_dogs_images_/cats_dogs_images/63f7ba2d-be85-464e-aa92-1dc6b54dfc56.jpg',\n",
       " 'datasets/cats_dogs_images_/cats_dogs_images/645c2283-a71c-42ee-a841-3a696018eef8.jpg',\n",
       " 'datasets/cats_dogs_images_/cats_dogs_images/64a663bb-8a78-4831-b5ff-b016e48a7a14.jpg',\n",
       " 'datasets/cats_dogs_images_/cats_dogs_images/64e2e908-ca8c-4d14-a101-f52be78130d4.jpg',\n",
       " 'datasets/cats_dogs_images_/cats_dogs_images/690186aa-3010-49ed-9804-74dc018d76bb.jpg',\n",
       " 'datasets/cats_dogs_images_/cats_dogs_images/69c8c84d-03b5-47ff-9442-d2646b2dc380.jpg',\n",
       " 'datasets/cats_dogs_images_/cats_dogs_images/6bdde552-12c5-4d31-b874-e71ebc283afd.jpg',\n",
       " 'datasets/cats_dogs_images_/cats_dogs_images/6db8a54b-ea5c-4cbe-8511-cd37a401fe89.jpg',\n",
       " 'datasets/cats_dogs_images_/cats_dogs_images/6f19f415-b19a-4032-80a1-45ca8ef634c7.jpg',\n",
       " 'datasets/cats_dogs_images_/cats_dogs_images/6f1b81cd-0aee-4424-ae6d-2acbf4611ac5.jpg',\n",
       " 'datasets/cats_dogs_images_/cats_dogs_images/6f7e7b75-5c2d-4af3-bf5b-dcdfb83e657c.jpg',\n",
       " 'datasets/cats_dogs_images_/cats_dogs_images/7181d1e3-75d5-40c1-976e-e7f5a56e4c73.jpg',\n",
       " 'datasets/cats_dogs_images_/cats_dogs_images/72928b60-c8c4-427b-8633-8f2795ecfd1f.jpg',\n",
       " 'datasets/cats_dogs_images_/cats_dogs_images/730e0174-06c7-4a07-b9e1-0af5a9d359cb.jpg',\n",
       " 'datasets/cats_dogs_images_/cats_dogs_images/7521d205-7824-4bb8-a344-96cbfe17822f.jpg',\n",
       " 'datasets/cats_dogs_images_/cats_dogs_images/75b6ab56-b5f4-4e0b-9c31-a2fc07b7a1fb.jpg',\n",
       " 'datasets/cats_dogs_images_/cats_dogs_images/795135a6-8a53-4b91-8149-b963feb79622.jpg',\n",
       " 'datasets/cats_dogs_images_/cats_dogs_images/7b134226-955e-4451-aec8-79e6620262e0.jpg',\n",
       " 'datasets/cats_dogs_images_/cats_dogs_images/7d64e33e-ba99-4e3e-89d4-524be7a8cb1f.jpg',\n",
       " 'datasets/cats_dogs_images_/cats_dogs_images/7d942715-2ab9-46bb-8932-0e1929802c31.jpg',\n",
       " 'datasets/cats_dogs_images_/cats_dogs_images/7dadb90f-bf84-49a9-ae2b-f9f55708839f.jpg',\n",
       " 'datasets/cats_dogs_images_/cats_dogs_images/7e5c3306-1ca6-40ea-ba8b-6921fe3aa26c.jpg',\n",
       " 'datasets/cats_dogs_images_/cats_dogs_images/7f0b77ee-7b86-429f-80af-1cd9d809b10f.jpg',\n",
       " 'datasets/cats_dogs_images_/cats_dogs_images/7f4d1858-4d84-4d92-adcb-3101d799bb40.jpg',\n",
       " 'datasets/cats_dogs_images_/cats_dogs_images/81dd870a-0d9b-41aa-abf3-e867add8e9ad.jpg',\n",
       " 'datasets/cats_dogs_images_/cats_dogs_images/82d05539-60c9-42ce-bc44-f3df6cd7a110.jpg',\n",
       " 'datasets/cats_dogs_images_/cats_dogs_images/8335a66f-9c15-4dfb-af35-e392439639ad.jpg',\n",
       " 'datasets/cats_dogs_images_/cats_dogs_images/83b40f52-0229-432e-bcd2-99592b137008.jpg',\n",
       " 'datasets/cats_dogs_images_/cats_dogs_images/84c6cbfc-aee0-4e35-b38d-69c9a125d58f.jpg',\n",
       " 'datasets/cats_dogs_images_/cats_dogs_images/86229d06-bc37-42cb-b402-52770d634403.jpg',\n",
       " 'datasets/cats_dogs_images_/cats_dogs_images/86a782ed-845f-4716-851a-39b88e53fdda.jpg',\n",
       " 'datasets/cats_dogs_images_/cats_dogs_images/8715f32b-3ac1-4e16-82e4-3be8a0933f80.jpg',\n",
       " 'datasets/cats_dogs_images_/cats_dogs_images/8a218da3-27ba-4693-97c0-c3cb6c431770.jpg',\n",
       " 'datasets/cats_dogs_images_/cats_dogs_images/8a64c3e2-2049-4287-90a9-6a28f64c3294.jpg',\n",
       " 'datasets/cats_dogs_images_/cats_dogs_images/8b242026-3e9e-48e9-9ddf-fba067653b92.jpg',\n",
       " 'datasets/cats_dogs_images_/cats_dogs_images/8b6d1815-e6f9-4fd2-8b28-f93fc2f2ef57.jpg',\n",
       " 'datasets/cats_dogs_images_/cats_dogs_images/90bf74f3-fdb5-40b3-b817-5e1022c28bb7.jpg',\n",
       " 'datasets/cats_dogs_images_/cats_dogs_images/90df7e8d-45a1-4dd8-a6e0-1fb27ed43477.jpg',\n",
       " 'datasets/cats_dogs_images_/cats_dogs_images/927f9910-1178-4c7e-b411-18260b9be7f4.jpg',\n",
       " 'datasets/cats_dogs_images_/cats_dogs_images/92e09e80-4d5d-467b-896c-72a28513e8f9.jpg',\n",
       " 'datasets/cats_dogs_images_/cats_dogs_images/933b3f70-748f-4ecc-965c-29795068fbb9.jpg',\n",
       " 'datasets/cats_dogs_images_/cats_dogs_images/93739267-73b2-423d-a0e4-3837da22207f.jpg',\n",
       " 'datasets/cats_dogs_images_/cats_dogs_images/93d16a33-5654-45ec-b00a-00d37cb725ec.jpg',\n",
       " 'datasets/cats_dogs_images_/cats_dogs_images/9663ed94-6c8f-4d6b-b890-6cecf33f3cc1.jpg',\n",
       " 'datasets/cats_dogs_images_/cats_dogs_images/99766839-dab6-4ba4-b3ff-c1cbb664c331.jpg',\n",
       " 'datasets/cats_dogs_images_/cats_dogs_images/9d893f3f-6687-4c56-9a8c-8285005effe5.jpg',\n",
       " 'datasets/cats_dogs_images_/cats_dogs_images/9f36aef1-346c-419e-866e-7e4a5fc429fc.jpg',\n",
       " 'datasets/cats_dogs_images_/cats_dogs_images/9f9f4fbd-fa0e-40e3-b359-adc879a6f29f.jpg',\n",
       " 'datasets/cats_dogs_images_/cats_dogs_images/a190e901-3bbf-4016-8863-7d3c392bd313.jpg',\n",
       " 'datasets/cats_dogs_images_/cats_dogs_images/a3a6ee64-a080-4775-98a6-00e5fe40b59c.jpg',\n",
       " 'datasets/cats_dogs_images_/cats_dogs_images/a3e1344b-658a-4ae1-8bda-03e047ce1f57.jpg',\n",
       " 'datasets/cats_dogs_images_/cats_dogs_images/a4b0df18-c46b-48fa-bf6e-c79816bae136.jpg',\n",
       " 'datasets/cats_dogs_images_/cats_dogs_images/a57ba9cf-7074-4f79-8486-de377a733326.jpg',\n",
       " 'datasets/cats_dogs_images_/cats_dogs_images/a897d30f-b536-4872-9cc5-edb15132acc1.jpg',\n",
       " 'datasets/cats_dogs_images_/cats_dogs_images/a8c8dbab-79f9-4c6d-a4ea-2997853e658a.jpg',\n",
       " 'datasets/cats_dogs_images_/cats_dogs_images/aa4f9368-cc00-446e-8104-b9135097977f.jpg',\n",
       " 'datasets/cats_dogs_images_/cats_dogs_images/abfd11e4-01a4-4a1c-84ef-9f14c3bcfe88.jpg',\n",
       " 'datasets/cats_dogs_images_/cats_dogs_images/ac7d3d12-37e4-4b2e-b09b-2d30ae02a716.jpg',\n",
       " 'datasets/cats_dogs_images_/cats_dogs_images/ad9ac16f-6ccd-4d20-9f9e-0f108c5261c6.jpg',\n",
       " 'datasets/cats_dogs_images_/cats_dogs_images/adae3d78-8084-4a57-a4cb-85621c011d02.jpg',\n",
       " 'datasets/cats_dogs_images_/cats_dogs_images/adf9a699-c9c8-40f3-84c5-10750c74acf3.jpg',\n",
       " 'datasets/cats_dogs_images_/cats_dogs_images/b05bae95-41d1-4f80-8fbd-253e4d33a9bf.jpg',\n",
       " 'datasets/cats_dogs_images_/cats_dogs_images/b141b784-1acb-4940-9609-7cd95816e05b.jpg',\n",
       " 'datasets/cats_dogs_images_/cats_dogs_images/b2382102-6847-477b-ad92-935e9c4e5557.jpg',\n",
       " 'datasets/cats_dogs_images_/cats_dogs_images/b5377ba6-745e-4d42-80d8-08cc71b94325.jpg',\n",
       " 'datasets/cats_dogs_images_/cats_dogs_images/b5726140-9231-441a-9072-581da810c37b.jpg',\n",
       " 'datasets/cats_dogs_images_/cats_dogs_images/b64d82bc-671e-49e0-bb3e-4a4b0dd8236a.jpg',\n",
       " 'datasets/cats_dogs_images_/cats_dogs_images/b74150bb-0371-403c-b647-fc2f0c0bd5a6.jpg',\n",
       " 'datasets/cats_dogs_images_/cats_dogs_images/b7a27c55-1214-483e-b571-fffd4d00efc1.jpg',\n",
       " 'datasets/cats_dogs_images_/cats_dogs_images/b9280b44-d608-484b-b0c0-04556a4d8c77.jpg',\n",
       " 'datasets/cats_dogs_images_/cats_dogs_images/ba736f9f-3294-4390-be09-f2a9e94c6ca6.jpg',\n",
       " 'datasets/cats_dogs_images_/cats_dogs_images/bc0cb9d8-3931-4353-926b-00bc92508515.jpg',\n",
       " 'datasets/cats_dogs_images_/cats_dogs_images/bc270572-48c6-416a-b9ba-cdb2b38e1e66.jpg',\n",
       " 'datasets/cats_dogs_images_/cats_dogs_images/bc9bfbcb-d929-4520-9fff-dd2f82c726e2.jpg',\n",
       " 'datasets/cats_dogs_images_/cats_dogs_images/bd55b124-2411-4340-82f6-6c59852d84b2.jpg',\n",
       " 'datasets/cats_dogs_images_/cats_dogs_images/c3562096-e8e7-4f5c-9034-0a0ae0f8d761.jpg',\n",
       " 'datasets/cats_dogs_images_/cats_dogs_images/c3b0e88b-4f2a-4f31-abd8-8a3cbd594031.jpg',\n",
       " 'datasets/cats_dogs_images_/cats_dogs_images/c4444760-81bc-467d-b98a-b018247c53f8.jpg',\n",
       " 'datasets/cats_dogs_images_/cats_dogs_images/c5977b6a-9f53-4074-a6d3-aaca0b0a641f.jpg',\n",
       " 'datasets/cats_dogs_images_/cats_dogs_images/c9b22ab1-ae7b-4bf7-9618-daccde32b74f.jpg',\n",
       " 'datasets/cats_dogs_images_/cats_dogs_images/cb53a28d-f8a1-4416-bed2-3eeeea1d11e1.jpg',\n",
       " 'datasets/cats_dogs_images_/cats_dogs_images/ced126f6-90f3-49cd-809a-64df90f96675.jpg',\n",
       " 'datasets/cats_dogs_images_/cats_dogs_images/cfc7ca68-df99-4706-8a44-ee84452e9166.jpg',\n",
       " 'datasets/cats_dogs_images_/cats_dogs_images/d1d8bcdc-b227-4f63-82de-baa90550492b.jpg',\n",
       " 'datasets/cats_dogs_images_/cats_dogs_images/d1e03b06-41b5-44e8-8d94-d7aee3c56eb3.jpg',\n",
       " 'datasets/cats_dogs_images_/cats_dogs_images/d2d0ec61-183e-488c-97f7-63ce2819ba97.jpg',\n",
       " 'datasets/cats_dogs_images_/cats_dogs_images/d307a75b-798f-4fcb-8f11-d1953081cfca.jpg',\n",
       " 'datasets/cats_dogs_images_/cats_dogs_images/d340e797-b20d-47af-b28d-97b3665cbb44.jpg',\n",
       " 'datasets/cats_dogs_images_/cats_dogs_images/d474c6c9-f905-4eb7-819c-f43e2271065f.jpg',\n",
       " 'datasets/cats_dogs_images_/cats_dogs_images/d6dbc29d-5d38-4ff7-9f7c-05eaf70de576.jpg',\n",
       " 'datasets/cats_dogs_images_/cats_dogs_images/d9b32d7a-a8d5-45b6-bf60-30fa86657b43.jpg',\n",
       " 'datasets/cats_dogs_images_/cats_dogs_images/daadd747-a406-4eb2-8692-47a830774e2d.jpg',\n",
       " 'datasets/cats_dogs_images_/cats_dogs_images/df15d89e-185d-40ff-b663-68b15f9a8337.jpg',\n",
       " 'datasets/cats_dogs_images_/cats_dogs_images/e122ca3c-b62d-4969-9376-1644eed84474.jpg',\n",
       " 'datasets/cats_dogs_images_/cats_dogs_images/e3c16ac0-e994-4b55-886c-59a960e0c6ed.jpg',\n",
       " 'datasets/cats_dogs_images_/cats_dogs_images/e575d4a2-94e2-4290-908f-857b59ea08cc.jpg',\n",
       " 'datasets/cats_dogs_images_/cats_dogs_images/e59a7b19-0793-4e69-b82b-0ae139aea5c2.jpg',\n",
       " 'datasets/cats_dogs_images_/cats_dogs_images/e660e79e-2059-458c-91fa-7834df048ec7.jpg',\n",
       " 'datasets/cats_dogs_images_/cats_dogs_images/e700293c-b186-40cc-b6a3-78338c240ebf.jpg',\n",
       " 'datasets/cats_dogs_images_/cats_dogs_images/e80a6b08-4e36-4eb8-ab99-f0c2b47b631b.jpg',\n",
       " 'datasets/cats_dogs_images_/cats_dogs_images/e84312eb-b68a-4a18-b9cf-1e3e0f990d61.jpg',\n",
       " 'datasets/cats_dogs_images_/cats_dogs_images/e8834ea4-8ea2-4ff1-97ab-de62f1d46aee.jpg',\n",
       " 'datasets/cats_dogs_images_/cats_dogs_images/e95d9b59-1dd8-4747-abb9-bde400b7d25e.jpg',\n",
       " 'datasets/cats_dogs_images_/cats_dogs_images/e9d94988-099a-48e9-b6ad-bd939d0b92c0.jpg',\n",
       " 'datasets/cats_dogs_images_/cats_dogs_images/eefa466b-3715-49f2-b0b3-d3fcae78ab99.jpg',\n",
       " 'datasets/cats_dogs_images_/cats_dogs_images/f209e275-1133-446e-9a4c-77ff0eebc771.jpg',\n",
       " 'datasets/cats_dogs_images_/cats_dogs_images/f2d3d7a0-6522-4e3e-9e58-42d5556761c3.jpg',\n",
       " 'datasets/cats_dogs_images_/cats_dogs_images/f3aa6f77-3743-4de8-8652-ea6efbe45296.jpg',\n",
       " 'datasets/cats_dogs_images_/cats_dogs_images/f54df54b-2e20-429d-8f2c-5e916c88e479.jpg',\n",
       " 'datasets/cats_dogs_images_/cats_dogs_images/f6d3ae42-b7cc-42d6-9108-f8543c49590b.jpg',\n",
       " 'datasets/cats_dogs_images_/cats_dogs_images/f718711b-5d9a-45cb-9a49-d8e72707c19c.jpg',\n",
       " 'datasets/cats_dogs_images_/cats_dogs_images/f7bdfdc7-3750-4af0-8a41-6af6e5c3536b.jpg',\n",
       " 'datasets/cats_dogs_images_/cats_dogs_images/f922092f-1f0c-486e-a249-12b54beab35f.jpg',\n",
       " 'datasets/cats_dogs_images_/cats_dogs_images/f9631ef5-8325-44b6-802f-bcf8607c525c.jpg',\n",
       " 'datasets/cats_dogs_images_/cats_dogs_images/faea77a6-fc41-456c-a21b-bd214340ca6b.jpg',\n",
       " 'datasets/cats_dogs_images_/cats_dogs_images/fb7c6055-200f-44df-b0da-48c95b3106da.jpg',\n",
       " 'datasets/cats_dogs_images_/cats_dogs_images/fcafaea7-b1eb-4984-8c31-87e1e341fc34.jpg',\n",
       " 'datasets/cats_dogs_images_/cats_dogs_images/fda75e17-eb6d-49fb-a655-70bda143107a.jpg',\n",
       " 'datasets/cats_dogs_images_/cats_dogs_images/ffad1c06-b104-4813-ba60-fc70491973e9.jpg']"
      ]
     },
     "execution_count": 95,
     "metadata": {},
     "output_type": "execute_result"
    }
   ],
   "source": [
    "images_paths"
   ]
  },
  {
   "cell_type": "code",
   "execution_count": 115,
   "id": "0e9cabd0-c205-4a42-b8e7-d6afdbb4f4cb",
   "metadata": {},
   "outputs": [],
   "source": [
    "load_images(images_paths)"
   ]
  },
  {
   "cell_type": "code",
   "execution_count": 127,
   "id": "03245f21-c47b-4d0d-92a5-a0d851124b37",
   "metadata": {},
   "outputs": [],
   "source": [
    "train_array=np.array(train_images)\n",
    "train_array=np.vstack(train_array)"
   ]
  },
  {
   "cell_type": "code",
   "execution_count": 129,
   "id": "2c88682b-2800-4abd-8025-943b05c80c01",
   "metadata": {},
   "outputs": [],
   "source": [
    "labels_array=np.array(train_labels)\n",
    "labels_array = labels_array.astype(int)\n",
    "labels_array=labels_array.reshape((labels_array.size,1))\n",
    "# labels_array"
   ]
  },
  {
   "cell_type": "code",
   "execution_count": 131,
   "id": "6df47a11-3cc7-44d6-b1b9-888718ab3547",
   "metadata": {},
   "outputs": [],
   "source": [
    "train_df=np.concatenate([train_array,labels_array],axis=1)"
   ]
  },
  {
   "cell_type": "code",
   "execution_count": 133,
   "id": "039a9714-832a-45e6-815a-2451bb4494e4",
   "metadata": {},
   "outputs": [
    {
     "data": {
      "text/plain": [
       "array([[0.04812807, 0.06397016, 0.17527617, ..., 0.08200365, 0.05554043,\n",
       "        0.        ],\n",
       "       [0.08448707, 0.05844922, 0.04897378, ..., 0.02650612, 0.04201278,\n",
       "        0.        ],\n",
       "       [0.0999796 , 0.10646016, 0.06026534, ..., 0.04239462, 0.11485688,\n",
       "        1.        ],\n",
       "       ...,\n",
       "       [0.12650527, 0.07475355, 0.03927854, ..., 0.05492673, 0.0552392 ,\n",
       "        1.        ],\n",
       "       [0.18156185, 0.06619613, 0.15048102, ..., 0.10577218, 0.05258019,\n",
       "        0.        ],\n",
       "       [0.08671785, 0.05627568, 0.21988094, ..., 0.00695752, 0.00865128,\n",
       "        1.        ]])"
      ]
     },
     "execution_count": 133,
     "metadata": {},
     "output_type": "execute_result"
    }
   ],
   "source": [
    "train_df"
   ]
  },
  {
   "cell_type": "markdown",
   "id": "cddc22dc-bfeb-404a-a244-b98e4676dda9",
   "metadata": {},
   "source": [
    "# divide the dataset"
   ]
  },
  {
   "cell_type": "code",
   "execution_count": 140,
   "id": "54f3d8a2-8da5-4dee-a75e-bbeaa388ae1a",
   "metadata": {},
   "outputs": [],
   "source": [
    "percentage = 75\n",
    "partition = int(len(train_df)*percentage/100)"
   ]
  },
  {
   "cell_type": "code",
   "execution_count": 163,
   "id": "db071ce4-7165-46fa-982d-c29e6f94fb0c",
   "metadata": {},
   "outputs": [],
   "source": [
    "xtrain, xtest = train_df[:partition,:-1],  train_df[partition:,:-1]\n",
    "ytrain, ytest = train_df[:partition,-1:].ravel(), train_df[partition:,-1:].ravel()"
   ]
  },
  {
   "cell_type": "markdown",
   "id": "8b5fc438-1c79-4f4f-8559-ac58bcf305df",
   "metadata": {},
   "source": [
    "# hyperparameters"
   ]
  },
  {
   "cell_type": "code",
   "execution_count": 166,
   "id": "d10d94b1-d8b3-40c1-ae4b-33ab8a5cbf06",
   "metadata": {},
   "outputs": [],
   "source": [
    "param_grid={'kernel': ('linear','rbf'),'C':[1,10,100]}"
   ]
  },
  {
   "cell_type": "markdown",
   "id": "e27806d1-8b78-48ec-b7bb-69f93240c158",
   "metadata": {},
   "source": [
    "# SVM"
   ]
  },
  {
   "cell_type": "code",
   "execution_count": 169,
   "id": "fcc9797b-755d-424a-91c0-c945509132dd",
   "metadata": {},
   "outputs": [],
   "source": [
    "base_estimator = SVC(gamma='scale')"
   ]
  },
  {
   "cell_type": "code",
   "execution_count": 173,
   "id": "230af55d-f7dc-4c7d-803c-5c8eab7c591a",
   "metadata": {},
   "outputs": [
    {
     "name": "stdout",
     "output_type": "stream",
     "text": [
      "{'C': 10, 'kernel': 'rbf'}\n",
      "Accuracy : 0.56\n",
      "0.18417572975158691\n"
     ]
    }
   ],
   "source": [
    "start_datetime=datetime.now()\n",
    "start=time.time()\n",
    "\n",
    "svm=GridSearchCV(base_estimator,param_grid,cv=5)\n",
    "svm.fit(xtrain,ytrain)\n",
    "best_paramters=svm.best_params_\n",
    "print(best_paramters)\n",
    "\n",
    "y_pred=svm.predict(xtest)\n",
    "print(f'Accuracy : {accuracy_score(ytest,y_pred)}')\n",
    "\n",
    "end=time.time()\n",
    "end_datetime=datetime.now()\n",
    "print(end-start)"
   ]
  },
  {
   "cell_type": "code",
   "execution_count": 176,
   "id": "062aee51-f904-4e63-b3f2-4102ecff924b",
   "metadata": {},
   "outputs": [],
   "source": [
    "# confusion matrix"
   ]
  },
  {
   "cell_type": "code",
   "execution_count": 184,
   "id": "d4a4a8ba-4a37-486c-b735-b6b510f8e0f4",
   "metadata": {},
   "outputs": [],
   "source": [
    "label_names=[0,1]\n",
    "cmx=confusion_matrix(ytest,y_pred,labels=label_names)"
   ]
  },
  {
   "cell_type": "code",
   "execution_count": 186,
   "id": "23104673-2e8c-4106-98e1-8dbc7917f233",
   "metadata": {},
   "outputs": [
    {
     "data": {
      "image/png": "[encoded data removed]",
      "text/plain": [
       "<Figure size 640x480 with 2 Axes>"
      ]
     },
     "metadata": {},
     "output_type": "display_data"
    }
   ],
   "source": [
    "df_cm=pd.DataFrame(cmx)\n",
    "sns.heatmap(df_cm,annot_kws={'size':16},annot=True)\n",
    "title='Confusion Matrix for SVM results'\n",
    "plt.title(title)\n",
    "plt.show()"
   ]
  },
  {
   "cell_type": "code",
   "execution_count": null,
   "id": "4df3c9e0-32b4-45a8-aaa0-70a9ddd3fd42",
   "metadata": {},
   "outputs": [],
   "source": []
  }
 ],
 "metadata": {
  "kernelspec": {
   "display_name": "pytorch",
   "language": "python",
   "name": "pytorch"
  },
  "language_info": {
   "codemirror_mode": {
    "name": "ipython",
    "version": 3
   },
   "file_extension": ".py",
   "mimetype": "text/x-python",
   "name": "python",
   "nbconvert_exporter": "python",
   "pygments_lexer": "ipython3",
   "version": "3.9.19"
  }
 },
 "nbformat": 4,
 "nbformat_minor": 5
}
